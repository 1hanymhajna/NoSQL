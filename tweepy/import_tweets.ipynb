{
 "cells": [
  {
   "cell_type": "markdown",
   "metadata": {},
   "source": [
    "# Importando datos de twitter con python y tweepy\n",
    "\n",
    "<img src=\"./images/tweepy.png\" alt=\"Twitter logo\" style=\"width: 800px;\" align=\"left\"/>"
   ]
  },
  {
   "cell_type": "markdown",
   "metadata": {},
   "source": [
    "[Twitter](https://twitter.com) proporciona un API que permite descargar datos de su red social. Para ello vamos a utilizar python y la libreria [tweepy](https://github.com/tweepy/tweepy).\n",
    "\n",
    "El objetivo es recuperar tweets asociados a la palabra 'NoSQL' y almacenarlos en un fichero para su posterior análisis."
   ]
  },
  {
   "cell_type": "markdown",
   "metadata": {},
   "source": [
    "Lo primero que hay que hacer para acceder al API de Twitter es [registrar](https://www.google.es/webhp?q=crear+twitter+app) una nueva aplicación a través de la página [Twitter Application Management](https://apps.twitter.com/) identificandonos con nuestro usuario y contraseña."
   ]
  },
  {
   "cell_type": "markdown",
   "metadata": {},
   "source": [
    "Al registrar aplicación, Twitter nos proporciona las claves que nos hacen falta para acceder ..."
   ]
  },
  {
   "cell_type": "code",
   "execution_count": 1,
   "metadata": {
    "collapsed": true
   },
   "outputs": [],
   "source": [
    "consumer_key = 'hRNtRgjzGq3wq3mt3fbuUkQ2c'\n",
    "consumer_secret = 'yBbXnvNRpm92wvblpG9xhUMFF7w9sgxLfQT8k15Fs3k1RN4pnQ'\n",
    "access_token_key = '12391902-qHO3gUBIvKuv7DjajXBmdm2SyZH8vgmR3jcpLVnnM'\n",
    "access_token_secret = '9ViwfNW5FhOLhahaf4qimDLXfYuqDtGzJ1MmAQM0gN3LK'"
   ]
  },
  {
   "cell_type": "markdown",
   "metadata": {},
   "source": [
    "El siguiente paso es importar la libreria de tweepy y logarnos en twitter."
   ]
  },
  {
   "cell_type": "code",
   "execution_count": 2,
   "metadata": {
    "collapsed": false
   },
   "outputs": [],
   "source": [
    "import tweepy\n",
    "\n",
    "auth = tweepy.OAuthHandler(consumer_key, consumer_secret)\n",
    "auth.set_access_token(access_token_key, access_token_secret)\n",
    "\n",
    "api = tweepy.API(auth)"
   ]
  },
  {
   "cell_type": "markdown",
   "metadata": {},
   "source": [
    "## Probamos la libreria "
   ]
  },
  {
   "cell_type": "markdown",
   "metadata": {},
   "source": [
    "Para probar la librería vamos a recuperar información sobre un usuario de twitter, su nombre, sus followers, etc.."
   ]
  },
  {
   "cell_type": "code",
   "execution_count": 3,
   "metadata": {
    "collapsed": false
   },
   "outputs": [
    {
     "name": "stderr",
     "output_type": "stream",
     "text": [
      "/usr/local/lib/python2.7/dist-packages/requests/packages/urllib3/util/ssl_.py:100: InsecurePlatformWarning: A true SSLContext object is not available. This prevents urllib3 from configuring SSL appropriately and may cause certain SSL connections to fail. For more information, see https://urllib3.readthedocs.org/en/latest/security.html#insecureplatformwarning.\n",
      "  InsecurePlatformWarning\n"
     ]
    }
   ],
   "source": [
    "user = api.get_user('NoSQLDigest')"
   ]
  },
  {
   "cell_type": "code",
   "execution_count": 4,
   "metadata": {
    "collapsed": false
   },
   "outputs": [
    {
     "name": "stdout",
     "output_type": "stream",
     "text": [
      "Nombre: NoSQLDigest\n",
      "Descripción: NoSQL Digest of tweets.\n",
      "Nº de followers: 9791\n",
      "Nº de amigos: 12\n",
      "Nº de tweets:  668135\n"
     ]
    }
   ],
   "source": [
    "print \"Nombre:\", user.screen_name\n",
    "print \"Descripción:\", user.description\n",
    "print \"Nº de followers:\", user.followers_count\n",
    "print \"Nº de amigos:\", user.friends_count\n",
    "print \"Nº de tweets: \", user.statuses_count\n"
   ]
  },
  {
   "cell_type": "markdown",
   "metadata": {},
   "source": [
    "## Recuperando Tweets mediante un término de búsqueda"
   ]
  },
  {
   "cell_type": "code",
   "execution_count": 6,
   "metadata": {
    "collapsed": true
   },
   "outputs": [],
   "source": [
    "lookup ='NoSQL'"
   ]
  },
  {
   "cell_type": "markdown",
   "metadata": {},
   "source": [
    "Mediante el siguiente método podemos recuperar rápidamente tweets,  aunque dependemos del límite que Twitter ha establecido "
   ]
  },
  {
   "cell_type": "code",
   "execution_count": 7,
   "metadata": {
    "collapsed": false
   },
   "outputs": [
    {
     "name": "stdout",
     "output_type": "stream",
     "text": [
      "60\n"
     ]
    },
    {
     "name": "stderr",
     "output_type": "stream",
     "text": [
      "/usr/local/lib/python2.7/dist-packages/requests/packages/urllib3/util/ssl_.py:100: InsecurePlatformWarning: A true SSLContext object is not available. This prevents urllib3 from configuring SSL appropriately and may cause certain SSL connections to fail. For more information, see https://urllib3.readthedocs.org/en/latest/security.html#insecureplatformwarning.\n",
      "  InsecurePlatformWarning\n"
     ]
    }
   ],
   "source": [
    "max_tweets = 100\n",
    "search_results = api.search(q=lookup, lang = 'es', count=max_tweets)\n",
    "\n",
    "print len(search_results)\n"
   ]
  },
  {
   "cell_type": "code",
   "execution_count": 8,
   "metadata": {
    "collapsed": false
   },
   "outputs": [
    {
     "name": "stdout",
     "output_type": "stream",
     "text": [
      "+----------------+---------------------+----------------------------------------------------------------------------------+\n",
      "| User           |        Fecha        | Texto                                                                            |\n",
      "+----------------+---------------------+----------------------------------------------------------------------------------+\n",
      "| shermanMG      | 2015-10-20 04:15:29 | 11:14 y encontré un vídeo de NoSQL. Que verga, sueño.                            |\n",
      "| _Juankar_      | 2015-10-18 19:21:15 | #MundoSQL Tipos de datos en #MongoDB http://t.co/IyQv4N4HLf #mongodb #nosql      |\n",
      "| cuervocr       | 2015-10-18 18:13:08 | ¿Qué tendencias para desarrolladores habrá tener en cuenta en 2016?: De contened |\n",
      "| _Juankar_      | 2015-10-18 13:21:04 | #MundoSQL Cambiando la estructura de una coleccion de #MongoDB http://t.co/BO2yW |\n",
      "| _Juankar_      | 2015-10-18 10:16:53 | #MundoSQL Seleccionar los campos a visualizar en las consultas en #MongoDB http: |\n",
      "| tmj_sfo_sales  | 2015-10-17 18:08:52 | #SanFrancisco, CA #Sales #Job: Director of Corporate Sales at DataStax http://t. |\n",
      "| diegosevilla   | 2015-10-17 10:52:03 | @Kikobeats Sí, una de NoSQL podría caer... La siguiente que hagáis...            |\n",
      "| _Juankar_      | 2015-10-17 04:12:16 | #MundoSQL Seleccionar los campos a visualizar en las consultas en #MongoDB http: |\n",
      "| alejandro_such | 2015-10-16 21:26:15 | RT @domingogallardo: El gran @aitormedrano presentando su asignatura #nosql del  |\n",
      "| linuxhiker     | 2015-10-16 20:43:23 | RT @xapiens: quizas no entendieron lo que es NOSQL pero no importa. PostgreSQL r |\n",
      "+----------------+---------------------+----------------------------------------------------------------------------------+\n"
     ]
    }
   ],
   "source": [
    "from prettytable import PrettyTable\n",
    "\n",
    "table = PrettyTable([\"User\", \"Fecha\", \"Texto\"])\n",
    "table.align[\"User\"] = \"l\"\n",
    "table.align[\"Texto\"] = \"l\"\n",
    "\n",
    "for tweet in search_results[0:10]:\n",
    "    table.add_row([tweet.user.screen_name, tweet.created_at, tweet.text[:80]])\n",
    " \n",
    "print table"
   ]
  },
  {
   "cell_type": "markdown",
   "metadata": {},
   "source": [
    "## Recuperando el time line de un usuario\n"
   ]
  },
  {
   "cell_type": "code",
   "execution_count": 9,
   "metadata": {
    "collapsed": false
   },
   "outputs": [
    {
     "name": "stderr",
     "output_type": "stream",
     "text": [
      "/usr/local/lib/python2.7/dist-packages/requests/packages/urllib3/util/ssl_.py:100: InsecurePlatformWarning: A true SSLContext object is not available. This prevents urllib3 from configuring SSL appropriately and may cause certain SSL connections to fail. For more information, see https://urllib3.readthedocs.org/en/latest/security.html#insecureplatformwarning.\n",
      "  InsecurePlatformWarning\n"
     ]
    },
    {
     "data": {
      "text/plain": [
       "198"
      ]
     },
     "execution_count": 9,
     "metadata": {},
     "output_type": "execute_result"
    }
   ],
   "source": [
    "timeline_results = api.user_timeline(screen_name = 'NoSQLDigest', count = 1000, include_rts = True)\n",
    "len(timeline_results)"
   ]
  },
  {
   "cell_type": "markdown",
   "metadata": {},
   "source": [
    "## Recuperando tweets mediante un cursor"
   ]
  },
  {
   "cell_type": "markdown",
   "metadata": {},
   "source": [
    "Este método utiliza un curso que posibilita saltarnos la restricción de 100 tweets ..."
   ]
  },
  {
   "cell_type": "code",
   "execution_count": 10,
   "metadata": {
    "collapsed": false
   },
   "outputs": [
    {
     "name": "stderr",
     "output_type": "stream",
     "text": [
      "/usr/local/lib/python2.7/dist-packages/requests/packages/urllib3/util/ssl_.py:100: InsecurePlatformWarning: A true SSLContext object is not available. This prevents urllib3 from configuring SSL appropriately and may cause certain SSL connections to fail. For more information, see https://urllib3.readthedocs.org/en/latest/security.html#insecureplatformwarning.\n",
      "  InsecurePlatformWarning\n",
      "/usr/local/lib/python2.7/dist-packages/requests/packages/urllib3/util/ssl_.py:100: InsecurePlatformWarning: A true SSLContext object is not available. This prevents urllib3 from configuring SSL appropriately and may cause certain SSL connections to fail. For more information, see https://urllib3.readthedocs.org/en/latest/security.html#insecureplatformwarning.\n",
      "  InsecurePlatformWarning\n",
      "/usr/local/lib/python2.7/dist-packages/requests/packages/urllib3/util/ssl_.py:100: InsecurePlatformWarning: A true SSLContext object is not available. This prevents urllib3 from configuring SSL appropriately and may cause certain SSL connections to fail. For more information, see https://urllib3.readthedocs.org/en/latest/security.html#insecureplatformwarning.\n",
      "  InsecurePlatformWarning\n",
      "/usr/local/lib/python2.7/dist-packages/requests/packages/urllib3/util/ssl_.py:100: InsecurePlatformWarning: A true SSLContext object is not available. This prevents urllib3 from configuring SSL appropriately and may cause certain SSL connections to fail. For more information, see https://urllib3.readthedocs.org/en/latest/security.html#insecureplatformwarning.\n",
      "  InsecurePlatformWarning\n"
     ]
    },
    {
     "name": "stdout",
     "output_type": "stream",
     "text": [
      "{\"errors\":[{\"message\":\"Rate limit exceeded\",\"code\":88}]}\n",
      "2645\n"
     ]
    }
   ],
   "source": [
    "c = tweepy.Cursor(api.search, q= lookup).items()\n",
    "    \n",
    "search_results = []\n",
    "while True:\n",
    "    try:\n",
    "        tweet = c.next()\n",
    "        # Insert into db\n",
    "        search_results.append(tweet)\n",
    "    except tweepy.TweepError as e:\n",
    "        print e\n",
    "        break\n",
    "\n",
    "print len(search_results)"
   ]
  },
  {
   "cell_type": "markdown",
   "metadata": {},
   "source": [
    "Aunque vemos que tenemos otra. En este caso es por tiempo :-("
   ]
  },
  {
   "cell_type": "markdown",
   "metadata": {},
   "source": [
    "## Recuperando el time line mediante un cursor"
   ]
  },
  {
   "cell_type": "code",
   "execution_count": 11,
   "metadata": {
    "collapsed": false
   },
   "outputs": [
    {
     "name": "stderr",
     "output_type": "stream",
     "text": [
      "/usr/local/lib/python2.7/dist-packages/requests/packages/urllib3/util/ssl_.py:100: InsecurePlatformWarning: A true SSLContext object is not available. This prevents urllib3 from configuring SSL appropriately and may cause certain SSL connections to fail. For more information, see https://urllib3.readthedocs.org/en/latest/security.html#insecureplatformwarning.\n",
      "  InsecurePlatformWarning\n",
      "/usr/local/lib/python2.7/dist-packages/requests/packages/urllib3/util/ssl_.py:100: InsecurePlatformWarning: A true SSLContext object is not available. This prevents urllib3 from configuring SSL appropriately and may cause certain SSL connections to fail. For more information, see https://urllib3.readthedocs.org/en/latest/security.html#insecureplatformwarning.\n",
      "  InsecurePlatformWarning\n",
      "/usr/local/lib/python2.7/dist-packages/requests/packages/urllib3/util/ssl_.py:100: InsecurePlatformWarning: A true SSLContext object is not available. This prevents urllib3 from configuring SSL appropriately and may cause certain SSL connections to fail. For more information, see https://urllib3.readthedocs.org/en/latest/security.html#insecureplatformwarning.\n",
      "  InsecurePlatformWarning\n",
      "/usr/local/lib/python2.7/dist-packages/requests/packages/urllib3/util/ssl_.py:100: InsecurePlatformWarning: A true SSLContext object is not available. This prevents urllib3 from configuring SSL appropriately and may cause certain SSL connections to fail. For more information, see https://urllib3.readthedocs.org/en/latest/security.html#insecureplatformwarning.\n",
      "  InsecurePlatformWarning\n"
     ]
    },
    {
     "name": "stdout",
     "output_type": "stream",
     "text": [
      "Error:  <type 'exceptions.StopIteration'>\n",
      "3138\n"
     ]
    }
   ],
   "source": [
    "import sys\n",
    "\n",
    "c = tweepy.Cursor(api.user_timeline,id='NoSQLDigest').items()    \n",
    "timeline_results = []\n",
    "while True:\n",
    "    try:\n",
    "        tweet = c.next()\n",
    "        # Insert into db\n",
    "        timeline_results.append(tweet)\n",
    "    except:\n",
    "        print \"Error: \", sys.exc_info()[0]\n",
    "        break\n",
    "\n",
    "print len(timeline_results)"
   ]
  },
  {
   "cell_type": "markdown",
   "metadata": {},
   "source": [
    "## Visualizando el contenido de un Tweet"
   ]
  },
  {
   "cell_type": "markdown",
   "metadata": {},
   "source": [
    "Twitter devuelve datos en formato [JSON](http://www.json.org/json-es.html). Vamos a ver que pinta tiene 1 tweet:"
   ]
  },
  {
   "cell_type": "code",
   "execution_count": 12,
   "metadata": {
    "collapsed": false
   },
   "outputs": [
    {
     "name": "stdout",
     "output_type": "stream",
     "text": [
      "{\n",
      "    u'contributors': None,\n",
      "    u'coordinates': None,\n",
      "    u'created_at': u'Tue Oct 20 05:19:55 +0000 2015',\n",
      "    u'entities': {\n",
      "        u'hashtags': [{u'indices': [136, 140], u'text': u'Book'}],\n",
      "        u'symbols': [],\n",
      "        u'urls': [\n",
      "            {\n",
      "                u'display_url': u'is.gd/0OAJej',\n",
      "                u'expanded_url': u'http://is.gd/0OAJej',\n",
      "                u'indices': [112, 135],\n",
      "                u'url': u'https://t.co/evdHW8DWUn',\n",
      "            },\n",
      "        ],\n",
      "        u'user_mentions': [\n",
      "            {\n",
      "                u'id': 341552391,\n",
      "                u'id_str': u'341552391',\n",
      "                u'indices': [3, 11],\n",
      "                u'name': u'Azat Mardan',\n",
      "                u'screen_name': u'azat_co',\n",
      "            },\n",
      "        ],\n",
      "    },\n",
      "    u'favorite_count': 0,\n",
      "    u'favorited': False,\n",
      "    u'geo': None,\n",
      "    u'id': 656339038765379584,\n",
      "    u'id_str': u'656339038765379584',\n",
      "    u'in_reply_to_screen_name': None,\n",
      "    u'in_reply_to_status_id': None,\n",
      "    u'in_reply_to_status_id_str': None,\n",
      "    u'in_reply_to_user_id': None,\n",
      "    u'in_reply_to_user_id_str': None,\n",
      "    u'is_quote_status': False,\n",
      "    u'lang': u'en',\n",
      "    u'metadata': {u'iso_language_code': u'en', u'result_type': u'recent'},\n",
      "    u'place': None,\n",
      "    u'possibly_sensitive': False,\n",
      "    u'retweet_count': 1,\n",
      "    u'retweeted': False,\n",
      "    u'retweeted_status': {\n",
      "        u'contributors': None,\n",
      "        u'coordinates': None,\n",
      "        u'created_at': u'Tue Oct 20 02:17:39 +0000 2015',\n",
      "        u'entities': {\n",
      "            u'hashtags': [{u'indices': [123, 128], u'text': u'Book'}],\n",
      "            u'symbols': [],\n",
      "            u'urls': [\n",
      "                {\n",
      "                    u'display_url': u'is.gd/0OAJej',\n",
      "                    u'expanded_url': u'http://is.gd/0OAJej',\n",
      "                    u'indices': [99, 122],\n",
      "                    u'url': u'https://t.co/evdHW8DWUn',\n",
      "                },\n",
      "            ],\n",
      "            u'user_mentions': [],\n",
      "        },\n",
      "        u'favorite_count': 0,\n",
      "        u'favorited': False,\n",
      "        u'geo': None,\n",
      "        u'id': 656293169206726656,\n",
      "        u'id_str': u'656293169206726656',\n",
      "        u'in_reply_to_screen_name': None,\n",
      "        u'in_reply_to_status_id': None,\n",
      "        u'in_reply_to_status_id_str': None,\n",
      "        u'in_reply_to_user_id': None,\n",
      "        u'in_reply_to_user_id_str': None,\n",
      "        u'is_quote_status': False,\n",
      "        u'lang': u'en',\n",
      "        u'metadata': {u'iso_language_code': u'en', u'result_type': u'recent'},\n",
      "        u'place': None,\n",
      "        u'possibly_sensitive': False,\n",
      "        u'retweet_count': 1,\n",
      "        u'retweeted': False,\n",
      "        u'source': u'<a href=\"http://winthecustomer.com/\" rel=\"nofollow\">Win the Customer</a>',\n",
      "        u'text': u'Warning: NoSQL is Becoming More Popular. Master MongoDB With This Handbook on Mongoose for $2 ONLY https://t.co/evdHW8DWUn #Book',\n",
      "        u'truncated': False,\n",
      "        u'user': {\n",
      "            u'contributors_enabled': False,\n",
      "            u'created_at': u'Sun Jul 24 15:15:36 +0000 2011',\n",
      "            u'default_profile': False,\n",
      "            u'default_profile_image': False,\n",
      "            u'description': u'Technology fellow at @CapitalOne, published author of several books and JavaScript/Node.js expert',\n",
      "            u'entities': {\n",
      "                u'description': {u'urls': []},\n",
      "                u'url': {\n",
      "                    u'urls': [\n",
      "                        {\n",
      "                            u'display_url': u'webapplog.com',\n",
      "                            u'expanded_url': u'http://webapplog.com',\n",
      "                            u'indices': [0, 22],\n",
      "                            u'url': u'http://t.co/IsGzMMHAVP',\n",
      "                        },\n",
      "                    ],\n",
      "                },\n",
      "            },\n",
      "            u'favourites_count': 1357,\n",
      "            u'follow_request_sent': False,\n",
      "            u'followers_count': 2538,\n",
      "            u'following': False,\n",
      "            u'friends_count': 201,\n",
      "            u'geo_enabled': True,\n",
      "            u'has_extended_profile': False,\n",
      "            u'id': 341552391,\n",
      "            u'id_str': u'341552391',\n",
      "            u'is_translation_enabled': False,\n",
      "            u'is_translator': False,\n",
      "            u'lang': u'en',\n",
      "            u'listed_count': 276,\n",
      "            u'location': u'San Francisco, CA',\n",
      "            u'name': u'Azat Mardan',\n",
      "            u'notifications': False,\n",
      "            u'profile_background_color': u'2B2B28',\n",
      "            u'profile_background_image_url': u'http://pbs.twimg.com/profile_background_images/447454169654243328/JZEHH2Jz.jpeg',\n",
      "            u'profile_background_image_url_https': u'https://pbs.twimg.com/profile_background_images/447454169654243328/JZEHH2Jz.jpeg',\n",
      "            u'profile_background_tile': True,\n",
      "            u'profile_banner_url': u'https://pbs.twimg.com/profile_banners/341552391/1434336550',\n",
      "            u'profile_image_url': u'http://pbs.twimg.com/profile_images/610322732538920960/pWqT5oaG_normal.jpg',\n",
      "            u'profile_image_url_https': u'https://pbs.twimg.com/profile_images/610322732538920960/pWqT5oaG_normal.jpg',\n",
      "            u'profile_link_color': u'595159',\n",
      "            u'profile_sidebar_border_color': u'000000',\n",
      "            u'profile_sidebar_fill_color': u'121212',\n",
      "            u'profile_text_color': u'990000',\n",
      "            u'profile_use_background_image': True,\n",
      "            u'protected': False,\n",
      "            u'screen_name': u'azat_co',\n",
      "            u'statuses_count': 18533,\n",
      "            u'time_zone': u'Pacific Time (US & Canada)',\n",
      "            u'url': u'http://t.co/IsGzMMHAVP',\n",
      "            u'utc_offset': -25200,\n",
      "            u'verified': False,\n",
      "        },\n",
      "    },\n",
      "    u'source': u'<a href=\"http://twitter.com\" rel=\"nofollow\">Twitter Web Client</a>',\n",
      "    u'text': u'RT @azat_co: Warning: NoSQL is Becoming More Popular. Master MongoDB With This Handbook on Mongoose for $2 ONLY https://t.co/evdHW8DWUn #Bo…',\n",
      "    u'truncated': False,\n",
      "    u'user': {\n",
      "        u'contributors_enabled': False,\n",
      "        u'created_at': u'Sat Sep 20 22:40:39 +0000 2008',\n",
      "        u'default_profile': False,\n",
      "        u'default_profile_image': False,\n",
      "        u'description': u'[ Node.js Shepherd ]  enjoy grilled bratwurst~✌ http://t.co/6N7Zl9KAG0',\n",
      "        u'entities': {\n",
      "            u'description': {\n",
      "                u'urls': [\n",
      "                    {\n",
      "                        u'display_url': u'keltheceo.wordpress.com',\n",
      "                        u'expanded_url': u'http://keltheceo.wordpress.com',\n",
      "                        u'indices': [48, 70],\n",
      "                        u'url': u'http://t.co/6N7Zl9KAG0',\n",
      "                    },\n",
      "                ],\n",
      "            },\n",
      "            u'url': {\n",
      "                u'urls': [\n",
      "                    {\n",
      "                        u'display_url': u'github.com/kelthenoble',\n",
      "                        u'expanded_url': u'https://github.com/kelthenoble',\n",
      "                        u'indices': [0, 23],\n",
      "                        u'url': u'https://t.co/XFKs0WsQc8',\n",
      "                    },\n",
      "                ],\n",
      "            },\n",
      "        },\n",
      "        u'favourites_count': 2283,\n",
      "        u'follow_request_sent': False,\n",
      "        u'followers_count': 320,\n",
      "        u'following': False,\n",
      "        u'friends_count': 206,\n",
      "        u'geo_enabled': True,\n",
      "        u'has_extended_profile': False,\n",
      "        u'id': 16382764,\n",
      "        u'id_str': u'16382764',\n",
      "        u'is_translation_enabled': False,\n",
      "        u'is_translator': False,\n",
      "        u'lang': u'en',\n",
      "        u'listed_count': 135,\n",
      "        u'location': u'San Diego,Ca',\n",
      "        u'name': u'kelvin knighton',\n",
      "        u'notifications': False,\n",
      "        u'profile_background_color': u'000000',\n",
      "        u'profile_background_image_url': u'http://abs.twimg.com/images/themes/theme18/bg.gif',\n",
      "        u'profile_background_image_url_https': u'https://abs.twimg.com/images/themes/theme18/bg.gif',\n",
      "        u'profile_background_tile': False,\n",
      "        u'profile_banner_url': u'https://pbs.twimg.com/profile_banners/16382764/1442182672',\n",
      "        u'profile_image_url': u'http://pbs.twimg.com/profile_images/481675431565725697/TXC823BU_normal.jpeg',\n",
      "        u'profile_image_url_https': u'https://pbs.twimg.com/profile_images/481675431565725697/TXC823BU_normal.jpeg',\n",
      "        u'profile_link_color': u'89C9FA',\n",
      "        u'profile_sidebar_border_color': u'000000',\n",
      "        u'profile_sidebar_fill_color': u'000000',\n",
      "        u'profile_text_color': u'000000',\n",
      "        u'profile_use_background_image': False,\n",
      "        u'protected': False,\n",
      "        u'screen_name': u'keltheceo',\n",
      "        u'statuses_count': 3681,\n",
      "        u'time_zone': u'Mountain Time (US & Canada)',\n",
      "        u'url': u'https://t.co/XFKs0WsQc8',\n",
      "        u'utc_offset': -21600,\n",
      "        u'verified': False,\n",
      "    },\n",
      "}\n"
     ]
    }
   ],
   "source": [
    "import pprintpp\n",
    "\n",
    "tweet = search_results[0]\n",
    "pprintpp.pprint(tweet._json)"
   ]
  },
  {
   "cell_type": "markdown",
   "metadata": {},
   "source": [
    "## Parseando el resultado"
   ]
  },
  {
   "cell_type": "markdown",
   "metadata": {},
   "source": [
    "El objetivo de las siguientes funciones es simplificar la información que vamoso a guardar en fichero, ya que Twitter suministrar mucha información:"
   ]
  },
  {
   "cell_type": "code",
   "execution_count": 13,
   "metadata": {
    "collapsed": true
   },
   "outputs": [],
   "source": [
    "def parse_user(usr):\n",
    "    user = {}  \n",
    "    user[\"created_at\"] = usr['created_at']\n",
    "    user[\"description\"] = usr['description']\n",
    "    user[\"favourites_count\"] = usr['favourites_count']\n",
    "    user[\"followers_count\"] = usr['followers_count']\n",
    "    user[\"friends_count\"] = usr['friends_count']\n",
    "    user[\"geo_enabled\"] = usr['geo_enabled']\n",
    "    user[\"_id\"] = usr['id']\n",
    "    user[\"id_str\"] =usr['id_str']\n",
    "    user[\"name\"] = usr['name']\n",
    "    user[\"screen_name\"] = usr['screen_name']\n",
    "    user[\"statuses_count\"] = usr['statuses_count']\n",
    "    user[\"time_zone\"] = usr['time_zone']\n",
    "    return user"
   ]
  },
  {
   "cell_type": "code",
   "execution_count": 14,
   "metadata": {
    "collapsed": true
   },
   "outputs": [],
   "source": [
    "def parse_tweet(t):\n",
    "    tweet = {}\n",
    "    tweet['created_at'] = t['created_at']\n",
    "    #for ht in tweet.entities.hashtags:\n",
    "    #    print ht.text\n",
    "\n",
    "    tweet['entities'] = []\n",
    "    for k in t['entities']['hashtags']:\n",
    "        tweet['entities'].append(k['text'])\n",
    "  \n",
    "    tweet['user_mentions'] = []\n",
    "    for k in t['entities']['user_mentions']:\n",
    "        k.pop(\"indices\", None)\n",
    "        tweet['user_mentions'].append(k)\n",
    "\n",
    "    tweet['favorite_count'] =  t['favorite_count']\n",
    "\n",
    "    if t['geo'] <> None:\n",
    "        tweet['geo'] = t['geo']\n",
    "\n",
    "    tweet['_id'] = t['id']\n",
    "    tweet['id_str'] = t['id_str']  \n",
    "\n",
    "    tweet['lang'] = t['lang']\n",
    "    tweet['retweet_count'] = t['retweet_count']\n",
    "    tweet['source'] = t['source']\n",
    "    tweet['text'] = t['text']\n",
    "    tweet['user'] = parse_user(t['user'])\n",
    "\n",
    "    if 'retweeted_status' in t.keys():\n",
    "        rs = t['retweeted_status']\n",
    "\n",
    "        retweeted_status = {}\n",
    "        retweeted_status['created_at'] = rs['created_at']\n",
    "\n",
    "        if rs['geo'] <> None:\n",
    "            retweeted_status['geo'] = rs['geo']\n",
    "\n",
    "        retweeted_status['id'] = rs['id']\n",
    "        retweeted_status['id_str'] = rs['id_str']  \n",
    "\n",
    "        retweeted_status['user'] = parse_user(rs['user'])\n",
    "        tweet['retweeted_status'] = retweeted_status\n",
    "        \n",
    "    return tweet"
   ]
  },
  {
   "cell_type": "markdown",
   "metadata": {},
   "source": [
    "Parseamos el contenido que hemos descargado previamente ..."
   ]
  },
  {
   "cell_type": "code",
   "execution_count": 15,
   "metadata": {
    "collapsed": false
   },
   "outputs": [],
   "source": [
    "tweets = []\n",
    "\n",
    "for tweet in search_results:\n",
    "    tweets.append(parse_tweet(tweet._json))\n",
    "    "
   ]
  },
  {
   "cell_type": "markdown",
   "metadata": {},
   "source": [
    "Y visualiamos el contenido. Tambien en formato JSON pero mucho más simple"
   ]
  },
  {
   "cell_type": "code",
   "execution_count": 16,
   "metadata": {
    "collapsed": false
   },
   "outputs": [
    {
     "name": "stdout",
     "output_type": "stream",
     "text": [
      "{\n",
      "    '_id': 656339038765379584,\n",
      "    'created_at': u'Tue Oct 20 05:19:55 +0000 2015',\n",
      "    'entities': [u'Book'],\n",
      "    'favorite_count': 0,\n",
      "    'id_str': u'656339038765379584',\n",
      "    'lang': u'en',\n",
      "    'retweet_count': 1,\n",
      "    'retweeted_status': {\n",
      "        'created_at': u'Tue Oct 20 02:17:39 +0000 2015',\n",
      "        'id': 656293169206726656,\n",
      "        'id_str': u'656293169206726656',\n",
      "        'user': {\n",
      "            '_id': 341552391,\n",
      "            'created_at': u'Sun Jul 24 15:15:36 +0000 2011',\n",
      "            'description': u'Technology fellow at @CapitalOne, published author of several books and JavaScript/Node.js expert',\n",
      "            'favourites_count': 1357,\n",
      "            'followers_count': 2538,\n",
      "            'friends_count': 201,\n",
      "            'geo_enabled': True,\n",
      "            'id_str': u'341552391',\n",
      "            'name': u'Azat Mardan',\n",
      "            'screen_name': u'azat_co',\n",
      "            'statuses_count': 18533,\n",
      "            'time_zone': u'Pacific Time (US & Canada)',\n",
      "        },\n",
      "    },\n",
      "    'source': u'<a href=\"http://twitter.com\" rel=\"nofollow\">Twitter Web Client</a>',\n",
      "    'text': u'RT @azat_co: Warning: NoSQL is Becoming More Popular. Master MongoDB With This Handbook on Mongoose for $2 ONLY https://t.co/evdHW8DWUn #Bo…',\n",
      "    'user': {\n",
      "        '_id': 16382764,\n",
      "        'created_at': u'Sat Sep 20 22:40:39 +0000 2008',\n",
      "        'description': u'[ Node.js Shepherd ]  enjoy grilled bratwurst~✌ http://t.co/6N7Zl9KAG0',\n",
      "        'favourites_count': 2283,\n",
      "        'followers_count': 320,\n",
      "        'friends_count': 206,\n",
      "        'geo_enabled': True,\n",
      "        'id_str': u'16382764',\n",
      "        'name': u'kelvin knighton',\n",
      "        'screen_name': u'keltheceo',\n",
      "        'statuses_count': 3681,\n",
      "        'time_zone': u'Mountain Time (US & Canada)',\n",
      "    },\n",
      "    'user_mentions': [\n",
      "        {\n",
      "            u'id': 341552391,\n",
      "            u'id_str': u'341552391',\n",
      "            u'name': u'Azat Mardan',\n",
      "            u'screen_name': u'azat_co',\n",
      "        },\n",
      "    ],\n",
      "}\n"
     ]
    }
   ],
   "source": [
    "pprintpp.pprint(tweets[0])"
   ]
  },
  {
   "cell_type": "markdown",
   "metadata": {},
   "source": [
    "## Grabando la información en un fichero"
   ]
  },
  {
   "cell_type": "markdown",
   "metadata": {},
   "source": [
    "Por último vamos a grabar la información descargada en un fichero, de forma que la podamos analizar más tarde"
   ]
  },
  {
   "cell_type": "code",
   "execution_count": 17,
   "metadata": {
    "collapsed": true
   },
   "outputs": [],
   "source": [
    "import json\n",
    "    \n",
    "with open('./data/tweets.json',\"w\") as file:\n",
    "    for t in tweets:\n",
    "        r = json.dumps(t)\n",
    "        file.write(r)\n",
    "        file.write(\"\\n\")"
   ]
  },
  {
   "cell_type": "code",
   "execution_count": 18,
   "metadata": {
    "collapsed": false
   },
   "outputs": [
    {
     "name": "stdout",
     "output_type": "stream",
     "text": [
      "2645\n"
     ]
    }
   ],
   "source": [
    "print len(tweets)"
   ]
  },
  {
   "cell_type": "code",
   "execution_count": 19,
   "metadata": {
    "collapsed": false
   },
   "outputs": [
    {
     "name": "stdout",
     "output_type": "stream",
     "text": [
      "3138\n"
     ]
    }
   ],
   "source": [
    "tweets = []\n",
    "for tweet in timeline_results:\n",
    "    tweets.append(parse_tweet(tweet._json))\n",
    "    \n",
    "with open('./data/timeline.json',\"w\") as file:\n",
    "    for t in tweets:\n",
    "        r = json.dumps(t)\n",
    "        file.write(r)\n",
    "        file.write(\"\\n\")\n",
    "        \n",
    "print len(tweets)"
   ]
  },
  {
   "cell_type": "code",
   "execution_count": null,
   "metadata": {
    "collapsed": true
   },
   "outputs": [],
   "source": []
  }
 ],
 "metadata": {
  "kernelspec": {
   "display_name": "Python 2",
   "language": "python",
   "name": "python2"
  },
  "language_info": {
   "codemirror_mode": {
    "name": "ipython",
    "version": 2
   },
   "file_extension": ".py",
   "mimetype": "text/x-python",
   "name": "python",
   "nbconvert_exporter": "python",
   "pygments_lexer": "ipython2",
   "version": "2.7.6"
  }
 },
 "nbformat": 4,
 "nbformat_minor": 0
}
