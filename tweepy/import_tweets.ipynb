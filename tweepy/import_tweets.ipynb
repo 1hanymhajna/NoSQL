{
 "cells": [
  {
   "cell_type": "markdown",
   "metadata": {},
   "source": [
    "# Importing data from Twitter with python and tweepy \n",
    "\n",
    "<img src=\"./images/tweepy.png\" alt=\"Twitter logo\" style=\"width: 800px;\" align=\"left\"/>"
   ]
  },
  {
   "cell_type": "markdown",
   "metadata": {},
   "source": [
    "[Twitter](https://twitter.com) provides an API that lets you download data from this social network. To do this we will use python and the [tweepy](https://github.com/tweepy/tweepy) library.\n",
    "\n",
    "The aim is to retrieve tweets related with the word 'NoSQL' and store them in a file for later analysis."
   ]
  },
  {
   "cell_type": "markdown",
   "metadata": {},
   "source": [
    "The first thing to do is [register](https://www.google.es/webhp?q=create+twitter+app) a new Twitter application via the [Twitter Application Management](https://apps.twitter.com/) page."
   ]
  },
  {
   "cell_type": "markdown",
   "metadata": {},
   "source": [
    "After registering our application, Twitter will give us the keys that we need to access it using its API"
   ]
  },
  {
   "cell_type": "code",
   "execution_count": 1,
   "metadata": {
    "collapsed": false
   },
   "outputs": [
    {
     "data": {
      "text/plain": [
       "['config.properties']"
      ]
     },
     "execution_count": 1,
     "metadata": {},
     "output_type": "execute_result"
    }
   ],
   "source": [
    "import ConfigParser\n",
    "\n",
    "configParser = ConfigParser.RawConfigParser()   \n",
    "configParser.read(\"config.properties\")\n"
   ]
  },
  {
   "cell_type": "code",
   "execution_count": 2,
   "metadata": {
    "collapsed": false
   },
   "outputs": [],
   "source": [
    "consumer_key = configParser.get('Twitter', 'consumer_key')\n",
    "consumer_secret = configParser.get('Twitter', 'consumer_secret')\n",
    "access_token_key = configParser.get('Twitter', 'access_token_key')\n",
    "access_token_secret = configParser.get('Twitter', 'access_token_secret')"
   ]
  },
  {
   "cell_type": "markdown",
   "metadata": {},
   "source": [
    "The next step is to import the library and login in twitter."
   ]
  },
  {
   "cell_type": "code",
   "execution_count": 3,
   "metadata": {
    "collapsed": false
   },
   "outputs": [],
   "source": [
    "import tweepy\n",
    "\n",
    "auth = tweepy.OAuthHandler(consumer_key, consumer_secret)\n",
    "auth.set_access_token(access_token_key, access_token_secret)\n",
    "\n",
    "api = tweepy.API(auth)"
   ]
  },
  {
   "cell_type": "markdown",
   "metadata": {},
   "source": [
    "## Testing the library"
   ]
  },
  {
   "cell_type": "markdown",
   "metadata": {},
   "source": [
    "To test the library we will retrieve information about a user of twitter, his name, his followers, and so on .."
   ]
  },
  {
   "cell_type": "code",
   "execution_count": 4,
   "metadata": {
    "collapsed": false
   },
   "outputs": [],
   "source": [
    "user = api.get_user('NoSQLDigest')"
   ]
  },
  {
   "cell_type": "code",
   "execution_count": 5,
   "metadata": {
    "collapsed": false
   },
   "outputs": [
    {
     "name": "stdout",
     "output_type": "stream",
     "text": [
      "Name: NoSQLDigest\n",
      "Description: NoSQL Digest of tweets.\n",
      "Followers count: 9788\n",
      "Friends' count: 12\n",
      "Statues Count [Number of Tweets]:  668094\n"
     ]
    }
   ],
   "source": [
    "print \"Name:\", user.screen_name\n",
    "print \"Description:\", user.description\n",
    "print \"Followers count:\", user.followers_count\n",
    "print \"Friends' count:\", user.friends_count\n",
    "print \"Statues Count [Number of Tweets]: \", user.statuses_count\n"
   ]
  },
  {
   "cell_type": "markdown",
   "metadata": {},
   "source": [
    "## Retrieving Tweets via a search term"
   ]
  },
  {
   "cell_type": "code",
   "execution_count": 6,
   "metadata": {
    "collapsed": true
   },
   "outputs": [],
   "source": [
    "lookup ='NoSQL'"
   ]
  },
  {
   "cell_type": "markdown",
   "metadata": {},
   "source": [
    "Using the following method we can download tweets quickly, but it depends on the limit set by Twitter"
   ]
  },
  {
   "cell_type": "code",
   "execution_count": 7,
   "metadata": {
    "collapsed": false
   },
   "outputs": [
    {
     "name": "stdout",
     "output_type": "stream",
     "text": [
      "100\n"
     ]
    }
   ],
   "source": [
    "max_tweets = 200\n",
    "search_results = api.search(q=lookup, lang = 'en', count=max_tweets)\n",
    "\n",
    "print len(search_results)\n"
   ]
  },
  {
   "cell_type": "code",
   "execution_count": 8,
   "metadata": {
    "collapsed": false
   },
   "outputs": [
    {
     "name": "stdout",
     "output_type": "stream",
     "text": [
      "+-----------------+---------------------+--------------------------------------------------------------+\n",
      "| User            |        Fecha        | Texto                                                        |\n",
      "+-----------------+---------------------+--------------------------------------------------------------+\n",
      "| DAMA_I          | 2015-10-23 19:52:26 | RT @DataMdlRockStar: Join our NJ #Data Modeling Master Class |\n",
      "| BigDataTweetBot | 2015-10-23 19:50:22 | RT @tmj_usa_eng: Can you recommend anyone for this #Engineer |\n",
      "| Atrilogy        | 2015-10-23 19:50:19 | Sr MySQL/NoSQL DBA - Mountain View, CA https://t.co/QhYl8a90 |\n",
      "| developerhcnews | 2015-10-23 19:45:31 | Validating 4M TPS using AerospikeDB with only 20 GCE nodes h |\n",
      "| AntonSivic      | 2015-10-23 19:43:36 | RT @Azure: Find out about #Azure's #data services for schema |\n",
      "| aksingh77       | 2015-10-23 19:42:13 | RT @googlecloud: What you can learn from validating 4MM TPS  |\n",
      "| accelerance     | 2015-10-23 19:40:03 | #NoSQL? No problem. 7 reasons you should be using it now:  h |\n",
      "| Ibarron3        | 2015-10-23 19:39:49 | RT @iamdevloper: are you a NoSQL person or a YeSQL person?   |\n",
      "|                 |                     |                                                              |\n",
      "|                 |                     |                                                              |\n",
      "| tmj_usa_eng     | 2015-10-23 19:38:25 | Can you recommend anyone for this #Engineering #job? https:/ |\n",
      "| red1elhaloui    | 2015-10-23 19:35:47 | RT @DevoxxMA: #DevoxxMA speaker of the day:                  |\n",
      "|                 |                     |                                                              |\n",
      "|                 |                     | @ldoguin: @couc                                              |\n",
      "+-----------------+---------------------+--------------------------------------------------------------+\n"
     ]
    }
   ],
   "source": [
    "from prettytable import PrettyTable\n",
    "\n",
    "table = PrettyTable([\"User\", \"Fecha\", \"Texto\"])\n",
    "table.align[\"User\"] = \"l\"\n",
    "table.align[\"Texto\"] = \"l\"\n",
    "\n",
    "for tweet in search_results[0:10]:\n",
    "    table.add_row([tweet.user.screen_name, tweet.created_at, tweet.text[:60]])\n",
    " \n",
    "print table"
   ]
  },
  {
   "cell_type": "markdown",
   "metadata": {},
   "source": [
    "## Retrieving a user's timeline\n"
   ]
  },
  {
   "cell_type": "code",
   "execution_count": 9,
   "metadata": {
    "collapsed": false
   },
   "outputs": [
    {
     "data": {
      "text/plain": [
       "198"
      ]
     },
     "execution_count": 9,
     "metadata": {},
     "output_type": "execute_result"
    }
   ],
   "source": [
    "timeline_results = api.user_timeline(screen_name = 'NoSQLDigest', count = 1000, include_rts = True)\n",
    "len(timeline_results)"
   ]
  },
  {
   "cell_type": "markdown",
   "metadata": {},
   "source": [
    "## Retrieving Tweets via a search term using a cursor"
   ]
  },
  {
   "cell_type": "markdown",
   "metadata": {},
   "source": [
    "This method uses a cursor that skips the restriction of 200 tweets ;-)"
   ]
  },
  {
   "cell_type": "code",
   "execution_count": 10,
   "metadata": {
    "collapsed": false
   },
   "outputs": [
    {
     "name": "stdout",
     "output_type": "stream",
     "text": [
      "{\"errors\":[{\"message\":\"Rate limit exceeded\",\"code\":88}]}\n",
      "2668\n"
     ]
    }
   ],
   "source": [
    "c = tweepy.Cursor(api.search, q= lookup).items()\n",
    "    \n",
    "search_results = []\n",
    "while True:\n",
    "    try:\n",
    "        tweet = c.next()\n",
    "        # Insert into db\n",
    "        search_results.append(tweet)\n",
    "    except tweepy.TweepError as e:\n",
    "        print e\n",
    "        break\n",
    "\n",
    "print len(search_results)"
   ]
  },
  {
   "cell_type": "markdown",
   "metadata": {},
   "source": [
    "This fails too!. In this case is because of a timeout limit :-(."
   ]
  },
  {
   "cell_type": "markdown",
   "metadata": {},
   "source": [
    "## Retrieving a user's timeline using a cursor"
   ]
  },
  {
   "cell_type": "code",
   "execution_count": 11,
   "metadata": {
    "collapsed": false
   },
   "outputs": [
    {
     "name": "stdout",
     "output_type": "stream",
     "text": [
      "Error:  <type 'exceptions.StopIteration'>\n",
      "3135\n"
     ]
    }
   ],
   "source": [
    "import sys\n",
    "\n",
    "c = tweepy.Cursor(api.user_timeline,id='NoSQLDigest').items()    \n",
    "timeline_results = []\n",
    "while True:\n",
    "    try:\n",
    "        tweet = c.next()\n",
    "        # Insert into db\n",
    "        timeline_results.append(tweet)\n",
    "    except:\n",
    "        print \"Error: \", sys.exc_info()[0]\n",
    "        break\n",
    "\n",
    "print len(timeline_results)"
   ]
  },
  {
   "cell_type": "markdown",
   "metadata": {},
   "source": [
    "## Visualizing the content of a Tweet"
   ]
  },
  {
   "cell_type": "markdown",
   "metadata": {},
   "source": [
    "Twitter returns data in [JSON](http://www.json.org/json-es.html) format. Let's see what a tweet looks like:"
   ]
  },
  {
   "cell_type": "code",
   "execution_count": 12,
   "metadata": {
    "collapsed": false
   },
   "outputs": [
    {
     "name": "stdout",
     "output_type": "stream",
     "text": [
      "{\n",
      "    u'contributors': None,\n",
      "    u'coordinates': None,\n",
      "    u'created_at': u'Fri Oct 23 19:52:26 +0000 2015',\n",
      "    u'entities': {\n",
      "        u'hashtags': [\n",
      "            {u'indices': [33, 38], u'text': u'Data'},\n",
      "            {u'indices': [96, 109], u'text': u'datamodeling'},\n",
      "            {u'indices': [110, 116], u'text': u'nosql'},\n",
      "            {u'indices': [125, 134], u'text': u'erstudio'},\n",
      "        ],\n",
      "        u'media': [\n",
      "            {\n",
      "                u'display_url': u'pic.twitter.com/I3z6WeExLq',\n",
      "                u'expanded_url': u'http://twitter.com/DataMdlRockStar/status/657567261209833472/photo/1',\n",
      "                u'id': 657567260832235520,\n",
      "                u'id_str': u'657567260832235520',\n",
      "                u'indices': [139, 140],\n",
      "                u'media_url': u'http://pbs.twimg.com/media/CSAl8JXVAAAon8W.jpg',\n",
      "                u'media_url_https': u'https://pbs.twimg.com/media/CSAl8JXVAAAon8W.jpg',\n",
      "                u'sizes': {\n",
      "                    u'large': {u'h': 678, u'resize': u'fit', u'w': 1024},\n",
      "                    u'medium': {u'h': 397, u'resize': u'fit', u'w': 600},\n",
      "                    u'small': {u'h': 225, u'resize': u'fit', u'w': 340},\n",
      "                    u'thumb': {u'h': 150, u'resize': u'crop', u'w': 150},\n",
      "                },\n",
      "                u'source_status_id': 657567261209833472,\n",
      "                u'source_status_id_str': u'657567261209833472',\n",
      "                u'source_user_id': 129790021,\n",
      "                u'source_user_id_str': u'129790021',\n",
      "                u'type': u'photo',\n",
      "                u'url': u'https://t.co/I3z6WeExLq',\n",
      "            },\n",
      "        ],\n",
      "        u'symbols': [],\n",
      "        u'urls': [\n",
      "            {\n",
      "                u'display_url': u'bit.ly/1PKRAqF',\n",
      "                u'expanded_url': u'http://bit.ly/1PKRAqF',\n",
      "                u'indices': [72, 95],\n",
      "                u'url': u'https://t.co/lk8QJIv33P',\n",
      "            },\n",
      "        ],\n",
      "        u'user_mentions': [\n",
      "            {\n",
      "                u'id': 129790021,\n",
      "                u'id_str': u'129790021',\n",
      "                u'indices': [3, 19],\n",
      "                u'name': u'Steve Hoberman',\n",
      "                u'screen_name': u'DataMdlRockStar',\n",
      "            },\n",
      "            {\n",
      "                u'id': 21591454,\n",
      "                u'id_str': u'21591454',\n",
      "                u'indices': [117, 124],\n",
      "                u'name': u'DAMA International',\n",
      "                u'screen_name': u'DAMA_I',\n",
      "            },\n",
      "        ],\n",
      "    },\n",
      "    u'favorite_count': 0,\n",
      "    u'favorited': False,\n",
      "    u'geo': None,\n",
      "    u'id': 657645776311615488,\n",
      "    u'id_str': u'657645776311615488',\n",
      "    u'in_reply_to_screen_name': None,\n",
      "    u'in_reply_to_status_id': None,\n",
      "    u'in_reply_to_status_id_str': None,\n",
      "    u'in_reply_to_user_id': None,\n",
      "    u'in_reply_to_user_id_str': None,\n",
      "    u'is_quote_status': False,\n",
      "    u'lang': u'en',\n",
      "    u'metadata': {u'iso_language_code': u'en', u'result_type': u'recent'},\n",
      "    u'place': None,\n",
      "    u'possibly_sensitive': False,\n",
      "    u'retweet_count': 1,\n",
      "    u'retweeted': False,\n",
      "    u'retweeted_status': {\n",
      "        u'contributors': None,\n",
      "        u'coordinates': None,\n",
      "        u'created_at': u'Fri Oct 23 14:40:26 +0000 2015',\n",
      "        u'entities': {\n",
      "            u'hashtags': [\n",
      "                {u'indices': [12, 17], u'text': u'Data'},\n",
      "                {u'indices': [75, 88], u'text': u'datamodeling'},\n",
      "                {u'indices': [89, 95], u'text': u'nosql'},\n",
      "                {u'indices': [104, 113], u'text': u'erstudio'},\n",
      "            ],\n",
      "            u'media': [\n",
      "                {\n",
      "                    u'display_url': u'pic.twitter.com/I3z6WeExLq',\n",
      "                    u'expanded_url': u'http://twitter.com/DataMdlRockStar/status/657567261209833472/photo/1',\n",
      "                    u'id': 657567260832235520,\n",
      "                    u'id_str': u'657567260832235520',\n",
      "                    u'indices': [114, 137],\n",
      "                    u'media_url': u'http://pbs.twimg.com/media/CSAl8JXVAAAon8W.jpg',\n",
      "                    u'media_url_https': u'https://pbs.twimg.com/media/CSAl8JXVAAAon8W.jpg',\n",
      "                    u'sizes': {\n",
      "                        u'large': {u'h': 678, u'resize': u'fit', u'w': 1024},\n",
      "                        u'medium': {u'h': 397, u'resize': u'fit', u'w': 600},\n",
      "                        u'small': {u'h': 225, u'resize': u'fit', u'w': 340},\n",
      "                        u'thumb': {u'h': 150, u'resize': u'crop', u'w': 150},\n",
      "                    },\n",
      "                    u'type': u'photo',\n",
      "                    u'url': u'https://t.co/I3z6WeExLq',\n",
      "                },\n",
      "            ],\n",
      "            u'symbols': [],\n",
      "            u'urls': [\n",
      "                {\n",
      "                    u'display_url': u'bit.ly/1PKRAqF',\n",
      "                    u'expanded_url': u'http://bit.ly/1PKRAqF',\n",
      "                    u'indices': [51, 74],\n",
      "                    u'url': u'https://t.co/lk8QJIv33P',\n",
      "                },\n",
      "            ],\n",
      "            u'user_mentions': [\n",
      "                {\n",
      "                    u'id': 21591454,\n",
      "                    u'id_str': u'21591454',\n",
      "                    u'indices': [96, 103],\n",
      "                    u'name': u'DAMA International',\n",
      "                    u'screen_name': u'DAMA_I',\n",
      "                },\n",
      "            ],\n",
      "        },\n",
      "        u'favorite_count': 2,\n",
      "        u'favorited': False,\n",
      "        u'geo': None,\n",
      "        u'id': 657567261209833472,\n",
      "        u'id_str': u'657567261209833472',\n",
      "        u'in_reply_to_screen_name': None,\n",
      "        u'in_reply_to_status_id': None,\n",
      "        u'in_reply_to_status_id_str': None,\n",
      "        u'in_reply_to_user_id': None,\n",
      "        u'in_reply_to_user_id_str': None,\n",
      "        u'is_quote_status': False,\n",
      "        u'lang': u'en',\n",
      "        u'metadata': {u'iso_language_code': u'en', u'result_type': u'recent'},\n",
      "        u'place': None,\n",
      "        u'possibly_sensitive': False,\n",
      "        u'retweet_count': 1,\n",
      "        u'retweeted': False,\n",
      "        u'source': u'<a href=\"http://www.hootsuite.com\" rel=\"nofollow\">Hootsuite</a>',\n",
      "        u'text': u'Join our NJ #Data Modeling Master Class Nov 17-19: https://t.co/lk8QJIv33P #datamodeling #nosql @DAMA_I #erstudio https://t.co/I3z6WeExLq',\n",
      "        u'truncated': False,\n",
      "        u'user': {\n",
      "            u'contributors_enabled': False,\n",
      "            u'created_at': u'Mon Apr 05 12:03:48 +0000 2010',\n",
      "            u'default_profile': True,\n",
      "            u'default_profile_image': False,\n",
      "            u'description': u'Data Modeler, Trainer, author of 9 data modeling books, publisher (http://t.co/4Ic8XaK3bq), consults, conference organizer (http://t.co/NxMp16pslE)',\n",
      "            u'entities': {\n",
      "                u'description': {\n",
      "                    u'urls': [\n",
      "                        {\n",
      "                            u'display_url': u'technicspub.com',\n",
      "                            u'expanded_url': u'http://www.technicspub.com',\n",
      "                            u'indices': [67, 89],\n",
      "                            u'url': u'http://t.co/4Ic8XaK3bq',\n",
      "                        },\n",
      "                        {\n",
      "                            u'display_url': u'DataModelingZone.com',\n",
      "                            u'expanded_url': u'http://www.DataModelingZone.com',\n",
      "                            u'indices': [124, 146],\n",
      "                            u'url': u'http://t.co/NxMp16pslE',\n",
      "                        },\n",
      "                    ],\n",
      "                },\n",
      "                u'url': {\n",
      "                    u'urls': [\n",
      "                        {\n",
      "                            u'display_url': u'stevehoberman.com',\n",
      "                            u'expanded_url': u'http://www.stevehoberman.com',\n",
      "                            u'indices': [0, 22],\n",
      "                            u'url': u'http://t.co/s0LPMKXANN',\n",
      "                        },\n",
      "                    ],\n",
      "                },\n",
      "            },\n",
      "            u'favourites_count': 1,\n",
      "            u'follow_request_sent': False,\n",
      "            u'followers_count': 809,\n",
      "            u'following': False,\n",
      "            u'friends_count': 51,\n",
      "            u'geo_enabled': False,\n",
      "            u'has_extended_profile': False,\n",
      "            u'id': 129790021,\n",
      "            u'id_str': u'129790021',\n",
      "            u'is_translation_enabled': False,\n",
      "            u'is_translator': False,\n",
      "            u'lang': u'en',\n",
      "            u'listed_count': 62,\n",
      "            u'location': u'New Jersey',\n",
      "            u'name': u'Steve Hoberman',\n",
      "            u'notifications': False,\n",
      "            u'profile_background_color': u'C0DEED',\n",
      "            u'profile_background_image_url': u'http://abs.twimg.com/images/themes/theme1/bg.png',\n",
      "            u'profile_background_image_url_https': u'https://abs.twimg.com/images/themes/theme1/bg.png',\n",
      "            u'profile_background_tile': False,\n",
      "            u'profile_image_url': u'http://pbs.twimg.com/profile_images/1545177586/DSC_0054_edited_lowres_normal.jpg',\n",
      "            u'profile_image_url_https': u'https://pbs.twimg.com/profile_images/1545177586/DSC_0054_edited_lowres_normal.jpg',\n",
      "            u'profile_link_color': u'0084B4',\n",
      "            u'profile_sidebar_border_color': u'C0DEED',\n",
      "            u'profile_sidebar_fill_color': u'DDEEF6',\n",
      "            u'profile_text_color': u'333333',\n",
      "            u'profile_use_background_image': True,\n",
      "            u'protected': False,\n",
      "            u'screen_name': u'DataMdlRockStar',\n",
      "            u'statuses_count': 341,\n",
      "            u'time_zone': u'Central Time (US & Canada)',\n",
      "            u'url': u'http://t.co/s0LPMKXANN',\n",
      "            u'utc_offset': -18000,\n",
      "            u'verified': False,\n",
      "        },\n",
      "    },\n",
      "    u'source': u'<a href=\"http://twitter.com/download/iphone\" rel=\"nofollow\">Twitter for iPhone</a>',\n",
      "    u'text': u'RT @DataMdlRockStar: Join our NJ #Data Modeling Master Class Nov 17-19: https://t.co/lk8QJIv33P #datamodeling #nosql @DAMA_I #erstudio http…',\n",
      "    u'truncated': False,\n",
      "    u'user': {\n",
      "        u'contributors_enabled': False,\n",
      "        u'created_at': u'Sun Feb 22 19:44:34 +0000 2009',\n",
      "        u'default_profile': False,\n",
      "        u'default_profile_image': False,\n",
      "        u'description': u'International Data Management Association. Data Management, Data Architecture, Information Architecture, DAMA DMBOK, CDMP qualification.',\n",
      "        u'entities': {\n",
      "            u'description': {u'urls': []},\n",
      "            u'url': {\n",
      "                u'urls': [\n",
      "                    {\n",
      "                        u'display_url': u'dama.org',\n",
      "                        u'expanded_url': u'http://www.dama.org',\n",
      "                        u'indices': [0, 22],\n",
      "                        u'url': u'http://t.co/j99SS0r2S0',\n",
      "                    },\n",
      "                ],\n",
      "            },\n",
      "        },\n",
      "        u'favourites_count': 394,\n",
      "        u'follow_request_sent': False,\n",
      "        u'followers_count': 1228,\n",
      "        u'following': False,\n",
      "        u'friends_count': 238,\n",
      "        u'geo_enabled': True,\n",
      "        u'has_extended_profile': False,\n",
      "        u'id': 21591454,\n",
      "        u'id_str': u'21591454',\n",
      "        u'is_translation_enabled': False,\n",
      "        u'is_translator': False,\n",
      "        u'lang': u'en',\n",
      "        u'listed_count': 124,\n",
      "        u'location': u'',\n",
      "        u'name': u'DAMA International',\n",
      "        u'notifications': False,\n",
      "        u'profile_background_color': u'0099B9',\n",
      "        u'profile_background_image_url': u'http://abs.twimg.com/images/themes/theme4/bg.gif',\n",
      "        u'profile_background_image_url_https': u'https://abs.twimg.com/images/themes/theme4/bg.gif',\n",
      "        u'profile_background_tile': False,\n",
      "        u'profile_image_url': u'http://pbs.twimg.com/profile_images/81466962/DI_DAMAI_Logo_noborder_normal.jpg',\n",
      "        u'profile_image_url_https': u'https://pbs.twimg.com/profile_images/81466962/DI_DAMAI_Logo_noborder_normal.jpg',\n",
      "        u'profile_link_color': u'0099B9',\n",
      "        u'profile_sidebar_border_color': u'5ED4DC',\n",
      "        u'profile_sidebar_fill_color': u'95E8EC',\n",
      "        u'profile_text_color': u'3C3940',\n",
      "        u'profile_use_background_image': True,\n",
      "        u'protected': False,\n",
      "        u'screen_name': u'DAMA_I',\n",
      "        u'statuses_count': 3450,\n",
      "        u'time_zone': u'London',\n",
      "        u'url': u'http://t.co/j99SS0r2S0',\n",
      "        u'utc_offset': 3600,\n",
      "        u'verified': False,\n",
      "    },\n",
      "}\n"
     ]
    }
   ],
   "source": [
    "import pprintpp\n",
    "\n",
    "tweet = search_results[0]\n",
    "pprintpp.pprint(tweet._json)"
   ]
  },
  {
   "cell_type": "markdown",
   "metadata": {},
   "source": [
    "## Parsing the result"
   ]
  },
  {
   "cell_type": "markdown",
   "metadata": {},
   "source": [
    "The aim of the following functions to simplify the information we keep on file because Twitter provide too much information"
   ]
  },
  {
   "cell_type": "code",
   "execution_count": 13,
   "metadata": {
    "collapsed": true
   },
   "outputs": [],
   "source": [
    "def parse_user(usr):\n",
    "    user = {}  \n",
    "    user[\"created_at\"] = usr['created_at']\n",
    "    user[\"description\"] = usr['description']\n",
    "    user[\"favourites_count\"] = usr['favourites_count']\n",
    "    user[\"followers_count\"] = usr['followers_count']\n",
    "    user[\"friends_count\"] = usr['friends_count']\n",
    "    user[\"geo_enabled\"] = usr['geo_enabled']\n",
    "    user[\"id\"] = usr['id']\n",
    "    user[\"id_str\"] =usr['id_str']\n",
    "    user[\"name\"] = usr['name']\n",
    "    user[\"screen_name\"] = usr['screen_name']\n",
    "    user[\"statuses_count\"] = usr['statuses_count']\n",
    "    user[\"profile_image_url\"] = usr['profile_image_url']\n",
    "    if usr['time_zone'] <> None:\n",
    "        user[\"time_zone\"] = usr['time_zone']\n",
    "    \n",
    "    return user"
   ]
  },
  {
   "cell_type": "code",
   "execution_count": 14,
   "metadata": {
    "collapsed": false
   },
   "outputs": [],
   "source": [
    "def parse_tweet(t):\n",
    "    tweet = {}\n",
    "    tweet['created_at'] = t['created_at']\n",
    "    #for ht in tweet.entities.hashtags:\n",
    "    #    print ht.text\n",
    "\n",
    "    tweet['entities'] = []\n",
    "    for k in t['entities']['hashtags']:\n",
    "        tweet['entities'].append(k['text'])\n",
    "  \n",
    "    tweet['user_mentions'] = []\n",
    "    for k in t['entities']['user_mentions']:\n",
    "        k.pop(\"indices\", None)\n",
    "        tweet['user_mentions'].append(k)\n",
    "\n",
    "    tweet['favorite_count'] =  t['favorite_count']\n",
    "\n",
    "    if t['geo'] <> None:\n",
    "        tweet['geo'] = t['geo']\n",
    "\n",
    "    tweet['id'] = t['id']\n",
    "    tweet['id_str'] = t['id_str']  \n",
    "\n",
    "    tweet['lang'] = t['lang']\n",
    "    tweet['retweet_count'] = t['retweet_count']\n",
    "    tweet['source'] = t['source']\n",
    "    tweet['text'] = t['text']\n",
    "    \n",
    "    tweet['user'] = parse_user(t['user'])\n",
    "\n",
    "    if 'retweeted_status' in t.keys():\n",
    "        tweet['retweeted_status'] = parse_tweet(t['retweeted_status'])\n",
    "    \n",
    "    if 'in_reply_to_screen_name' in tweet and tweet['in_reply_to_screen_name'] <> None:\n",
    "        in_reply_to_user = {}\n",
    "             \n",
    "        in_reply_to_user['screen_name'] = tweet['in_reply_to_screen_name']\n",
    "        in_reply_to_user['id'] = tweet['in_reply_to_user_id']\n",
    "        in_reply_to_user['id_str'] = tweet['in_reply_to_user_id_str']\n",
    "        \n",
    "        tweet['in_reply_to_user'] = reply_to_usr \n",
    "        \n",
    "        \n",
    "    return tweet"
   ]
  },
  {
   "cell_type": "markdown",
   "metadata": {},
   "source": [
    "We parse the content we've previously downloaded ..."
   ]
  },
  {
   "cell_type": "code",
   "execution_count": 15,
   "metadata": {
    "collapsed": false
   },
   "outputs": [],
   "source": [
    "tweets = []\n",
    "\n",
    "for tweet in search_results:\n",
    "    tweets.append(parse_tweet(tweet._json))\n",
    "    "
   ]
  },
  {
   "cell_type": "markdown",
   "metadata": {},
   "source": [
    "Now the content also in JSON format but much simpler"
   ]
  },
  {
   "cell_type": "code",
   "execution_count": 16,
   "metadata": {
    "collapsed": false
   },
   "outputs": [
    {
     "name": "stdout",
     "output_type": "stream",
     "text": [
      "{\n",
      "    'created_at': u'Fri Oct 23 19:52:26 +0000 2015',\n",
      "    'entities': [u'Data', u'datamodeling', u'nosql', u'erstudio'],\n",
      "    'favorite_count': 0,\n",
      "    'id': 657645776311615488,\n",
      "    'id_str': u'657645776311615488',\n",
      "    'lang': u'en',\n",
      "    'retweet_count': 1,\n",
      "    'retweeted_status': {\n",
      "        'created_at': u'Fri Oct 23 14:40:26 +0000 2015',\n",
      "        'entities': [u'Data', u'datamodeling', u'nosql', u'erstudio'],\n",
      "        'favorite_count': 2,\n",
      "        'id': 657567261209833472,\n",
      "        'id_str': u'657567261209833472',\n",
      "        'lang': u'en',\n",
      "        'retweet_count': 1,\n",
      "        'source': u'<a href=\"http://www.hootsuite.com\" rel=\"nofollow\">Hootsuite</a>',\n",
      "        'text': u'Join our NJ #Data Modeling Master Class Nov 17-19: https://t.co/lk8QJIv33P #datamodeling #nosql @DAMA_I #erstudio https://t.co/I3z6WeExLq',\n",
      "        'user': {\n",
      "            'created_at': u'Mon Apr 05 12:03:48 +0000 2010',\n",
      "            'description': u'Data Modeler, Trainer, author of 9 data modeling books, publisher (http://t.co/4Ic8XaK3bq), consults, conference organizer (http://t.co/NxMp16pslE)',\n",
      "            'favourites_count': 1,\n",
      "            'followers_count': 809,\n",
      "            'friends_count': 51,\n",
      "            'geo_enabled': False,\n",
      "            'id': 129790021,\n",
      "            'id_str': u'129790021',\n",
      "            'name': u'Steve Hoberman',\n",
      "            'profile_image_url': u'http://pbs.twimg.com/profile_images/1545177586/DSC_0054_edited_lowres_normal.jpg',\n",
      "            'screen_name': u'DataMdlRockStar',\n",
      "            'statuses_count': 341,\n",
      "            'time_zone': u'Central Time (US & Canada)',\n",
      "        },\n",
      "        'user_mentions': [\n",
      "            {\n",
      "                u'id': 21591454,\n",
      "                u'id_str': u'21591454',\n",
      "                u'name': u'DAMA International',\n",
      "                u'screen_name': u'DAMA_I',\n",
      "            },\n",
      "        ],\n",
      "    },\n",
      "    'source': u'<a href=\"http://twitter.com/download/iphone\" rel=\"nofollow\">Twitter for iPhone</a>',\n",
      "    'text': u'RT @DataMdlRockStar: Join our NJ #Data Modeling Master Class Nov 17-19: https://t.co/lk8QJIv33P #datamodeling #nosql @DAMA_I #erstudio http…',\n",
      "    'user': {\n",
      "        'created_at': u'Sun Feb 22 19:44:34 +0000 2009',\n",
      "        'description': u'International Data Management Association. Data Management, Data Architecture, Information Architecture, DAMA DMBOK, CDMP qualification.',\n",
      "        'favourites_count': 394,\n",
      "        'followers_count': 1228,\n",
      "        'friends_count': 238,\n",
      "        'geo_enabled': True,\n",
      "        'id': 21591454,\n",
      "        'id_str': u'21591454',\n",
      "        'name': u'DAMA International',\n",
      "        'profile_image_url': u'http://pbs.twimg.com/profile_images/81466962/DI_DAMAI_Logo_noborder_normal.jpg',\n",
      "        'screen_name': u'DAMA_I',\n",
      "        'statuses_count': 3450,\n",
      "        'time_zone': u'London',\n",
      "    },\n",
      "    'user_mentions': [\n",
      "        {\n",
      "            u'id': 129790021,\n",
      "            u'id_str': u'129790021',\n",
      "            u'name': u'Steve Hoberman',\n",
      "            u'screen_name': u'DataMdlRockStar',\n",
      "        },\n",
      "        {\n",
      "            u'id': 21591454,\n",
      "            u'id_str': u'21591454',\n",
      "            u'name': u'DAMA International',\n",
      "            u'screen_name': u'DAMA_I',\n",
      "        },\n",
      "    ],\n",
      "}\n"
     ]
    }
   ],
   "source": [
    "pprintpp.pprint(tweets[0])"
   ]
  },
  {
   "cell_type": "markdown",
   "metadata": {},
   "source": [
    "## Saving the data in a file"
   ]
  },
  {
   "cell_type": "markdown",
   "metadata": {},
   "source": [
    "Finally we will record the data downloaded to a file, so that we can analyze later"
   ]
  },
  {
   "cell_type": "code",
   "execution_count": 17,
   "metadata": {
    "collapsed": true
   },
   "outputs": [],
   "source": [
    "import json\n",
    "    \n",
    "with open('../data/tweets.json',\"w\") as file:\n",
    "    for t in tweets:\n",
    "        r = json.dumps(t)\n",
    "        file.write(r)\n",
    "        file.write(\"\\n\")"
   ]
  },
  {
   "cell_type": "code",
   "execution_count": 18,
   "metadata": {
    "collapsed": false
   },
   "outputs": [
    {
     "name": "stdout",
     "output_type": "stream",
     "text": [
      "Number of tweets ...  2668\n"
     ]
    }
   ],
   "source": [
    "print \"Number of tweets ... \", len(tweets)"
   ]
  },
  {
   "cell_type": "code",
   "execution_count": 19,
   "metadata": {
    "collapsed": false
   },
   "outputs": [
    {
     "name": "stdout",
     "output_type": "stream",
     "text": [
      "Number of tweets ...  3135\n"
     ]
    }
   ],
   "source": [
    "tweets = []\n",
    "for tweet in timeline_results:\n",
    "    tweets.append(parse_tweet(tweet._json))\n",
    "    \n",
    "with open('../data/timeline.json',\"w\") as file:\n",
    "    for t in tweets:\n",
    "        r = json.dumps(t)\n",
    "        file.write(r)\n",
    "        file.write(\"\\n\")\n",
    "        \n",
    "print \"Number of tweets ... \", len(tweets)"
   ]
  },
  {
   "cell_type": "code",
   "execution_count": null,
   "metadata": {
    "collapsed": true
   },
   "outputs": [],
   "source": []
  }
 ],
 "metadata": {
  "kernelspec": {
   "display_name": "Python 2",
   "language": "python",
   "name": "python2"
  },
  "language_info": {
   "codemirror_mode": {
    "name": "ipython",
    "version": 2
   },
   "file_extension": ".py",
   "mimetype": "text/x-python",
   "name": "python",
   "nbconvert_exporter": "python",
   "pygments_lexer": "ipython2",
   "version": "2.7.6"
  }
 },
 "nbformat": 4,
 "nbformat_minor": 0
}
