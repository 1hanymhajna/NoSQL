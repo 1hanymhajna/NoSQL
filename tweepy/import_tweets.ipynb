{
 "cells": [
  {
   "cell_type": "markdown",
   "metadata": {},
   "source": [
    "# Importing data from Twitter with python and tweepy \n",
    "\n",
    "<img src=\"./images/tweepy.png\" alt=\"Twitter logo\" style=\"width: 800px;\" align=\"left\"/>"
   ]
  },
  {
   "cell_type": "markdown",
   "metadata": {},
   "source": [
    "[Twitter](https://twitter.com) provides an API that lets you download data from this social network. To do this we will use python and the library [tweepy](https://github.com/tweepy/tweepy).\n",
    "\n",
    "The aim is to retrieve tweets related with the word 'NoSQL' and store them in a file for later analysis."
   ]
  },
  {
   "cell_type": "markdown",
   "metadata": {},
   "source": [
    "The first thing to do is [register](https://www.google.es/webhp?q=create+twitter+app) a new Twitter application via the [Twitter Application Management](https://apps.twitter.com/) page."
   ]
  },
  {
   "cell_type": "markdown",
   "metadata": {},
   "source": [
    "After registering our application, Twitter will give us the keys that we need to access it using its API"
   ]
  },
  {
   "cell_type": "code",
   "execution_count": 55,
   "metadata": {
    "collapsed": true
   },
   "outputs": [],
   "source": [
    "consumer_key = 'hRNtRgjzGq3wq3mt3fbuUkQ2c'\n",
    "consumer_secret = 'yBbXnvNRpm92wvblpG9xhUMFF7w9sgxLfQT8k15Fs3k1RN4pnQ'\n",
    "access_token_key = '12391902-qHO3gUBIvKuv7DjajXBmdm2SyZH8vgmR3jcpLVnnM'\n",
    "access_token_secret = '9ViwfNW5FhOLhahaf4qimDLXfYuqDtGzJ1MmAQM0gN3LK'"
   ]
  },
  {
   "cell_type": "markdown",
   "metadata": {},
   "source": [
    "The next step is to import the library and login in twitter."
   ]
  },
  {
   "cell_type": "code",
   "execution_count": 56,
   "metadata": {
    "collapsed": false
   },
   "outputs": [],
   "source": [
    "import tweepy\n",
    "\n",
    "auth = tweepy.OAuthHandler(consumer_key, consumer_secret)\n",
    "auth.set_access_token(access_token_key, access_token_secret)\n",
    "\n",
    "api = tweepy.API(auth)"
   ]
  },
  {
   "cell_type": "markdown",
   "metadata": {},
   "source": [
    "## Testing the library"
   ]
  },
  {
   "cell_type": "markdown",
   "metadata": {},
   "source": [
    "To test the library we will retrieve information about a user of twitter, his name, his followers, and so on .."
   ]
  },
  {
   "cell_type": "code",
   "execution_count": 57,
   "metadata": {
    "collapsed": false
   },
   "outputs": [
    {
     "name": "stderr",
     "output_type": "stream",
     "text": [
      "/usr/local/lib/python2.7/dist-packages/requests/packages/urllib3/util/ssl_.py:100: InsecurePlatformWarning: A true SSLContext object is not available. This prevents urllib3 from configuring SSL appropriately and may cause certain SSL connections to fail. For more information, see https://urllib3.readthedocs.org/en/latest/security.html#insecureplatformwarning.\n",
      "  InsecurePlatformWarning\n"
     ]
    }
   ],
   "source": [
    "user = api.get_user('NoSQLDigest')"
   ]
  },
  {
   "cell_type": "code",
   "execution_count": 58,
   "metadata": {
    "collapsed": false
   },
   "outputs": [
    {
     "name": "stdout",
     "output_type": "stream",
     "text": [
      "Name: NoSQLDigest\n",
      "Description: NoSQL Digest of tweets.\n",
      "Followers count: 9785\n",
      "Friends' count: 12\n",
      "Statues Count [Number of Tweets]:  668120\n"
     ]
    }
   ],
   "source": [
    "print \"Name:\", user.screen_name\n",
    "print \"Description:\", user.description\n",
    "print \"Followers count:\", user.followers_count\n",
    "print \"Friends' count:\", user.friends_count\n",
    "print \"Statues Count [Number of Tweets]: \", user.statuses_count\n"
   ]
  },
  {
   "cell_type": "markdown",
   "metadata": {},
   "source": [
    "## Retrieving Tweets via a search term"
   ]
  },
  {
   "cell_type": "code",
   "execution_count": 59,
   "metadata": {
    "collapsed": true
   },
   "outputs": [],
   "source": [
    "lookup ='NoSQL'"
   ]
  },
  {
   "cell_type": "markdown",
   "metadata": {},
   "source": [
    "Using the following method we can download tweets quickly, but it depends on the limit set by Twitter"
   ]
  },
  {
   "cell_type": "code",
   "execution_count": 60,
   "metadata": {
    "collapsed": false
   },
   "outputs": [
    {
     "name": "stdout",
     "output_type": "stream",
     "text": [
      "100\n"
     ]
    },
    {
     "name": "stderr",
     "output_type": "stream",
     "text": [
      "/usr/local/lib/python2.7/dist-packages/requests/packages/urllib3/util/ssl_.py:100: InsecurePlatformWarning: A true SSLContext object is not available. This prevents urllib3 from configuring SSL appropriately and may cause certain SSL connections to fail. For more information, see https://urllib3.readthedocs.org/en/latest/security.html#insecureplatformwarning.\n",
      "  InsecurePlatformWarning\n"
     ]
    }
   ],
   "source": [
    "max_tweets = 200\n",
    "search_results = api.search(q=lookup, lang = 'en', count=max_tweets)\n",
    "\n",
    "print len(search_results)\n"
   ]
  },
  {
   "cell_type": "code",
   "execution_count": 61,
   "metadata": {
    "collapsed": false
   },
   "outputs": [
    {
     "name": "stdout",
     "output_type": "stream",
     "text": [
      "+-----------------+---------------------+----------------------------------------------------------------------------------+\n",
      "| User            |        Fecha        | Texto                                                                            |\n",
      "+-----------------+---------------------+----------------------------------------------------------------------------------+\n",
      "| retweetjava     | 2015-10-21 04:00:19 | RT @MusicHackFest: #GoGettersNetwork #CodeTalk  Apache Hadoop and NoSQL as Analy |\n",
      "| NeuvooPhpCA     | 2015-10-21 04:00:11 | CyberCoders is hiring a #Senior #Backend Developer - Ruby, Python, PHP, Agile, S |\n",
      "| GujaratiGuy789  | 2015-10-21 03:57:05 | RT @SoftwareJokes: 3 database admins walked into a NoSQL bar. A little while lat |\n",
      "| astosyk         | 2015-10-21 03:53:11 | RT @couchbase: Get rapid ramp-up on #NoSQL application development with lessons  |\n",
      "| tjmickol        | 2015-10-21 03:40:36 | Listening to Sweet Home Wundermude by Spill &amp; Freunde on #kexp #galvanize #z |\n",
      "| MooglieTwitimon | 2015-10-21 03:38:26 | Couchbase CEO on rise of NoSQL - https://t.co/9Zeif7Afw4 https://t.co/yglu7h3WA0 |\n",
      "| MooglieTwitimon | 2015-10-21 03:38:24 | Couchbase CEO on rise of NoSQL - https://t.co/9Zeif7Afw4 https://t.co/yglu7h3WA0 |\n",
      "| bph             | 2015-10-21 03:19:39 | RT @couchbase: The 3 mega-trends that define businesses leading the digital econ |\n",
      "| VVagias         | 2015-10-21 03:13:36 | RT @geneolot: It's jut great Tuesday evening,  Bambini Dahlonega,  Georgia #BigD |\n",
      "| retweetjava     | 2015-10-21 03:13:35 | RT @geneolot: It's jut great Tuesday evening,  Bambini Dahlonega,  Georgia #BigD |\n",
      "+-----------------+---------------------+----------------------------------------------------------------------------------+\n"
     ]
    }
   ],
   "source": [
    "from prettytable import PrettyTable\n",
    "\n",
    "table = PrettyTable([\"User\", \"Fecha\", \"Texto\"])\n",
    "table.align[\"User\"] = \"l\"\n",
    "table.align[\"Texto\"] = \"l\"\n",
    "\n",
    "for tweet in search_results[0:10]:\n",
    "    table.add_row([tweet.user.screen_name, tweet.created_at, tweet.text[:80]])\n",
    " \n",
    "print table"
   ]
  },
  {
   "cell_type": "markdown",
   "metadata": {},
   "source": [
    "## Retrieving a user's timeline\n"
   ]
  },
  {
   "cell_type": "code",
   "execution_count": 62,
   "metadata": {
    "collapsed": false
   },
   "outputs": [
    {
     "name": "stderr",
     "output_type": "stream",
     "text": [
      "/usr/local/lib/python2.7/dist-packages/requests/packages/urllib3/util/ssl_.py:100: InsecurePlatformWarning: A true SSLContext object is not available. This prevents urllib3 from configuring SSL appropriately and may cause certain SSL connections to fail. For more information, see https://urllib3.readthedocs.org/en/latest/security.html#insecureplatformwarning.\n",
      "  InsecurePlatformWarning\n"
     ]
    },
    {
     "data": {
      "text/plain": [
       "198"
      ]
     },
     "execution_count": 62,
     "metadata": {},
     "output_type": "execute_result"
    }
   ],
   "source": [
    "timeline_results = api.user_timeline(screen_name = 'NoSQLDigest', count = 1000, include_rts = True)\n",
    "len(timeline_results)"
   ]
  },
  {
   "cell_type": "markdown",
   "metadata": {},
   "source": [
    "## Retrieving Tweets via a search term using a cursor"
   ]
  },
  {
   "cell_type": "markdown",
   "metadata": {},
   "source": [
    "This method uses a cursor that skips the restriction of 200 tweets ;-)"
   ]
  },
  {
   "cell_type": "code",
   "execution_count": 63,
   "metadata": {
    "collapsed": false
   },
   "outputs": [
    {
     "name": "stderr",
     "output_type": "stream",
     "text": [
      "/usr/local/lib/python2.7/dist-packages/requests/packages/urllib3/util/ssl_.py:100: InsecurePlatformWarning: A true SSLContext object is not available. This prevents urllib3 from configuring SSL appropriately and may cause certain SSL connections to fail. For more information, see https://urllib3.readthedocs.org/en/latest/security.html#insecureplatformwarning.\n",
      "  InsecurePlatformWarning\n",
      "/usr/local/lib/python2.7/dist-packages/requests/packages/urllib3/util/ssl_.py:100: InsecurePlatformWarning: A true SSLContext object is not available. This prevents urllib3 from configuring SSL appropriately and may cause certain SSL connections to fail. For more information, see https://urllib3.readthedocs.org/en/latest/security.html#insecureplatformwarning.\n",
      "  InsecurePlatformWarning\n",
      "/usr/local/lib/python2.7/dist-packages/requests/packages/urllib3/util/ssl_.py:100: InsecurePlatformWarning: A true SSLContext object is not available. This prevents urllib3 from configuring SSL appropriately and may cause certain SSL connections to fail. For more information, see https://urllib3.readthedocs.org/en/latest/security.html#insecureplatformwarning.\n",
      "  InsecurePlatformWarning\n",
      "/usr/local/lib/python2.7/dist-packages/requests/packages/urllib3/util/ssl_.py:100: InsecurePlatformWarning: A true SSLContext object is not available. This prevents urllib3 from configuring SSL appropriately and may cause certain SSL connections to fail. For more information, see https://urllib3.readthedocs.org/en/latest/security.html#insecureplatformwarning.\n",
      "  InsecurePlatformWarning\n"
     ]
    },
    {
     "name": "stdout",
     "output_type": "stream",
     "text": [
      "{\"errors\":[{\"message\":\"Rate limit exceeded\",\"code\":88}]}\n",
      "2648\n"
     ]
    }
   ],
   "source": [
    "c = tweepy.Cursor(api.search, q= lookup).items()\n",
    "    \n",
    "search_results = []\n",
    "while True:\n",
    "    try:\n",
    "        tweet = c.next()\n",
    "        # Insert into db\n",
    "        search_results.append(tweet)\n",
    "    except tweepy.TweepError as e:\n",
    "        print e\n",
    "        break\n",
    "\n",
    "print len(search_results)"
   ]
  },
  {
   "cell_type": "markdown",
   "metadata": {},
   "source": [
    "This fails too!. In this case is because of a timeout limit :-(."
   ]
  },
  {
   "cell_type": "markdown",
   "metadata": {},
   "source": [
    "## Retrieving a user's timeline using a cursor"
   ]
  },
  {
   "cell_type": "code",
   "execution_count": 64,
   "metadata": {
    "collapsed": false
   },
   "outputs": [
    {
     "name": "stderr",
     "output_type": "stream",
     "text": [
      "/usr/local/lib/python2.7/dist-packages/requests/packages/urllib3/util/ssl_.py:100: InsecurePlatformWarning: A true SSLContext object is not available. This prevents urllib3 from configuring SSL appropriately and may cause certain SSL connections to fail. For more information, see https://urllib3.readthedocs.org/en/latest/security.html#insecureplatformwarning.\n",
      "  InsecurePlatformWarning\n",
      "/usr/local/lib/python2.7/dist-packages/requests/packages/urllib3/util/ssl_.py:100: InsecurePlatformWarning: A true SSLContext object is not available. This prevents urllib3 from configuring SSL appropriately and may cause certain SSL connections to fail. For more information, see https://urllib3.readthedocs.org/en/latest/security.html#insecureplatformwarning.\n",
      "  InsecurePlatformWarning\n",
      "/usr/local/lib/python2.7/dist-packages/requests/packages/urllib3/util/ssl_.py:100: InsecurePlatformWarning: A true SSLContext object is not available. This prevents urllib3 from configuring SSL appropriately and may cause certain SSL connections to fail. For more information, see https://urllib3.readthedocs.org/en/latest/security.html#insecureplatformwarning.\n",
      "  InsecurePlatformWarning\n",
      "/usr/local/lib/python2.7/dist-packages/requests/packages/urllib3/util/ssl_.py:100: InsecurePlatformWarning: A true SSLContext object is not available. This prevents urllib3 from configuring SSL appropriately and may cause certain SSL connections to fail. For more information, see https://urllib3.readthedocs.org/en/latest/security.html#insecureplatformwarning.\n",
      "  InsecurePlatformWarning\n"
     ]
    },
    {
     "name": "stdout",
     "output_type": "stream",
     "text": [
      "Error:  <type 'exceptions.StopIteration'>\n",
      "3136\n"
     ]
    }
   ],
   "source": [
    "import sys\n",
    "\n",
    "c = tweepy.Cursor(api.user_timeline,id='NoSQLDigest').items()    \n",
    "timeline_results = []\n",
    "while True:\n",
    "    try:\n",
    "        tweet = c.next()\n",
    "        # Insert into db\n",
    "        timeline_results.append(tweet)\n",
    "    except:\n",
    "        print \"Error: \", sys.exc_info()[0]\n",
    "        break\n",
    "\n",
    "print len(timeline_results)"
   ]
  },
  {
   "cell_type": "markdown",
   "metadata": {},
   "source": [
    "## Visualizing the content of a Tweet"
   ]
  },
  {
   "cell_type": "markdown",
   "metadata": {},
   "source": [
    "Twitter returns data in [JSON](http://www.json.org/json-es.html) format. Let's see what a tweet looks like:"
   ]
  },
  {
   "cell_type": "code",
   "execution_count": 66,
   "metadata": {
    "collapsed": false
   },
   "outputs": [
    {
     "name": "stdout",
     "output_type": "stream",
     "text": [
      "{\n",
      "    u'contributors': None,\n",
      "    u'coordinates': None,\n",
      "    u'created_at': u'Wed Oct 21 04:00:19 +0000 2015',\n",
      "    u'entities': {\n",
      "        u'hashtags': [\n",
      "            {u'indices': [19, 36], u'text': u'GoGettersNetwork'},\n",
      "            {u'indices': [37, 46], u'text': u'CodeTalk'},\n",
      "            {u'indices': [131, 135], u'text': u'IoT'},\n",
      "            {u'indices': [136, 140], u'text': u'Java'},\n",
      "            {u'indices': [139, 140], u'text': u'API'},\n",
      "            {u'indices': [139, 140], u'text': u'Linux'},\n",
      "        ],\n",
      "        u'symbols': [],\n",
      "        u'urls': [\n",
      "            {\n",
      "                u'display_url': u'bit.ly/1FAQ7B5',\n",
      "                u'expanded_url': u'http://bit.ly/1FAQ7B5',\n",
      "                u'indices': [107, 130],\n",
      "                u'url': u'https://t.co/z2lcnaHeov',\n",
      "            },\n",
      "        ],\n",
      "        u'user_mentions': [\n",
      "            {\n",
      "                u'id': 3243621325,\n",
      "                u'id_str': u'3243621325',\n",
      "                u'indices': [3, 17],\n",
      "                u'name': u'Hackathon News',\n",
      "                u'screen_name': u'MusicHackFest',\n",
      "            },\n",
      "        ],\n",
      "    },\n",
      "    u'favorite_count': 0,\n",
      "    u'favorited': False,\n",
      "    u'geo': None,\n",
      "    u'id': 656681395348217856,\n",
      "    u'id_str': u'656681395348217856',\n",
      "    u'in_reply_to_screen_name': None,\n",
      "    u'in_reply_to_status_id': None,\n",
      "    u'in_reply_to_status_id_str': None,\n",
      "    u'in_reply_to_user_id': None,\n",
      "    u'in_reply_to_user_id_str': None,\n",
      "    u'is_quote_status': False,\n",
      "    u'lang': u'en',\n",
      "    u'metadata': {u'iso_language_code': u'en', u'result_type': u'recent'},\n",
      "    u'place': None,\n",
      "    u'possibly_sensitive': False,\n",
      "    u'retweet_count': 1,\n",
      "    u'retweeted': False,\n",
      "    u'retweeted_status': {\n",
      "        u'contributors': None,\n",
      "        u'coordinates': None,\n",
      "        u'created_at': u'Tue Oct 20 22:37:58 +0000 2015',\n",
      "        u'entities': {\n",
      "            u'hashtags': [\n",
      "                {u'indices': [0, 17], u'text': u'GoGettersNetwork'},\n",
      "                {u'indices': [18, 27], u'text': u'CodeTalk'},\n",
      "                {u'indices': [112, 116], u'text': u'IoT'},\n",
      "                {u'indices': [117, 122], u'text': u'Java'},\n",
      "                {u'indices': [123, 127], u'text': u'API'},\n",
      "                {u'indices': [128, 134], u'text': u'Linux'},\n",
      "            ],\n",
      "            u'symbols': [],\n",
      "            u'urls': [\n",
      "                {\n",
      "                    u'display_url': u'bit.ly/1FAQ7B5',\n",
      "                    u'expanded_url': u'http://bit.ly/1FAQ7B5',\n",
      "                    u'indices': [88, 111],\n",
      "                    u'url': u'https://t.co/z2lcnaHeov',\n",
      "                },\n",
      "            ],\n",
      "            u'user_mentions': [],\n",
      "        },\n",
      "        u'favorite_count': 0,\n",
      "        u'favorited': False,\n",
      "        u'geo': None,\n",
      "        u'id': 656600272781877248,\n",
      "        u'id_str': u'656600272781877248',\n",
      "        u'in_reply_to_screen_name': None,\n",
      "        u'in_reply_to_status_id': None,\n",
      "        u'in_reply_to_status_id_str': None,\n",
      "        u'in_reply_to_user_id': None,\n",
      "        u'in_reply_to_user_id_str': None,\n",
      "        u'is_quote_status': False,\n",
      "        u'lang': u'en',\n",
      "        u'metadata': {u'iso_language_code': u'en', u'result_type': u'recent'},\n",
      "        u'place': None,\n",
      "        u'possibly_sensitive': False,\n",
      "        u'retweet_count': 1,\n",
      "        u'retweeted': False,\n",
      "        u'source': u'<a href=\"http://ifttt.com\" rel=\"nofollow\">IFTTT</a>',\n",
      "        u'text': u'#GoGettersNetwork #CodeTalk  Apache Hadoop and NoSQL as Analysis Engines for IoT Data ▸ https://t.co/z2lcnaHeov #IoT #Java #API #Linux …',\n",
      "        u'truncated': False,\n",
      "        u'user': {\n",
      "            u'contributors_enabled': False,\n",
      "            u'created_at': u'Fri Jun 12 20:02:51 +0000 2015',\n",
      "            u'default_profile': False,\n",
      "            u'default_profile_image': False,\n",
      "            u'description': u'Music + Technology + Hackathons = @MusicHackFest',\n",
      "            u'entities': {u'description': {u'urls': []}},\n",
      "            u'favourites_count': 105,\n",
      "            u'follow_request_sent': False,\n",
      "            u'followers_count': 2143,\n",
      "            u'following': False,\n",
      "            u'friends_count': 1388,\n",
      "            u'geo_enabled': False,\n",
      "            u'has_extended_profile': False,\n",
      "            u'id': 3243621325,\n",
      "            u'id_str': u'3243621325',\n",
      "            u'is_translation_enabled': False,\n",
      "            u'is_translator': False,\n",
      "            u'lang': u'en',\n",
      "            u'listed_count': 2879,\n",
      "            u'location': u'Los Angeles, CA',\n",
      "            u'name': u'Hackathon News',\n",
      "            u'notifications': False,\n",
      "            u'profile_background_color': u'000000',\n",
      "            u'profile_background_image_url': u'http://abs.twimg.com/images/themes/theme1/bg.png',\n",
      "            u'profile_background_image_url_https': u'https://abs.twimg.com/images/themes/theme1/bg.png',\n",
      "            u'profile_background_tile': False,\n",
      "            u'profile_banner_url': u'https://pbs.twimg.com/profile_banners/3243621325/1434140299',\n",
      "            u'profile_image_url': u'http://pbs.twimg.com/profile_images/609454174841876481/GMtjuot9_normal.jpg',\n",
      "            u'profile_image_url_https': u'https://pbs.twimg.com/profile_images/609454174841876481/GMtjuot9_normal.jpg',\n",
      "            u'profile_link_color': u'ABB8C2',\n",
      "            u'profile_sidebar_border_color': u'000000',\n",
      "            u'profile_sidebar_fill_color': u'000000',\n",
      "            u'profile_text_color': u'000000',\n",
      "            u'profile_use_background_image': False,\n",
      "            u'protected': False,\n",
      "            u'screen_name': u'MusicHackFest',\n",
      "            u'statuses_count': 301851,\n",
      "            u'time_zone': u'Pacific Time (US & Canada)',\n",
      "            u'url': None,\n",
      "            u'utc_offset': -25200,\n",
      "            u'verified': False,\n",
      "        },\n",
      "    },\n",
      "    u'source': u'<a href=\"http://not.yet/\" rel=\"nofollow\">final one kk</a>',\n",
      "    u'text': u'RT @MusicHackFest: #GoGettersNetwork #CodeTalk  Apache Hadoop and NoSQL as Analysis Engines for IoT Data ▸ https://t.co/z2lcnaHeov #IoT #Ja…',\n",
      "    u'truncated': False,\n",
      "    u'user': {\n",
      "        u'contributors_enabled': False,\n",
      "        u'created_at': u'Thu Dec 25 02:07:45 +0000 2014',\n",
      "        u'default_profile': False,\n",
      "        u'default_profile_image': False,\n",
      "        u'description': u\"Hey, I retweet #Java related tweets. Follow us and maybe you'll learn something new! Questions/concerns? Contact @jdf221 or @Jordanb844\",\n",
      "        u'entities': {u'description': {u'urls': []}},\n",
      "        u'favourites_count': 62458,\n",
      "        u'follow_request_sent': False,\n",
      "        u'followers_count': 2819,\n",
      "        u'following': False,\n",
      "        u'friends_count': 19,\n",
      "        u'geo_enabled': False,\n",
      "        u'has_extended_profile': False,\n",
      "        u'id': 2942356560,\n",
      "        u'id_str': u'2942356560',\n",
      "        u'is_translation_enabled': False,\n",
      "        u'is_translator': False,\n",
      "        u'lang': u'en',\n",
      "        u'listed_count': 2696,\n",
      "        u'location': u'',\n",
      "        u'name': u'Java',\n",
      "        u'notifications': False,\n",
      "        u'profile_background_color': u'022330',\n",
      "        u'profile_background_image_url': u'http://abs.twimg.com/images/themes/theme15/bg.png',\n",
      "        u'profile_background_image_url_https': u'https://abs.twimg.com/images/themes/theme15/bg.png',\n",
      "        u'profile_background_tile': False,\n",
      "        u'profile_image_url': u'http://pbs.twimg.com/profile_images/547942714675712000/Kr9dDPXJ_normal.png',\n",
      "        u'profile_image_url_https': u'https://pbs.twimg.com/profile_images/547942714675712000/Kr9dDPXJ_normal.png',\n",
      "        u'profile_link_color': u'0084B4',\n",
      "        u'profile_sidebar_border_color': u'A8C7F7',\n",
      "        u'profile_sidebar_fill_color': u'C0DFEC',\n",
      "        u'profile_text_color': u'333333',\n",
      "        u'profile_use_background_image': True,\n",
      "        u'protected': False,\n",
      "        u'screen_name': u'retweetjava',\n",
      "        u'statuses_count': 164272,\n",
      "        u'time_zone': None,\n",
      "        u'url': None,\n",
      "        u'utc_offset': None,\n",
      "        u'verified': False,\n",
      "    },\n",
      "}\n"
     ]
    }
   ],
   "source": [
    "import pprintpp\n",
    "\n",
    "tweet = search_results[0]\n",
    "pprintpp.pprint(tweet._json)"
   ]
  },
  {
   "cell_type": "markdown",
   "metadata": {},
   "source": [
    "## Parsing the result"
   ]
  },
  {
   "cell_type": "markdown",
   "metadata": {},
   "source": [
    "The aim of the following functions to simplify the information we keep on file because Twitter provide too much information"
   ]
  },
  {
   "cell_type": "code",
   "execution_count": 67,
   "metadata": {
    "collapsed": true
   },
   "outputs": [],
   "source": [
    "def parse_user(usr):\n",
    "    user = {}  \n",
    "    user[\"created_at\"] = usr['created_at']\n",
    "    user[\"description\"] = usr['description']\n",
    "    user[\"favourites_count\"] = usr['favourites_count']\n",
    "    user[\"followers_count\"] = usr['followers_count']\n",
    "    user[\"friends_count\"] = usr['friends_count']\n",
    "    user[\"geo_enabled\"] = usr['geo_enabled']\n",
    "    user[\"_id\"] = usr['id']\n",
    "    user[\"id_str\"] =usr['id_str']\n",
    "    user[\"name\"] = usr['name']\n",
    "    user[\"screen_name\"] = usr['screen_name']\n",
    "    user[\"statuses_count\"] = usr['statuses_count']\n",
    "    user[\"profile_image_url\"] = usr['profile_image_url']\n",
    "    if usr['time_zone'] <> None:\n",
    "        user[\"time_zone\"] = usr['time_zone']\n",
    "    \n",
    "    return user"
   ]
  },
  {
   "cell_type": "code",
   "execution_count": 68,
   "metadata": {
    "collapsed": false
   },
   "outputs": [],
   "source": [
    "def parse_tweet(t):\n",
    "    tweet = {}\n",
    "    tweet['created_at'] = t['created_at']\n",
    "    #for ht in tweet.entities.hashtags:\n",
    "    #    print ht.text\n",
    "\n",
    "    tweet['entities'] = []\n",
    "    for k in t['entities']['hashtags']:\n",
    "        tweet['entities'].append(k['text'])\n",
    "  \n",
    "    tweet['user_mentions'] = []\n",
    "    for k in t['entities']['user_mentions']:\n",
    "        k.pop(\"indices\", None)\n",
    "        tweet['user_mentions'].append(k)\n",
    "\n",
    "    tweet['favorite_count'] =  t['favorite_count']\n",
    "\n",
    "    if t['geo'] <> None:\n",
    "        tweet['geo'] = t['geo']\n",
    "\n",
    "    tweet['_id'] = t['id']\n",
    "    tweet['id_str'] = t['id_str']  \n",
    "\n",
    "    tweet['lang'] = t['lang']\n",
    "    tweet['retweet_count'] = t['retweet_count']\n",
    "    tweet['source'] = t['source']\n",
    "    tweet['text'] = t['text']\n",
    "    tweet['user'] = parse_user(t['user'])\n",
    "\n",
    "    if 'retweeted_status' in t.keys():\n",
    "        tweet['retweeted_status'] = parse_tweet(t['retweeted_status'])\n",
    "        \n",
    "    return tweet"
   ]
  },
  {
   "cell_type": "markdown",
   "metadata": {},
   "source": [
    "We parse the content we've previously downloaded ..."
   ]
  },
  {
   "cell_type": "code",
   "execution_count": 69,
   "metadata": {
    "collapsed": false
   },
   "outputs": [],
   "source": [
    "tweets = []\n",
    "\n",
    "for tweet in search_results:\n",
    "    tweets.append(parse_tweet(tweet._json))\n",
    "    "
   ]
  },
  {
   "cell_type": "markdown",
   "metadata": {},
   "source": [
    "Now the content also in JSON format but much simpler"
   ]
  },
  {
   "cell_type": "code",
   "execution_count": 71,
   "metadata": {
    "collapsed": false
   },
   "outputs": [
    {
     "name": "stdout",
     "output_type": "stream",
     "text": [
      "{\n",
      "    '_id': 656681395348217856,\n",
      "    'created_at': u'Wed Oct 21 04:00:19 +0000 2015',\n",
      "    'entities': [\n",
      "        u'GoGettersNetwork',\n",
      "        u'CodeTalk',\n",
      "        u'IoT',\n",
      "        u'Java',\n",
      "        u'API',\n",
      "        u'Linux',\n",
      "    ],\n",
      "    'favorite_count': 0,\n",
      "    'id_str': u'656681395348217856',\n",
      "    'lang': u'en',\n",
      "    'retweet_count': 1,\n",
      "    'retweeted_status': {\n",
      "        '_id': 656600272781877248,\n",
      "        'created_at': u'Tue Oct 20 22:37:58 +0000 2015',\n",
      "        'entities': [\n",
      "            u'GoGettersNetwork',\n",
      "            u'CodeTalk',\n",
      "            u'IoT',\n",
      "            u'Java',\n",
      "            u'API',\n",
      "            u'Linux',\n",
      "        ],\n",
      "        'favorite_count': 0,\n",
      "        'id_str': u'656600272781877248',\n",
      "        'lang': u'en',\n",
      "        'retweet_count': 1,\n",
      "        'source': u'<a href=\"http://ifttt.com\" rel=\"nofollow\">IFTTT</a>',\n",
      "        'text': u'#GoGettersNetwork #CodeTalk  Apache Hadoop and NoSQL as Analysis Engines for IoT Data ▸ https://t.co/z2lcnaHeov #IoT #Java #API #Linux …',\n",
      "        'user': {\n",
      "            '_id': 3243621325,\n",
      "            'created_at': u'Fri Jun 12 20:02:51 +0000 2015',\n",
      "            'description': u'Music + Technology + Hackathons = @MusicHackFest',\n",
      "            'favourites_count': 105,\n",
      "            'followers_count': 2143,\n",
      "            'friends_count': 1388,\n",
      "            'geo_enabled': False,\n",
      "            'id_str': u'3243621325',\n",
      "            'name': u'Hackathon News',\n",
      "            'profile_image_url': u'http://pbs.twimg.com/profile_images/609454174841876481/GMtjuot9_normal.jpg',\n",
      "            'screen_name': u'MusicHackFest',\n",
      "            'statuses_count': 301851,\n",
      "            'time_zone': u'Pacific Time (US & Canada)',\n",
      "        },\n",
      "        'user_mentions': [],\n",
      "    },\n",
      "    'source': u'<a href=\"http://not.yet/\" rel=\"nofollow\">final one kk</a>',\n",
      "    'text': u'RT @MusicHackFest: #GoGettersNetwork #CodeTalk  Apache Hadoop and NoSQL as Analysis Engines for IoT Data ▸ https://t.co/z2lcnaHeov #IoT #Ja…',\n",
      "    'user': {\n",
      "        '_id': 2942356560,\n",
      "        'created_at': u'Thu Dec 25 02:07:45 +0000 2014',\n",
      "        'description': u\"Hey, I retweet #Java related tweets. Follow us and maybe you'll learn something new! Questions/concerns? Contact @jdf221 or @Jordanb844\",\n",
      "        'favourites_count': 62458,\n",
      "        'followers_count': 2819,\n",
      "        'friends_count': 19,\n",
      "        'geo_enabled': False,\n",
      "        'id_str': u'2942356560',\n",
      "        'name': u'Java',\n",
      "        'profile_image_url': u'http://pbs.twimg.com/profile_images/547942714675712000/Kr9dDPXJ_normal.png',\n",
      "        'screen_name': u'retweetjava',\n",
      "        'statuses_count': 164272,\n",
      "    },\n",
      "    'user_mentions': [\n",
      "        {\n",
      "            u'id': 3243621325,\n",
      "            u'id_str': u'3243621325',\n",
      "            u'name': u'Hackathon News',\n",
      "            u'screen_name': u'MusicHackFest',\n",
      "        },\n",
      "    ],\n",
      "}\n"
     ]
    }
   ],
   "source": [
    "pprintpp.pprint(tweets[0])"
   ]
  },
  {
   "cell_type": "markdown",
   "metadata": {},
   "source": [
    "## Saving the data in a file"
   ]
  },
  {
   "cell_type": "markdown",
   "metadata": {},
   "source": [
    "Finally we will record the data downloaded to a file, so that we can analyze later"
   ]
  },
  {
   "cell_type": "code",
   "execution_count": 75,
   "metadata": {
    "collapsed": true
   },
   "outputs": [],
   "source": [
    "import json\n",
    "    \n",
    "with open('./data/tweets.json',\"w\") as file:\n",
    "    for t in tweets:\n",
    "        r = json.dumps(t)\n",
    "        file.write(r)\n",
    "        file.write(\"\\n\")"
   ]
  },
  {
   "cell_type": "code",
   "execution_count": 76,
   "metadata": {
    "collapsed": false
   },
   "outputs": [
    {
     "name": "stdout",
     "output_type": "stream",
     "text": [
      "Number of tweets ...  3136\n"
     ]
    }
   ],
   "source": [
    "print \"Number of tweets ... \", len(tweets)"
   ]
  },
  {
   "cell_type": "code",
   "execution_count": 77,
   "metadata": {
    "collapsed": false
   },
   "outputs": [
    {
     "name": "stdout",
     "output_type": "stream",
     "text": [
      "Number of tweets ...  3136\n"
     ]
    }
   ],
   "source": [
    "tweets = []\n",
    "for tweet in timeline_results:\n",
    "    tweets.append(parse_tweet(tweet._json))\n",
    "    \n",
    "with open('./data/timeline.json',\"w\") as file:\n",
    "    for t in tweets:\n",
    "        r = json.dumps(t)\n",
    "        file.write(r)\n",
    "        file.write(\"\\n\")\n",
    "        \n",
    "print \"Number of tweets ... \", len(tweets)"
   ]
  },
  {
   "cell_type": "code",
   "execution_count": null,
   "metadata": {
    "collapsed": true
   },
   "outputs": [],
   "source": []
  }
 ],
 "metadata": {
  "kernelspec": {
   "display_name": "Python 2",
   "language": "python",
   "name": "python2"
  },
  "language_info": {
   "codemirror_mode": {
    "name": "ipython",
    "version": 2
   },
   "file_extension": ".py",
   "mimetype": "text/x-python",
   "name": "python",
   "nbconvert_exporter": "python",
   "pygments_lexer": "ipython2",
   "version": "2.7.6"
  }
 },
 "nbformat": 4,
 "nbformat_minor": 0
}
