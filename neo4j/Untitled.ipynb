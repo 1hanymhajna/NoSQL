{
 "cells": [
  {
   "cell_type": "code",
   "execution_count": 4,
   "metadata": {
    "collapsed": false
   },
   "outputs": [
    {
     "data": {
      "text/plain": [
       "(<Path graph=u'http://localhost:7474/db/data/' start=u'node/4838' end=u'node/4840' order=3 size=2>,)"
      ]
     },
     "execution_count": 4,
     "metadata": {},
     "output_type": "execute_result"
    }
   ],
   "source": [
    "from py2neo import Graph, Path\n",
    "\n",
    "graph = Graph()\n",
    "\n",
    "\n",
    "\n",
    "tx = graph.cypher.begin()\n",
    "\n",
    "for name in [\"Alice\", \"Bob\", \"Carol\"]:\n",
    "\n",
    "    tx.append(\"CREATE (person:Person {name:{name}}) RETURN person\", name=name)\n",
    "\n",
    "alice, bob, carol = [result.one for result in tx.commit()]\n",
    "\n",
    "\n",
    "\n",
    "friends = Path(alice, \"KNOWS\", bob, \"KNOWS\", carol)\n",
    "\n",
    "graph.create(friends)"
   ]
  },
  {
   "cell_type": "code",
   "execution_count": null,
   "metadata": {
    "collapsed": true
   },
   "outputs": [],
   "source": []
  }
 ],
 "metadata": {
  "kernelspec": {
   "display_name": "Python 2",
   "language": "python",
   "name": "python2"
  },
  "language_info": {
   "codemirror_mode": {
    "name": "ipython",
    "version": 2
   },
   "file_extension": ".py",
   "mimetype": "text/x-python",
   "name": "python",
   "nbconvert_exporter": "python",
   "pygments_lexer": "ipython2",
   "version": "2.7.6"
  }
 },
 "nbformat": 4,
 "nbformat_minor": 0
}
