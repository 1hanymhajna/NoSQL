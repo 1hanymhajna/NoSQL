{
 "cells": [
  {
   "cell_type": "code",
   "execution_count": 145,
   "metadata": {
    "collapsed": false
   },
   "outputs": [
    {
     "name": "stdout",
     "output_type": "stream",
     "text": [
      "The cypher extension is already loaded. To reload it, use:\n",
      "  %reload_ext cypher\n"
     ]
    }
   ],
   "source": [
    "%load_ext cypher"
   ]
  },
  {
   "cell_type": "code",
   "execution_count": 146,
   "metadata": {
    "collapsed": false
   },
   "outputs": [
    {
     "name": "stdout",
     "output_type": "stream",
     "text": [
      "14 relationship deleted.\n",
      "8 nodes deleted.\n"
     ]
    },
    {
     "data": {
      "text/html": [
       "<table>\n",
       "    <tr>\n",
       "    </tr>\n",
       "</table>"
      ],
      "text/plain": [
       "[]"
      ]
     },
     "execution_count": 146,
     "metadata": {},
     "output_type": "execute_result"
    }
   ],
   "source": [
    "%%cypher\n",
    "MATCH (n)\n",
    "OPTIONAL MATCH (n)-[r]-()\n",
    "DELETE n,r"
   ]
  },
  {
   "cell_type": "code",
   "execution_count": 147,
   "metadata": {
    "collapsed": false
   },
   "outputs": [
    {
     "name": "stdout",
     "output_type": "stream",
     "text": [
      "0 rows affected.\n"
     ]
    },
    {
     "data": {
      "text/html": [
       "<table>\n",
       "    <tr>\n",
       "    </tr>\n",
       "</table>"
      ],
      "text/plain": [
       "[]"
      ]
     },
     "execution_count": 147,
     "metadata": {},
     "output_type": "execute_result"
    }
   ],
   "source": [
    "%cypher CREATE CONSTRAINT ON (t:Tweet) ASSERT t.id IS UNIQUE"
   ]
  },
  {
   "cell_type": "code",
   "execution_count": 148,
   "metadata": {
    "collapsed": false
   },
   "outputs": [
    {
     "name": "stdout",
     "output_type": "stream",
     "text": [
      "0 rows affected.\n"
     ]
    },
    {
     "data": {
      "text/html": [
       "<table>\n",
       "    <tr>\n",
       "    </tr>\n",
       "</table>"
      ],
      "text/plain": [
       "[]"
      ]
     },
     "execution_count": 148,
     "metadata": {},
     "output_type": "execute_result"
    }
   ],
   "source": [
    "%cypher CREATE CONSTRAINT ON (u:User) ASSERT u.username IS UNIQUE"
   ]
  },
  {
   "cell_type": "code",
   "execution_count": 149,
   "metadata": {
    "collapsed": false
   },
   "outputs": [
    {
     "name": "stdout",
     "output_type": "stream",
     "text": [
      "0 rows affected.\n"
     ]
    },
    {
     "data": {
      "text/html": [
       "<table>\n",
       "    <tr>\n",
       "    </tr>\n",
       "</table>"
      ],
      "text/plain": [
       "[]"
      ]
     },
     "execution_count": 149,
     "metadata": {},
     "output_type": "execute_result"
    }
   ],
   "source": [
    "%cypher CREATE CONSTRAINT ON (h:HashTag) ASSERT h.hashtag IS UNIQUE"
   ]
  },
  {
   "cell_type": "markdown",
   "metadata": {},
   "source": [
    "![png](./images/Model.png)"
   ]
  },
  {
   "cell_type": "code",
   "execution_count": 150,
   "metadata": {
    "collapsed": true
   },
   "outputs": [],
   "source": [
    "from pprintpp import pprint as pp\n"
   ]
  },
  {
   "cell_type": "code",
   "execution_count": 151,
   "metadata": {
    "collapsed": false
   },
   "outputs": [],
   "source": [
    "from py2neo import Graph, Relationship\n",
    "import json\n",
    "\n",
    "graph = Graph()"
   ]
  },
  {
   "cell_type": "code",
   "execution_count": 152,
   "metadata": {
    "collapsed": true
   },
   "outputs": [],
   "source": [
    "def add_property(obj, json, name):\n",
    "    if name in json:\n",
    "        obj[name] = json[name]"
   ]
  },
  {
   "cell_type": "code",
   "execution_count": 153,
   "metadata": {
    "collapsed": true
   },
   "outputs": [],
   "source": [
    "def parse_user(user_json):\n",
    "    user = graph.merge_one(\"User\", \"username\", user_json['screen_name'])\n",
    "    \n",
    "    add_property(user, user_json, 'created_at')\n",
    "    add_property(user, user_json, 'description')\n",
    "    add_property(user, user_json, 'favourites_count')\n",
    "    add_property(user, user_json, 'followers_count')\n",
    "    add_property(user, user_json, 'friends_count')\n",
    "    add_property(user, user_json, 'statuses_count')\n",
    "    add_property(user, user_json, 'time_zone')\n",
    "    add_property(user, user_json, 'name')\n",
    "    add_property(user, user_json, 'profile_image_url')\n",
    "    \n",
    "    user.push()\n",
    "    return user"
   ]
  },
  {
   "cell_type": "code",
   "execution_count": 154,
   "metadata": {
    "collapsed": false
   },
   "outputs": [],
   "source": [
    "def parse_tweet(tweet_json):\n",
    "    user = parse_user(tweet_json['user'])\n",
    "    \n",
    "    tweet = graph.merge_one(\"Tweet\", \"id\", tweet_json['id'])\n",
    "    add_property(tweet, tweet_json, 'created_at')\n",
    "    add_property(tweet, tweet_json, 'lang')\n",
    "    add_property(tweet, tweet_json, 'retweet_count')\n",
    "    add_property(tweet, tweet_json, 'source')\n",
    "    add_property(tweet, tweet_json, 'text')\n",
    "    \n",
    "    tweet.push()\n",
    "    \n",
    "    user_tweeted_tweet = Relationship(user, \"TWEETED\", tweet)\n",
    "    graph.create_unique(user_tweeted_tweet)\n",
    "    \n",
    "    if 'user_mentions' in tweet_json:\n",
    "        for user_mention_json in tweet_json['user_mentions']:\n",
    "            user_mencioned = parse_user(user_mention_json)\n",
    "            tweet_mencioned_user = Relationship(tweet, \"MENCIONED\", user_mencioned)\n",
    "            graph.create_unique(tweet_mencioned_user)\n",
    " \n",
    "    if 'entities' in tweet_json:\n",
    "        for entity in tweet_json['entities']:\n",
    "            hashtag = graph.merge_one(\"HashTag\", \"hashtag\", entity)\n",
    "            tweet_HashTag_hashtag = Relationship(tweet, \"HASHTAG\", hashtag)\n",
    "            graph.create_unique(tweet_HashTag_hashtag)\n",
    "\n",
    "    if 'retweeted_status' in tweet_json:\n",
    "        user_retweeted = parse_user(tweet_json['retweeted_status']['user'])\n",
    "        tweet_retweetOf_user = Relationship(tweet, \"RETWEET_OF\", user_retweeted)\n",
    "        graph.create_unique(tweet_retweetOf_user)\n",
    "        \n",
    "        parse_tweet(tweet_json['retweeted_status'])"
   ]
  },
  {
   "cell_type": "code",
   "execution_count": 155,
   "metadata": {
    "collapsed": true
   },
   "outputs": [],
   "source": [
    "def load_file(tweets_data_path):\n",
    "    tweets_file = open(tweets_data_path, \"r\")\n",
    "    for tweet in tweets_file:\n",
    "        parse_tweet(json.loads(tweet))"
   ]
  },
  {
   "cell_type": "code",
   "execution_count": 156,
   "metadata": {
    "collapsed": false
   },
   "outputs": [],
   "source": [
    "load_file('../data/tweets.json')"
   ]
  },
  {
   "cell_type": "code",
   "execution_count": 170,
   "metadata": {
    "collapsed": false
   },
   "outputs": [
    {
     "name": "stdout",
     "output_type": "stream",
     "text": [
      "10 rows affected.\n"
     ]
    },
    {
     "data": {
      "text/html": [
       "<table>\n",
       "    <tr>\n",
       "        <th>u.username</th>\n",
       "        <th>t.text</th>\n",
       "        <th>type(r)</th>\n",
       "    </tr>\n",
       "    <tr>\n",
       "        <td>couchbase</td>\n",
       "        <td>Marriott leads hotel industry transformation: re-platforming legacy systems with #NoSQL. https://t.co/7NP6vmovb3  via @diginomica @jonerp</td>\n",
       "        <td>TWEETED</td>\n",
       "    </tr>\n",
       "    <tr>\n",
       "        <td>couchbase</td>\n",
       "        <td>The 3 mega-trends that define businesses leading the digital economy by #Couchbase CEO @bobwiederhold: https://t.co/pbLjou71nG #NoSQL</td>\n",
       "        <td>TWEETED</td>\n",
       "    </tr>\n",
       "    <tr>\n",
       "        <td>couchbase</td>\n",
       "        <td>One of #NoSQL world’s more venerable products delivers its 4.0 release via @andrewbrust @ZDNET https://t.co/lZ1Q64vdPU</td>\n",
       "        <td>TWEETED</td>\n",
       "    </tr>\n",
       "    <tr>\n",
       "        <td>couchbase</td>\n",
       "        <td>Get rapid ramp-up on #NoSQL application development with lessons and labs. Try free online training today! https://t.co/Y6KSzbrrl3</td>\n",
       "        <td>TWEETED</td>\n",
       "    </tr>\n",
       "    <tr>\n",
       "        <td>couchbase</td>\n",
       "        <td>Get rapid ramp-up on #NoSQL application development with lessons and labs. Try free today! http://t.co/Y6KSzbJ2cB http://t.co/agmqeTd3jz</td>\n",
       "        <td>TWEETED</td>\n",
       "    </tr>\n",
       "    <tr>\n",
       "        <td>couchbase</td>\n",
       "        <td>Want to quickly learn to build #NoSQL applications? Get FREE online training today: https://t.co/pPYZvZdqDi https://t.co/9DFR3yTTfL</td>\n",
       "        <td>TWEETED</td>\n",
       "    </tr>\n",
       "    <tr>\n",
       "        <td>couchbase</td>\n",
       "        <td>RT @arungupta: Blogged: Why Couchbase over MongoDB? #SayNoToMongoDB: MongoDB is one of the most popular NoSQL databases. Its ... https://t.…</td>\n",
       "        <td>TWEETED</td>\n",
       "    </tr>\n",
       "    <tr>\n",
       "        <td>couchbase</td>\n",
       "        <td>Top 5 reasons to secure #NoSQL deployments. Protect data using #Vormetric's Data Security platform for #Couchbase: https://t.co/tDnyyUzayz</td>\n",
       "        <td>TWEETED</td>\n",
       "    </tr>\n",
       "    <tr>\n",
       "        <td>couchbase</td>\n",
       "        <td>Download #Couchbase 4.0 and build apps using #SQL for #JSON. Fast, efficient, powerful query http://t.co/Xt8cpz7Ffk #database #developers</td>\n",
       "        <td>TWEETED</td>\n",
       "    </tr>\n",
       "    <tr>\n",
       "        <td>couchbase</td>\n",
       "        <td>#CBLiveNY presentations &amp;amp; videos are now posted. Learn about the latest innovations in 4.0 &amp;amp; #N1QL. Watch now: https://t.co/1lXyLtUbNV</td>\n",
       "        <td>TWEETED</td>\n",
       "    </tr>\n",
       "</table>"
      ],
      "text/plain": [
       "[[u'couchbase',\n",
       "  u'Marriott leads hotel industry transformation: re-platforming legacy systems with #NoSQL. https://t.co/7NP6vmovb3  via @diginomica @jonerp',\n",
       "  u'TWEETED'],\n",
       " [u'couchbase',\n",
       "  u'The 3 mega-trends that define businesses leading the digital economy by #Couchbase CEO @bobwiederhold: https://t.co/pbLjou71nG #NoSQL',\n",
       "  u'TWEETED'],\n",
       " [u'couchbase',\n",
       "  u'One of #NoSQL world\\u2019s more venerable products delivers its 4.0 release via @andrewbrust @ZDNET https://t.co/lZ1Q64vdPU',\n",
       "  u'TWEETED'],\n",
       " [u'couchbase',\n",
       "  u'Get rapid ramp-up on #NoSQL application development with lessons and labs. Try free online training today! https://t.co/Y6KSzbrrl3',\n",
       "  u'TWEETED'],\n",
       " [u'couchbase',\n",
       "  u'Get rapid ramp-up on #NoSQL application development with lessons and labs. Try free today! http://t.co/Y6KSzbJ2cB http://t.co/agmqeTd3jz',\n",
       "  u'TWEETED'],\n",
       " [u'couchbase',\n",
       "  u'Want to quickly learn to build #NoSQL applications? Get FREE online training today: https://t.co/pPYZvZdqDi https://t.co/9DFR3yTTfL',\n",
       "  u'TWEETED'],\n",
       " [u'couchbase',\n",
       "  u'RT @arungupta: Blogged: Why Couchbase over MongoDB? #SayNoToMongoDB: MongoDB is one of the most popular NoSQL databases. Its ... https://t.\\u2026',\n",
       "  u'TWEETED'],\n",
       " [u'couchbase',\n",
       "  u\"Top 5 reasons to secure #NoSQL deployments. Protect data using #Vormetric's Data Security platform for #Couchbase: https://t.co/tDnyyUzayz\",\n",
       "  u'TWEETED'],\n",
       " [u'couchbase',\n",
       "  u'Download #Couchbase 4.0 and build apps using #SQL for #JSON. Fast, efficient, powerful query http://t.co/Xt8cpz7Ffk #database #developers',\n",
       "  u'TWEETED'],\n",
       " [u'couchbase',\n",
       "  u'#CBLiveNY presentations &amp; videos are now posted. Learn about the latest innovations in 4.0 &amp; #N1QL. Watch now: https://t.co/1lXyLtUbNV',\n",
       "  u'TWEETED']]"
      ]
     },
     "execution_count": 170,
     "metadata": {},
     "output_type": "execute_result"
    }
   ],
   "source": [
    "%%cypher\n",
    "MATCH p = ((u:User {username : 'couchbase'})-[r:TWEETED]->t)\n",
    "RETURN u.username, t.text, type(r)\n",
    "LIMIT 10"
   ]
  },
  {
   "cell_type": "code",
   "execution_count": 176,
   "metadata": {
    "collapsed": false
   },
   "outputs": [
    {
     "name": "stdout",
     "output_type": "stream",
     "text": [
      "10 rows affected.\n"
     ]
    },
    {
     "data": {
      "text/html": [
       "<table>\n",
       "    <tr>\n",
       "        <th>n.hashtag</th>\n",
       "        <th>degree</th>\n",
       "    </tr>\n",
       "    <tr>\n",
       "        <td>NoSQL</td>\n",
       "        <td>1031</td>\n",
       "    </tr>\n",
       "    <tr>\n",
       "        <td>MongoDB</td>\n",
       "        <td>475</td>\n",
       "    </tr>\n",
       "    <tr>\n",
       "        <td>BigData</td>\n",
       "        <td>471</td>\n",
       "    </tr>\n",
       "    <tr>\n",
       "        <td>nosql</td>\n",
       "        <td>439</td>\n",
       "    </tr>\n",
       "    <tr>\n",
       "        <td>Java</td>\n",
       "        <td>404</td>\n",
       "    </tr>\n",
       "    <tr>\n",
       "        <td>Hadoop</td>\n",
       "        <td>360</td>\n",
       "    </tr>\n",
       "    <tr>\n",
       "        <td>hive</td>\n",
       "        <td>309</td>\n",
       "    </tr>\n",
       "    <tr>\n",
       "        <td>SoapUi</td>\n",
       "        <td>309</td>\n",
       "    </tr>\n",
       "    <tr>\n",
       "        <td>bigdata</td>\n",
       "        <td>117</td>\n",
       "    </tr>\n",
       "    <tr>\n",
       "        <td>noSQL</td>\n",
       "        <td>87</td>\n",
       "    </tr>\n",
       "</table>"
      ],
      "text/plain": [
       "[[u'NoSQL', 1031],\n",
       " [u'MongoDB', 475],\n",
       " [u'BigData', 471],\n",
       " [u'nosql', 439],\n",
       " [u'Java', 404],\n",
       " [u'Hadoop', 360],\n",
       " [u'hive', 309],\n",
       " [u'SoapUi', 309],\n",
       " [u'bigdata', 117],\n",
       " [u'noSQL', 87]]"
      ]
     },
     "execution_count": 176,
     "metadata": {},
     "output_type": "execute_result"
    }
   ],
   "source": [
    "%%cypher match (n:HashTag)-[r]-() \n",
    "return n.hashtag, count(r) as degree \n",
    "order by degree desc\n",
    "limit 10"
   ]
  },
  {
   "cell_type": "code",
   "execution_count": 177,
   "metadata": {
    "collapsed": true
   },
   "outputs": [],
   "source": [
    "%matplotlib inline"
   ]
  },
  {
   "cell_type": "code",
   "execution_count": 186,
   "metadata": {
    "collapsed": false
   },
   "outputs": [
    {
     "name": "stdout",
     "output_type": "stream",
     "text": [
      "10 rows affected.\n"
     ]
    }
   ],
   "source": [
    "results = %%cypher match (n:HashTag)-[r]-()  return n.hashtag as HashTag, count(r) as Degree order by Degree desc limit 10"
   ]
  },
  {
   "cell_type": "code",
   "execution_count": 187,
   "metadata": {
    "collapsed": false
   },
   "outputs": [
    {
     "data": {
      "text/html": [
       "<div>\n",
       "<table border=\"1\" class=\"dataframe\">\n",
       "  <thead>\n",
       "    <tr style=\"text-align: right;\">\n",
       "      <th></th>\n",
       "      <th>HashTag</th>\n",
       "      <th>Degree</th>\n",
       "    </tr>\n",
       "  </thead>\n",
       "  <tbody>\n",
       "    <tr>\n",
       "      <th>0</th>\n",
       "      <td>NoSQL</td>\n",
       "      <td>1031</td>\n",
       "    </tr>\n",
       "    <tr>\n",
       "      <th>1</th>\n",
       "      <td>MongoDB</td>\n",
       "      <td>475</td>\n",
       "    </tr>\n",
       "    <tr>\n",
       "      <th>2</th>\n",
       "      <td>BigData</td>\n",
       "      <td>471</td>\n",
       "    </tr>\n",
       "    <tr>\n",
       "      <th>3</th>\n",
       "      <td>nosql</td>\n",
       "      <td>439</td>\n",
       "    </tr>\n",
       "    <tr>\n",
       "      <th>4</th>\n",
       "      <td>Java</td>\n",
       "      <td>404</td>\n",
       "    </tr>\n",
       "    <tr>\n",
       "      <th>5</th>\n",
       "      <td>Hadoop</td>\n",
       "      <td>360</td>\n",
       "    </tr>\n",
       "    <tr>\n",
       "      <th>6</th>\n",
       "      <td>hive</td>\n",
       "      <td>309</td>\n",
       "    </tr>\n",
       "    <tr>\n",
       "      <th>7</th>\n",
       "      <td>SoapUi</td>\n",
       "      <td>309</td>\n",
       "    </tr>\n",
       "    <tr>\n",
       "      <th>8</th>\n",
       "      <td>bigdata</td>\n",
       "      <td>117</td>\n",
       "    </tr>\n",
       "    <tr>\n",
       "      <th>9</th>\n",
       "      <td>noSQL</td>\n",
       "      <td>87</td>\n",
       "    </tr>\n",
       "  </tbody>\n",
       "</table>\n",
       "</div>"
      ],
      "text/plain": [
       "   HashTag  Degree\n",
       "0    NoSQL    1031\n",
       "1  MongoDB     475\n",
       "2  BigData     471\n",
       "3    nosql     439\n",
       "4     Java     404\n",
       "5   Hadoop     360\n",
       "6     hive     309\n",
       "7   SoapUi     309\n",
       "8  bigdata     117\n",
       "9    noSQL      87"
      ]
     },
     "execution_count": 187,
     "metadata": {},
     "output_type": "execute_result"
    }
   ],
   "source": [
    "results.get_dataframe()"
   ]
  },
  {
   "cell_type": "code",
   "execution_count": 188,
   "metadata": {
    "collapsed": false
   },
   "outputs": [
    {
     "data": {
      "text/plain": [
       "([<matplotlib.patches.Wedge at 0x7f39e9d1c4d0>,\n",
       "  <matplotlib.patches.Wedge at 0x7f39e9d1ced0>,\n",
       "  <matplotlib.patches.Wedge at 0x7f39e9d0e890>,\n",
       "  <matplotlib.patches.Wedge at 0x7f39e9d17250>,\n",
       "  <matplotlib.patches.Wedge at 0x7f39e9d17bd0>,\n",
       "  <matplotlib.patches.Wedge at 0x7f39e9d21590>,\n",
       "  <matplotlib.patches.Wedge at 0x7f39e9d21f10>,\n",
       "  <matplotlib.patches.Wedge at 0x7f39e9d2e8d0>,\n",
       "  <matplotlib.patches.Wedge at 0x7f39e9d0d290>,\n",
       "  <matplotlib.patches.Wedge at 0x7f39e9d0dc10>],\n",
       " [<matplotlib.text.Text at 0x7f39e9d1ca90>,\n",
       "  <matplotlib.text.Text at 0x7f39e9d0e4d0>,\n",
       "  <matplotlib.text.Text at 0x7f39e9d0ee50>,\n",
       "  <matplotlib.text.Text at 0x7f39e9d17810>,\n",
       "  <matplotlib.text.Text at 0x7f39e9d211d0>,\n",
       "  <matplotlib.text.Text at 0x7f39e9d21b50>,\n",
       "  <matplotlib.text.Text at 0x7f39e9d2e510>,\n",
       "  <matplotlib.text.Text at 0x7f39e9d2ee90>,\n",
       "  <matplotlib.text.Text at 0x7f39e9d0d850>,\n",
       "  <matplotlib.text.Text at 0x7f39e9d3a210>])"
      ]
     },
     "execution_count": 188,
     "metadata": {},
     "output_type": "execute_result"
    },
    {
     "data": {
      "image/png": "[encoded data removed]",
      "text/plain": [
       "<matplotlib.figure.Figure at 0x7f39ea295e50>"
      ]
     },
     "metadata": {},
     "output_type": "display_data"
    }
   ],
   "source": [
    "results.pie()"
   ]
  },
  {
   "cell_type": "code",
   "execution_count": 189,
   "metadata": {
    "collapsed": false
   },
   "outputs": [
    {
     "data": {
      "text/plain": [
       "[<matplotlib.lines.Line2D at 0x7f39e9f65b90>]"
      ]
     },
     "execution_count": 189,
     "metadata": {},
     "output_type": "execute_result"
    },
    {
     "data": {
      "image/png": "[encoded data removed]",
      "text/plain": [
       "<matplotlib.figure.Figure at 0x7f39e9f18550>"
      ]
     },
     "metadata": {},
     "output_type": "display_data"
    }
   ],
   "source": [
    "results.plot()"
   ]
  },
  {
   "cell_type": "code",
   "execution_count": 190,
   "metadata": {
    "collapsed": false
   },
   "outputs": [
    {
     "data": {
      "text/plain": [
       "<Container object of 10 artists>"
      ]
     },
     "execution_count": 190,
     "metadata": {},
     "output_type": "execute_result"
    },
    {
     "data": {
      "image/png": "[encoded data removed]",
      "text/plain": [
       "<matplotlib.figure.Figure at 0x7f39e9f558d0>"
      ]
     },
     "metadata": {},
     "output_type": "display_data"
    }
   ],
   "source": [
    "results.bar()"
   ]
  },
  {
   "cell_type": "code",
   "execution_count": 191,
   "metadata": {
    "collapsed": false
   },
   "outputs": [
    {
     "name": "stdout",
     "output_type": "stream",
     "text": [
      "10 rows affected.\n"
     ]
    },
    {
     "data": {
      "text/plain": [
       "(<networkx.classes.multidigraph.MultiDiGraph at 0x7f39ea186b10>,\n",
       " <matplotlib.axes.AxesSubplot at 0x7f39e9f77b10>,\n",
       " <matplotlib.collections.PathCollection at 0x7f39e9c733d0>)"
      ]
     },
     "execution_count": 191,
     "metadata": {},
     "output_type": "execute_result"
    },
    {
     "data": {
      "image/png": "[encoded data removed]",
      "text/plain": [
       "<matplotlib.figure.Figure at 0x7f39ea2f0d90>"
      ]
     },
     "metadata": {},
     "output_type": "display_data"
    }
   ],
   "source": [
    "results = %cypher match (n)-[r]-() return n, r limit 10\n",
    "results.draw()"
   ]
  },
  {
   "cell_type": "code",
   "execution_count": null,
   "metadata": {
    "collapsed": true
   },
   "outputs": [],
   "source": [
    "query = \"\"\"\n",
    "    MATCH (h:Hashtag)<-[:HASHTAG]-(:Tweet)-[:HASHTAG]->(:Hashtag {hashtag:{hashtag}}) \n",
    "    WHERE h.hashtag <> {hashtag}\n",
    "    RETURN h.hashtag AS hashtag, COUNT(*) AS count\n",
    "    ORDER BY count DESC\n",
    "    LIMIT 10\n",
    "\"\"\"\n",
    "\n",
    "hashtag_count = cypher(graph, query, hashtag = \"#neo4j\")\n",
    "\n"
   ]
  },
  {
   "cell_type": "code",
   "execution_count": 201,
   "metadata": {
    "collapsed": true
   },
   "outputs": [],
   "source": [
    "from py2neo import Graph\n",
    "\n",
    "graph = Graph()\n",
    "cypher = graph.cypher\n",
    "results = cypher.execute(\n",
    "\"\"\"\n",
    "MATCH (u:User)\n",
    "WHERE exists(u.followers_count)\n",
    "return distinct u.username, u.followers_count\n",
    "order by u.followers_count DESC LIMIT 10\n",
    "\"\"\")\n"
   ]
  },
  {
   "cell_type": "code",
   "execution_count": 211,
   "metadata": {
    "collapsed": false
   },
   "outputs": [
    {
     "data": {
      "text/plain": [
       "py2neo.cypher.core.RecordList"
      ]
     },
     "execution_count": 211,
     "metadata": {},
     "output_type": "execute_result"
    }
   ],
   "source": [
    "type(results)"
   ]
  },
  {
   "cell_type": "code",
   "execution_count": 200,
   "metadata": {
    "collapsed": false
   },
   "outputs": [
    {
     "name": "stdout",
     "output_type": "stream",
     "text": [
      "10 rows affected.\n"
     ]
    },
    {
     "data": {
      "text/html": [
       "<table>\n",
       "    <tr>\n",
       "        <th>u.username</th>\n",
       "        <th>u.followers_count</th>\n",
       "    </tr>\n",
       "    <tr>\n",
       "        <td>socialmedia2day</td>\n",
       "        <td>496434</td>\n",
       "    </tr>\n",
       "    <tr>\n",
       "        <td>googlecloud</td>\n",
       "        <td>447433</td>\n",
       "    </tr>\n",
       "    <tr>\n",
       "        <td>Azure</td>\n",
       "        <td>383514</td>\n",
       "    </tr>\n",
       "    <tr>\n",
       "        <td>DavidPapp</td>\n",
       "        <td>215119</td>\n",
       "    </tr>\n",
       "    <tr>\n",
       "        <td>couchbase</td>\n",
       "        <td>160196</td>\n",
       "    </tr>\n",
       "    <tr>\n",
       "        <td>iamdevloper</td>\n",
       "        <td>125378</td>\n",
       "    </tr>\n",
       "    <tr>\n",
       "        <td>docker</td>\n",
       "        <td>90833</td>\n",
       "    </tr>\n",
       "    <tr>\n",
       "        <td>javacodegeeks</td>\n",
       "        <td>79215</td>\n",
       "    </tr>\n",
       "    <tr>\n",
       "        <td>developerWorks</td>\n",
       "        <td>75487</td>\n",
       "    </tr>\n",
       "    <tr>\n",
       "        <td>Adel__Almalki</td>\n",
       "        <td>74156</td>\n",
       "    </tr>\n",
       "</table>"
      ],
      "text/plain": [
       "[[u'socialmedia2day', 496434],\n",
       " [u'googlecloud', 447433],\n",
       " [u'Azure', 383514],\n",
       " [u'DavidPapp', 215119],\n",
       " [u'couchbase', 160196],\n",
       " [u'iamdevloper', 125378],\n",
       " [u'docker', 90833],\n",
       " [u'javacodegeeks', 79215],\n",
       " [u'developerWorks', 75487],\n",
       " [u'Adel__Almalki', 74156]]"
      ]
     },
     "execution_count": 200,
     "metadata": {},
     "output_type": "execute_result"
    }
   ],
   "source": [
    "%%cypher\n",
    "MATCH (u:User)\n",
    "WHERE exists(u.followers_count)\n",
    "return distinct u.username, u.followers_count\n",
    "order by u.followers_count DESC LIMIT 10"
   ]
  },
  {
   "cell_type": "code",
   "execution_count": 197,
   "metadata": {
    "collapsed": false
   },
   "outputs": [
    {
     "name": "stdout",
     "output_type": "stream",
     "text": [
      "3 rows affected.\n"
     ]
    },
    {
     "data": {
      "text/html": [
       "<table>\n",
       "    <tr>\n",
       "        <th>labels(n)</th>\n",
       "    </tr>\n",
       "    <tr>\n",
       "        <td>[u'User']</td>\n",
       "    </tr>\n",
       "    <tr>\n",
       "        <td>[u'Tweet']</td>\n",
       "    </tr>\n",
       "    <tr>\n",
       "        <td>[u'HashTag']</td>\n",
       "    </tr>\n",
       "</table>"
      ],
      "text/plain": [
       "[[[u'User']], [[u'Tweet']], [[u'HashTag']]]"
      ]
     },
     "execution_count": 197,
     "metadata": {},
     "output_type": "execute_result"
    }
   ],
   "source": [
    "%%cypher\n",
    "match n\n",
    "return distinct labels(n)"
   ]
  },
  {
   "cell_type": "code",
   "execution_count": 212,
   "metadata": {
    "collapsed": true
   },
   "outputs": [],
   "source": []
  },
  {
   "cell_type": "code",
   "execution_count": null,
   "metadata": {
    "collapsed": true
   },
   "outputs": [],
   "source": []
  }
 ],
 "metadata": {
  "kernelspec": {
   "display_name": "Python 2",
   "language": "python",
   "name": "python2"
  },
  "language_info": {
   "codemirror_mode": {
    "name": "ipython",
    "version": 2
   },
   "file_extension": ".py",
   "mimetype": "text/x-python",
   "name": "python",
   "nbconvert_exporter": "python",
   "pygments_lexer": "ipython2",
   "version": "2.7.6"
  }
 },
 "nbformat": 4,
 "nbformat_minor": 0
}
