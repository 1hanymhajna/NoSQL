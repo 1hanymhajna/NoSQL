{
 "cells": [
  {
   "cell_type": "code",
   "execution_count": 1,
   "metadata": {
    "collapsed": false
   },
   "outputs": [],
   "source": [
    "from py2neo import Graph\n",
    "graph = Graph()"
   ]
  },
  {
   "cell_type": "code",
   "execution_count": 2,
   "metadata": {
    "collapsed": false
   },
   "outputs": [
    {
     "name": "stdout",
     "output_type": "stream",
     "text": [
      "HTTP/1.1 200 OK\r",
      "\r\n",
      "Date: Sun, 04 Oct 2015 05:27:03 GMT\r",
      "\r\n",
      "Content-Type: application/json; charset=UTF-8\r",
      "\r\n",
      "Access-Control-Allow-Origin: *\r",
      "\r\n",
      "Content-Length: 730\r",
      "\r\n",
      "Server: Jetty(9.2.4.v20141103)\r",
      "\r\n",
      "\r",
      "\r\n",
      "{\r\n",
      "  \"extensions\" : { },\r\n",
      "  \"node\" : \"http://localhost:7474/db/data/node\",\r\n",
      "  \"node_index\" : \"http://localhost:7474/db/data/index/node\",\r\n",
      "  \"relationship_index\" : \"http://localhost:7474/db/data/index/relationship\",\r\n",
      "  \"extensions_info\" : \"http://localhost:7474/db/data/ext\",\r\n",
      "  \"relationship_types\" : \"http://localhost:7474/db/data/relationship/types\",\r\n",
      "  \"batch\" : \"http://localhost:7474/db/data/batch\",\r\n",
      "  \"cypher\" : \"http://localhost:7474/db/data/cypher\",\r\n",
      "  \"indexes\" : \"http://localhost:7474/db/data/schema/index\",\r\n",
      "  \"constraints\" : \"http://localhost:7474/db/data/schema/constraint\",\r\n",
      "  \"transaction\" : \"http://localhost:7474/db/data/transaction\",\r\n",
      "  \"node_labels\" : \"http://localhost:7474/db/data/labels\",\r\n",
      "  \"neo4j_version\" : \"2.2.5\"\r\n",
      "}"
     ]
    }
   ],
   "source": [
    "!curl -i http://localhost:7474/db/data/."
   ]
  },
  {
   "cell_type": "code",
   "execution_count": 3,
   "metadata": {
    "collapsed": false
   },
   "outputs": [
    {
     "data": {
      "text/plain": [
       "(<Relationship graph=u'http://localhost:7474/db/data/' ref=u'relationship/0' start=u'node/0' end=u'node/1' type=u'KNOWS' properties={}>,)"
      ]
     },
     "execution_count": 3,
     "metadata": {},
     "output_type": "execute_result"
    }
   ],
   "source": [
    "from py2neo import Node, Relationship\n",
    "alice = Node(\"Person\", name=\"Alice\")\n",
    "bob = Node(\"Person\", name=\"Bob\")\n",
    "alice_knows_bob = Relationship(alice, \"KNOWS\", bob)\n",
    "graph.create(alice_knows_bob)"
   ]
  },
  {
   "cell_type": "code",
   "execution_count": null,
   "metadata": {
    "collapsed": true
   },
   "outputs": [],
   "source": []
  }
 ],
 "metadata": {
  "kernelspec": {
   "display_name": "Python 2",
   "language": "python",
   "name": "python2"
  },
  "language_info": {
   "codemirror_mode": {
    "name": "ipython",
    "version": 2
   },
   "file_extension": ".py",
   "mimetype": "text/x-python",
   "name": "python",
   "nbconvert_exporter": "python",
   "pygments_lexer": "ipython2",
   "version": "2.7.6"
  }
 },
 "nbformat": 4,
 "nbformat_minor": 0
}
