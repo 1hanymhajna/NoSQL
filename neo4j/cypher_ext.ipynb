{
 "cells": [
  {
   "cell_type": "code",
   "execution_count": 2,
   "metadata": {
    "collapsed": false
   },
   "outputs": [
    {
     "name": "stdout",
     "output_type": "stream",
     "text": [
      "The cypher extension is already loaded. To reload it, use:\n",
      "  %reload_ext cypher\n"
     ]
    }
   ],
   "source": [
    "%load_ext cypher"
   ]
  },
  {
   "cell_type": "code",
   "execution_count": 11,
   "metadata": {
    "collapsed": false
   },
   "outputs": [
    {
     "name": "stdout",
     "output_type": "stream",
     "text": [
      "CypherMagic options\n",
      "-----------------\n",
      "CypherMagic.auto_html=<Bool>\n",
      "    Current: False\n",
      "    Return a D3 representation of the graph instead of regular result sets\n",
      "CypherMagic.auto_limit=<Int>\n",
      "    Current: 0\n",
      "    Automatically limit the size of the returned result sets\n",
      "CypherMagic.auto_networkx=<Bool>\n",
      "    Current: False\n",
      "    Return Networkx MultiDiGraph instead of regular result sets\n",
      "CypherMagic.auto_pandas=<Bool>\n",
      "    Current: False\n",
      "    Return Pandas DataFrame instead of regular result sets\n",
      "CypherMagic.data_contents=<Bool>\n",
      "    Current: True\n",
      "    Bring extra data to render the results as a graph\n",
      "CypherMagic.display_limit=<Int>\n",
      "    Current: 0\n",
      "    Automatically limit the number of rows displayed (full result set is still\n",
      "    stored)\n",
      "CypherMagic.feedback=<Bool>\n",
      "    Current: True\n",
      "    Print number of rows affected\n",
      "CypherMagic.rest=<Bool>\n",
      "    Current: False\n",
      "    Return full REST representations of objects inside the result sets\n",
      "CypherMagic.short_errors=<Bool>\n",
      "    Current: True\n",
      "    Don't display the full traceback on Neo4j errors\n",
      "CypherMagic.style=<Unicode>\n",
      "    Current: u'DEFAULT'\n",
      "    Set the table printing style to any of prettytable's defined styles\n",
      "    (currently DEFAULT, MSWORD_FRIENDLY, PLAIN_COLUMNS, RANDOM)\n",
      "CypherMagic.uri=<Unicode>\n",
      "    Current: u'http://localhost:7474/db/data/'\n",
      "    Default database URL if none is defined inline\n"
     ]
    }
   ],
   "source": [
    "%config CypherMagic"
   ]
  },
  {
   "cell_type": "code",
   "execution_count": 7,
   "metadata": {
    "collapsed": false
   },
   "outputs": [
    {
     "name": "stdout",
     "output_type": "stream",
     "text": [
      "10 rows affected.\n"
     ]
    },
    {
     "data": {
      "text/html": [
       "<table>\n",
       "    <tr>\n",
       "        <th>a</th>\n",
       "        <th>b</th>\n",
       "    </tr>\n",
       "    <tr>\n",
       "        <td>{u'lang': u'en', u'text': u'Join our NJ #Data Modeling Master Class Nov 17-19: https://t.co/lk8QJIv33P #datamodeling #nosql @DAMA_I #erstudio https://t.co/I3z6WeExLq', u'created_at': u'Fri Oct 23 14:40:26 +0000 2015', u'source': u'&lt;a href=\"http://www.hootsuite.com\" rel=\"nofollow\"&gt;Hootsuite&lt;/a&gt;', u'retweet_count': 1, u'id': 657567261209833472}</td>\n",
       "        <td>{u'username': u'DAMA_I', u'favourites_count': 394, u'name': u'DAMA International', u'friends_count': 238, u'created_at': u'Sun Feb 22 19:44:34 +0000 2009', u'time_zone': u'London', u'profile_image_url': u'http://pbs.twimg.com/profile_images/81466962/DI_DAMAI_Logo_noborder_normal.jpg', u'followers_count': 1228, u'statuses_count': 3450, u'description': u'International Data Management Association. Data Management, Data Architecture, Information Architecture, DAMA DMBOK, CDMP qualification.'}</td>\n",
       "    </tr>\n",
       "    <tr>\n",
       "        <td>{u'lang': u'en', u'text': u'RT @DataMdlRockStar: Join our NJ #Data Modeling Master Class Nov 17-19: https://t.co/lk8QJIv33P #datamodeling #nosql @DAMA_I #erstudio http\\u2026', u'created_at': u'Fri Oct 23 19:52:26 +0000 2015', u'source': u'&lt;a href=\"http://twitter.com/download/iphone\" rel=\"nofollow\"&gt;Twitter for iPhone&lt;/a&gt;', u'retweet_count': 1, u'id': 657645776311615488}</td>\n",
       "        <td>{u'username': u'DAMA_I', u'favourites_count': 394, u'name': u'DAMA International', u'friends_count': 238, u'created_at': u'Sun Feb 22 19:44:34 +0000 2009', u'time_zone': u'London', u'profile_image_url': u'http://pbs.twimg.com/profile_images/81466962/DI_DAMAI_Logo_noborder_normal.jpg', u'followers_count': 1228, u'statuses_count': 3450, u'description': u'International Data Management Association. Data Management, Data Architecture, Information Architecture, DAMA DMBOK, CDMP qualification.'}</td>\n",
       "    </tr>\n",
       "    <tr>\n",
       "        <td>{u'lang': u'en', u'text': u'RT @DataMdlRockStar: Join our NJ #Data Modeling Master Class Nov 17-19: https://t.co/lk8QJIv33P #datamodeling #nosql @DAMA_I #erstudio http\\u2026', u'created_at': u'Fri Oct 23 19:52:26 +0000 2015', u'source': u'&lt;a href=\"http://twitter.com/download/iphone\" rel=\"nofollow\"&gt;Twitter for iPhone&lt;/a&gt;', u'retweet_count': 1, u'id': 657645776311615488}</td>\n",
       "        <td>{u'username': u'DAMA_I', u'favourites_count': 394, u'name': u'DAMA International', u'friends_count': 238, u'created_at': u'Sun Feb 22 19:44:34 +0000 2009', u'time_zone': u'London', u'profile_image_url': u'http://pbs.twimg.com/profile_images/81466962/DI_DAMAI_Logo_noborder_normal.jpg', u'followers_count': 1228, u'statuses_count': 3450, u'description': u'International Data Management Association. Data Management, Data Architecture, Information Architecture, DAMA DMBOK, CDMP qualification.'}</td>\n",
       "    </tr>\n",
       "    <tr>\n",
       "        <td>{u'username': u'DataMdlRockStar', u'favourites_count': 1, u'name': u'Steve Hoberman', u'friends_count': 51, u'created_at': u'Mon Apr 05 12:03:48 +0000 2010', u'time_zone': u'Central Time (US &amp; Canada)', u'profile_image_url': u'http://pbs.twimg.com/profile_images/1545177586/DSC_0054_edited_lowres_normal.jpg', u'followers_count': 809, u'statuses_count': 341, u'description': u'Data Modeler, Trainer, author of 9 data modeling books, publisher (http://t.co/4Ic8XaK3bq), consults, conference organizer (http://t.co/NxMp16pslE)'}</td>\n",
       "        <td>{u'lang': u'en', u'text': u'RT @DataMdlRockStar: Join our NJ #Data Modeling Master Class Nov 17-19: https://t.co/lk8QJIv33P #datamodeling #nosql @DAMA_I #erstudio http\\u2026', u'created_at': u'Fri Oct 23 19:52:26 +0000 2015', u'source': u'&lt;a href=\"http://twitter.com/download/iphone\" rel=\"nofollow\"&gt;Twitter for iPhone&lt;/a&gt;', u'retweet_count': 1, u'id': 657645776311615488}</td>\n",
       "    </tr>\n",
       "    <tr>\n",
       "        <td>{u'hashtag': u'erstudio'}</td>\n",
       "        <td>{u'lang': u'en', u'text': u'RT @DataMdlRockStar: Join our NJ #Data Modeling Master Class Nov 17-19: https://t.co/lk8QJIv33P #datamodeling #nosql @DAMA_I #erstudio http\\u2026', u'created_at': u'Fri Oct 23 19:52:26 +0000 2015', u'source': u'&lt;a href=\"http://twitter.com/download/iphone\" rel=\"nofollow\"&gt;Twitter for iPhone&lt;/a&gt;', u'retweet_count': 1, u'id': 657645776311615488}</td>\n",
       "    </tr>\n",
       "    <tr>\n",
       "        <td>{u'hashtag': u'nosql'}</td>\n",
       "        <td>{u'lang': u'en', u'text': u'RT @DataMdlRockStar: Join our NJ #Data Modeling Master Class Nov 17-19: https://t.co/lk8QJIv33P #datamodeling #nosql @DAMA_I #erstudio http\\u2026', u'created_at': u'Fri Oct 23 19:52:26 +0000 2015', u'source': u'&lt;a href=\"http://twitter.com/download/iphone\" rel=\"nofollow\"&gt;Twitter for iPhone&lt;/a&gt;', u'retweet_count': 1, u'id': 657645776311615488}</td>\n",
       "    </tr>\n",
       "    <tr>\n",
       "        <td>{u'hashtag': u'datamodeling'}</td>\n",
       "        <td>{u'lang': u'en', u'text': u'RT @DataMdlRockStar: Join our NJ #Data Modeling Master Class Nov 17-19: https://t.co/lk8QJIv33P #datamodeling #nosql @DAMA_I #erstudio http\\u2026', u'created_at': u'Fri Oct 23 19:52:26 +0000 2015', u'source': u'&lt;a href=\"http://twitter.com/download/iphone\" rel=\"nofollow\"&gt;Twitter for iPhone&lt;/a&gt;', u'retweet_count': 1, u'id': 657645776311615488}</td>\n",
       "    </tr>\n",
       "    <tr>\n",
       "        <td>{u'hashtag': u'Data'}</td>\n",
       "        <td>{u'lang': u'en', u'text': u'RT @DataMdlRockStar: Join our NJ #Data Modeling Master Class Nov 17-19: https://t.co/lk8QJIv33P #datamodeling #nosql @DAMA_I #erstudio http\\u2026', u'created_at': u'Fri Oct 23 19:52:26 +0000 2015', u'source': u'&lt;a href=\"http://twitter.com/download/iphone\" rel=\"nofollow\"&gt;Twitter for iPhone&lt;/a&gt;', u'retweet_count': 1, u'id': 657645776311615488}</td>\n",
       "    </tr>\n",
       "    <tr>\n",
       "        <td>{u'username': u'DAMA_I', u'favourites_count': 394, u'name': u'DAMA International', u'friends_count': 238, u'created_at': u'Sun Feb 22 19:44:34 +0000 2009', u'time_zone': u'London', u'profile_image_url': u'http://pbs.twimg.com/profile_images/81466962/DI_DAMAI_Logo_noborder_normal.jpg', u'followers_count': 1228, u'statuses_count': 3450, u'description': u'International Data Management Association. Data Management, Data Architecture, Information Architecture, DAMA DMBOK, CDMP qualification.'}</td>\n",
       "        <td>{u'lang': u'en', u'text': u'RT @DataMdlRockStar: Join our NJ #Data Modeling Master Class Nov 17-19: https://t.co/lk8QJIv33P #datamodeling #nosql @DAMA_I #erstudio http\\u2026', u'created_at': u'Fri Oct 23 19:52:26 +0000 2015', u'source': u'&lt;a href=\"http://twitter.com/download/iphone\" rel=\"nofollow\"&gt;Twitter for iPhone&lt;/a&gt;', u'retweet_count': 1, u'id': 657645776311615488}</td>\n",
       "    </tr>\n",
       "    <tr>\n",
       "        <td>{u'username': u'DataMdlRockStar', u'favourites_count': 1, u'name': u'Steve Hoberman', u'friends_count': 51, u'created_at': u'Mon Apr 05 12:03:48 +0000 2010', u'time_zone': u'Central Time (US &amp; Canada)', u'profile_image_url': u'http://pbs.twimg.com/profile_images/1545177586/DSC_0054_edited_lowres_normal.jpg', u'followers_count': 809, u'statuses_count': 341, u'description': u'Data Modeler, Trainer, author of 9 data modeling books, publisher (http://t.co/4Ic8XaK3bq), consults, conference organizer (http://t.co/NxMp16pslE)'}</td>\n",
       "        <td>{u'lang': u'en', u'text': u'RT @DataMdlRockStar: Join our NJ #Data Modeling Master Class Nov 17-19: https://t.co/lk8QJIv33P #datamodeling #nosql @DAMA_I #erstudio http\\u2026', u'created_at': u'Fri Oct 23 19:52:26 +0000 2015', u'source': u'&lt;a href=\"http://twitter.com/download/iphone\" rel=\"nofollow\"&gt;Twitter for iPhone&lt;/a&gt;', u'retweet_count': 1, u'id': 657645776311615488}</td>\n",
       "    </tr>\n",
       "</table>"
      ],
      "text/plain": [
       "[[{u'created_at': u'Fri Oct 23 14:40:26 +0000 2015',\n",
       "   u'id': 657567261209833472,\n",
       "   u'lang': u'en',\n",
       "   u'retweet_count': 1,\n",
       "   u'source': u'<a href=\"http://www.hootsuite.com\" rel=\"nofollow\">Hootsuite</a>',\n",
       "   u'text': u'Join our NJ #Data Modeling Master Class Nov 17-19: https://t.co/lk8QJIv33P #datamodeling #nosql @DAMA_I #erstudio https://t.co/I3z6WeExLq'},\n",
       "  {u'created_at': u'Sun Feb 22 19:44:34 +0000 2009',\n",
       "   u'description': u'International Data Management Association. Data Management, Data Architecture, Information Architecture, DAMA DMBOK, CDMP qualification.',\n",
       "   u'favourites_count': 394,\n",
       "   u'followers_count': 1228,\n",
       "   u'friends_count': 238,\n",
       "   u'name': u'DAMA International',\n",
       "   u'profile_image_url': u'http://pbs.twimg.com/profile_images/81466962/DI_DAMAI_Logo_noborder_normal.jpg',\n",
       "   u'statuses_count': 3450,\n",
       "   u'time_zone': u'London',\n",
       "   u'username': u'DAMA_I'}],\n",
       " [{u'created_at': u'Fri Oct 23 19:52:26 +0000 2015',\n",
       "   u'id': 657645776311615488,\n",
       "   u'lang': u'en',\n",
       "   u'retweet_count': 1,\n",
       "   u'source': u'<a href=\"http://twitter.com/download/iphone\" rel=\"nofollow\">Twitter for iPhone</a>',\n",
       "   u'text': u'RT @DataMdlRockStar: Join our NJ #Data Modeling Master Class Nov 17-19: https://t.co/lk8QJIv33P #datamodeling #nosql @DAMA_I #erstudio http\\u2026'},\n",
       "  {u'created_at': u'Sun Feb 22 19:44:34 +0000 2009',\n",
       "   u'description': u'International Data Management Association. Data Management, Data Architecture, Information Architecture, DAMA DMBOK, CDMP qualification.',\n",
       "   u'favourites_count': 394,\n",
       "   u'followers_count': 1228,\n",
       "   u'friends_count': 238,\n",
       "   u'name': u'DAMA International',\n",
       "   u'profile_image_url': u'http://pbs.twimg.com/profile_images/81466962/DI_DAMAI_Logo_noborder_normal.jpg',\n",
       "   u'statuses_count': 3450,\n",
       "   u'time_zone': u'London',\n",
       "   u'username': u'DAMA_I'}],\n",
       " [{u'created_at': u'Fri Oct 23 19:52:26 +0000 2015',\n",
       "   u'id': 657645776311615488,\n",
       "   u'lang': u'en',\n",
       "   u'retweet_count': 1,\n",
       "   u'source': u'<a href=\"http://twitter.com/download/iphone\" rel=\"nofollow\">Twitter for iPhone</a>',\n",
       "   u'text': u'RT @DataMdlRockStar: Join our NJ #Data Modeling Master Class Nov 17-19: https://t.co/lk8QJIv33P #datamodeling #nosql @DAMA_I #erstudio http\\u2026'},\n",
       "  {u'created_at': u'Sun Feb 22 19:44:34 +0000 2009',\n",
       "   u'description': u'International Data Management Association. Data Management, Data Architecture, Information Architecture, DAMA DMBOK, CDMP qualification.',\n",
       "   u'favourites_count': 394,\n",
       "   u'followers_count': 1228,\n",
       "   u'friends_count': 238,\n",
       "   u'name': u'DAMA International',\n",
       "   u'profile_image_url': u'http://pbs.twimg.com/profile_images/81466962/DI_DAMAI_Logo_noborder_normal.jpg',\n",
       "   u'statuses_count': 3450,\n",
       "   u'time_zone': u'London',\n",
       "   u'username': u'DAMA_I'}],\n",
       " [{u'created_at': u'Mon Apr 05 12:03:48 +0000 2010',\n",
       "   u'description': u'Data Modeler, Trainer, author of 9 data modeling books, publisher (http://t.co/4Ic8XaK3bq), consults, conference organizer (http://t.co/NxMp16pslE)',\n",
       "   u'favourites_count': 1,\n",
       "   u'followers_count': 809,\n",
       "   u'friends_count': 51,\n",
       "   u'name': u'Steve Hoberman',\n",
       "   u'profile_image_url': u'http://pbs.twimg.com/profile_images/1545177586/DSC_0054_edited_lowres_normal.jpg',\n",
       "   u'statuses_count': 341,\n",
       "   u'time_zone': u'Central Time (US & Canada)',\n",
       "   u'username': u'DataMdlRockStar'},\n",
       "  {u'created_at': u'Fri Oct 23 19:52:26 +0000 2015',\n",
       "   u'id': 657645776311615488,\n",
       "   u'lang': u'en',\n",
       "   u'retweet_count': 1,\n",
       "   u'source': u'<a href=\"http://twitter.com/download/iphone\" rel=\"nofollow\">Twitter for iPhone</a>',\n",
       "   u'text': u'RT @DataMdlRockStar: Join our NJ #Data Modeling Master Class Nov 17-19: https://t.co/lk8QJIv33P #datamodeling #nosql @DAMA_I #erstudio http\\u2026'}],\n",
       " [{u'hashtag': u'erstudio'},\n",
       "  {u'created_at': u'Fri Oct 23 19:52:26 +0000 2015',\n",
       "   u'id': 657645776311615488,\n",
       "   u'lang': u'en',\n",
       "   u'retweet_count': 1,\n",
       "   u'source': u'<a href=\"http://twitter.com/download/iphone\" rel=\"nofollow\">Twitter for iPhone</a>',\n",
       "   u'text': u'RT @DataMdlRockStar: Join our NJ #Data Modeling Master Class Nov 17-19: https://t.co/lk8QJIv33P #datamodeling #nosql @DAMA_I #erstudio http\\u2026'}],\n",
       " [{u'hashtag': u'nosql'},\n",
       "  {u'created_at': u'Fri Oct 23 19:52:26 +0000 2015',\n",
       "   u'id': 657645776311615488,\n",
       "   u'lang': u'en',\n",
       "   u'retweet_count': 1,\n",
       "   u'source': u'<a href=\"http://twitter.com/download/iphone\" rel=\"nofollow\">Twitter for iPhone</a>',\n",
       "   u'text': u'RT @DataMdlRockStar: Join our NJ #Data Modeling Master Class Nov 17-19: https://t.co/lk8QJIv33P #datamodeling #nosql @DAMA_I #erstudio http\\u2026'}],\n",
       " [{u'hashtag': u'datamodeling'},\n",
       "  {u'created_at': u'Fri Oct 23 19:52:26 +0000 2015',\n",
       "   u'id': 657645776311615488,\n",
       "   u'lang': u'en',\n",
       "   u'retweet_count': 1,\n",
       "   u'source': u'<a href=\"http://twitter.com/download/iphone\" rel=\"nofollow\">Twitter for iPhone</a>',\n",
       "   u'text': u'RT @DataMdlRockStar: Join our NJ #Data Modeling Master Class Nov 17-19: https://t.co/lk8QJIv33P #datamodeling #nosql @DAMA_I #erstudio http\\u2026'}],\n",
       " [{u'hashtag': u'Data'},\n",
       "  {u'created_at': u'Fri Oct 23 19:52:26 +0000 2015',\n",
       "   u'id': 657645776311615488,\n",
       "   u'lang': u'en',\n",
       "   u'retweet_count': 1,\n",
       "   u'source': u'<a href=\"http://twitter.com/download/iphone\" rel=\"nofollow\">Twitter for iPhone</a>',\n",
       "   u'text': u'RT @DataMdlRockStar: Join our NJ #Data Modeling Master Class Nov 17-19: https://t.co/lk8QJIv33P #datamodeling #nosql @DAMA_I #erstudio http\\u2026'}],\n",
       " [{u'created_at': u'Sun Feb 22 19:44:34 +0000 2009',\n",
       "   u'description': u'International Data Management Association. Data Management, Data Architecture, Information Architecture, DAMA DMBOK, CDMP qualification.',\n",
       "   u'favourites_count': 394,\n",
       "   u'followers_count': 1228,\n",
       "   u'friends_count': 238,\n",
       "   u'name': u'DAMA International',\n",
       "   u'profile_image_url': u'http://pbs.twimg.com/profile_images/81466962/DI_DAMAI_Logo_noborder_normal.jpg',\n",
       "   u'statuses_count': 3450,\n",
       "   u'time_zone': u'London',\n",
       "   u'username': u'DAMA_I'},\n",
       "  {u'created_at': u'Fri Oct 23 19:52:26 +0000 2015',\n",
       "   u'id': 657645776311615488,\n",
       "   u'lang': u'en',\n",
       "   u'retweet_count': 1,\n",
       "   u'source': u'<a href=\"http://twitter.com/download/iphone\" rel=\"nofollow\">Twitter for iPhone</a>',\n",
       "   u'text': u'RT @DataMdlRockStar: Join our NJ #Data Modeling Master Class Nov 17-19: https://t.co/lk8QJIv33P #datamodeling #nosql @DAMA_I #erstudio http\\u2026'}],\n",
       " [{u'created_at': u'Mon Apr 05 12:03:48 +0000 2010',\n",
       "   u'description': u'Data Modeler, Trainer, author of 9 data modeling books, publisher (http://t.co/4Ic8XaK3bq), consults, conference organizer (http://t.co/NxMp16pslE)',\n",
       "   u'favourites_count': 1,\n",
       "   u'followers_count': 809,\n",
       "   u'friends_count': 51,\n",
       "   u'name': u'Steve Hoberman',\n",
       "   u'profile_image_url': u'http://pbs.twimg.com/profile_images/1545177586/DSC_0054_edited_lowres_normal.jpg',\n",
       "   u'statuses_count': 341,\n",
       "   u'time_zone': u'Central Time (US & Canada)',\n",
       "   u'username': u'DataMdlRockStar'},\n",
       "  {u'created_at': u'Fri Oct 23 19:52:26 +0000 2015',\n",
       "   u'id': 657645776311615488,\n",
       "   u'lang': u'en',\n",
       "   u'retweet_count': 1,\n",
       "   u'source': u'<a href=\"http://twitter.com/download/iphone\" rel=\"nofollow\">Twitter for iPhone</a>',\n",
       "   u'text': u'RT @DataMdlRockStar: Join our NJ #Data Modeling Master Class Nov 17-19: https://t.co/lk8QJIv33P #datamodeling #nosql @DAMA_I #erstudio http\\u2026'}]]"
      ]
     },
     "execution_count": 7,
     "metadata": {},
     "output_type": "execute_result"
    }
   ],
   "source": [
    "%cypher MATCH (a)-[]-(b) RETURN a, b LIMIT 10"
   ]
  },
  {
   "cell_type": "code",
   "execution_count": 3,
   "metadata": {
    "collapsed": false
   },
   "outputs": [
    {
     "name": "stdout",
     "output_type": "stream",
     "text": [
      "3 labels added.\n",
      "3 nodes created.\n",
      "3 properties set.\n",
      "2 relationships created.\n"
     ]
    },
    {
     "data": {
      "text/html": [
       "<table>\n",
       "    <tr>\n",
       "    </tr>\n",
       "</table>"
      ],
      "text/plain": [
       "[]"
      ]
     },
     "execution_count": 3,
     "metadata": {},
     "output_type": "execute_result"
    }
   ],
   "source": [
    "%%cypher\n",
    "create\n",
    "    // Nodes\n",
    "    (Neo:Crew {name:'Neo'}),\n",
    "    (Morpheus:Crew {name: 'Morpheus'}),\n",
    "    (Trinity:Crew {name: 'Trinity'}),\n",
    "    // Relationships\n",
    "    (Neo)-[:KNOWS]->(Morpheus),\n",
    "    (Neo)-[:LOVES]->(Trinity)"
   ]
  },
  {
   "cell_type": "code",
   "execution_count": 8,
   "metadata": {
    "collapsed": false
   },
   "outputs": [
    {
     "name": "stdout",
     "output_type": "stream",
     "text": [
      "10 rows affected.\n"
     ]
    },
    {
     "data": {
      "text/html": [
       "<div>\n",
       "<table border=\"1\" class=\"dataframe\">\n",
       "  <thead>\n",
       "    <tr style=\"text-align: right;\">\n",
       "      <th></th>\n",
       "      <th>a</th>\n",
       "      <th>type(R)</th>\n",
       "      <th>b</th>\n",
       "    </tr>\n",
       "  </thead>\n",
       "  <tbody>\n",
       "    <tr>\n",
       "      <th>0</th>\n",
       "      <td>{u'lang': u'en', u'text': u'Join our NJ #Data ...</td>\n",
       "      <td>MENCIONED</td>\n",
       "      <td>{u'username': u'DAMA_I', u'favourites_count': ...</td>\n",
       "    </tr>\n",
       "    <tr>\n",
       "      <th>1</th>\n",
       "      <td>{u'lang': u'en', u'text': u'RT @DataMdlRockSta...</td>\n",
       "      <td>MENCIONED</td>\n",
       "      <td>{u'username': u'DAMA_I', u'favourites_count': ...</td>\n",
       "    </tr>\n",
       "    <tr>\n",
       "      <th>2</th>\n",
       "      <td>{u'lang': u'en', u'text': u'RT @DataMdlRockSta...</td>\n",
       "      <td>TWEETED</td>\n",
       "      <td>{u'username': u'DAMA_I', u'favourites_count': ...</td>\n",
       "    </tr>\n",
       "    <tr>\n",
       "      <th>3</th>\n",
       "      <td>{u'username': u'DataMdlRockStar', u'favourites...</td>\n",
       "      <td>RETWEET_OF</td>\n",
       "      <td>{u'lang': u'en', u'text': u'RT @DataMdlRockSta...</td>\n",
       "    </tr>\n",
       "    <tr>\n",
       "      <th>4</th>\n",
       "      <td>{u'hashtag': u'erstudio'}</td>\n",
       "      <td>HASHTAG</td>\n",
       "      <td>{u'lang': u'en', u'text': u'RT @DataMdlRockSta...</td>\n",
       "    </tr>\n",
       "    <tr>\n",
       "      <th>5</th>\n",
       "      <td>{u'hashtag': u'nosql'}</td>\n",
       "      <td>HASHTAG</td>\n",
       "      <td>{u'lang': u'en', u'text': u'RT @DataMdlRockSta...</td>\n",
       "    </tr>\n",
       "    <tr>\n",
       "      <th>6</th>\n",
       "      <td>{u'hashtag': u'datamodeling'}</td>\n",
       "      <td>HASHTAG</td>\n",
       "      <td>{u'lang': u'en', u'text': u'RT @DataMdlRockSta...</td>\n",
       "    </tr>\n",
       "    <tr>\n",
       "      <th>7</th>\n",
       "      <td>{u'hashtag': u'Data'}</td>\n",
       "      <td>HASHTAG</td>\n",
       "      <td>{u'lang': u'en', u'text': u'RT @DataMdlRockSta...</td>\n",
       "    </tr>\n",
       "    <tr>\n",
       "      <th>8</th>\n",
       "      <td>{u'username': u'DAMA_I', u'favourites_count': ...</td>\n",
       "      <td>MENCIONED</td>\n",
       "      <td>{u'lang': u'en', u'text': u'RT @DataMdlRockSta...</td>\n",
       "    </tr>\n",
       "    <tr>\n",
       "      <th>9</th>\n",
       "      <td>{u'username': u'DataMdlRockStar', u'favourites...</td>\n",
       "      <td>MENCIONED</td>\n",
       "      <td>{u'lang': u'en', u'text': u'RT @DataMdlRockSta...</td>\n",
       "    </tr>\n",
       "  </tbody>\n",
       "</table>\n",
       "</div>"
      ],
      "text/plain": [
       "                                                   a     type(R)  \\\n",
       "0  {u'lang': u'en', u'text': u'Join our NJ #Data ...   MENCIONED   \n",
       "1  {u'lang': u'en', u'text': u'RT @DataMdlRockSta...   MENCIONED   \n",
       "2  {u'lang': u'en', u'text': u'RT @DataMdlRockSta...     TWEETED   \n",
       "3  {u'username': u'DataMdlRockStar', u'favourites...  RETWEET_OF   \n",
       "4                          {u'hashtag': u'erstudio'}     HASHTAG   \n",
       "5                             {u'hashtag': u'nosql'}     HASHTAG   \n",
       "6                      {u'hashtag': u'datamodeling'}     HASHTAG   \n",
       "7                              {u'hashtag': u'Data'}     HASHTAG   \n",
       "8  {u'username': u'DAMA_I', u'favourites_count': ...   MENCIONED   \n",
       "9  {u'username': u'DataMdlRockStar', u'favourites...   MENCIONED   \n",
       "\n",
       "                                                   b  \n",
       "0  {u'username': u'DAMA_I', u'favourites_count': ...  \n",
       "1  {u'username': u'DAMA_I', u'favourites_count': ...  \n",
       "2  {u'username': u'DAMA_I', u'favourites_count': ...  \n",
       "3  {u'lang': u'en', u'text': u'RT @DataMdlRockSta...  \n",
       "4  {u'lang': u'en', u'text': u'RT @DataMdlRockSta...  \n",
       "5  {u'lang': u'en', u'text': u'RT @DataMdlRockSta...  \n",
       "6  {u'lang': u'en', u'text': u'RT @DataMdlRockSta...  \n",
       "7  {u'lang': u'en', u'text': u'RT @DataMdlRockSta...  \n",
       "8  {u'lang': u'en', u'text': u'RT @DataMdlRockSta...  \n",
       "9  {u'lang': u'en', u'text': u'RT @DataMdlRockSta...  "
      ]
     },
     "execution_count": 8,
     "metadata": {},
     "output_type": "execute_result"
    }
   ],
   "source": [
    "results = %cypher MATCH (a)-[R]-(b) RETURN a, type(R), b limit 10\n",
    "results.get_dataframe()"
   ]
  },
  {
   "cell_type": "code",
   "execution_count": 10,
   "metadata": {
    "collapsed": false
   },
   "outputs": [
    {
     "data": {
      "text/plain": [
       "<networkx.classes.multidigraph.MultiDiGraph at 0x7ff18ed1c4d0>"
      ]
     },
     "execution_count": 10,
     "metadata": {},
     "output_type": "execute_result"
    }
   ],
   "source": [
    "results.get_graph()"
   ]
  },
  {
   "cell_type": "code",
   "execution_count": null,
   "metadata": {
    "collapsed": true
   },
   "outputs": [],
   "source": []
  }
 ],
 "metadata": {
  "kernelspec": {
   "display_name": "Python 2",
   "language": "python",
   "name": "python2"
  },
  "language_info": {
   "codemirror_mode": {
    "name": "ipython",
    "version": 2
   },
   "file_extension": ".py",
   "mimetype": "text/x-python",
   "name": "python",
   "nbconvert_exporter": "python",
   "pygments_lexer": "ipython2",
   "version": "2.7.6"
  }
 },
 "nbformat": 4,
 "nbformat_minor": 0
}
