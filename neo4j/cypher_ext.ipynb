{
 "cells": [
  {
   "cell_type": "code",
   "execution_count": 11,
   "metadata": {
    "collapsed": false
   },
   "outputs": [
    {
     "name": "stdout",
     "output_type": "stream",
     "text": [
      "The cypher extension is already loaded. To reload it, use:\n",
      "  %reload_ext cypher\n"
     ]
    }
   ],
   "source": [
    "%load_ext cypher"
   ]
  },
  {
   "cell_type": "code",
   "execution_count": 12,
   "metadata": {
    "collapsed": false
   },
   "outputs": [
    {
     "name": "stdout",
     "output_type": "stream",
     "text": [
      "8 rows affected.\n"
     ]
    },
    {
     "data": {
      "text/html": [
       "<table>\n",
       "    <tr>\n",
       "        <th>a</th>\n",
       "        <th>b</th>\n",
       "    </tr>\n",
       "    <tr>\n",
       "        <td>{u'name': u'Morpheus'}</td>\n",
       "        <td>{u'name': u'Neo'}</td>\n",
       "    </tr>\n",
       "    <tr>\n",
       "        <td>{u'name': u'Trinity'}</td>\n",
       "        <td>{u'name': u'Neo'}</td>\n",
       "    </tr>\n",
       "    <tr>\n",
       "        <td>{u'name': u'Neo'}</td>\n",
       "        <td>{u'name': u'Morpheus'}</td>\n",
       "    </tr>\n",
       "    <tr>\n",
       "        <td>{u'name': u'Neo'}</td>\n",
       "        <td>{u'name': u'Trinity'}</td>\n",
       "    </tr>\n",
       "    <tr>\n",
       "        <td>{u'name': u'Morpheus'}</td>\n",
       "        <td>{u'name': u'Neo'}</td>\n",
       "    </tr>\n",
       "    <tr>\n",
       "        <td>{u'name': u'Trinity'}</td>\n",
       "        <td>{u'name': u'Neo'}</td>\n",
       "    </tr>\n",
       "    <tr>\n",
       "        <td>{u'name': u'Neo'}</td>\n",
       "        <td>{u'name': u'Morpheus'}</td>\n",
       "    </tr>\n",
       "    <tr>\n",
       "        <td>{u'name': u'Neo'}</td>\n",
       "        <td>{u'name': u'Trinity'}</td>\n",
       "    </tr>\n",
       "</table>"
      ],
      "text/plain": [
       "[[{u'name': u'Morpheus'}, {u'name': u'Neo'}],\n",
       " [{u'name': u'Trinity'}, {u'name': u'Neo'}],\n",
       " [{u'name': u'Neo'}, {u'name': u'Morpheus'}],\n",
       " [{u'name': u'Neo'}, {u'name': u'Trinity'}],\n",
       " [{u'name': u'Morpheus'}, {u'name': u'Neo'}],\n",
       " [{u'name': u'Trinity'}, {u'name': u'Neo'}],\n",
       " [{u'name': u'Neo'}, {u'name': u'Morpheus'}],\n",
       " [{u'name': u'Neo'}, {u'name': u'Trinity'}]]"
      ]
     },
     "execution_count": 12,
     "metadata": {},
     "output_type": "execute_result"
    }
   ],
   "source": [
    "%cypher MATCH (a)-[]-(b) RETURN a, b"
   ]
  },
  {
   "cell_type": "code",
   "execution_count": 3,
   "metadata": {
    "collapsed": false
   },
   "outputs": [
    {
     "name": "stdout",
     "output_type": "stream",
     "text": [
      "3 labels added.\n",
      "3 nodes created.\n",
      "3 properties set.\n",
      "2 relationships created.\n"
     ]
    },
    {
     "data": {
      "text/html": [
       "<table>\n",
       "    <tr>\n",
       "    </tr>\n",
       "</table>"
      ],
      "text/plain": [
       "[]"
      ]
     },
     "execution_count": 3,
     "metadata": {},
     "output_type": "execute_result"
    }
   ],
   "source": [
    "%%cypher\n",
    "create\n",
    "    // Nodes\n",
    "    (Neo:Crew {name:'Neo'}),\n",
    "    (Morpheus:Crew {name: 'Morpheus'}),\n",
    "    (Trinity:Crew {name: 'Trinity'}),\n",
    "    // Relationships\n",
    "    (Neo)-[:KNOWS]->(Morpheus),\n",
    "    (Neo)-[:LOVES]->(Trinity)"
   ]
  },
  {
   "cell_type": "code",
   "execution_count": 9,
   "metadata": {
    "collapsed": false
   },
   "outputs": [
    {
     "name": "stdout",
     "output_type": "stream",
     "text": [
      "8 rows affected.\n"
     ]
    },
    {
     "data": {
      "text/html": [
       "<div>\n",
       "<table border=\"1\" class=\"dataframe\">\n",
       "  <thead>\n",
       "    <tr style=\"text-align: right;\">\n",
       "      <th></th>\n",
       "      <th>a</th>\n",
       "      <th>R</th>\n",
       "      <th>b</th>\n",
       "    </tr>\n",
       "  </thead>\n",
       "  <tbody>\n",
       "    <tr>\n",
       "      <th>0</th>\n",
       "      <td>{u'name': u'Morpheus'}</td>\n",
       "      <td>{}</td>\n",
       "      <td>{u'name': u'Neo'}</td>\n",
       "    </tr>\n",
       "    <tr>\n",
       "      <th>1</th>\n",
       "      <td>{u'name': u'Trinity'}</td>\n",
       "      <td>{}</td>\n",
       "      <td>{u'name': u'Neo'}</td>\n",
       "    </tr>\n",
       "    <tr>\n",
       "      <th>2</th>\n",
       "      <td>{u'name': u'Neo'}</td>\n",
       "      <td>{}</td>\n",
       "      <td>{u'name': u'Morpheus'}</td>\n",
       "    </tr>\n",
       "    <tr>\n",
       "      <th>3</th>\n",
       "      <td>{u'name': u'Neo'}</td>\n",
       "      <td>{}</td>\n",
       "      <td>{u'name': u'Trinity'}</td>\n",
       "    </tr>\n",
       "    <tr>\n",
       "      <th>4</th>\n",
       "      <td>{u'name': u'Morpheus'}</td>\n",
       "      <td>{}</td>\n",
       "      <td>{u'name': u'Neo'}</td>\n",
       "    </tr>\n",
       "    <tr>\n",
       "      <th>5</th>\n",
       "      <td>{u'name': u'Trinity'}</td>\n",
       "      <td>{}</td>\n",
       "      <td>{u'name': u'Neo'}</td>\n",
       "    </tr>\n",
       "    <tr>\n",
       "      <th>6</th>\n",
       "      <td>{u'name': u'Neo'}</td>\n",
       "      <td>{}</td>\n",
       "      <td>{u'name': u'Morpheus'}</td>\n",
       "    </tr>\n",
       "    <tr>\n",
       "      <th>7</th>\n",
       "      <td>{u'name': u'Neo'}</td>\n",
       "      <td>{}</td>\n",
       "      <td>{u'name': u'Trinity'}</td>\n",
       "    </tr>\n",
       "  </tbody>\n",
       "</table>\n",
       "</div>"
      ],
      "text/plain": [
       "                        a   R                       b\n",
       "0  {u'name': u'Morpheus'}  {}       {u'name': u'Neo'}\n",
       "1   {u'name': u'Trinity'}  {}       {u'name': u'Neo'}\n",
       "2       {u'name': u'Neo'}  {}  {u'name': u'Morpheus'}\n",
       "3       {u'name': u'Neo'}  {}   {u'name': u'Trinity'}\n",
       "4  {u'name': u'Morpheus'}  {}       {u'name': u'Neo'}\n",
       "5   {u'name': u'Trinity'}  {}       {u'name': u'Neo'}\n",
       "6       {u'name': u'Neo'}  {}  {u'name': u'Morpheus'}\n",
       "7       {u'name': u'Neo'}  {}   {u'name': u'Trinity'}"
      ]
     },
     "execution_count": 9,
     "metadata": {},
     "output_type": "execute_result"
    }
   ],
   "source": [
    "results = %cypher MATCH (a)-[R]-(b) RETURN a, R, b\n",
    "results.get_dataframe()"
   ]
  },
  {
   "cell_type": "code",
   "execution_count": 10,
   "metadata": {
    "collapsed": false
   },
   "outputs": [
    {
     "data": {
      "text/plain": [
       "<networkx.classes.multidigraph.MultiDiGraph at 0x7f4f7d7b1490>"
      ]
     },
     "execution_count": 10,
     "metadata": {},
     "output_type": "execute_result"
    }
   ],
   "source": [
    "results.get_graph()"
   ]
  },
  {
   "cell_type": "code",
   "execution_count": null,
   "metadata": {
    "collapsed": true
   },
   "outputs": [],
   "source": []
  }
 ],
 "metadata": {
  "kernelspec": {
   "display_name": "Python 2",
   "language": "python",
   "name": "python2"
  },
  "language_info": {
   "codemirror_mode": {
    "name": "ipython",
    "version": 2
   },
   "file_extension": ".py",
   "mimetype": "text/x-python",
   "name": "python",
   "nbconvert_exporter": "python",
   "pygments_lexer": "ipython2",
   "version": "2.7.6"
  }
 },
 "nbformat": 4,
 "nbformat_minor": 0
}
