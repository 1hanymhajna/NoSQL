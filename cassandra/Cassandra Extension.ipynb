{
 "cells": [
  {
   "cell_type": "code",
   "execution_count": 1,
   "metadata": {
    "collapsed": false
   },
   "outputs": [
    {
     "name": "stderr",
     "output_type": "stream",
     "text": [
      "/usr/local/lib/python2.7/dist-packages/IPython/config.py:13: ShimWarning: The `IPython.config` package has been deprecated. You should import from traitlets.config instead.\n",
      "  \"You should import from traitlets.config instead.\", ShimWarning)\n"
     ]
    }
   ],
   "source": [
    "%load_ext cql"
   ]
  },
  {
   "cell_type": "code",
   "execution_count": 2,
   "metadata": {
    "collapsed": true
   },
   "outputs": [],
   "source": [
    "%reload_ext cql"
   ]
  },
  {
   "cell_type": "code",
   "execution_count": 3,
   "metadata": {
    "collapsed": false
   },
   "outputs": [
    {
     "data": {
      "text/html": [
       "<table>\n",
       "    <tr>\n",
       "        <th>keyspace_name</th>\n",
       "        <th>durable_writes</th>\n",
       "        <th>strategy_class</th>\n",
       "        <th>strategy_options</th>\n",
       "    </tr>\n",
       "    <tr>\n",
       "        <td>killrvideo</td>\n",
       "        <td>True</td>\n",
       "        <td>org.apache.cassandra.locator.SimpleStrategy</td>\n",
       "        <td>{\"replication_factor\":\"1\"}</td>\n",
       "    </tr>\n",
       "    <tr>\n",
       "        <td>system_auth</td>\n",
       "        <td>True</td>\n",
       "        <td>org.apache.cassandra.locator.SimpleStrategy</td>\n",
       "        <td>{\"replication_factor\":\"1\"}</td>\n",
       "    </tr>\n",
       "    <tr>\n",
       "        <td>system_distributed</td>\n",
       "        <td>True</td>\n",
       "        <td>org.apache.cassandra.locator.SimpleStrategy</td>\n",
       "        <td>{\"replication_factor\":\"3\"}</td>\n",
       "    </tr>\n",
       "    <tr>\n",
       "        <td>system</td>\n",
       "        <td>True</td>\n",
       "        <td>org.apache.cassandra.locator.LocalStrategy</td>\n",
       "        <td>{}</td>\n",
       "    </tr>\n",
       "    <tr>\n",
       "        <td>system_traces</td>\n",
       "        <td>True</td>\n",
       "        <td>org.apache.cassandra.locator.SimpleStrategy</td>\n",
       "        <td>{\"replication_factor\":\"2\"}</td>\n",
       "    </tr>\n",
       "    <tr>\n",
       "        <td>demo</td>\n",
       "        <td>True</td>\n",
       "        <td>org.apache.cassandra.locator.SimpleStrategy</td>\n",
       "        <td>{\"replication_factor\":\"1\"}</td>\n",
       "    </tr>\n",
       "</table>"
      ],
      "text/plain": [
       "+--------------------+----------------+---------------------------------------------+----------------------------+\n",
       "|   keyspace_name    | durable_writes |                strategy_class               |      strategy_options      |\n",
       "+--------------------+----------------+---------------------------------------------+----------------------------+\n",
       "|     killrvideo     |      True      | org.apache.cassandra.locator.SimpleStrategy | {\"replication_factor\":\"1\"} |\n",
       "|    system_auth     |      True      | org.apache.cassandra.locator.SimpleStrategy | {\"replication_factor\":\"1\"} |\n",
       "| system_distributed |      True      | org.apache.cassandra.locator.SimpleStrategy | {\"replication_factor\":\"3\"} |\n",
       "|       system       |      True      |  org.apache.cassandra.locator.LocalStrategy |             {}             |\n",
       "|   system_traces    |      True      | org.apache.cassandra.locator.SimpleStrategy | {\"replication_factor\":\"2\"} |\n",
       "|        demo        |      True      | org.apache.cassandra.locator.SimpleStrategy | {\"replication_factor\":\"1\"} |\n",
       "+--------------------+----------------+---------------------------------------------+----------------------------+"
      ]
     },
     "execution_count": 3,
     "metadata": {},
     "output_type": "execute_result"
    }
   ],
   "source": [
    "%cql select * from system.schema_keyspaces;"
   ]
  },
  {
   "cell_type": "code",
   "execution_count": 4,
   "metadata": {
    "collapsed": false
   },
   "outputs": [
    {
     "data": {
      "text/html": [
       "<table>\n",
       "    <tr>\n",
       "        <th>keyspace_name</th>\n",
       "        <th>durable_writes</th>\n",
       "        <th>strategy_class</th>\n",
       "        <th>strategy_options</th>\n",
       "    </tr>\n",
       "    <tr>\n",
       "        <td>system_auth</td>\n",
       "        <td>True</td>\n",
       "        <td>org.apache.cassandra.locator.SimpleStrategy</td>\n",
       "        <td>{\"replication_factor\":\"1\"}</td>\n",
       "    </tr>\n",
       "    <tr>\n",
       "        <td>system_distributed</td>\n",
       "        <td>True</td>\n",
       "        <td>org.apache.cassandra.locator.SimpleStrategy</td>\n",
       "        <td>{\"replication_factor\":\"3\"}</td>\n",
       "    </tr>\n",
       "    <tr>\n",
       "        <td>system</td>\n",
       "        <td>True</td>\n",
       "        <td>org.apache.cassandra.locator.LocalStrategy</td>\n",
       "        <td>{}</td>\n",
       "    </tr>\n",
       "    <tr>\n",
       "        <td>system_traces</td>\n",
       "        <td>True</td>\n",
       "        <td>org.apache.cassandra.locator.SimpleStrategy</td>\n",
       "        <td>{\"replication_factor\":\"2\"}</td>\n",
       "    </tr>\n",
       "</table>"
      ],
      "text/plain": [
       "+--------------------+----------------+---------------------------------------------+----------------------------+\n",
       "|   keyspace_name    | durable_writes |                strategy_class               |      strategy_options      |\n",
       "+--------------------+----------------+---------------------------------------------+----------------------------+\n",
       "|    system_auth     |      True      | org.apache.cassandra.locator.SimpleStrategy | {\"replication_factor\":\"1\"} |\n",
       "| system_distributed |      True      | org.apache.cassandra.locator.SimpleStrategy | {\"replication_factor\":\"3\"} |\n",
       "|       system       |      True      |  org.apache.cassandra.locator.LocalStrategy |             {}             |\n",
       "|   system_traces    |      True      | org.apache.cassandra.locator.SimpleStrategy | {\"replication_factor\":\"2\"} |\n",
       "+--------------------+----------------+---------------------------------------------+----------------------------+"
      ]
     },
     "execution_count": 4,
     "metadata": {},
     "output_type": "execute_result"
    }
   ],
   "source": [
    "%%cql \n",
    "select * \n",
    "from system.schema_keyspaces;"
   ]
  },
  {
   "cell_type": "code",
   "execution_count": 6,
   "metadata": {
    "collapsed": false
   },
   "outputs": [
    {
     "name": "stdout",
     "output_type": "stream",
     "text": [
      "Using keyspace system\n"
     ]
    }
   ],
   "source": [
    "%keyspace system"
   ]
  },
  {
   "cell_type": "code",
   "execution_count": 7,
   "metadata": {
    "collapsed": false
   },
   "outputs": [
    {
     "data": {
      "text/html": [
       "<table>\n",
       "    <tr>\n",
       "        <th>name</th>\n",
       "        <th>partition key</th>\n",
       "        <th>clustering key</th>\n",
       "        <th>compaction</th>\n",
       "    </tr>\n",
       "    <tr>\n",
       "        <td>available_ranges</td>\n",
       "        <td>keyspace_name</td>\n",
       "        <td></td>\n",
       "        <td>SizeTieredCompactionStrategy</td>\n",
       "    </tr>\n",
       "    <tr>\n",
       "        <td>range_xfers</td>\n",
       "        <td>token_bytes</td>\n",
       "        <td></td>\n",
       "        <td>SizeTieredCompactionStrategy</td>\n",
       "    </tr>\n",
       "    <tr>\n",
       "        <td>schema_keyspaces</td>\n",
       "        <td>keyspace_name</td>\n",
       "        <td></td>\n",
       "        <td>SizeTieredCompactionStrategy</td>\n",
       "    </tr>\n",
       "    <tr>\n",
       "        <td>schema_columns</td>\n",
       "        <td>keyspace_name</td>\n",
       "        <td>columnfamily_name,column_name</td>\n",
       "        <td>SizeTieredCompactionStrategy</td>\n",
       "    </tr>\n",
       "    <tr>\n",
       "        <td>IndexInfo</td>\n",
       "        <td>table_name</td>\n",
       "        <td>index_name</td>\n",
       "        <td>SizeTieredCompactionStrategy</td>\n",
       "    </tr>\n",
       "    <tr>\n",
       "        <td>size_estimates</td>\n",
       "        <td>keyspace_name</td>\n",
       "        <td>table_name,range_start,range_end</td>\n",
       "        <td>SizeTieredCompactionStrategy</td>\n",
       "    </tr>\n",
       "    <tr>\n",
       "        <td>peers</td>\n",
       "        <td>peer</td>\n",
       "        <td></td>\n",
       "        <td>SizeTieredCompactionStrategy</td>\n",
       "    </tr>\n",
       "    <tr>\n",
       "        <td>schema_triggers</td>\n",
       "        <td>keyspace_name</td>\n",
       "        <td>columnfamily_name,trigger_name</td>\n",
       "        <td>SizeTieredCompactionStrategy</td>\n",
       "    </tr>\n",
       "    <tr>\n",
       "        <td>sstable_activity</td>\n",
       "        <td>keyspace_name,columnfamily_name,generation</td>\n",
       "        <td></td>\n",
       "        <td>SizeTieredCompactionStrategy</td>\n",
       "    </tr>\n",
       "    <tr>\n",
       "        <td>peer_events</td>\n",
       "        <td>peer</td>\n",
       "        <td></td>\n",
       "        <td>SizeTieredCompactionStrategy</td>\n",
       "    </tr>\n",
       "    <tr>\n",
       "        <td>schema_usertypes</td>\n",
       "        <td>keyspace_name</td>\n",
       "        <td>type_name</td>\n",
       "        <td>SizeTieredCompactionStrategy</td>\n",
       "    </tr>\n",
       "    <tr>\n",
       "        <td>paxos</td>\n",
       "        <td>row_key</td>\n",
       "        <td>cf_id</td>\n",
       "        <td>LeveledCompactionStrategy</td>\n",
       "    </tr>\n",
       "    <tr>\n",
       "        <td>batchlog</td>\n",
       "        <td>id</td>\n",
       "        <td></td>\n",
       "        <td>SizeTieredCompactionStrategy</td>\n",
       "    </tr>\n",
       "    <tr>\n",
       "        <td>schema_functions</td>\n",
       "        <td>keyspace_name</td>\n",
       "        <td>function_name,signature</td>\n",
       "        <td>SizeTieredCompactionStrategy</td>\n",
       "    </tr>\n",
       "    <tr>\n",
       "        <td>compaction_history</td>\n",
       "        <td>id</td>\n",
       "        <td></td>\n",
       "        <td>SizeTieredCompactionStrategy</td>\n",
       "    </tr>\n",
       "    <tr>\n",
       "        <td>compactions_in_progress</td>\n",
       "        <td>id</td>\n",
       "        <td></td>\n",
       "        <td>SizeTieredCompactionStrategy</td>\n",
       "    </tr>\n",
       "    <tr>\n",
       "        <td>schema_aggregates</td>\n",
       "        <td>keyspace_name</td>\n",
       "        <td>aggregate_name,signature</td>\n",
       "        <td>SizeTieredCompactionStrategy</td>\n",
       "    </tr>\n",
       "    <tr>\n",
       "        <td>schema_columnfamilies</td>\n",
       "        <td>keyspace_name</td>\n",
       "        <td>columnfamily_name</td>\n",
       "        <td>SizeTieredCompactionStrategy</td>\n",
       "    </tr>\n",
       "    <tr>\n",
       "        <td>local</td>\n",
       "        <td>key</td>\n",
       "        <td></td>\n",
       "        <td>SizeTieredCompactionStrategy</td>\n",
       "    </tr>\n",
       "    <tr>\n",
       "        <td>hints</td>\n",
       "        <td>target_id</td>\n",
       "        <td>hint_id,message_version</td>\n",
       "        <td>SizeTieredCompactionStrategy</td>\n",
       "    </tr>\n",
       "</table>"
      ],
      "text/plain": [
       "+-------------------------+--------------------------------------------+----------------------------------+------------------------------+\n",
       "|           name          |               partition key                |          clustering key          |          compaction          |\n",
       "+-------------------------+--------------------------------------------+----------------------------------+------------------------------+\n",
       "|     available_ranges    |               keyspace_name                |                                  | SizeTieredCompactionStrategy |\n",
       "|       range_xfers       |                token_bytes                 |                                  | SizeTieredCompactionStrategy |\n",
       "|     schema_keyspaces    |               keyspace_name                |                                  | SizeTieredCompactionStrategy |\n",
       "|      schema_columns     |               keyspace_name                |  columnfamily_name,column_name   | SizeTieredCompactionStrategy |\n",
       "|        IndexInfo        |                 table_name                 |            index_name            | SizeTieredCompactionStrategy |\n",
       "|      size_estimates     |               keyspace_name                | table_name,range_start,range_end | SizeTieredCompactionStrategy |\n",
       "|          peers          |                    peer                    |                                  | SizeTieredCompactionStrategy |\n",
       "|     schema_triggers     |               keyspace_name                |  columnfamily_name,trigger_name  | SizeTieredCompactionStrategy |\n",
       "|     sstable_activity    | keyspace_name,columnfamily_name,generation |                                  | SizeTieredCompactionStrategy |\n",
       "|       peer_events       |                    peer                    |                                  | SizeTieredCompactionStrategy |\n",
       "|     schema_usertypes    |               keyspace_name                |            type_name             | SizeTieredCompactionStrategy |\n",
       "|          paxos          |                  row_key                   |              cf_id               |  LeveledCompactionStrategy   |\n",
       "|         batchlog        |                     id                     |                                  | SizeTieredCompactionStrategy |\n",
       "|     schema_functions    |               keyspace_name                |     function_name,signature      | SizeTieredCompactionStrategy |\n",
       "|    compaction_history   |                     id                     |                                  | SizeTieredCompactionStrategy |\n",
       "| compactions_in_progress |                     id                     |                                  | SizeTieredCompactionStrategy |\n",
       "|    schema_aggregates    |               keyspace_name                |     aggregate_name,signature     | SizeTieredCompactionStrategy |\n",
       "|  schema_columnfamilies  |               keyspace_name                |        columnfamily_name         | SizeTieredCompactionStrategy |\n",
       "|          local          |                    key                     |                                  | SizeTieredCompactionStrategy |\n",
       "|          hints          |                 target_id                  |     hint_id,message_version      | SizeTieredCompactionStrategy |\n",
       "+-------------------------+--------------------------------------------+----------------------------------+------------------------------+"
      ]
     },
     "execution_count": 7,
     "metadata": {},
     "output_type": "execute_result"
    }
   ],
   "source": [
    "%tables"
   ]
  },
  {
   "cell_type": "code",
   "execution_count": null,
   "metadata": {
    "collapsed": true
   },
   "outputs": [],
   "source": []
  }
 ],
 "metadata": {
  "kernelspec": {
   "display_name": "Python 2",
   "language": "python",
   "name": "python2"
  },
  "language_info": {
   "codemirror_mode": {
    "name": "ipython",
    "version": 2
   },
   "file_extension": ".py",
   "mimetype": "text/x-python",
   "name": "python",
   "nbconvert_exporter": "python",
   "pygments_lexer": "ipython2",
   "version": "2.7.6"
  }
 },
 "nbformat": 4,
 "nbformat_minor": 0
}
