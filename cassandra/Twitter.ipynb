{
 "cells": [
  {
   "cell_type": "code",
   "execution_count": 1,
   "metadata": {
    "collapsed": false
   },
   "outputs": [
    {
     "name": "stderr",
     "output_type": "stream",
     "text": [
      "/usr/local/lib/python2.7/dist-packages/IPython/config.py:13: ShimWarning: The `IPython.config` package has been deprecated. You should import from traitlets.config instead.\n",
      "  \"You should import from traitlets.config instead.\", ShimWarning)\n"
     ]
    }
   ],
   "source": [
    "%load_ext cql"
   ]
  },
  {
   "cell_type": "code",
   "execution_count": 158,
   "metadata": {
    "collapsed": false
   },
   "outputs": [
    {
     "data": {
      "text/plain": [
       "'No results.'"
      ]
     },
     "execution_count": 158,
     "metadata": {},
     "output_type": "execute_result"
    }
   ],
   "source": [
    "%%cql\n",
    "DROP KEYSPACE twitter "
   ]
  },
  {
   "cell_type": "code",
   "execution_count": 159,
   "metadata": {
    "collapsed": false
   },
   "outputs": [
    {
     "data": {
      "text/plain": [
       "'No results.'"
      ]
     },
     "execution_count": 159,
     "metadata": {},
     "output_type": "execute_result"
    }
   ],
   "source": [
    "%%cql\n",
    "CREATE KEYSPACE twitter \n",
    "WITH replication = {'class': 'SimpleStrategy', 'replication_factor' : 1};"
   ]
  },
  {
   "cell_type": "code",
   "execution_count": 160,
   "metadata": {
    "collapsed": false
   },
   "outputs": [
    {
     "name": "stdout",
     "output_type": "stream",
     "text": [
      "Using keyspace twitter\n"
     ]
    }
   ],
   "source": [
    "%keyspace twitter"
   ]
  },
  {
   "cell_type": "code",
   "execution_count": 161,
   "metadata": {
    "collapsed": false
   },
   "outputs": [
    {
     "data": {
      "text/plain": [
       "'No results.'"
      ]
     },
     "execution_count": 161,
     "metadata": {},
     "output_type": "execute_result"
    }
   ],
   "source": [
    "%%cql\n",
    "CREATE TABLE users (\n",
    "    username text PRIMARY KEY,\n",
    "    password text\n",
    ")"
   ]
  },
  {
   "cell_type": "code",
   "execution_count": 162,
   "metadata": {
    "collapsed": false
   },
   "outputs": [
    {
     "data": {
      "text/plain": [
       "'No results.'"
      ]
     },
     "execution_count": 162,
     "metadata": {},
     "output_type": "execute_result"
    }
   ],
   "source": [
    "%%cql\n",
    "CREATE TABLE friends (\n",
    "    username text,\n",
    "    friend text,\n",
    "    since timestamp,\n",
    "    PRIMARY KEY (username, friend)\n",
    ")"
   ]
  },
  {
   "cell_type": "code",
   "execution_count": 163,
   "metadata": {
    "collapsed": false
   },
   "outputs": [
    {
     "data": {
      "text/plain": [
       "'No results.'"
      ]
     },
     "execution_count": 163,
     "metadata": {},
     "output_type": "execute_result"
    }
   ],
   "source": [
    "%%cql\n",
    "CREATE TABLE followers (\n",
    "    username text,\n",
    "    follower text,\n",
    "    since timestamp,\n",
    "    PRIMARY KEY (username, follower)\n",
    ")"
   ]
  },
  {
   "cell_type": "code",
   "execution_count": 164,
   "metadata": {
    "collapsed": false
   },
   "outputs": [
    {
     "data": {
      "text/plain": [
       "'No results.'"
      ]
     },
     "execution_count": 164,
     "metadata": {},
     "output_type": "execute_result"
    }
   ],
   "source": [
    "%%cql\n",
    "CREATE TABLE tweets (\n",
    "    tweet_id uuid PRIMARY KEY,\n",
    "    username text,\n",
    "    body text\n",
    ")"
   ]
  },
  {
   "cell_type": "code",
   "execution_count": 165,
   "metadata": {
    "collapsed": false
   },
   "outputs": [
    {
     "data": {
      "text/plain": [
       "'No results.'"
      ]
     },
     "execution_count": 165,
     "metadata": {},
     "output_type": "execute_result"
    }
   ],
   "source": [
    "%%cql\n",
    "CREATE TABLE userline (\n",
    "    username text,\n",
    "    time timeuuid,\n",
    "    tweet_id uuid,\n",
    "    PRIMARY KEY (username, time)\n",
    ") WITH CLUSTERING ORDER BY (time DESC)"
   ]
  },
  {
   "cell_type": "code",
   "execution_count": 166,
   "metadata": {
    "collapsed": false
   },
   "outputs": [
    {
     "data": {
      "text/plain": [
       "'No results.'"
      ]
     },
     "execution_count": 166,
     "metadata": {},
     "output_type": "execute_result"
    }
   ],
   "source": [
    "%%cql\n",
    "CREATE TABLE timeline (\n",
    "    username text,\n",
    "    time timeuuid,\n",
    "    tweet_id uuid,\n",
    "    PRIMARY KEY (username, time)\n",
    ") WITH CLUSTERING ORDER BY (time DESC)"
   ]
  },
  {
   "cell_type": "code",
   "execution_count": 167,
   "metadata": {
    "collapsed": true
   },
   "outputs": [],
   "source": [
    "from cassandra.cluster import Cluster\n",
    "\n",
    "cluster = Cluster(['127.0.0.1'])\n",
    "session = cluster.connect('twitter')"
   ]
  },
  {
   "cell_type": "code",
   "execution_count": 168,
   "metadata": {
    "collapsed": false
   },
   "outputs": [],
   "source": [
    "import datetime\n",
    "import loremipsum\n",
    "import string\n",
    "import time\n",
    "import uuid\n",
    "import random\n",
    "from uuid import uuid1, UUID"
   ]
  },
  {
   "cell_type": "code",
   "execution_count": 169,
   "metadata": {
    "collapsed": true
   },
   "outputs": [],
   "source": [
    "random.seed( 103 )"
   ]
  },
  {
   "cell_type": "code",
   "execution_count": 170,
   "metadata": {
    "collapsed": true
   },
   "outputs": [],
   "source": [
    "# Oldest account is 10 years\n",
    "origin = int(\n",
    "    time.time() +\n",
    "    datetime.timedelta(days=365.25 * 10).total_seconds() * 1e6)\n",
    "now = int(time.time() * 1e6)\n"
   ]
  },
  {
   "cell_type": "code",
   "execution_count": 171,
   "metadata": {
    "collapsed": false
   },
   "outputs": [
    {
     "name": "stdout",
     "output_type": "stream",
     "text": [
      "315577444709734 1444709734044478\n"
     ]
    }
   ],
   "source": [
    "print origin, now"
   ]
  },
  {
   "cell_type": "code",
   "execution_count": 172,
   "metadata": {
    "collapsed": false
   },
   "outputs": [],
   "source": [
    "num_users = 10\n",
    "max_tweets = 100\n"
   ]
  },
  {
   "cell_type": "code",
   "execution_count": 173,
   "metadata": {
    "collapsed": true
   },
   "outputs": [],
   "source": [
    "# Generate number of tweets based on a Zipfian distribution\n",
    "sample = [random.paretovariate(15) - 1 for x in range(max_tweets)]\n",
    "normalizer = 1 / float(max(sample)) * max_tweets\n",
    "num_tweets = [int(x * normalizer) for x in sample]"
   ]
  },
  {
   "cell_type": "code",
   "execution_count": 174,
   "metadata": {
    "collapsed": false
   },
   "outputs": [
    {
     "name": "stdout",
     "output_type": "stream",
     "text": [
      "[66, 9, 19, 20, 3, 1, 14, 1, 7, 35, 33, 1, 1, 3, 28, 0, 3, 1, 2, 11, 3, 8, 20, 20, 8, 24, 13, 28, 4, 7, 13, 48, 15, 9, 4, 5, 3, 75, 35, 36, 11, 19, 5, 10, 2, 8, 4, 1, 41, 1, 26, 18, 1, 10, 100, 75, 12, 23, 19, 5, 12, 14, 7, 27, 9, 21, 1, 9, 0, 16, 33, 12, 12, 15, 3, 7, 13, 16, 7, 10, 6, 12, 17, 6, 18, 30, 11, 67, 5, 41, 3, 6, 27, 0, 14, 33, 47, 17, 6, 6]\n"
     ]
    }
   ],
   "source": [
    "print num_tweets"
   ]
  },
  {
   "cell_type": "code",
   "execution_count": 175,
   "metadata": {
    "collapsed": true
   },
   "outputs": [],
   "source": [
    "# Prepared statements, reuse as much as possible by binding new values\n",
    "add_user_query = None\n",
    "userline_query = None\n",
    "timeline_query = None\n",
    "get_followers_query = None\n",
    "get_tweets_query = None\n",
    "tweets_query = None"
   ]
  },
  {
   "cell_type": "code",
   "execution_count": 176,
   "metadata": {
    "collapsed": true
   },
   "outputs": [],
   "source": [
    "# NOTE: Having a single userline key to store all of the public tweets is not\n",
    "#       scalable.  This result in all public tweets being stored in a single\n",
    "#       partition, which means they must all fit on a single node.\n",
    "#\n",
    "#       One fix for this is to partition the timeline by time, so we could use\n",
    "#       a key like !PUBLIC!2010-04-01 to partition it per day.  We could drill\n",
    "#       down even further into hourly keys, etc.  Since this is a demonstration\n",
    "#       and that would add quite a bit of extra code, this excercise is left to\n",
    "#       the reader.\n",
    "PUBLIC_USERLINE_KEY = '!PUBLIC!'"
   ]
  },
  {
   "cell_type": "code",
   "execution_count": 177,
   "metadata": {
    "collapsed": true
   },
   "outputs": [],
   "source": [
    "def get_random_string():\n",
    "    return ''.join(random.sample(string.letters, 10))"
   ]
  },
  {
   "cell_type": "code",
   "execution_count": 178,
   "metadata": {
    "collapsed": true
   },
   "outputs": [],
   "source": [
    "def save_user(username, password):\n",
    "    \"\"\"\n",
    "    Saves the user record.\n",
    "    \"\"\"\n",
    "    global add_user_query\n",
    "    if add_user_query is None:\n",
    "        add_user_query = session.prepare(\"\"\"\n",
    "            INSERT INTO users (username, password)\n",
    "            VALUES (?, ?)\n",
    "            \"\"\")\n",
    "\n",
    "    session.execute(add_user_query, (username, password))"
   ]
  },
  {
   "cell_type": "code",
   "execution_count": 179,
   "metadata": {
    "collapsed": true
   },
   "outputs": [],
   "source": [
    "def get_follower_usernames(username, count=5000):\n",
    "    \"\"\"\n",
    "    Given a username, gets the usernames of the people following that user.\n",
    "    \"\"\"\n",
    "    global get_followers_query\n",
    "    if get_followers_query is None:\n",
    "        get_followers_query = session.prepare(\"\"\"\n",
    "            SELECT follower FROM followers WHERE username=? LIMIT ?\n",
    "            \"\"\")\n",
    "\n",
    "    rows = session.execute(get_followers_query, (username, count))\n",
    "    return [row.follower for row in rows]"
   ]
  },
  {
   "cell_type": "code",
   "execution_count": 180,
   "metadata": {
    "collapsed": true
   },
   "outputs": [],
   "source": [
    "def get_tweet(tweet_id):\n",
    "    \"\"\"\n",
    "    Given a tweet id, this gets the entire tweet record.\n",
    "    \"\"\"\n",
    "    global get_tweets_query\n",
    "    if get_tweets_query is None:\n",
    "        get_tweets_query = session.prepare(\"\"\"\n",
    "            SELECT * FROM tweets WHERE tweet_id=?\n",
    "            \"\"\")\n",
    "\n",
    "    results = session.execute(get_tweets_query, (tweet_id, ))\n",
    "    if not results:\n",
    "        raise NotFound('Tweet %s not found' % (tweet_id,))\n",
    "    else:\n",
    "        return results[0]"
   ]
  },
  {
   "cell_type": "code",
   "execution_count": 181,
   "metadata": {
    "collapsed": true
   },
   "outputs": [],
   "source": [
    "def _timestamp_to_uuid(time_arg):\n",
    "    microseconds = int(time_arg * 1e6)\n",
    "    timestamp = int(microseconds * 10) + 0x01b21dd213814000L\n",
    "\n",
    "    time_low = timestamp & 0xffffffffL\n",
    "    time_mid = (timestamp >> 32L) & 0xffffL\n",
    "    time_hi_version = (timestamp >> 48L) & 0x0fffL\n",
    "\n",
    "    rand_bits = random.getrandbits(8 + 8 + 48)\n",
    "    clock_seq_low = rand_bits & 0xffL\n",
    "    clock_seq_hi_variant = 0b10000000 | (0b00111111 & ((rand_bits & 0xff00L) >> 8))\n",
    "    node = (rand_bits & 0xffffffffffff0000L) >> 16\n",
    "    return UUID(\n",
    "        fields=(time_low, time_mid, time_hi_version, clock_seq_hi_variant, clock_seq_low, node),\n",
    "        version=1)"
   ]
  },
  {
   "cell_type": "code",
   "execution_count": 182,
   "metadata": {
    "collapsed": true
   },
   "outputs": [],
   "source": [
    "def save_tweet(tweet_id, username, tweet, timestamp=None):\n",
    "    \"\"\"\n",
    "    Saves the tweet record.\n",
    "    \"\"\"\n",
    "\n",
    "    global tweets_query\n",
    "    global userline_query\n",
    "    global timeline_query\n",
    "\n",
    "    # Prepare the statements required for adding the tweet into the various timelines\n",
    "    # Initialise only once, and then re-use by binding new values\n",
    "    if tweets_query is None:\n",
    "        tweets_query = session.prepare(\"\"\"\n",
    "            INSERT INTO tweets (tweet_id, username, body)\n",
    "            VALUES (?, ?, ?)\n",
    "            \"\"\")\n",
    "\n",
    "    if userline_query is None:\n",
    "        userline_query = session.prepare(\"\"\"\n",
    "            INSERT INTO userline (username, time, tweet_id)\n",
    "            VALUES (?, ?, ?)\n",
    "            \"\"\")\n",
    "\n",
    "    if timeline_query is None:\n",
    "        timeline_query = session.prepare(\"\"\"\n",
    "            INSERT INTO timeline (username, time, tweet_id)\n",
    "            VALUES (?, ?, ?)\n",
    "            \"\"\")\n",
    "\n",
    "    if timestamp is None:\n",
    "        now = uuid1()\n",
    "    else:\n",
    "        now = _timestamp_to_uuid(timestamp)\n",
    "\n",
    "    # Insert the tweet\n",
    "    session.execute(tweets_query, (tweet_id, username, tweet,))\n",
    "    # Insert tweet into the user's timeline\n",
    "    session.execute(userline_query, (username, now, tweet_id,))\n",
    "    # Insert tweet into the public timeline\n",
    "    session.execute(userline_query, (PUBLIC_USERLINE_KEY, now, tweet_id,))\n",
    "\n",
    "    # Get the user's followers, and insert the tweet into all of their streams\n",
    "    futures = []\n",
    "    follower_usernames = [username] + get_follower_usernames(username)\n",
    "    for follower_username in follower_usernames:\n",
    "        futures.append(session.execute_async(\n",
    "            timeline_query, (follower_username, now, tweet_id,)))\n",
    "\n",
    "    for future in futures:\n",
    "        future.result()\n"
   ]
  },
  {
   "cell_type": "code",
   "execution_count": 183,
   "metadata": {
    "collapsed": true
   },
   "outputs": [],
   "source": [
    "def get_tweet_sample():\n",
    "    return loremipsum.get_sentence()"
   ]
  },
  {
   "cell_type": "code",
   "execution_count": 184,
   "metadata": {
    "collapsed": false
   },
   "outputs": [
    {
     "name": "stdout",
     "output_type": "stream",
     "text": [
      "created user\n",
      "created user\n",
      "created user\n",
      "created user\n",
      "created user\n",
      "created user\n",
      "created user\n",
      "created user\n",
      "created user\n",
      "created user\n"
     ]
    }
   ],
   "source": [
    "for i in range(num_users):\n",
    "    username = get_random_string()\n",
    "    save_user(username, get_random_string())\n",
    "    creation_date = random.randint(origin, now)\n",
    "\n",
    "    for _ in range(num_tweets[i % max_tweets]):\n",
    "        save_tweet(uuid.uuid1(), username, get_tweet_sample(), timestamp=random.randint(creation_date, now))\n",
    "\n",
    "    print \"created user\""
   ]
  },
  {
   "cell_type": "code",
   "execution_count": 185,
   "metadata": {
    "collapsed": false
   },
   "outputs": [
    {
     "data": {
      "text/html": [
       "<table>\n",
       "    <tr>\n",
       "        <th>username</th>\n",
       "        <th>password</th>\n",
       "    </tr>\n",
       "    <tr>\n",
       "        <td>qCbDvVEnkj</td>\n",
       "        <td>LMGEmqlUCf</td>\n",
       "    </tr>\n",
       "    <tr>\n",
       "        <td>JWOGjevrqw</td>\n",
       "        <td>btFhApJSPc</td>\n",
       "    </tr>\n",
       "    <tr>\n",
       "        <td>CaOlFcWRur</td>\n",
       "        <td>JYQVKkPdeO</td>\n",
       "    </tr>\n",
       "    <tr>\n",
       "        <td>xwMInYckLg</td>\n",
       "        <td>cZEftUvCTo</td>\n",
       "    </tr>\n",
       "    <tr>\n",
       "        <td>xvDQguJmVi</td>\n",
       "        <td>UuHISgkOdh</td>\n",
       "    </tr>\n",
       "    <tr>\n",
       "        <td>aKhLsRvobE</td>\n",
       "        <td>wiSlQxkmsa</td>\n",
       "    </tr>\n",
       "    <tr>\n",
       "        <td>uWkCmTdgFc</td>\n",
       "        <td>VzRqATDXHW</td>\n",
       "    </tr>\n",
       "    <tr>\n",
       "        <td>bFixEMlTIO</td>\n",
       "        <td>mOxPbNMsHF</td>\n",
       "    </tr>\n",
       "    <tr>\n",
       "        <td>gDBreHTNmM</td>\n",
       "        <td>lzPMZSbOiu</td>\n",
       "    </tr>\n",
       "    <tr>\n",
       "        <td>sSfgFLUDQw</td>\n",
       "        <td>iyBOoAClva</td>\n",
       "    </tr>\n",
       "</table>"
      ],
      "text/plain": [
       "+------------+------------+\n",
       "|  username  |  password  |\n",
       "+------------+------------+\n",
       "| qCbDvVEnkj | LMGEmqlUCf |\n",
       "| JWOGjevrqw | btFhApJSPc |\n",
       "| CaOlFcWRur | JYQVKkPdeO |\n",
       "| xwMInYckLg | cZEftUvCTo |\n",
       "| xvDQguJmVi | UuHISgkOdh |\n",
       "| aKhLsRvobE | wiSlQxkmsa |\n",
       "| uWkCmTdgFc | VzRqATDXHW |\n",
       "| bFixEMlTIO | mOxPbNMsHF |\n",
       "| gDBreHTNmM | lzPMZSbOiu |\n",
       "| sSfgFLUDQw | iyBOoAClva |\n",
       "+------------+------------+"
      ]
     },
     "execution_count": 185,
     "metadata": {},
     "output_type": "execute_result"
    }
   ],
   "source": [
    "%cql SELECT * FROM users"
   ]
  },
  {
   "cell_type": "code",
   "execution_count": 71,
   "metadata": {
    "collapsed": false
   },
   "outputs": [
    {
     "ename": "SyntaxError",
     "evalue": "invalid syntax (<ipython-input-71-04e20bc5fcee>, line 1)",
     "output_type": "error",
     "traceback": [
      "\u001b[1;36m  File \u001b[1;32m\"<ipython-input-71-04e20bc5fcee>\"\u001b[1;36m, line \u001b[1;32m1\u001b[0m\n\u001b[1;33m    https://github.com/twissandra/twissandra/blob/master/cass.py\u001b[0m\n\u001b[1;37m         ^\u001b[0m\n\u001b[1;31mSyntaxError\u001b[0m\u001b[1;31m:\u001b[0m invalid syntax\n"
     ]
    }
   ],
   "source": [
    "#https://github.com/twissandra/twissandra/blob/master/cass.py"
   ]
  },
  {
   "cell_type": "code",
   "execution_count": 187,
   "metadata": {
    "collapsed": false
   },
   "outputs": [
    {
     "data": {
      "text/html": [
       "<table>\n",
       "    <tr>\n",
       "        <th>tweet_id</th>\n",
       "        <th>body</th>\n",
       "        <th>username</th>\n",
       "    </tr>\n",
       "    <tr>\n",
       "        <td>11e2b65a-7161-11e5-bca0-080027e4c06a</td>\n",
       "        <td>Risus dolor ullamcorper maecenas blandit.</td>\n",
       "        <td>gDBreHTNmM</td>\n",
       "    </tr>\n",
       "    <tr>\n",
       "        <td>11f4c6ce-7161-11e5-bca0-080027e4c06a</td>\n",
       "        <td>Neque justo aenean fringilla metus imperdiet cursus.</td>\n",
       "        <td>gDBreHTNmM</td>\n",
       "    </tr>\n",
       "    <tr>\n",
       "        <td>11dcfbac-7161-11e5-bca0-080027e4c06a</td>\n",
       "        <td>Class fames ultrices imperdiet at ullamcorper ut dictum bibendum ullamcorper accumsan quam feugiat.</td>\n",
       "        <td>gDBreHTNmM</td>\n",
       "    </tr>\n",
       "    <tr>\n",
       "        <td>11cdc01a-7161-11e5-bca0-080027e4c06a</td>\n",
       "        <td>Neque magna vel cras augue mattis nisl tempus senectus porttitor neque nullam.</td>\n",
       "        <td>gDBreHTNmM</td>\n",
       "    </tr>\n",
       "    <tr>\n",
       "        <td>125b8b0c-7161-11e5-bca0-080027e4c06a</td>\n",
       "        <td>Lacus fames accumsan metus morbi vivamus.</td>\n",
       "        <td>bFixEMlTIO</td>\n",
       "    </tr>\n",
       "    <tr>\n",
       "        <td>1267b21a-7161-11e5-bca0-080027e4c06a</td>\n",
       "        <td>Risus vitae morbi sit hymenaeos.</td>\n",
       "        <td>CaOlFcWRur</td>\n",
       "    </tr>\n",
       "    <tr>\n",
       "        <td>127cfb20-7161-11e5-bca0-080027e4c06a</td>\n",
       "        <td>Donec magna pretium feugiat varius cursus.</td>\n",
       "        <td>CaOlFcWRur</td>\n",
       "    </tr>\n",
       "    <tr>\n",
       "        <td>11e00d60-7161-11e5-bca0-080027e4c06a</td>\n",
       "        <td>Purus porta taciti proin parturient eleifend nisi ligula elementum torquent.</td>\n",
       "        <td>gDBreHTNmM</td>\n",
       "    </tr>\n",
       "    <tr>\n",
       "        <td>1218d726-7161-11e5-bca0-080027e4c06a</td>\n",
       "        <td>Metus vitae arcu tincidunt hac augue convallis posuere tortor felis.</td>\n",
       "        <td>uWkCmTdgFc</td>\n",
       "    </tr>\n",
       "    <tr>\n",
       "        <td>1233151e-7161-11e5-bca0-080027e4c06a</td>\n",
       "        <td>Lacus fusce.</td>\n",
       "        <td>xvDQguJmVi</td>\n",
       "    </tr>\n",
       "</table>"
      ],
      "text/plain": [
       "+--------------------------------------+-----------------------------------------------------------------------------------------------------+------------+\n",
       "|               tweet_id               |                                                 body                                                |  username  |\n",
       "+--------------------------------------+-----------------------------------------------------------------------------------------------------+------------+\n",
       "| 11e2b65a-7161-11e5-bca0-080027e4c06a |                              Risus dolor ullamcorper maecenas blandit.                              | gDBreHTNmM |\n",
       "| 11f4c6ce-7161-11e5-bca0-080027e4c06a |                         Neque justo aenean fringilla metus imperdiet cursus.                        | gDBreHTNmM |\n",
       "| 11dcfbac-7161-11e5-bca0-080027e4c06a | Class fames ultrices imperdiet at ullamcorper ut dictum bibendum ullamcorper accumsan quam feugiat. | gDBreHTNmM |\n",
       "| 11cdc01a-7161-11e5-bca0-080027e4c06a |            Neque magna vel cras augue mattis nisl tempus senectus porttitor neque nullam.           | gDBreHTNmM |\n",
       "| 125b8b0c-7161-11e5-bca0-080027e4c06a |                              Lacus fames accumsan metus morbi vivamus.                              | bFixEMlTIO |\n",
       "| 1267b21a-7161-11e5-bca0-080027e4c06a |                                   Risus vitae morbi sit hymenaeos.                                  | CaOlFcWRur |\n",
       "| 127cfb20-7161-11e5-bca0-080027e4c06a |                              Donec magna pretium feugiat varius cursus.                             | CaOlFcWRur |\n",
       "| 11e00d60-7161-11e5-bca0-080027e4c06a |             Purus porta taciti proin parturient eleifend nisi ligula elementum torquent.            | gDBreHTNmM |\n",
       "| 1218d726-7161-11e5-bca0-080027e4c06a |                 Metus vitae arcu tincidunt hac augue convallis posuere tortor felis.                | uWkCmTdgFc |\n",
       "| 1233151e-7161-11e5-bca0-080027e4c06a |                                             Lacus fusce.                                            | xvDQguJmVi |\n",
       "+--------------------------------------+-----------------------------------------------------------------------------------------------------+------------+"
      ]
     },
     "execution_count": 187,
     "metadata": {},
     "output_type": "execute_result"
    }
   ],
   "source": [
    "%cql SELECT * FROM tweets LIMIT 10"
   ]
  },
  {
   "cell_type": "code",
   "execution_count": 188,
   "metadata": {
    "collapsed": false
   },
   "outputs": [
    {
     "data": {
      "text/html": [
       "<table>\n",
       "    <tr>\n",
       "        <th>username</th>\n",
       "        <th>time</th>\n",
       "        <th>tweet_id</th>\n",
       "    </tr>\n",
       "    <tr>\n",
       "        <td>qCbDvVEnkj</td>\n",
       "        <td>b9794000-0d52-1eb0-97ab-743961671b6d</td>\n",
       "        <td>1243c594-7161-11e5-bca0-080027e4c06a</td>\n",
       "    </tr>\n",
       "    <tr>\n",
       "        <td>!PUBLIC!</td>\n",
       "        <td>2b1f4000-89a9-1fe5-abe5-b0c2861840a6</td>\n",
       "        <td>11b34294-7161-11e5-bca0-080027e4c06a</td>\n",
       "    </tr>\n",
       "    <tr>\n",
       "        <td>!PUBLIC!</td>\n",
       "        <td>c9e54000-77d7-1fc6-ba71-f6a73e37faeb</td>\n",
       "        <td>11f90018-7161-11e5-bca0-080027e4c06a</td>\n",
       "    </tr>\n",
       "    <tr>\n",
       "        <td>!PUBLIC!</td>\n",
       "        <td>ef3d4000-b230-1fbf-85da-37e8948890d6</td>\n",
       "        <td>120683fa-7161-11e5-bca0-080027e4c06a</td>\n",
       "    </tr>\n",
       "    <tr>\n",
       "        <td>!PUBLIC!</td>\n",
       "        <td>9f514000-d146-1fb7-9d7e-2a7a7e305ab3</td>\n",
       "        <td>120a4bac-7161-11e5-bca0-080027e4c06a</td>\n",
       "    </tr>\n",
       "    <tr>\n",
       "        <td>!PUBLIC!</td>\n",
       "        <td>00594000-3efc-1fab-9932-c6dfb0ae9213</td>\n",
       "        <td>1227c722-7161-11e5-bca0-080027e4c06a</td>\n",
       "    </tr>\n",
       "    <tr>\n",
       "        <td>!PUBLIC!</td>\n",
       "        <td>f4394000-fe55-1fa7-b8c9-eb2bacdad06d</td>\n",
       "        <td>126fcd38-7161-11e5-bca0-080027e4c06a</td>\n",
       "    </tr>\n",
       "    <tr>\n",
       "        <td>!PUBLIC!</td>\n",
       "        <td>2d214000-2bf3-1fa2-a80c-4eae98224a31</td>\n",
       "        <td>11e4427c-7161-11e5-bca0-080027e4c06a</td>\n",
       "    </tr>\n",
       "    <tr>\n",
       "        <td>!PUBLIC!</td>\n",
       "        <td>68454000-deca-1f87-b373-941668eb8fc9</td>\n",
       "        <td>127f5c58-7161-11e5-bca0-080027e4c06a</td>\n",
       "    </tr>\n",
       "    <tr>\n",
       "        <td>!PUBLIC!</td>\n",
       "        <td>22314000-2c20-1f87-a60e-7bdaacfe10b1</td>\n",
       "        <td>11fadd48-7161-11e5-bca0-080027e4c06a</td>\n",
       "    </tr>\n",
       "</table>"
      ],
      "text/plain": [
       "+------------+--------------------------------------+--------------------------------------+\n",
       "|  username  |                 time                 |               tweet_id               |\n",
       "+------------+--------------------------------------+--------------------------------------+\n",
       "| qCbDvVEnkj | b9794000-0d52-1eb0-97ab-743961671b6d | 1243c594-7161-11e5-bca0-080027e4c06a |\n",
       "|  !PUBLIC!  | 2b1f4000-89a9-1fe5-abe5-b0c2861840a6 | 11b34294-7161-11e5-bca0-080027e4c06a |\n",
       "|  !PUBLIC!  | c9e54000-77d7-1fc6-ba71-f6a73e37faeb | 11f90018-7161-11e5-bca0-080027e4c06a |\n",
       "|  !PUBLIC!  | ef3d4000-b230-1fbf-85da-37e8948890d6 | 120683fa-7161-11e5-bca0-080027e4c06a |\n",
       "|  !PUBLIC!  | 9f514000-d146-1fb7-9d7e-2a7a7e305ab3 | 120a4bac-7161-11e5-bca0-080027e4c06a |\n",
       "|  !PUBLIC!  | 00594000-3efc-1fab-9932-c6dfb0ae9213 | 1227c722-7161-11e5-bca0-080027e4c06a |\n",
       "|  !PUBLIC!  | f4394000-fe55-1fa7-b8c9-eb2bacdad06d | 126fcd38-7161-11e5-bca0-080027e4c06a |\n",
       "|  !PUBLIC!  | 2d214000-2bf3-1fa2-a80c-4eae98224a31 | 11e4427c-7161-11e5-bca0-080027e4c06a |\n",
       "|  !PUBLIC!  | 68454000-deca-1f87-b373-941668eb8fc9 | 127f5c58-7161-11e5-bca0-080027e4c06a |\n",
       "|  !PUBLIC!  | 22314000-2c20-1f87-a60e-7bdaacfe10b1 | 11fadd48-7161-11e5-bca0-080027e4c06a |\n",
       "+------------+--------------------------------------+--------------------------------------+"
      ]
     },
     "execution_count": 188,
     "metadata": {},
     "output_type": "execute_result"
    }
   ],
   "source": [
    "%cql SELECT * FROM userline LIMIT 10"
   ]
  },
  {
   "cell_type": "code",
   "execution_count": 189,
   "metadata": {
    "collapsed": false
   },
   "outputs": [
    {
     "data": {
      "text/html": [
       "<table>\n",
       "    <tr>\n",
       "        <th>username</th>\n",
       "        <th>time</th>\n",
       "        <th>tweet_id</th>\n",
       "    </tr>\n",
       "    <tr>\n",
       "        <td>qCbDvVEnkj</td>\n",
       "        <td>b9794000-0d52-1eb0-97ab-743961671b6d</td>\n",
       "        <td>1243c594-7161-11e5-bca0-080027e4c06a</td>\n",
       "    </tr>\n",
       "    <tr>\n",
       "        <td>JWOGjevrqw</td>\n",
       "        <td>ff794000-e9ad-1f61-bd12-ec5c841cefc0</td>\n",
       "        <td>12409bbc-7161-11e5-bca0-080027e4c06a</td>\n",
       "    </tr>\n",
       "    <tr>\n",
       "        <td>JWOGjevrqw</td>\n",
       "        <td>c3294000-d4e8-1ad7-b24f-147c8c9210ac</td>\n",
       "        <td>123ef33e-7161-11e5-bca0-080027e4c06a</td>\n",
       "    </tr>\n",
       "    <tr>\n",
       "        <td>JWOGjevrqw</td>\n",
       "        <td>4b694000-2e36-146b-b2f3-5de971c0ef1c</td>\n",
       "        <td>123dcfd6-7161-11e5-bca0-080027e4c06a</td>\n",
       "    </tr>\n",
       "    <tr>\n",
       "        <td>CaOlFcWRur</td>\n",
       "        <td>f4394000-fe55-1fa7-b8c9-eb2bacdad06d</td>\n",
       "        <td>126fcd38-7161-11e5-bca0-080027e4c06a</td>\n",
       "    </tr>\n",
       "    <tr>\n",
       "        <td>CaOlFcWRur</td>\n",
       "        <td>68454000-deca-1f87-b373-941668eb8fc9</td>\n",
       "        <td>127f5c58-7161-11e5-bca0-080027e4c06a</td>\n",
       "    </tr>\n",
       "    <tr>\n",
       "        <td>CaOlFcWRur</td>\n",
       "        <td>5a894000-46e9-1ec0-8db0-87cf9f8a9bbc</td>\n",
       "        <td>12778b86-7161-11e5-bca0-080027e4c06a</td>\n",
       "    </tr>\n",
       "    <tr>\n",
       "        <td>CaOlFcWRur</td>\n",
       "        <td>b8094000-1c1a-1eaa-8c31-524adddcc21c</td>\n",
       "        <td>12791f3c-7161-11e5-bca0-080027e4c06a</td>\n",
       "    </tr>\n",
       "    <tr>\n",
       "        <td>CaOlFcWRur</td>\n",
       "        <td>3fc94000-b671-1e7b-9ab7-c39a7611155b</td>\n",
       "        <td>12610dfc-7161-11e5-bca0-080027e4c06a</td>\n",
       "    </tr>\n",
       "    <tr>\n",
       "        <td>CaOlFcWRur</td>\n",
       "        <td>4ca94000-d69a-1d39-9cce-80cc847b0a60</td>\n",
       "        <td>1265beb0-7161-11e5-bca0-080027e4c06a</td>\n",
       "    </tr>\n",
       "</table>"
      ],
      "text/plain": [
       "+------------+--------------------------------------+--------------------------------------+\n",
       "|  username  |                 time                 |               tweet_id               |\n",
       "+------------+--------------------------------------+--------------------------------------+\n",
       "| qCbDvVEnkj | b9794000-0d52-1eb0-97ab-743961671b6d | 1243c594-7161-11e5-bca0-080027e4c06a |\n",
       "| JWOGjevrqw | ff794000-e9ad-1f61-bd12-ec5c841cefc0 | 12409bbc-7161-11e5-bca0-080027e4c06a |\n",
       "| JWOGjevrqw | c3294000-d4e8-1ad7-b24f-147c8c9210ac | 123ef33e-7161-11e5-bca0-080027e4c06a |\n",
       "| JWOGjevrqw | 4b694000-2e36-146b-b2f3-5de971c0ef1c | 123dcfd6-7161-11e5-bca0-080027e4c06a |\n",
       "| CaOlFcWRur | f4394000-fe55-1fa7-b8c9-eb2bacdad06d | 126fcd38-7161-11e5-bca0-080027e4c06a |\n",
       "| CaOlFcWRur | 68454000-deca-1f87-b373-941668eb8fc9 | 127f5c58-7161-11e5-bca0-080027e4c06a |\n",
       "| CaOlFcWRur | 5a894000-46e9-1ec0-8db0-87cf9f8a9bbc | 12778b86-7161-11e5-bca0-080027e4c06a |\n",
       "| CaOlFcWRur | b8094000-1c1a-1eaa-8c31-524adddcc21c | 12791f3c-7161-11e5-bca0-080027e4c06a |\n",
       "| CaOlFcWRur | 3fc94000-b671-1e7b-9ab7-c39a7611155b | 12610dfc-7161-11e5-bca0-080027e4c06a |\n",
       "| CaOlFcWRur | 4ca94000-d69a-1d39-9cce-80cc847b0a60 | 1265beb0-7161-11e5-bca0-080027e4c06a |\n",
       "+------------+--------------------------------------+--------------------------------------+"
      ]
     },
     "execution_count": 189,
     "metadata": {},
     "output_type": "execute_result"
    }
   ],
   "source": [
    "%cql SELECT * FROM timeline LIMIT 10"
   ]
  },
  {
   "cell_type": "code",
   "execution_count": null,
   "metadata": {
    "collapsed": true
   },
   "outputs": [],
   "source": []
  }
 ],
 "metadata": {
  "kernelspec": {
   "display_name": "Python 2",
   "language": "python",
   "name": "python2"
  },
  "language_info": {
   "codemirror_mode": {
    "name": "ipython",
    "version": 2
   },
   "file_extension": ".py",
   "mimetype": "text/x-python",
   "name": "python",
   "nbconvert_exporter": "python",
   "pygments_lexer": "ipython2",
   "version": "2.7.6"
  }
 },
 "nbformat": 4,
 "nbformat_minor": 0
}
