{
 "cells": [
  {
   "cell_type": "markdown",
   "metadata": {},
   "source": [
    "# CQL"
   ]
  },
  {
   "cell_type": "markdown",
   "metadata": {},
   "source": [
    "cqlsh suppots\n",
    "- CQL commmands for schema definition and data manipulation\n",
    "- CQL shell commands for support CQL use"
   ]
  },
  {
   "cell_type": "markdown",
   "metadata": {},
   "source": [
    "**CQL** is a Cassandra capability, not restricted to cqlsh\n",
    "CQL shell commands may only be used with cqlsh\n",
    "\n",
    "Example: CAPTURE, CONSISTENCY, COPY, DESCRIBE, EXIT, EXPAND, SHOW, SOURCE, TRACING"
   ]
  },
  {
   "cell_type": "code",
   "execution_count": 3,
   "metadata": {
    "collapsed": false
   },
   "outputs": [
    {
     "name": "stdout",
     "output_type": "stream",
     "text": [
      "Usage: cqlsh.py [options] [host [port]]\r\n",
      "\r\n",
      "CQL Shell for Apache Cassandra\r\n",
      "\r\n",
      "Options:\r\n",
      "  --version             show program's version number and exit\r\n",
      "  -h, --help            show this help message and exit\r\n",
      "  -C, --color           Always use color output\r\n",
      "  --no-color            Never use color output\r\n",
      "  --ssl                 Use SSL\r\n",
      "  -u USERNAME, --username=USERNAME\r\n",
      "                        Authenticate as user.\r\n",
      "  -p PASSWORD, --password=PASSWORD\r\n",
      "                        Authenticate using password.\r\n",
      "  -k KEYSPACE, --keyspace=KEYSPACE\r\n",
      "                        Authenticate to the given keyspace.\r\n",
      "  -f FILE, --file=FILE  Execute commands from FILE, then exit\r\n",
      "  --debug               Show additional debugging information\r\n",
      "  --encoding=ENCODING   Specify a non-default encoding for output.  If you are\r\n",
      "                        experiencing problems with unicode characters, using\r\n",
      "                        utf8 may fix the problem. (Default from system\r\n",
      "                        preferences: ANSI_X3.4-1968)\r\n",
      "  --cqlshrc=CQLSHRC     Specify an alternative cqlshrc file location.\r\n",
      "  --cqlversion=CQLVERSION\r\n",
      "                        Specify a particular CQL version (default: 3.3.1).\r\n",
      "                        Examples: \"3.0.3\", \"3.1.0\"\r\n",
      "  -e EXECUTE, --execute=EXECUTE\r\n",
      "                        Execute the statement and quit.\r\n",
      "  --connect-timeout=CONNECT_TIMEOUT\r\n",
      "                        Specify the connection timeout in seconds (default: 5\r\n",
      "                        seconds).\r\n",
      "\r\n",
      "Connects to 127.0.0.1:9042 by default. These defaults can be changed by\r\n",
      "setting $CQLSH_HOST and/or $CQLSH_PORT. When a host (and optional port number)\r\n",
      "are given on the command line, they take precedence over any defaults.\r\n"
     ]
    }
   ],
   "source": [
    "!cqlsh -h"
   ]
  },
  {
   "cell_type": "code",
   "execution_count": 4,
   "metadata": {
    "collapsed": false
   },
   "outputs": [
    {
     "name": "stdout",
     "output_type": "stream",
     "text": [
      "cqlsh 5.0.1\r\n"
     ]
    }
   ],
   "source": [
    "!cqlsh --version"
   ]
  },
  {
   "cell_type": "code",
   "execution_count": 5,
   "metadata": {
    "collapsed": false
   },
   "outputs": [
    {
     "name": "stdout",
     "output_type": "stream",
     "text": [
      "\r\n",
      "Documented shell commands:\r\n",
      "===========================\r\n",
      "CAPTURE  CLS          COPY  DESCRIBE  EXPAND  LOGIN   SERIAL  SOURCE \r\n",
      "CLEAR    CONSISTENCY  DESC  EXIT      HELP    PAGING  SHOW    TRACING\r\n",
      "\r\n",
      "CQL help topics:\r\n",
      "================\r\n",
      "ALTER                        CREATE_TABLE_TYPES  PERMISSIONS        \r\n",
      "ALTER_ADD                    CREATE_USER         REVOKE             \r\n",
      "ALTER_ALTER                  DATE_INPUT          REVOKE_ROLE        \r\n",
      "ALTER_DROP                   DELETE              SELECT             \r\n",
      "ALTER_RENAME                 DELETE_COLUMNS      SELECT_COLUMNFAMILY\r\n",
      "ALTER_USER                   DELETE_USING        SELECT_EXPR        \r\n",
      "ALTER_WITH                   DELETE_WHERE        SELECT_LIMIT       \r\n",
      "APPLY                        DROP                SELECT_TABLE       \r\n",
      "ASCII_OUTPUT                 DROP_AGGREGATE      SELECT_WHERE       \r\n",
      "BEGIN                        DROP_COLUMNFAMILY   TEXT_OUTPUT        \r\n",
      "BLOB_INPUT                   DROP_FUNCTION       TIMESTAMP_INPUT    \r\n",
      "BOOLEAN_INPUT                DROP_INDEX          TIMESTAMP_OUTPUT   \r\n",
      "COMPOUND_PRIMARY_KEYS        DROP_KEYSPACE       TIME_INPUT         \r\n",
      "CREATE                       DROP_ROLE           TRUNCATE           \r\n",
      "CREATE_AGGREGATE             DROP_TABLE          TYPES              \r\n",
      "CREATE_COLUMNFAMILY          DROP_USER           UPDATE             \r\n",
      "CREATE_COLUMNFAMILY_OPTIONS  GRANT               UPDATE_COUNTERS    \r\n",
      "CREATE_COLUMNFAMILY_TYPES    GRANT_ROLE          UPDATE_SET         \r\n",
      "CREATE_FUNCTION              INSERT              UPDATE_USING       \r\n",
      "CREATE_INDEX                 INT_INPUT           UPDATE_WHERE       \r\n",
      "CREATE_KEYSPACE              LIST                USE                \r\n",
      "CREATE_ROLE                  LIST_PERMISSIONS    UUID_INPUT         \r\n",
      "CREATE_TABLE                 LIST_ROLES        \r\n",
      "CREATE_TABLE_OPTIONS         LIST_USERS        \r\n",
      "\r\n"
     ]
    }
   ],
   "source": [
    "!cqlsh -e \"HELP\""
   ]
  },
  {
   "cell_type": "code",
   "execution_count": 7,
   "metadata": {
    "collapsed": false
   },
   "outputs": [
    {
     "name": "stdout",
     "output_type": "stream",
     "text": [
      "\r\n",
      "        SOURCE [cqlsh only]\r\n",
      "\r\n",
      "        Executes a file containing CQL statements. Gives the output for each\r\n",
      "        statement in turn, if any, or any errors that occur along the way.\r\n",
      "\r\n",
      "        Errors do NOT abort execution of the CQL source file.\r\n",
      "\r\n",
      "        Usage:\r\n",
      "\r\n",
      "          SOURCE '<file>';\r\n",
      "\r\n",
      "        That is, the path to the file to be executed must be given inside a\r\n",
      "        string literal. The path is interpreted relative to the current working\r\n",
      "        directory. The tilde shorthand notation ('~/mydir') is supported for\r\n",
      "        referring to $HOME.\r\n",
      "\r\n",
      "        See also the --file option to cqlsh.\r\n",
      "        \r\n"
     ]
    }
   ],
   "source": [
    "!cqlsh -e \"HELP SOURCE\""
   ]
  },
  {
   "cell_type": "code",
   "execution_count": 8,
   "metadata": {
    "collapsed": false
   },
   "outputs": [
    {
     "name": "stdout",
     "output_type": "stream",
     "text": [
      "\r\n",
      "        DESCRIBE [cqlsh only]\r\n",
      "\r\n",
      "        (DESC may be used as a shorthand.)\r\n",
      "\r\n",
      "          Outputs information about the connected Cassandra cluster, or about\r\n",
      "          the data stored on it. Use in one of the following ways:\r\n",
      "\r\n",
      "        DESCRIBE KEYSPACES\r\n",
      "\r\n",
      "          Output the names of all keyspaces.\r\n",
      "\r\n",
      "        DESCRIBE KEYSPACE [<keyspacename>]\r\n",
      "\r\n",
      "          Output CQL commands that could be used to recreate the given\r\n",
      "          keyspace, and the tables in it. In some cases, as the CQL interface\r\n",
      "          matures, there will be some metadata about a keyspace that is not\r\n",
      "          representable with CQL. That metadata will not be shown.\r\n",
      "\r\n",
      "          The '<keyspacename>' argument may be omitted when using a non-system\r\n",
      "          keyspace; in that case, the current keyspace will be described.\r\n",
      "\r\n",
      "        DESCRIBE TABLES\r\n",
      "\r\n",
      "          Output the names of all tables in the current keyspace, or in all\r\n",
      "          keyspaces if there is no current keyspace.\r\n",
      "\r\n",
      "        DESCRIBE TABLE <tablename>\r\n",
      "\r\n",
      "          Output CQL commands that could be used to recreate the given table.\r\n",
      "          In some cases, as above, there may be table metadata which is not\r\n",
      "          representable and which will not be shown.\r\n",
      "\r\n",
      "        DESCRIBE INDEX <indexname>\r\n",
      "\r\n",
      "          Output CQL commands that could be used to recreate the given index.\r\n",
      "          In some cases, there may be index metadata which is not representable\r\n",
      "          and which will not be shown.\r\n",
      "\r\n",
      "        DESCRIBE CLUSTER\r\n",
      "\r\n",
      "          Output information about the connected Cassandra cluster, such as the\r\n",
      "          cluster name, and the partitioner and snitch in use. When you are\r\n",
      "          connected to a non-system keyspace, also shows endpoint-range\r\n",
      "          ownership information for the Cassandra ring.\r\n",
      "\r\n",
      "        DESCRIBE [FULL] SCHEMA\r\n",
      "\r\n",
      "          Output CQL commands that could be used to recreate the entire (non-system) schema.\r\n",
      "          Works as though \"DESCRIBE KEYSPACE k\" was invoked for each non-system keyspace\r\n",
      "          k. Use DESCRIBE FULL SCHEMA to include the system keyspaces.\r\n",
      "\r\n",
      "        DESCRIBE FUNCTIONS <keyspace>\r\n",
      "\r\n",
      "          Output the names of all user defined functions in the given keyspace.\r\n",
      "\r\n",
      "        DESCRIBE FUNCTION [<keyspace>.]<function>\r\n",
      "\r\n",
      "          Describe the given user defined function.\r\n",
      "\r\n",
      "        DESCRIBE AGGREGATES <keyspace>\r\n",
      "\r\n",
      "          Output the names of all user defined aggregates in the given keyspace.\r\n",
      "\r\n",
      "        DESCRIBE AGGREGATE [<keyspace>.]<aggregate>\r\n",
      "\r\n",
      "          Describe the given user defined aggregate.\r\n",
      "\r\n",
      "        DESCRIBE <objname>\r\n",
      "\r\n",
      "          Output CQL commands that could be used to recreate the entire object schema,\r\n",
      "          where object can be either a keyspace or a table or an index (in this order).\r\n",
      "  \r\n"
     ]
    }
   ],
   "source": [
    "!cqlsh -e \"HELP DESCRIBE\""
   ]
  },
  {
   "cell_type": "code",
   "execution_count": 9,
   "metadata": {
    "collapsed": false
   },
   "outputs": [
    {
     "name": "stdout",
     "output_type": "stream",
     "text": [
      "Connected to \u001b[0;1;34mTest Cluster\u001b[0m at 127.0.0.1:9042.\r\n"
     ]
    }
   ],
   "source": [
    "!cqlsh -e \"SHOW HOST\""
   ]
  },
  {
   "cell_type": "code",
   "execution_count": null,
   "metadata": {
    "collapsed": true
   },
   "outputs": [],
   "source": []
  }
 ],
 "metadata": {
  "kernelspec": {
   "display_name": "Python 2",
   "language": "python",
   "name": "python2"
  },
  "language_info": {
   "codemirror_mode": {
    "name": "ipython",
    "version": 2
   },
   "file_extension": ".py",
   "mimetype": "text/x-python",
   "name": "python",
   "nbconvert_exporter": "python",
   "pygments_lexer": "ipython2",
   "version": "2.7.6"
  }
 },
 "nbformat": 4,
 "nbformat_minor": 0
}
