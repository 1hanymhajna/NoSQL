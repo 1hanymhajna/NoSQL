{
 "cells": [
  {
   "cell_type": "code",
   "execution_count": 5,
   "metadata": {
    "collapsed": false
   },
   "outputs": [
    {
     "name": "stdout",
     "output_type": "stream",
     "text": [
      "Error creating bucket type n_equals_1:\r\n",
      "already_active\r\n"
     ]
    }
   ],
   "source": [
    "!echo learner | sudo -S -p \"\" riak-admin bucket-type create n_equals_1 '{\"props\":{\"n_val\":1}}'"
   ]
  },
  {
   "cell_type": "code",
   "execution_count": 6,
   "metadata": {
    "collapsed": false
   },
   "outputs": [
    {
     "name": "stdout",
     "output_type": "stream",
     "text": [
      "n_equals_1 updated\r\n"
     ]
    }
   ],
   "source": [
    "!echo learner | sudo -S -p \"\" riak-admin bucket-type update n_equals_1 '{\"props\":{\"n_val\":1}}'"
   ]
  },
  {
   "cell_type": "code",
   "execution_count": 7,
   "metadata": {
    "collapsed": false
   },
   "outputs": [
    {
     "name": "stdout",
     "output_type": "stream",
     "text": [
      "n_equals_1 has been activated\r\n"
     ]
    }
   ],
   "source": [
    "!echo learner | sudo -S -p \"\" riak-admin bucket-type activate n_equals_1"
   ]
  },
  {
   "cell_type": "code",
   "execution_count": 8,
   "metadata": {
    "collapsed": false
   },
   "outputs": [
    {
     "name": "stdout",
     "output_type": "stream",
     "text": [
      "default (active)\r\n",
      "n_equals_1 (active)\r\n"
     ]
    }
   ],
   "source": [
    "!echo learner | sudo -S -p \"\" riak-admin bucket-type list"
   ]
  },
  {
   "cell_type": "code",
   "execution_count": 9,
   "metadata": {
    "collapsed": false
   },
   "outputs": [
    {
     "name": "stdout",
     "output_type": "stream",
     "text": [
      "n_equals_1 is active\r\n",
      "\r\n",
      "active: true\r\n",
      "allow_mult: true\r\n",
      "basic_quorum: false\r\n",
      "big_vclock: 50\r\n",
      "chash_keyfun: {riak_core_util,chash_std_keyfun}\r\n",
      "claimant: 'riak@127.0.0.1'\r\n",
      "dvv_enabled: true\r\n",
      "dw: quorum\r\n",
      "last_write_wins: false\r\n",
      "linkfun: {modfun,riak_kv_wm_link_walker,mapreduce_linkfun}\r\n",
      "n_val: 1\r\n",
      "notfound_ok: true\r\n",
      "old_vclock: 86400\r\n",
      "postcommit: []\r\n",
      "pr: 0\r\n",
      "precommit: []\r\n",
      "pw: 0\r\n",
      "r: quorum\r\n",
      "rw: quorum\r\n",
      "small_vclock: 50\r\n",
      "w: quorum\r\n",
      "young_vclock: 20\r\n"
     ]
    }
   ],
   "source": [
    "!echo learner | sudo -S -p \"\" riak-admin bucket-type status n_equals_1"
   ]
  },
  {
   "cell_type": "code",
   "execution_count": 13,
   "metadata": {
    "collapsed": true
   },
   "outputs": [],
   "source": [
    "import riak\n",
    "\n",
    "client = riak.RiakClient()"
   ]
  },
  {
   "cell_type": "code",
   "execution_count": 15,
   "metadata": {
    "collapsed": false
   },
   "outputs": [
    {
     "name": "stdout",
     "output_type": "stream",
     "text": [
      "None\n"
     ]
    }
   ],
   "source": [
    "bucket = client.bucket_type('n_equals_1').bucket('my_bucket')\n",
    "key = bucket.get('my_key')\n",
    "\n",
    "print key.data"
   ]
  },
  {
   "cell_type": "code",
   "execution_count": null,
   "metadata": {
    "collapsed": true
   },
   "outputs": [],
   "source": []
  },
  {
   "cell_type": "code",
   "execution_count": null,
   "metadata": {
    "collapsed": true
   },
   "outputs": [],
   "source": []
  }
 ],
 "metadata": {
  "kernelspec": {
   "display_name": "Python 2",
   "language": "python",
   "name": "python2"
  },
  "language_info": {
   "codemirror_mode": {
    "name": "ipython",
    "version": 2
   },
   "file_extension": ".py",
   "mimetype": "text/x-python",
   "name": "python",
   "nbconvert_exporter": "python",
   "pygments_lexer": "ipython2",
   "version": "2.7.6"
  }
 },
 "nbformat": 4,
 "nbformat_minor": 0
}
