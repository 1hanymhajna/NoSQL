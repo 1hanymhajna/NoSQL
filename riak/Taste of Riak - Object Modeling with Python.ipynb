{
 "cells": [
  {
   "cell_type": "markdown",
   "metadata": {},
   "source": [
    "# Taste of Riak: Object Modeling with Python"
   ]
  },
  {
   "cell_type": "markdown",
   "metadata": {},
   "source": [
    "To get started, let's create the data structures that we'll be using."
   ]
  },
  {
   "cell_type": "code",
   "execution_count": 1,
   "metadata": {
    "collapsed": false
   },
   "outputs": [
    {
     "name": "stderr",
     "output_type": "stream",
     "text": [
      "/usr/local/lib/python2.7/dist-packages/riak-2.2.0-py2.7.egg/riak/security.py:35: UserWarning: Found OpenSSL 1.0.1f 6 Jan 2014 version, but expected at least OpenSSL 1.0.1g.  Security may not support TLS 1.2.\n"
     ]
    }
   ],
   "source": [
    "import riak"
   ]
  },
  {
   "cell_type": "code",
   "execution_count": 2,
   "metadata": {
    "collapsed": true
   },
   "outputs": [],
   "source": [
    "from datetime import datetime\n",
    "import string\n",
    "\n",
    "\n",
    "marleen = {'user_name': 'marleenmgr',\n",
    "           'full_name': 'Marleen Manager',\n",
    "           'email': 'marleen.manager@basho.com'}\n",
    "\n",
    "joe = {'user_name': 'joeuser',\n",
    "       'full_name': 'Joe User',\n",
    "       'email': 'joe.user@basho.com'}\n",
    "\n",
    "msg = {'sender': marleen['user_name'],\n",
    "       'recipient': joe['user_name'],\n",
    "       'created': datetime.utcnow().isoformat(),\n",
    "       'text': 'Welcome to the company!'}"
   ]
  },
  {
   "cell_type": "markdown",
   "metadata": {},
   "source": [
    "As you can see, we first create a user, and then we can use that user to create a message. \n",
    "\n",
    "To send this message we can append it to one or more Timelines. If it's a private message, we'll append it to the Recipient's Inbox timeline and the User's own Sent timeline. \n",
    "\n",
    "If it's a group message, we'll append it to the Group's timeline, as well as to the User's Sent timeline."
   ]
  },
  {
   "cell_type": "markdown",
   "metadata": {},
   "source": [
    "# Buckets and Keys Revisited"
   ]
  },
  {
   "cell_type": "markdown",
   "metadata": {},
   "source": [
    "Now that we've worked out how we will differentiate data in the system, let's figure out our bucket and key names.\n",
    "\n",
    "The bucket names are straightforward. We can use Users, Msgs, and Timelines. \n",
    "\n",
    "The key names, however, are a little more tricky. In past examples we've used sequential integers, but this presents a problem: we would need a secondary service to hand out these IDs. \n",
    "\n",
    "This service could easily be a future bottleneck in the system, so let's use a natural key. Natural keys are a great fit for key/value systems because both humans and computers can easily construct them when needed, and most of the time they can be made unique enough for a KV store."
   ]
  },
  {
   "cell_type": "markdown",
   "metadata": {},
   "source": [
    "| Bucket | Key Pattern |Example Key |\n",
    "|-|-|-|\n",
    "|Users | &lt;user_name> | joeuser |\n",
    "|Msgs|&lt;username>\\_&lt;datetime>|joeuser_2014-03-06T02:05:13.223556Z|\n",
    "|Timelines|&lt;username>\\_&lt;type>\\_&lt;date>|joeuser_Sent_2014-03-06 marketing_group_Inbox_2014-03-06|"
   ]
  },
  {
   "cell_type": "markdown",
   "metadata": {},
   "source": [
    "For the Users bucket, we can be certain that we will want each username to be unique, so let's use the username as the key. \n",
    "\n",
    "For the Msgs bucket, let's use a combination of the username and the posting datetime in an ISO 8601 Long format. \n",
    "\n",
    "This combination gives us the pattern &lt;username>\\_&lt;datetime>, which produces keys like joeuser_2014-03-05T23:20:28.721259Z"
   ]
  },
  {
   "cell_type": "markdown",
   "metadata": {},
   "source": [
    "Now for Timelines, we need to differentiate between Inbox and Sent timelines, so we can simply add that type into the key name. \n",
    "\n",
    "We will also want to partition each collection object into some time period, that way the object doesn't grow too large (see note below)."
   ]
  },
  {
   "cell_type": "markdown",
   "metadata": {},
   "source": [
    "For Timelines, let's use the pattern &lt;username>\\_&lt;type>\\_&lt;date> for users, and &lt;groupname>\\_Inbox\\_&lt;date> for groups, which will look like joeuser\\_Sent\\_2014-03-06 or marketing_group\\_Inbox\\_2014-03-05, respectively."
   ]
  },
  {
   "cell_type": "markdown",
   "metadata": {},
   "source": [
    "# Keeping our story straight with repositories"
   ]
  },
  {
   "cell_type": "markdown",
   "metadata": {},
   "source": [
    "Now that we've figured out our object model, let's write some repositories to help create and work with these objects in Riak:"
   ]
  },
  {
   "cell_type": "code",
   "execution_count": 3,
   "metadata": {
    "collapsed": true
   },
   "outputs": [],
   "source": [
    "class UserRepository:\n",
    "    BUCKET = 'Users'\n",
    "\n",
    "    def __init__(self, client):\n",
    "        self.client = client\n",
    "\n",
    "    def save(self, user):\n",
    "        riak_obj = self.client.bucket(self.BUCKET).get(user['user_name'])\n",
    "        riak_obj.data = user\n",
    "        return riak_obj.store()\n",
    "\n",
    "    def get(self, user_name):\n",
    "        riak_obj = self.client.bucket(self.BUCKET).get(user_name)\n",
    "        return riak_obj.data\n",
    "\n",
    "\n"
   ]
  },
  {
   "cell_type": "code",
   "execution_count": 4,
   "metadata": {
    "collapsed": true
   },
   "outputs": [],
   "source": [
    "class MsgRepository:\n",
    "    BUCKET = 'Msgs'\n",
    "\n",
    "    def __init__(self, client):\n",
    "        self.client = client\n",
    "\n",
    "    def save(self, msg):\n",
    "        msgs = self.client.bucket(self.BUCKET)\n",
    "        key = self._generate_key(msg)\n",
    "\n",
    "        riak_obj = msgs.get(key)\n",
    "\n",
    "        if not riak_obj.exists:\n",
    "            riak_obj.data = msg\n",
    "            riak_obj.store(if_none_match=True)\n",
    "\n",
    "        return riak_obj\n",
    "\n",
    "    def get(self, key):\n",
    "        riak_obj = self.client.bucket(self.BUCKET).get(key)\n",
    "        return riak_obj.data\n",
    "\n",
    "    def _generate_key(self, msg):\n",
    "        return msg['sender'] + '_' + msg['created']\n",
    "\n",
    "\n"
   ]
  },
  {
   "cell_type": "code",
   "execution_count": 5,
   "metadata": {
    "collapsed": true
   },
   "outputs": [],
   "source": [
    "class TimelineRepository:\n",
    "    BUCKET = 'Timelines'\n",
    "    SENT = 'Sent'\n",
    "    INBOX = 'Inbox'\n",
    "\n",
    "    def __init__(self, client):\n",
    "        self.client = client\n",
    "        self.msg_repo = MsgRepository(client)\n",
    "\n",
    "    def post_message(self, msg):\n",
    "        # Save the canonical copy\n",
    "        saved_message = self.msg_repo.save(msg)\n",
    "        msg_key = saved_message.key\n",
    "\n",
    "        # Post to sender's Sent timeline\n",
    "        self._add_to_timeline(msg, self.SENT, msg_key)\n",
    "\n",
    "        # Post to recipient's Inbox timeline\n",
    "        self._add_to_timeline(msg, self.INBOX, msg_key)\n",
    "\n",
    "    def get_timeline(self, owner, msg_type, date):\n",
    "        key = self._generate_key(owner, msg_type, date)\n",
    "        riak_obj = self.client.bucket(self.BUCKET).get(key)\n",
    "        return riak_obj.data\n",
    "\n",
    "    def _add_to_timeline(self, msg, msg_type, msg_key):\n",
    "        timeline_key = self._generate_key_from_msg(msg, msg_type)\n",
    "        riak_obj = self.client.bucket(self.BUCKET).get(timeline_key)\n",
    "\n",
    "        if riak_obj.exists:\n",
    "            riak_obj = self._add_to_existing_timeline(riak_obj,\n",
    "                                                      msg_key)\n",
    "        else:\n",
    "            riak_obj = self._create_new_timeline(riak_obj,\n",
    "                                                 msg, msg_type,\n",
    "                                                 msg_key)\n",
    "\n",
    "        return riak_obj.store()\n",
    "\n",
    "    def _create_new_timeline(self, riak_obj, msg, msg_type, msg_key):\n",
    "        owner = self._get_owner(msg, msg_type)\n",
    "        new_timeline = {'owner': owner,\n",
    "                        'msg_type': msg_type,\n",
    "                        'msgs': [msg_key]}\n",
    "\n",
    "        riak_obj.data = new_timeline\n",
    "        return riak_obj\n",
    "\n",
    "    def _add_to_existing_timeline(self, riak_obj, msg_key):\n",
    "        riak_obj.data['msgs'].append(msg_key)\n",
    "        return riak_obj\n",
    "\n",
    "    def _get_owner(self, msg, msg_type):\n",
    "        if msg_type == self.INBOX:\n",
    "            return msg['recipient']\n",
    "        else:\n",
    "            return msg['sender']\n",
    "\n",
    "    def _generate_key_from_msg(self, msg, msg_type):\n",
    "        owner = self._get_owner(msg, msg_type)\n",
    "        return self._generate_key(owner, msg_type, msg['created'])\n",
    "\n",
    "    def _generate_key(self, owner, msg_type, datetimestr):\n",
    "        dateString = string.split(datetimestr, 'T', 1)[0]\n",
    "        return owner + '_' + msg_type + '_' + dateString"
   ]
  },
  {
   "cell_type": "markdown",
   "metadata": {},
   "source": [
    "Finally, let's test them:"
   ]
  },
  {
   "cell_type": "code",
   "execution_count": 6,
   "metadata": {
    "collapsed": false
   },
   "outputs": [
    {
     "name": "stdout",
     "output_type": "stream",
     "text": [
      "From: marleenmgr\n",
      "Msg : Welcome to the company!\n",
      "\n",
      "\n"
     ]
    }
   ],
   "source": [
    "# Setup our repositories\n",
    "client = riak.RiakClient()\n",
    "userRepo = UserRepository(client)\n",
    "msgsRepo = MsgRepository(client)\n",
    "timelineRepo = TimelineRepository(client)\n",
    "\n",
    "# Save users\n",
    "userRepo.save(marleen)\n",
    "userRepo.save(joe)\n",
    "\n",
    "# Post msg to timelines\n",
    "timelineRepo.post_message(msg)\n",
    "\n",
    "# Get Joe's inbox for today, get first message\n",
    "joes_inbox_today = timelineRepo.get_timeline(\n",
    "    joe['user_name'],\n",
    "    TimelineRepository.INBOX,\n",
    "    datetime.utcnow().isoformat())\n",
    "\n",
    "joes_first_message = msgsRepo.get(joes_inbox_today['msgs'][0])\n",
    "\n",
    "print 'From: {0}\\nMsg : {1}\\n\\n'.format(\n",
    "    joes_first_message['sender'],\n",
    "    joes_first_message['text'])"
   ]
  },
  {
   "cell_type": "markdown",
   "metadata": {},
   "source": [
    "As you can see, the repository pattern helps us with a few things:\n",
    "\n",
    "- It helps us to see if an object exists before creating a new one\n",
    "- It keeps our buckets and key names consistent\n",
    "- It provides us with a consistent interface to work with.\n",
    "\n",
    "While this set of repositories solves many of our problems, it is very minimal and doesn't cover all the edge cases. For instance, what happens if two different people try to create a user with the same username?\n",
    "\n",
    "We can also easily “compute” key names now, but how do we quickly look up the last 10 messages a user sent? Many of these answers will be application dependent. If your application shows the last 10 messages in reverse order, for example, you may want to store that set of data in another collection object to make lookup faster. There are drawbacks to every solution, but we recommend seeking out the key/value-based solution first, as it will likely be the quickest.\n",
    "\n",
    "So to recap, in this chapter we learned:\n",
    "\n",
    "- How to choose bucket names\n",
    "- How to choose natural keys based on how we want to partition our data."
   ]
  },
  {
   "cell_type": "code",
   "execution_count": null,
   "metadata": {
    "collapsed": true
   },
   "outputs": [],
   "source": []
  }
 ],
 "metadata": {
  "kernelspec": {
   "display_name": "Python 2",
   "language": "python",
   "name": "python2"
  },
  "language_info": {
   "codemirror_mode": {
    "name": "ipython",
    "version": 2
   },
   "file_extension": ".py",
   "mimetype": "text/x-python",
   "name": "python",
   "nbconvert_exporter": "python",
   "pygments_lexer": "ipython2",
   "version": "2.7.6"
  }
 },
 "nbformat": 4,
 "nbformat_minor": 0
}
