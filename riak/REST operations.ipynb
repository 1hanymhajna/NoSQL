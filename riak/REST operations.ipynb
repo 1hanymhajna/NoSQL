{
 "cells": [
  {
   "cell_type": "markdown",
   "metadata": {},
   "source": [
    "# REST OPERATIONS"
   ]
  },
  {
   "cell_type": "markdown",
   "metadata": {},
   "source": [
    "REST stands for REpresentational State Transfer. \n",
    "\n",
    "It sounds like a mouthful of jargon, but it has become the de facto architecture of web applications, so it’s worth knowing.\n",
    "REST is a guideline for mapping resources to URLs and interacting with them using CRUD verbs: POST (Create), GET (Read), PUT (Update), and DELETE (Delete)."
   ]
  },
  {
   "cell_type": "markdown",
   "metadata": {},
   "source": [
    "You can validate the curl command works with Riak by pinging a node."
   ]
  },
  {
   "cell_type": "code",
   "execution_count": 6,
   "metadata": {
    "collapsed": false
   },
   "outputs": [
    {
     "name": "stdout",
     "output_type": "stream",
     "text": [
      "OK"
     ]
    }
   ],
   "source": [
    "curl http://localhost:8098/ping"
   ]
  },
  {
   "cell_type": "markdown",
   "metadata": {
    "collapsed": true
   },
   "source": [
    "Let’s issue a bad query. -I tells cURL that we want only the header response."
   ]
  },
  {
   "cell_type": "code",
   "execution_count": 7,
   "metadata": {
    "collapsed": false
   },
   "outputs": [
    {
     "name": "stdout",
     "output_type": "stream",
     "text": [
      "HTTP/1.1 404 Object Not Found\r",
      "\r\n",
      "Server: MochiWeb/1.1 WebMachine/1.10.8 (that head fake, tho)\r",
      "\r\n",
      "Date: Mon, 28 Sep 2015 12:22:48 GMT\r",
      "\r\n",
      "Content-Type: text/plain\r",
      "\r\n",
      "Content-Length: 10\r",
      "\r\n",
      "\r",
      "\r\n"
     ]
    }
   ],
   "source": [
    "! curl -I http://localhost:8098/riak/no_bucket/no_key"
   ]
  },
  {
   "cell_type": "markdown",
   "metadata": {},
   "source": [
    "Since Riak leverages HTTP URLs and actions, it uses HTTP headers and error\n",
    "codes. The 404 response means the same as a 404 when you encounter a\n",
    "missing web page: nothing to see here. So, let’s PUT something in Riak."
   ]
  },
  {
   "cell_type": "markdown",
   "metadata": {},
   "source": [
    "The -X PUT parameter tells cURL that we want to perform an HTTP PUT actionto store and retrieve on an explicit key. \n",
    "\n",
    "The -H attribute sets the following text as HTTP header information. In this case, we set the MIME content type to HTML.\n",
    "\n",
    "Everything passed to -d (also known as the body data) is what Riak will add as a new value."
   ]
  },
  {
   "cell_type": "code",
   "execution_count": 12,
   "metadata": {
    "collapsed": false
   },
   "outputs": [
    {
     "name": "stdout",
     "output_type": "stream",
     "text": [
      "* Hostname was NOT found in DNS cache\r\n",
      "*   Trying ::1...\r\n",
      "* connect to ::1 port 8098 failed: Connection refused\r\n",
      "*   Trying 127.0.0.1...\r\n",
      "* Connected to localhost (127.0.0.1) port 8098 (#0)\r\n",
      "> PUT /riak/favs/db HTTP/1.1\r",
      "\r\n",
      "> User-Agent: curl/7.35.0\r",
      "\r\n",
      "> Host: localhost:8098\r",
      "\r\n",
      "> Accept: */*\r",
      "\r\n",
      "> Content-Type: text/html\r",
      "\r\n",
      "> Content-Length: 61\r",
      "\r\n",
      "> \r",
      "\r\n",
      "* upload completely sent off: 61 out of 61 bytes\r\n",
      "< HTTP/1.1 204 No Content\r",
      "\r\n",
      "< Vary: Accept-Encoding\r",
      "\r\n",
      "* Server MochiWeb/1.1 WebMachine/1.10.8 (that head fake, tho) is not blacklisted\r\n",
      "< Server: MochiWeb/1.1 WebMachine/1.10.8 (that head fake, tho)\r",
      "\r\n",
      "< Date: Mon, 28 Sep 2015 12:25:01 GMT\r",
      "\r\n",
      "< Content-Type: text/html\r",
      "\r\n",
      "< Content-Length: 0\r",
      "\r\n",
      "< \r",
      "\r\n",
      "* Connection #0 to host localhost left intact\r\n"
     ]
    }
   ],
   "source": [
    "! curl -v -X PUT http://localhost:8098/riak/favs/db \\\n",
    "        -H \"Content-Type: text/html\" \\\n",
    "        -d \"<html><body><h1>My new favorite DB is RIAK</h1></body></html>\""
   ]
  },
  {
   "cell_type": "markdown",
   "metadata": {},
   "source": [
    "**PUT** the Value in the Bucket"
   ]
  },
  {
   "cell_type": "code",
   "execution_count": 15,
   "metadata": {
    "collapsed": false
   },
   "outputs": [
    {
     "name": "stdout",
     "output_type": "stream",
     "text": [
      "* Hostname was NOT found in DNS cache\r\n",
      "*   Trying ::1...\r\n",
      "* connect to ::1 port 8098 failed: Connection refused\r\n",
      "*   Trying 127.0.0.1...\r\n",
      "* Connected to localhost (127.0.0.1) port 8098 (#0)\r\n",
      "> PUT /riak/animals/ace HTTP/1.1\r",
      "\r\n",
      "> User-Agent: curl/7.35.0\r",
      "\r\n",
      "> Host: localhost:8098\r",
      "\r\n",
      "> Accept: */*\r",
      "\r\n",
      "> Content-Type: application/json\r",
      "\r\n",
      "> Content-Length: 60\r",
      "\r\n",
      "> \r",
      "\r\n",
      "* upload completely sent off: 60 out of 60 bytes\r\n",
      "< HTTP/1.1 204 No Content\r",
      "\r\n",
      "< Vary: Accept-Encoding\r",
      "\r\n",
      "* Server MochiWeb/1.1 WebMachine/1.10.8 (that head fake, tho) is not blacklisted\r\n",
      "< Server: MochiWeb/1.1 WebMachine/1.10.8 (that head fake, tho)\r",
      "\r\n",
      "< Date: Mon, 28 Sep 2015 12:27:09 GMT\r",
      "\r\n",
      "< Content-Type: application/json\r",
      "\r\n",
      "< Content-Length: 0\r",
      "\r\n",
      "< \r",
      "\r\n",
      "* Connection #0 to host localhost left intact\r\n"
     ]
    }
   ],
   "source": [
    "! curl -v -X PUT http://localhost:8098/riak/animals/ace \\\n",
    "-H \"Content-Type: application/json\" \\\n",
    "-d '{\"nickname\" : \"The Wonder Dog\", \"breed\" : \"German Shepherd\"}'\n"
   ]
  },
  {
   "cell_type": "markdown",
   "metadata": {},
   "source": [
    "Optionally, you can return the set results with the **?returnbody=true** parameter, which we’ll test by adding another animal, Polly:"
   ]
  },
  {
   "cell_type": "code",
   "execution_count": 19,
   "metadata": {
    "collapsed": false
   },
   "outputs": [
    {
     "name": "stdout",
     "output_type": "stream",
     "text": [
      "* Hostname was NOT found in DNS cache\r\n",
      "*   Trying ::1...\r\n",
      "* connect to ::1 port 8098 failed: Connection refused\r\n",
      "*   Trying 127.0.0.1...\r\n",
      "* Connected to localhost (127.0.0.1) port 8098 (#0)\r\n",
      "> PUT /riak/animals/polly?returnbody=true HTTP/1.1\r",
      "\r\n",
      "> User-Agent: curl/7.35.0\r",
      "\r\n",
      "> Host: localhost:8098\r",
      "\r\n",
      "> Accept: */*\r",
      "\r\n",
      "> Content-Type: application/json\r",
      "\r\n",
      "> Content-Length: 59\r",
      "\r\n",
      "> \r",
      "\r\n",
      "* upload completely sent off: 59 out of 59 bytes\r\n",
      "< HTTP/1.1 200 OK\r",
      "\r\n",
      "< X-Riak-Vclock: a85hYGBgzGDKBVI8ypz/fvJ2vbnKwNa/MYMpkTmPlWHuutrzfFkA\r",
      "\r\n",
      "< Vary: Accept-Encoding\r",
      "\r\n",
      "* Server MochiWeb/1.1 WebMachine/1.10.8 (that head fake, tho) is not blacklisted\r\n",
      "< Server: MochiWeb/1.1 WebMachine/1.10.8 (that head fake, tho)\r",
      "\r\n",
      "< Link: </riak/animals>; rel=\"up\"\r",
      "\r\n",
      "< Last-Modified: Mon, 28 Sep 2015 12:29:17 GMT\r",
      "\r\n",
      "< ETag: \"3EBwVhUJ9PODb9LEXA2fed\"\r",
      "\r\n",
      "< Date: Mon, 28 Sep 2015 12:29:17 GMT\r",
      "\r\n",
      "< Content-Type: application/json\r",
      "\r\n",
      "< Content-Length: 59\r",
      "\r\n",
      "< \r",
      "\r\n",
      "* Connection #0 to host localhost left intact\r\n",
      "{\"nickname\" : \"Sweet Polly Purebred\", \"breed\" : \"Purebred\"}"
     ]
    }
   ],
   "source": [
    "!curl -v -X PUT http://localhost:8098/riak/animals/polly?returnbody=true \\\n",
    "-H \"Content-Type: application/json\" \\\n",
    "-d '{\"nickname\" : \"Sweet Polly Purebred\", \"breed\" : \"Purebred\"}'"
   ]
  },
  {
   "cell_type": "markdown",
   "metadata": {},
   "source": [
    "If we aren’t picky about our key name, Riak will generate one when using **POST**"
   ]
  },
  {
   "cell_type": "code",
   "execution_count": 21,
   "metadata": {
    "collapsed": false
   },
   "outputs": [
    {
     "name": "stdout",
     "output_type": "stream",
     "text": [
      "HTTP/1.1 201 Created\r",
      "\r\n",
      "Vary: Accept-Encoding\r",
      "\r\n",
      "Server: MochiWeb/1.1 WebMachine/1.10.8 (that head fake, tho)\r",
      "\r\n",
      "Location: /riak/animals/P2SgeWQPduzRThIxSDVPohXaGur\r",
      "\r\n",
      "Date: Mon, 28 Sep 2015 12:30:17 GMT\r",
      "\r\n",
      "Content-Type: application/json\r",
      "\r\n",
      "Content-Length: 0\r",
      "\r\n",
      "\r",
      "\r\n"
     ]
    }
   ],
   "source": [
    "!curl -i -X POST http://localhost:8098/riak/animals \\\n",
    "-H \"Content-Type: application/json\" \\\n",
    "-d '{\"nickname\" : \"Sergeant Stubby\", \"breed\" : \"Terrier\"}'"
   ]
  },
  {
   "cell_type": "markdown",
   "metadata": {},
   "source": [
    "A **GET** request (cURL’s default if left unspecified) to that location will retrieve the value."
   ]
  },
  {
   "cell_type": "code",
   "execution_count": 22,
   "metadata": {
    "collapsed": false
   },
   "outputs": [
    {
     "name": "stdout",
     "output_type": "stream",
     "text": [
      "{\"nickname\" : \"Sergeant Stubby\", \"breed\" : \"Terrier\"}"
     ]
    }
   ],
   "source": [
    "!curl http://localhost:8098/riak/animals/P2SgeWQPduzRThIxSDVPohXaGur"
   ]
  },
  {
   "cell_type": "markdown",
   "metadata": {},
   "source": [
    "**DELETE** will remove it."
   ]
  },
  {
   "cell_type": "code",
   "execution_count": 23,
   "metadata": {
    "collapsed": false
   },
   "outputs": [
    {
     "name": "stdout",
     "output_type": "stream",
     "text": [
      "HTTP/1.1 204 No Content\r",
      "\r\n",
      "Vary: Accept-Encoding\r",
      "\r\n",
      "Server: MochiWeb/1.1 WebMachine/1.10.8 (that head fake, tho)\r",
      "\r\n",
      "Date: Mon, 28 Sep 2015 12:33:47 GMT\r",
      "\r\n",
      "Content-Type: application/json\r",
      "\r\n",
      "Content-Length: 0\r",
      "\r\n",
      "\r",
      "\r\n"
     ]
    }
   ],
   "source": [
    "!curl -i -X DELETE http://localhost:8098/riak/animals/P2SgeWQPduzRThIxSDVPohXaGur"
   ]
  },
  {
   "cell_type": "markdown",
   "metadata": {},
   "source": [
    "If we’ve forgotten any of our keys in a bucket, we can get them all with keys=true"
   ]
  },
  {
   "cell_type": "code",
   "execution_count": 27,
   "metadata": {
    "collapsed": false
   },
   "outputs": [
    {
     "name": "stdout",
     "output_type": "stream",
     "text": [
      "{\r\n",
      "    \"keys\": [\r\n",
      "        \"polly\",\r\n",
      "        \"ace\"\r\n",
      "    ],\r\n",
      "    \"props\": {\r\n",
      "        \"allow_mult\": false,\r\n",
      "        \"basic_quorum\": false,\r\n",
      "        \"big_vclock\": 50,\r\n",
      "        \"chash_keyfun\": {\r\n",
      "            \"fun\": \"chash_std_keyfun\",\r\n",
      "            \"mod\": \"riak_core_util\"\r\n",
      "        },\r\n",
      "        \"dvv_enabled\": false,\r\n",
      "        \"dw\": \"quorum\",\r\n",
      "        \"last_write_wins\": false,\r\n",
      "        \"linkfun\": {\r\n",
      "            \"fun\": \"mapreduce_linkfun\",\r\n",
      "            \"mod\": \"riak_kv_wm_link_walker\"\r\n",
      "        },\r\n",
      "        \"n_val\": 3,\r\n",
      "        \"name\": \"animals\",\r\n",
      "        \"notfound_ok\": true,\r\n",
      "        \"old_vclock\": 86400,\r\n",
      "        \"postcommit\": [],\r\n",
      "        \"pr\": 0,\r\n",
      "        \"precommit\": [],\r\n",
      "        \"pw\": 0,\r\n",
      "        \"r\": \"quorum\",\r\n",
      "        \"rw\": \"quorum\",\r\n",
      "        \"small_vclock\": 50,\r\n",
      "        \"w\": \"quorum\",\r\n",
      "        \"write_once\": false,\r\n",
      "        \"young_vclock\": 20\r\n",
      "    }\r\n",
      "}\r\n"
     ]
    }
   ],
   "source": [
    "!curl -s http://localhost:8098/riak/animals?keys=true  | python -m json.tool"
   ]
  }
 ],
 "metadata": {
  "kernelspec": {
   "display_name": "Python 2",
   "language": "python",
   "name": "python2"
  },
  "language_info": {
   "codemirror_mode": {
    "name": "ipython",
    "version": 2
   },
   "file_extension": ".py",
   "mimetype": "text/x-python",
   "name": "python",
   "nbconvert_exporter": "python",
   "pygments_lexer": "ipython2",
   "version": "2.7.6"
  }
 },
 "nbformat": 4,
 "nbformat_minor": 0
}
