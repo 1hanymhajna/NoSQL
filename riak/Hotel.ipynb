{
 "cells": [
  {
   "cell_type": "code",
   "execution_count": 6,
   "metadata": {
    "collapsed": false
   },
   "outputs": [],
   "source": [
    "import riak\n",
    "\n",
    "client = riak.RiakClient()"
   ]
  },
  {
   "cell_type": "code",
   "execution_count": 7,
   "metadata": {
    "collapsed": false
   },
   "outputs": [
    {
     "data": {
      "text/plain": [
       "True"
      ]
     },
     "execution_count": 7,
     "metadata": {},
     "output_type": "execute_result"
    }
   ],
   "source": [
    "client.ping()"
   ]
  },
  {
   "cell_type": "code",
   "execution_count": 8,
   "metadata": {
    "collapsed": true
   },
   "outputs": [],
   "source": [
    "bucket = client.bucket('rooms')"
   ]
  },
  {
   "cell_type": "code",
   "execution_count": 9,
   "metadata": {
    "collapsed": false
   },
   "outputs": [],
   "source": [
    "STYLES = [\"single\", \"double\", \"queen\", \"king\",\"suite\"]"
   ]
  },
  {
   "cell_type": "code",
   "execution_count": 17,
   "metadata": {
    "collapsed": false
   },
   "outputs": [
    {
     "name": "stdout",
     "output_type": "stream",
     "text": [
      "Making rooms #100 - #200\n",
      "Making rooms #200 - #300\n",
      "Making rooms #300 - #400\n",
      "Making rooms #400 - #500\n",
      "Making rooms #500 - #600\n",
      "Making rooms #600 - #700\n",
      "Making rooms #700 - #800\n",
      "Making rooms #800 - #900\n",
      "Making rooms #900 - #1000\n",
      "Making rooms #1000 - #1100\n",
      "Making rooms #1100 - #1200\n",
      "Making rooms #1200 - #1300\n",
      "Making rooms #1300 - #1400\n",
      "Making rooms #1400 - #1500\n",
      "Making rooms #1500 - #1600\n",
      "Making rooms #1600 - #1700\n",
      "Making rooms #1700 - #1800\n",
      "Making rooms #1800 - #1900\n",
      "Making rooms #1900 - #2000\n",
      "Making rooms #2000 - #2100\n",
      "Making rooms #2100 - #2200\n",
      "Making rooms #2200 - #2300\n",
      "Making rooms #2300 - #2400\n",
      "Making rooms #2400 - #2500\n",
      "Making rooms #2500 - #2600\n",
      "Making rooms #2600 - #2700\n",
      "Making rooms #2700 - #2800\n",
      "Making rooms #2800 - #2900\n",
      "Making rooms #2900 - #3000\n",
      "Making rooms #3000 - #3100\n",
      "Making rooms #3100 - #3200\n",
      "Making rooms #3200 - #3300\n",
      "Making rooms #3300 - #3400\n",
      "Making rooms #3400 - #3500\n",
      "Making rooms #3500 - #3600\n",
      "Making rooms #3600 - #3700\n",
      "Making rooms #3700 - #3800\n",
      "Making rooms #3800 - #3900\n",
      "Making rooms #3900 - #4000\n",
      "Making rooms #4000 - #4100\n",
      "Making rooms #4100 - #4200\n",
      "Making rooms #4200 - #4300\n",
      "Making rooms #4300 - #4400\n",
      "Making rooms #4400 - #4500\n",
      "Making rooms #4500 - #4600\n",
      "Making rooms #4600 - #4700\n",
      "Making rooms #4700 - #4800\n",
      "Making rooms #4800 - #4900\n",
      "Making rooms #4900 - #5000\n",
      "Making rooms #5000 - #5100\n",
      "Making rooms #5100 - #5200\n",
      "Making rooms #5200 - #5300\n",
      "Making rooms #5300 - #5400\n",
      "Making rooms #5400 - #5500\n",
      "Making rooms #5500 - #5600\n",
      "Making rooms #5600 - #5700\n",
      "Making rooms #5700 - #5800\n",
      "Making rooms #5800 - #5900\n",
      "Making rooms #5900 - #6000\n",
      "Making rooms #6000 - #6100\n",
      "Making rooms #6100 - #6200\n",
      "Making rooms #6200 - #6300\n",
      "Making rooms #6300 - #6400\n",
      "Making rooms #6400 - #6500\n",
      "Making rooms #6500 - #6600\n",
      "Making rooms #6600 - #6700\n",
      "Making rooms #6700 - #6800\n",
      "Making rooms #6800 - #6900\n",
      "Making rooms #6900 - #7000\n",
      "Making rooms #7000 - #7100\n",
      "Making rooms #7100 - #7200\n",
      "Making rooms #7200 - #7300\n",
      "Making rooms #7300 - #7400\n",
      "Making rooms #7400 - #7500\n",
      "Making rooms #7500 - #7600\n",
      "Making rooms #7600 - #7700\n",
      "Making rooms #7700 - #7800\n",
      "Making rooms #7800 - #7900\n",
      "Making rooms #7900 - #8000\n",
      "Making rooms #8000 - #8100\n",
      "Making rooms #8100 - #8200\n",
      "Making rooms #8200 - #8300\n",
      "Making rooms #8300 - #8400\n",
      "Making rooms #8400 - #8500\n",
      "Making rooms #8500 - #8600\n",
      "Making rooms #8600 - #8700\n",
      "Making rooms #8700 - #8800\n",
      "Making rooms #8800 - #8900\n",
      "Making rooms #8900 - #9000\n",
      "Making rooms #9000 - #9100\n",
      "Making rooms #9100 - #9200\n",
      "Making rooms #9200 - #9300\n",
      "Making rooms #9300 - #9400\n",
      "Making rooms #9400 - #9500\n",
      "Making rooms #9500 - #9600\n",
      "Making rooms #9600 - #9700\n",
      "Making rooms #9700 - #9800\n",
      "Making rooms #9800 - #9900\n",
      "Making rooms #9900 - #10000\n"
     ]
    }
   ],
   "source": [
    "from random import randint, seed\n",
    "\n",
    "seed(10)\n",
    "\n",
    "for floor in range(1,100):\n",
    "    current_rooms_block = floor * 100\n",
    "    print \"Making rooms #{} - #{}\".format(current_rooms_block, current_rooms_block + 100)\n",
    "    \n",
    "    # Put 100 rooms on each floor (huge hotel!)\n",
    "    for room in range(1,100):\n",
    "        # Create a unique room number as the key\n",
    "        key = str(current_rooms_block + room)\n",
    "        ro = riak.RiakObject(client, bucket, key)\n",
    "        \n",
    "        style = STYLES[randint(0, len(STYLES)-1)]\n",
    "        capacity = randint(0, 8) + 1\n",
    "              \n",
    "        ro.content_type = \"application/json\"\n",
    "        ro.data = {'style': style, 'capacity': capacity}\n",
    "        ro.store()\n",
    "    "
   ]
  },
  {
   "cell_type": "code",
   "execution_count": 66,
   "metadata": {
    "collapsed": false
   },
   "outputs": [
    {
     "name": "stdout",
     "output_type": "stream",
     "text": [
      "Overwriting /home/learner/notebooks/riak/input.json\n"
     ]
    }
   ],
   "source": [
    "%%file ~/notebooks/riak/input.json\n",
    "{\n",
    "    \"inputs\":[\n",
    "        [\"rooms\",\"101\"],[\"rooms\",\"102\"],[\"rooms\",\"103\"]\n",
    "    ],\n",
    "    \"query\":[\n",
    "        {\"map\":{\n",
    "            \"language\":\"javascript\",\n",
    "            \"source\":\n",
    "                \"function(v) {\n",
    "                    /* From the Riak object, pull data and parse it as JSON */\n",
    "                    var parsed_data = JSON.parse(v.values[0].data);\n",
    "                    var data = {};\n",
    "                    /* Key capacity number by room style string */\n",
    "                    data[parsed_data.style] = parsed_data.capacity;\n",
    "                    return [data];\n",
    "                    }\"\n",
    "        }}\n",
    "    ]\n",
    "}"
   ]
  },
  {
   "cell_type": "code",
   "execution_count": 67,
   "metadata": {
    "collapsed": false
   },
   "outputs": [
    {
     "name": "stdout",
     "output_type": "stream",
     "text": [
      "[{\"queen\":4},{\"queen\":2},{\"suite\":8}]"
     ]
    }
   ],
   "source": [
    "!curl -s -X POST -H \"content-type:application/json\" http://localhost:8098/mapred \\\n",
    "        --data \"@/home/learner/notebooks/riak/input.json\""
   ]
  },
  {
   "cell_type": "code",
   "execution_count": 48,
   "metadata": {
    "collapsed": false
   },
   "outputs": [
    {
     "name": "stdout",
     "output_type": "stream",
     "text": [
      "Overwriting /home/learner/notebooks/riak/input.json\n"
     ]
    }
   ],
   "source": [
    "%%file ~/notebooks/riak/input.json\n",
    "{\n",
    "  \"inputs\":[\n",
    "    [\"rooms\",\"101\"],[\"rooms\",\"102\"],[\"rooms\",\"103\"]],\n",
    "  \"query\":[\n",
    "    {\"map\":{\n",
    "      \"language\":\"javascript\",\n",
    "      \"source\":\n",
    "      \"function(v) {\n",
    "        var parsed_data = JSON.parse(v.values[0].data); \n",
    "        var data = {};\n",
    "        var floor = ~~(parseInt(v.key) / 100);\n",
    "        data[floor] = parsed_data.capacity; \n",
    "        return [data];\n",
    "      }\"}\n",
    "  },\n",
    "  {\"reduce\": {\n",
    "      \"language\": \"javascript\",\n",
    "      \"source\":\n",
    "        \"function(v) {\n",
    "            var totals = {};\n",
    "            for (var i in v) {\n",
    "              for(var floor in v[i]) {\n",
    "                if( totals[floor] ) \n",
    "                  totals[floor] += v[i][floor];\n",
    "                else\n",
    "                  totals[floor] = v[i][floor];\n",
    "              } \n",
    "            }\n",
    "\n",
    "            return [totals];\n",
    "          }\"}\n",
    "  } ]\n",
    "}"
   ]
  },
  {
   "cell_type": "code",
   "execution_count": 49,
   "metadata": {
    "collapsed": false
   },
   "outputs": [
    {
     "name": "stdout",
     "output_type": "stream",
     "text": [
      "[{\"1\":14}]"
     ]
    }
   ],
   "source": [
    "!curl -s -X POST -H \"content-type:application/json\" http://localhost:8098/mapred \\\n",
    "        --data \"@/home/learner/notebooks/riak/input.json\""
   ]
  },
  {
   "cell_type": "code",
   "execution_count": 58,
   "metadata": {
    "collapsed": false
   },
   "outputs": [
    {
     "name": "stdout",
     "output_type": "stream",
     "text": [
      "Overwriting /home/learner/notebooks/riak/input.json\n"
     ]
    }
   ],
   "source": [
    "%%file ~/notebooks/riak/input.json\n",
    "function(v) {\n",
    "    var parsed_data = JSON.parse(v.values[0].data);\n",
    "    var data = {};\n",
    "    data[parsed_data.style] = parsed_data.capacity;\n",
    "    return [data];\n",
    "}"
   ]
  },
  {
   "cell_type": "code",
   "execution_count": 59,
   "metadata": {
    "collapsed": false
   },
   "outputs": [],
   "source": [
    "!curl -X PUT -H \"content-type:application/json\" http://localhost:8098/riak/my_functions/map_capacity \\\n",
    "        --data \"@/home/learner/notebooks/riak/input.json\""
   ]
  },
  {
   "cell_type": "code",
   "execution_count": 68,
   "metadata": {
    "collapsed": false
   },
   "outputs": [
    {
     "name": "stdout",
     "output_type": "stream",
     "text": [
      "Overwriting /home/learner/notebooks/riak/input.json\n"
     ]
    }
   ],
   "source": [
    "%%file ~/notebooks/riak/input.json\n",
    "{\n",
    "\"inputs\":[\n",
    "[\"rooms\",\"101\"],[\"rooms\",\"102\"],[\"rooms\",\"103\"]\n",
    "],\n",
    "\"query\":[\n",
    "{\"map\":{\n",
    "\"language\":\"javascript\",\n",
    "\"bucket\":\"my_functions\",\n",
    "\"key\":\"map_capacity\"\n",
    "}}\n",
    "]\n",
    "}"
   ]
  },
  {
   "cell_type": "code",
   "execution_count": 70,
   "metadata": {
    "collapsed": false
   },
   "outputs": [
    {
     "name": "stdout",
     "output_type": "stream",
     "text": [
      "[{\"queen\":4},{\"queen\":2},{\"suite\":8}]"
     ]
    }
   ],
   "source": [
    "!curl -X POST -H \"content-type:application/json\" \\\n",
    "http://localhost:8098/mapred --data \"@/home/learner/notebooks/riak/input.json\""
   ]
  },
  {
   "cell_type": "code",
   "execution_count": 86,
   "metadata": {
    "collapsed": true
   },
   "outputs": [],
   "source": [
    "#\"key_filters\":[[\"string_to_int\"], [\"less_than\", 1000]]"
   ]
  },
  {
   "cell_type": "code",
   "execution_count": 87,
   "metadata": {
    "collapsed": false
   },
   "outputs": [
    {
     "name": "stdout",
     "output_type": "stream",
     "text": [
      "Overwriting /home/learner/notebooks/riak/input.json\n"
     ]
    }
   ],
   "source": [
    "%%file ~/notebooks/riak/input.json\n",
    "{\n",
    "\"inputs\":{\n",
    "    \"bucket\":\"rooms\",\n",
    "    \"key_filters\": [[\"string_to_int\"], [\"between\", 4200, 4399]]\n",
    "},\n",
    "\"query\":[\n",
    "{\"map\":{\n",
    "\"language\":\"javascript\",\n",
    "\"bucket\":\"my_functions\",\n",
    "\"key\":\"map_capacity\"\n",
    "}},\n",
    "{\"reduce\":{\n",
    "\"language\":\"javascript\",\n",
    "\"source\":\n",
    "\"function(v) {\n",
    "var totals = {};\n",
    "for (var i in v) {\n",
    "for(var style in v[i]) {\n",
    "if( totals[style] ) totals[style] += v[i][style];\n",
    "else totals[style] = v[i][style];\n",
    "}\n",
    "}\n",
    "return [totals];\n",
    "}\"\n",
    "}}\n",
    "]\n",
    "}"
   ]
  },
  {
   "cell_type": "code",
   "execution_count": 88,
   "metadata": {
    "collapsed": false
   },
   "outputs": [
    {
     "name": "stdout",
     "output_type": "stream",
     "text": [
      "[{\"queen\":201,\"suite\":209,\"double\":169,\"single\":228,\"king\":146}]"
     ]
    }
   ],
   "source": [
    "!curl -X POST -H \"content-type:application/json\" \\\n",
    "http://localhost:8098/mapred --data \"@/home/learner/notebooks/riak/input.json\""
   ]
  },
  {
   "cell_type": "code",
   "execution_count": null,
   "metadata": {
    "collapsed": true
   },
   "outputs": [],
   "source": []
  }
 ],
 "metadata": {
  "kernelspec": {
   "display_name": "Python 2",
   "language": "python",
   "name": "python2"
  },
  "language_info": {
   "codemirror_mode": {
    "name": "ipython",
    "version": 2
   },
   "file_extension": ".py",
   "mimetype": "text/x-python",
   "name": "python",
   "nbconvert_exporter": "python",
   "pygments_lexer": "ipython2",
   "version": "2.7.6"
  }
 },
 "nbformat": 4,
 "nbformat_minor": 0
}
