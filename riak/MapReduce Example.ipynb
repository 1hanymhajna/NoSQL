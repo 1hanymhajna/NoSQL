{
 "cells": [
  {
   "cell_type": "code",
   "execution_count": 2,
   "metadata": {
    "collapsed": false
   },
   "outputs": [
    {
     "name": "stderr",
     "output_type": "stream",
     "text": [
      "/usr/local/lib/python2.7/dist-packages/riak-2.2.0-py2.7.egg/riak/security.py:35: UserWarning: Found OpenSSL 1.0.1f 6 Jan 2014 version, but expected at least OpenSSL 1.0.1g.  Security may not support TLS 1.2.\n"
     ]
    }
   ],
   "source": [
    "import riak\n",
    "\n",
    "client = riak.RiakClient()"
   ]
  },
  {
   "cell_type": "code",
   "execution_count": 2,
   "metadata": {
    "collapsed": false
   },
   "outputs": [
    {
     "data": {
      "text/plain": [
       "True"
      ]
     },
     "execution_count": 2,
     "metadata": {},
     "output_type": "execute_result"
    }
   ],
   "source": [
    "client.ping()"
   ]
  },
  {
   "cell_type": "code",
   "execution_count": 4,
   "metadata": {
    "collapsed": true
   },
   "outputs": [],
   "source": [
    "bucket = client.bucket('rooms')"
   ]
  },
  {
   "cell_type": "code",
   "execution_count": 5,
   "metadata": {
    "collapsed": false
   },
   "outputs": [],
   "source": [
    "STYLES = [\"single\", \"double\", \"queen\", \"king\",\"suite\"]"
   ]
  },
  {
   "cell_type": "code",
   "execution_count": 6,
   "metadata": {
    "collapsed": false
   },
   "outputs": [],
   "source": [
    "from random import randint, seed\n",
    "\n",
    "seed(10)\n",
    "\n",
    "for floor in range(1,100):\n",
    "    current_rooms_block = floor * 100\n",
    "    #print \"Making rooms #{} - #{}\".format(current_rooms_block, current_rooms_block + 100)\n",
    "    \n",
    "    # Put 100 rooms on each floor (huge hotel!)\n",
    "    for room in range(1,100):\n",
    "        # Create a unique room number as the key\n",
    "        key = str(current_rooms_block + room)\n",
    "        ro = riak.RiakObject(client, bucket, key)\n",
    "        \n",
    "        style = STYLES[randint(0, len(STYLES)-1)]\n",
    "        capacity = randint(0, 8) + 1\n",
    "              \n",
    "        ro.content_type = \"application/json\"\n",
    "        ro.data = {'style': style, 'capacity': capacity}\n",
    "        ro.store()\n",
    "    "
   ]
  },
  {
   "cell_type": "code",
   "execution_count": 25,
   "metadata": {
    "collapsed": false
   },
   "outputs": [
    {
     "name": "stdout",
     "output_type": "stream",
     "text": [
      "<riak.mapreduce.RiakMapReduce object at 0x7f49760780d0>\n"
     ]
    }
   ],
   "source": [
    "mapReduce = riak.mapreduce.RiakMapReduce(client)\n",
    "print mapReduce"
   ]
  },
  {
   "cell_type": "code",
   "execution_count": 26,
   "metadata": {
    "collapsed": false
   },
   "outputs": [
    {
     "data": {
      "text/plain": [
       "<riak.mapreduce.RiakMapReduce at 0x7f49760780d0>"
      ]
     },
     "execution_count": 26,
     "metadata": {},
     "output_type": "execute_result"
    }
   ],
   "source": [
    "mapReduce.add(\"rooms\", {\"101\", \"102\", \"103\"})"
   ]
  },
  {
   "cell_type": "code",
   "execution_count": 95,
   "metadata": {
    "collapsed": false
   },
   "outputs": [
    {
     "data": {
      "text/plain": [
       "<riak.mapreduce.RiakMapReduce at 0x7f253c15d690>"
      ]
     },
     "execution_count": 95,
     "metadata": {},
     "output_type": "execute_result"
    }
   ],
   "source": [
    "mapReduce.map(\"\"\"\n",
    "    function(v) { \n",
    "        /* From the Riak object, pull data and parse it as JSON */ \n",
    "        var parsed_data = JSON.parse(v.values[0].data); \n",
    "        var data = {};  \n",
    "        /* Key capacity number by room style string */ \n",
    "        data[parsed_data.style] = parsed_data.capacity; \n",
    "        return [data]; \n",
    "    }\"\"\")"
   ]
  },
  {
   "cell_type": "code",
   "execution_count": 96,
   "metadata": {
    "collapsed": false
   },
   "outputs": [
    {
     "data": {
      "text/plain": [
       "[{u'1': 14, u'2': 1}]"
      ]
     },
     "execution_count": 96,
     "metadata": {},
     "output_type": "execute_result"
    }
   ],
   "source": [
    "mapReduce.run()"
   ]
  },
  {
   "cell_type": "code",
   "execution_count": 97,
   "metadata": {
    "collapsed": false
   },
   "outputs": [
    {
     "data": {
      "text/plain": [
       "[{u'1': 14, u'2': 1}]"
      ]
     },
     "execution_count": 97,
     "metadata": {},
     "output_type": "execute_result"
    }
   ],
   "source": [
    "mapReduce = riak.mapreduce.RiakMapReduce(client)\n",
    "\n",
    "mapReduce.add(\"rooms\", {\"101\", \"102\", \"103\", \"201\"}) \n",
    "\n",
    "mapReduce.map(\"\"\"\n",
    "    function(v) {\n",
    "        var parsed_data = JSON.parse(v.values[0].data); \n",
    "        var data = {};\n",
    "        var floor = ~~(parseInt(v.key) / 100);\n",
    "        data[floor] = parsed_data.capacity; \n",
    "        return [data];\n",
    "      }\n",
    "    \"\"\")\n",
    "\n",
    "mapReduce.reduce(\"\"\"\n",
    "    function(v) {\n",
    "            var totals = {};\n",
    "            for (var i in v) {\n",
    "              for(var floor in v[i]) {\n",
    "                if( totals[floor] ) \n",
    "                  totals[floor] += v[i][floor];\n",
    "                else\n",
    "                  totals[floor] = v[i][floor];\n",
    "              } \n",
    "            }\n",
    "\n",
    "            return [totals];\n",
    "          }\n",
    "    \"\"\")\n",
    "\n",
    "mapReduce.run()"
   ]
  },
  {
   "cell_type": "code",
   "execution_count": 98,
   "metadata": {
    "collapsed": false
   },
   "outputs": [
    {
     "data": {
      "text/plain": [
       "<riak.riak_object.RiakObject at 0x7f253c15d090>"
      ]
     },
     "execution_count": 98,
     "metadata": {},
     "output_type": "execute_result"
    }
   ],
   "source": [
    "bucket = client.bucket('my_functions')\n",
    "\n",
    "obj = riak.RiakObject(client, bucket, 'map_capacity')\n",
    "obj.content_type = 'application/json'\n",
    "obj.encoded_data = \"\"\"function(v) {\n",
    "    var parsed_data = JSON.parse(v.values[0].data);\n",
    "    var data = {};\n",
    "    data[parsed_data.style] = parsed_data.capacity;\n",
    "    return [data];\n",
    "}\"\"\"\n",
    "\n",
    "obj.store()"
   ]
  },
  {
   "cell_type": "code",
   "execution_count": 99,
   "metadata": {
    "collapsed": false
   },
   "outputs": [
    {
     "name": "stdout",
     "output_type": "stream",
     "text": [
      "function(v) {\r\n",
      "    var parsed_data = JSON.parse(v.values[0].data);\r\n",
      "    var data = {};\r\n",
      "    data[parsed_data.style] = parsed_data.capacity;\r\n",
      "    return [data];\r\n",
      "}"
     ]
    }
   ],
   "source": [
    "!curl  http://localhost:8098/riak/my_functions/map_capacity"
   ]
  },
  {
   "cell_type": "code",
   "execution_count": 117,
   "metadata": {
    "collapsed": false
   },
   "outputs": [
    {
     "ename": "RiakError",
     "evalue": "'{\"phase\":0,\"error\":\"[{<<\\\\\"lineno\\\\\">>,1},{<<\\\\\"message\\\\\">>,<<\\\\\"ReferenceError: my_functions is not defined\\\\\">>},{<<\\\\\"source\\\\\">>,<<\\\\\"unknown\\\\\">>}]\",\"input\":\"{ok,{r_object,<<\\\\\"rooms\\\\\">>,<<\\\\\"201\\\\\">>,[{r_content,{dict,4,16,16,8,80,48,{[],[],[],[],[],[],[],[],[],[],[],[],[],[],[],[]},{{[],[],[],[],[],[],[],[],[],[],[[<<\\\\\"content-type\\\\\">>,97,112,112,108,105,99,97,116,105,111,110,47,106,115,111,110],[<<\\\\\"X-Riak-VTag\\\\\">>,54,70,65,106,65,71,53,115,115,83,69,110,88,106,69,82,49,67,56,98,82,98]],[[<<\\\\\"index\\\\\">>]],[],[[<<\\\\\"X-Riak-Last-Modified\\\\\">>|{1443,460673,438063}]],[],[]}}},<<\\\\\"{\\\\\\\\\\\\\"style\\\\\\\\\\\\\": \\\\\\\\\\\\\"suite\\\\\\\\\\\\\", \\\\\\\\\\\\\"capacity\\\\\\\\\\\\\": 1}\\\\\">>}],[{<<35,9,254,249,13,134,190,165,0,6,182,...>>,...}],...},...}\"}'",
     "output_type": "error",
     "traceback": [
      "\u001b[1;31m---------------------------------------------------------------------------\u001b[0m",
      "\u001b[1;31mRiakError\u001b[0m                                 Traceback (most recent call last)",
      "\u001b[1;32m<ipython-input-117-3f5cf95c8cd2>\u001b[0m in \u001b[0;36m<module>\u001b[1;34m()\u001b[0m\n\u001b[0;32m      6\u001b[0m )\n\u001b[0;32m      7\u001b[0m \u001b[1;33m\u001b[0m\u001b[0m\n\u001b[1;32m----> 8\u001b[1;33m \u001b[0mmapReduce\u001b[0m\u001b[1;33m.\u001b[0m\u001b[0mrun\u001b[0m\u001b[1;33m(\u001b[0m\u001b[1;33m)\u001b[0m\u001b[1;33m\u001b[0m\u001b[0m\n\u001b[0m",
      "\u001b[1;32m/usr/local/lib/python2.7/dist-packages/riak-2.2.0-py2.7.egg/riak/mapreduce.py\u001b[0m in \u001b[0;36mrun\u001b[1;34m(self, timeout)\u001b[0m\n\u001b[0;32m    317\u001b[0m                                             \u001b[1;34m'when not allowed\\n'\u001b[0m\u001b[1;33m\u001b[0m\u001b[0m\n\u001b[0;32m    318\u001b[0m                                             'original error: ' + e.value)\n\u001b[1;32m--> 319\u001b[1;33m             \u001b[1;32mraise\u001b[0m \u001b[0me\u001b[0m\u001b[1;33m\u001b[0m\u001b[0m\n\u001b[0m\u001b[0;32m    320\u001b[0m \u001b[1;33m\u001b[0m\u001b[0m\n\u001b[0;32m    321\u001b[0m         \u001b[1;31m# If the last phase is NOT a link phase, then return the result.\u001b[0m\u001b[1;33m\u001b[0m\u001b[1;33m\u001b[0m\u001b[0m\n",
      "\u001b[1;31mRiakError\u001b[0m: '{\"phase\":0,\"error\":\"[{<<\\\\\"lineno\\\\\">>,1},{<<\\\\\"message\\\\\">>,<<\\\\\"ReferenceError: my_functions is not defined\\\\\">>},{<<\\\\\"source\\\\\">>,<<\\\\\"unknown\\\\\">>}]\",\"input\":\"{ok,{r_object,<<\\\\\"rooms\\\\\">>,<<\\\\\"201\\\\\">>,[{r_content,{dict,4,16,16,8,80,48,{[],[],[],[],[],[],[],[],[],[],[],[],[],[],[],[]},{{[],[],[],[],[],[],[],[],[],[],[[<<\\\\\"content-type\\\\\">>,97,112,112,108,105,99,97,116,105,111,110,47,106,115,111,110],[<<\\\\\"X-Riak-VTag\\\\\">>,54,70,65,106,65,71,53,115,115,83,69,110,88,106,69,82,49,67,56,98,82,98]],[[<<\\\\\"index\\\\\">>]],[],[[<<\\\\\"X-Riak-Last-Modified\\\\\">>|{1443,460673,438063}]],[],[]}}},<<\\\\\"{\\\\\\\\\\\\\"style\\\\\\\\\\\\\": \\\\\\\\\\\\\"suite\\\\\\\\\\\\\", \\\\\\\\\\\\\"capacity\\\\\\\\\\\\\": 1}\\\\\">>}],[{<<35,9,254,249,13,134,190,165,0,6,182,...>>,...}],...},...}\"}'"
     ]
    }
   ],
   "source": [
    "mapReduce = riak.mapreduce.RiakMapReduce(client)\n",
    "\n",
    "mapReduce.add(\"rooms\", {\"101\", \"102\", \"103\", \"201\"}) \n",
    "mapReduce.map( \n",
    "\"my_functions.map_capacity\"\n",
    ")\n",
    "\n",
    "mapReduce.run()"
   ]
  },
  {
   "cell_type": "code",
   "execution_count": 118,
   "metadata": {
    "collapsed": false
   },
   "outputs": [
    {
     "name": "stdout",
     "output_type": "stream",
     "text": [
      "Overwriting /home/learner/notebooks/riak/input.json\n"
     ]
    }
   ],
   "source": [
    "%%file ~/notebooks/riak/input.json\n",
    "{\n",
    "\"inputs\":[\n",
    "[\"rooms\",\"101\"],[\"rooms\",\"102\"],[\"rooms\",\"103\"]\n",
    "],\n",
    "\"query\":[\n",
    "{\"map\":{\n",
    "\"language\":\"javascript\",\n",
    "\"bucket\":\"my_functions\",\n",
    "\"key\":\"map_capacity\"\n",
    "}}\n",
    "]\n",
    "}"
   ]
  },
  {
   "cell_type": "code",
   "execution_count": 119,
   "metadata": {
    "collapsed": false
   },
   "outputs": [
    {
     "name": "stdout",
     "output_type": "stream",
     "text": [
      "[{\"queen\":4},{\"queen\":2},{\"suite\":8}]"
     ]
    }
   ],
   "source": [
    "!curl -X POST -H \"content-type:application/json\" \\\n",
    "http://localhost:8098/mapred --data \"@/home/learner/notebooks/riak/input.json\""
   ]
  },
  {
   "cell_type": "code",
   "execution_count": 86,
   "metadata": {
    "collapsed": true
   },
   "outputs": [],
   "source": [
    "#\"key_filters\":[[\"string_to_int\"], [\"less_than\", 1000]]"
   ]
  },
  {
   "cell_type": "code",
   "execution_count": 87,
   "metadata": {
    "collapsed": false
   },
   "outputs": [
    {
     "name": "stdout",
     "output_type": "stream",
     "text": [
      "Overwriting /home/learner/notebooks/riak/input.json\n"
     ]
    }
   ],
   "source": [
    "%%file ~/notebooks/riak/input.json\n",
    "{\n",
    "\"inputs\":{\n",
    "    \"bucket\":\"rooms\",\n",
    "    \"key_filters\": [[\"string_to_int\"], [\"between\", 4200, 4399]]\n",
    "},\n",
    "\"query\":[\n",
    "{\"map\":{\n",
    "\"language\":\"javascript\",\n",
    "\"bucket\":\"my_functions\",\n",
    "\"key\":\"map_capacity\"\n",
    "}},\n",
    "{\"reduce\":{\n",
    "\"language\":\"javascript\",\n",
    "\"source\":\n",
    "\"function(v) {\n",
    "var totals = {};\n",
    "for (var i in v) {\n",
    "for(var style in v[i]) {\n",
    "if( totals[style] ) totals[style] += v[i][style];\n",
    "else totals[style] = v[i][style];\n",
    "}\n",
    "}\n",
    "return [totals];\n",
    "}\"\n",
    "}}\n",
    "]\n",
    "}"
   ]
  },
  {
   "cell_type": "code",
   "execution_count": 88,
   "metadata": {
    "collapsed": false
   },
   "outputs": [
    {
     "name": "stdout",
     "output_type": "stream",
     "text": [
      "[{\"queen\":201,\"suite\":209,\"double\":169,\"single\":228,\"king\":146}]"
     ]
    }
   ],
   "source": [
    "!curl -X POST -H \"content-type:application/json\" \\\n",
    "http://localhost:8098/mapred --data \"@/home/learner/notebooks/riak/input.json\""
   ]
  },
  {
   "cell_type": "code",
   "execution_count": 22,
   "metadata": {
    "collapsed": false
   },
   "outputs": [
    {
     "data": {
      "text/plain": [
       "[{u'capacity': 1, u'style': u'suite'},\n",
       " {u'capacity': 8, u'style': u'suite'},\n",
       " {u'capacity': 4, u'style': u'queen'},\n",
       " {u'capacity': 2, u'style': u'queen'}]"
      ]
     },
     "execution_count": 22,
     "metadata": {},
     "output_type": "execute_result"
    }
   ],
   "source": [
    "mapReduce = riak.mapreduce.RiakMapReduce(client)\n",
    "\n",
    "mapReduce.add(\"rooms\", {\"101\", \"102\", \"103\", \"201\"}) \n",
    "#mapReduce.map_values()\n",
    "#mapReduce.map(\"Riak.mapValues\")\n",
    "mapReduce.map_values_json()\n",
    "\n",
    "'''\n",
    "mapReduce.map(\"\"\"\n",
    "    function(v) {\n",
    "        var parsed_data = JSON.parse(v.values[0].data); \n",
    "        var data = {};\n",
    "        var floor = ~~(parseInt(v.key) / 100);\n",
    "        data[floor] = parsed_data.capacity; \n",
    "        return [data];\n",
    "        }\n",
    "    \"\"\")\n",
    "'''\n",
    "\n",
    "#mapReduce.reduce(\"Riak.reduceSum\")\n",
    "\n",
    "mapReduce.run()"
   ]
  },
  {
   "cell_type": "code",
   "execution_count": 39,
   "metadata": {
    "collapsed": false
   },
   "outputs": [],
   "source": [
    "mapReduce = riak.mapreduce.RiakMapReduce(client)\n",
    "\n",
    "mapReduce.add(\"rooms\", {\"101\", \"102\", \"103\", \"201\"}) \n",
    "mapReduce.map(\"Riak.mapByFields\", {\"arg\": [ \"capacity\" ]})\n",
    "\n",
    "\n",
    "\n",
    "#mapReduce.reduce(\"Riak.reduceSum\")\n",
    "\n",
    "mapReduce.run()"
   ]
  },
  {
   "cell_type": "code",
   "execution_count": null,
   "metadata": {
    "collapsed": true
   },
   "outputs": [],
   "source": []
  }
 ],
 "metadata": {
  "kernelspec": {
   "display_name": "Python 2",
   "language": "python",
   "name": "python2"
  },
  "language_info": {
   "codemirror_mode": {
    "name": "ipython",
    "version": 2
   },
   "file_extension": ".py",
   "mimetype": "text/x-python",
   "name": "python",
   "nbconvert_exporter": "python",
   "pygments_lexer": "ipython2",
   "version": "2.7.6"
  }
 },
 "nbformat": 4,
 "nbformat_minor": 0
}
