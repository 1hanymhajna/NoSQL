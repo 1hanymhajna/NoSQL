{
 "cells": [
  {
   "cell_type": "markdown",
   "metadata": {},
   "source": [
    "# Connecting to Riak"
   ]
  },
  {
   "cell_type": "markdown",
   "metadata": {},
   "source": [
    "Now, let's start the Python REPL and get set up. Enter the following into the Python REPL:"
   ]
  },
  {
   "cell_type": "code",
   "execution_count": 19,
   "metadata": {
    "collapsed": false
   },
   "outputs": [],
   "source": [
    "import riak"
   ]
  },
  {
   "cell_type": "markdown",
   "metadata": {},
   "source": [
    "If you are using a single local Riak node, use the following to create a new client instance:"
   ]
  },
  {
   "cell_type": "code",
   "execution_count": 20,
   "metadata": {
    "collapsed": false
   },
   "outputs": [
    {
     "data": {
      "text/plain": [
       "True"
      ]
     },
     "execution_count": 20,
     "metadata": {},
     "output_type": "execute_result"
    }
   ],
   "source": [
    "myClient = riak.RiakClient(pb_port=8087, protocol='pbc')\n",
    "myClient.ping()"
   ]
  },
  {
   "cell_type": "code",
   "execution_count": 21,
   "metadata": {
    "collapsed": false
   },
   "outputs": [
    {
     "data": {
      "text/plain": [
       "True"
      ]
     },
     "execution_count": 21,
     "metadata": {},
     "output_type": "execute_result"
    }
   ],
   "source": [
    "myClient = riak.RiakClient()\n",
    "myClient.ping()"
   ]
  },
  {
   "cell_type": "markdown",
   "metadata": {},
   "source": [
    "# Creating Objects In Riak"
   ]
  },
  {
   "cell_type": "markdown",
   "metadata": {},
   "source": [
    "First, let’s create a few objects and a bucket to keep them in."
   ]
  },
  {
   "cell_type": "code",
   "execution_count": 22,
   "metadata": {
    "collapsed": false
   },
   "outputs": [
    {
     "data": {
      "text/plain": [
       "<riak.riak_object.RiakObject at 0x7feb518c4410>"
      ]
     },
     "execution_count": 22,
     "metadata": {},
     "output_type": "execute_result"
    }
   ],
   "source": [
    "myBucket = myClient.bucket('test')\n",
    "\n",
    "val1 = 1\n",
    "key1 = myBucket.new('one', data=val1)\n",
    "key1.store()"
   ]
  },
  {
   "cell_type": "markdown",
   "metadata": {},
   "source": [
    "In this first example, we have stored the integer 1 with the lookup key of one. Next let’s store a simple string value of two with a matching key."
   ]
  },
  {
   "cell_type": "code",
   "execution_count": 23,
   "metadata": {
    "collapsed": false
   },
   "outputs": [
    {
     "data": {
      "text/plain": [
       "<riak.riak_object.RiakObject at 0x7feb58234950>"
      ]
     },
     "execution_count": 23,
     "metadata": {},
     "output_type": "execute_result"
    }
   ],
   "source": [
    "val2 = \"two\"\n",
    "key2 = myBucket.new('two', data=val2)\n",
    "key2.store()"
   ]
  },
  {
   "cell_type": "markdown",
   "metadata": {},
   "source": [
    "That was easy. Finally, let’s store a bit of JSON. You will probably recognize the pattern by now."
   ]
  },
  {
   "cell_type": "code",
   "execution_count": 24,
   "metadata": {
    "collapsed": false
   },
   "outputs": [
    {
     "data": {
      "text/plain": [
       "<riak.riak_object.RiakObject at 0x7feb52522350>"
      ]
     },
     "execution_count": 24,
     "metadata": {},
     "output_type": "execute_result"
    }
   ],
   "source": [
    "val3 = {\"myValue\": 3}\n",
    "key3 = myBucket.new('three', data=val3)\n",
    "key3.store()"
   ]
  },
  {
   "cell_type": "markdown",
   "metadata": {},
   "source": [
    "# Reading Objects From Riak"
   ]
  },
  {
   "cell_type": "markdown",
   "metadata": {},
   "source": [
    "Now that we have a few objects stored, let’s retrieve them and make sure they contain the values we expect."
   ]
  },
  {
   "cell_type": "code",
   "execution_count": 25,
   "metadata": {
    "collapsed": true
   },
   "outputs": [],
   "source": [
    "fetched1 = myBucket.get('one')\n",
    "fetched2 = myBucket.get('two')\n",
    "fetched3 = myBucket.get('three')\n",
    "\n",
    "assert val1 == fetched1.data\n",
    "assert val2 == fetched2.data\n",
    "assert val3 == fetched3.data"
   ]
  },
  {
   "cell_type": "markdown",
   "metadata": {},
   "source": [
    "That was easy. We simply request the objects by key."
   ]
  },
  {
   "cell_type": "code",
   "execution_count": 30,
   "metadata": {
    "collapsed": false
   },
   "outputs": [
    {
     "name": "stdout",
     "output_type": "stream",
     "text": [
      "HTTP/1.1 200 OK\r",
      "\r\n",
      "X-Riak-Vclock: a85hYGBgzGDKBVI8ypz/fvK2lDQxsPVvzGBKZMxjZSjjKznPlwUA\r",
      "\r\n",
      "Vary: Accept-Encoding\r",
      "\r\n",
      "Server: MochiWeb/1.1 WebMachine/1.10.8 (that head fake, tho)\r",
      "\r\n",
      "Link: </riak/test>; rel=\"up\"\r",
      "\r\n",
      "Last-Modified: Mon, 21 Sep 2015 05:15:34 GMT\r",
      "\r\n",
      "ETag: \"48XrBCN8EX9egpD5w5wF9l\"\r",
      "\r\n",
      "Date: Mon, 21 Sep 2015 05:16:32 GMT\r",
      "\r\n",
      "Content-Type: application/json\r",
      "\r\n",
      "Content-Length: 1\r",
      "\r\n",
      "\r",
      "\r\n",
      "1"
     ]
    }
   ],
   "source": [
    "! curl -i http://localhost:8098/riak/test/one"
   ]
  },
  {
   "cell_type": "code",
   "execution_count": 32,
   "metadata": {
    "collapsed": false
   },
   "outputs": [
    {
     "name": "stdout",
     "output_type": "stream",
     "text": [
      "\"two\""
     ]
    }
   ],
   "source": [
    "! curl http://localhost:8098/riak/test/two"
   ]
  },
  {
   "cell_type": "code",
   "execution_count": 33,
   "metadata": {
    "collapsed": false
   },
   "outputs": [
    {
     "name": "stdout",
     "output_type": "stream",
     "text": [
      "{\"myValue\": 3}"
     ]
    }
   ],
   "source": [
    "\n",
    "! curl http://localhost:8098/riak/test/three"
   ]
  },
  {
   "cell_type": "markdown",
   "metadata": {},
   "source": [
    "# Updating Objects In Riak"
   ]
  },
  {
   "cell_type": "markdown",
   "metadata": {},
   "source": [
    "While some data may be static, other forms of data may need to be updated. This is also easy to accomplish. Let’s update the value of myValue in the 3rd example to 42."
   ]
  },
  {
   "cell_type": "code",
   "execution_count": 36,
   "metadata": {
    "collapsed": false
   },
   "outputs": [
    {
     "data": {
      "text/plain": [
       "<riak.riak_object.RiakObject at 0x7feb518c4ad0>"
      ]
     },
     "execution_count": 36,
     "metadata": {},
     "output_type": "execute_result"
    }
   ],
   "source": [
    "fetched3.data[\"myValue\"] = 42\n",
    "fetched3.store()"
   ]
  },
  {
   "cell_type": "code",
   "execution_count": 37,
   "metadata": {
    "collapsed": false
   },
   "outputs": [
    {
     "name": "stdout",
     "output_type": "stream",
     "text": [
      "{\"myValue\": 42}"
     ]
    }
   ],
   "source": [
    "! curl http://localhost:8098/riak/test/three"
   ]
  },
  {
   "cell_type": "markdown",
   "metadata": {},
   "source": [
    "# Deleting Objects From Riak"
   ]
  },
  {
   "cell_type": "markdown",
   "metadata": {},
   "source": [
    "Nothing is complete without a delete. Fortunately, that's easy too."
   ]
  },
  {
   "cell_type": "code",
   "execution_count": 13,
   "metadata": {
    "collapsed": false
   },
   "outputs": [
    {
     "data": {
      "text/plain": [
       "<riak.riak_object.RiakObject at 0x7f7b4d100850>"
      ]
     },
     "execution_count": 13,
     "metadata": {},
     "output_type": "execute_result"
    }
   ],
   "source": [
    "fetched1.delete()\n",
    "fetched2.delete()\n",
    "fetched3.delete()"
   ]
  },
  {
   "cell_type": "markdown",
   "metadata": {},
   "source": [
    "Now we can verify that the objects have been removed from Riak."
   ]
  },
  {
   "cell_type": "code",
   "execution_count": 14,
   "metadata": {
    "collapsed": true
   },
   "outputs": [],
   "source": [
    "assert myBucket.get('one').exists == False\n",
    "assert myBucket.get('two').exists == False\n",
    "assert myBucket.get('three').exists == False"
   ]
  },
  {
   "cell_type": "markdown",
   "metadata": {},
   "source": [
    "# Working With Complex Objects"
   ]
  },
  {
   "cell_type": "markdown",
   "metadata": {},
   "source": [
    "Since the world is a little more complicated than simple integers and bits of strings, let’s see how we can work with more complex objects. Take for example, this object that encapsulates some knowledge about a book."
   ]
  },
  {
   "cell_type": "code",
   "execution_count": 15,
   "metadata": {
    "collapsed": true
   },
   "outputs": [],
   "source": [
    "book = {\n",
    "  'isbn': \"1111979723\",\n",
    "  'title': \"Moby Dick\",\n",
    "  'author': \"Herman Melville\",\n",
    "  'body': \"Call me Ishmael. Some years ago...\",\n",
    "  'copies_owned': 3\n",
    "}"
   ]
  },
  {
   "cell_type": "markdown",
   "metadata": {},
   "source": [
    "All right, so we have some information about our Moby Dick collection that we want to save. Storing this to Riak should look familiar by now:"
   ]
  },
  {
   "cell_type": "code",
   "execution_count": 16,
   "metadata": {
    "collapsed": false
   },
   "outputs": [
    {
     "data": {
      "text/plain": [
       "<riak.riak_object.RiakObject at 0x7f7b4d0a8750>"
      ]
     },
     "execution_count": 16,
     "metadata": {},
     "output_type": "execute_result"
    }
   ],
   "source": [
    "booksBucket = myClient.bucket('books')\n",
    "newBook = booksBucket.new(book['isbn'], data=book)\n",
    "newBook.store()"
   ]
  },
  {
   "cell_type": "markdown",
   "metadata": {},
   "source": [
    "Some of you may be thinking, “But how does the Python Riak client encode/decode my object?” If we fetch our book back and print the raw encoded data, we shall know:"
   ]
  },
  {
   "cell_type": "code",
   "execution_count": 17,
   "metadata": {
    "collapsed": false
   },
   "outputs": [
    {
     "name": "stdout",
     "output_type": "stream",
     "text": [
      "{\"body\": \"Call me Ishmael. Some years ago...\", \"author\": \"Herman Melville\", \"isbn\": \"1111979723\", \"copies_owned\": 3, \"title\": \"Moby Dick\"}\n"
     ]
    }
   ],
   "source": [
    "fetchedBook = booksBucket.get(book['isbn'])\n",
    "\n",
    "print(fetchedBook.encoded_data)"
   ]
  },
  {
   "cell_type": "markdown",
   "metadata": {},
   "source": [
    "**JSON!** The Riak Python client library encodes things as JSON when it can."
   ]
  },
  {
   "cell_type": "code",
   "execution_count": 18,
   "metadata": {
    "collapsed": false
   },
   "outputs": [
    {
     "data": {
      "text/plain": [
       "{'author': 'Herman Melville',\n",
       " 'body': 'Call me Ishmael. Some years ago...',\n",
       " 'copies_owned': 3,\n",
       " 'isbn': '1111979723',\n",
       " 'title': 'Moby Dick'}"
      ]
     },
     "execution_count": 18,
     "metadata": {},
     "output_type": "execute_result"
    }
   ],
   "source": [
    "{\"body\": \"Call me Ishmael. Some years ago...\",\n",
    "\"author\": \"Herman Melville\", \"isbn\": \"1111979723\",\n",
    "\"copies_owned\": 3, \"title\": \"Moby Dick\"}"
   ]
  },
  {
   "cell_type": "markdown",
   "metadata": {},
   "source": [
    "Finally, let’s clean up our mess:"
   ]
  },
  {
   "cell_type": "code",
   "execution_count": 19,
   "metadata": {
    "collapsed": false
   },
   "outputs": [
    {
     "data": {
      "text/plain": [
       "<riak.riak_object.RiakObject at 0x7f7b4d10e3d0>"
      ]
     },
     "execution_count": 19,
     "metadata": {},
     "output_type": "execute_result"
    }
   ],
   "source": [
    "fetchedBook.delete()"
   ]
  },
  {
   "cell_type": "markdown",
   "metadata": {},
   "source": [
    "# Storing binary data"
   ]
  },
  {
   "cell_type": "markdown",
   "metadata": {
    "collapsed": true
   },
   "source": [
    "Riak can also handle binary data, such as images, audio files, etc. Storing binary data looks almost identical:"
   ]
  },
  {
   "cell_type": "code",
   "execution_count": 42,
   "metadata": {
    "collapsed": false
   },
   "outputs": [],
   "source": [
    "book_photo_bucket = myClient.bucket('book_photo')"
   ]
  },
  {
   "cell_type": "code",
   "execution_count": 43,
   "metadata": {
    "collapsed": false
   },
   "outputs": [
    {
     "data": {
      "text/plain": [
       "<riak.riak_object.RiakObject at 0x7feb582343d0>"
      ]
     },
     "execution_count": 43,
     "metadata": {},
     "output_type": "execute_result"
    }
   ],
   "source": [
    "photo = book_photo_bucket.new_from_file('1111979723', './images/moby_dick_book_cover.jpg')\n",
    "photo.store()"
   ]
  },
  {
   "cell_type": "code",
   "execution_count": 44,
   "metadata": {
    "collapsed": false
   },
   "outputs": [
    {
     "name": "stdout",
     "output_type": "stream",
     "text": [
      "<type 'str'>\n"
     ]
    }
   ],
   "source": [
    "photo = book_photo_bucket.get('1111979723')\n",
    "photo_data = photo.encoded_data\n",
    "\n",
    "print type(photo_data)"
   ]
  },
  {
   "cell_type": "code",
   "execution_count": 45,
   "metadata": {
    "collapsed": false
   },
   "outputs": [
    {
     "name": "stdout",
     "output_type": "stream",
     "text": [
      "����\u0000\u0018Exif\u0000\u0000II*\u0000\b\u0000\u0000\u0000\u0000\u0000\u0000\u0000\u0000\u0000\u0000\u0000��\u0000\u0011Ducky\u0000\u0001\u0000\u0004\u0000\u0000\u0000P\u0000\u0000��\u0000&Adobe\u0000d�\u0000\u0000\u0000\u0001\u0003\u0000\u0015\u0004\u0003\u0006\n",
      "\r",
      "\u0000\u0003L�\u0000\u0004.\u0016\u0000\u0007\f",
      "�\u0000\u000b",
      "�\u0015��\u0000�\u0000\u0002\u0002\u0002\u0002\u0002\u0002\u0002\u0002\n"
     ]
    }
   ],
   "source": [
    "print photo_data[:100]"
   ]
  },
  {
   "cell_type": "code",
   "execution_count": 46,
   "metadata": {
    "collapsed": false
   },
   "outputs": [
    {
     "name": "stdout",
     "output_type": "stream",
     "text": [
      "0000000 d8ff e1ff 1800 7845 6669 0000 4949 002a\r\n",
      "0000010 0008 0000 0000 0000 0000 0000 ecff 1100\r\n",
      "0000020 7544 6b63 0079 0001 0004 0000 0050 ff00\r\n",
      "0000030 00ee 4126 6f64 6562 6400 00c0 0000 0301\r\n",
      "0000040 1500 0304 0a06 000d 4c03 008a 2e04 0016\r\n",
      "0000050 0c07 00bf fb0b ff15 00db 0084 0202 0202\r\n",
      "0000060 0202 0202 0202 0203 0202 0403 0203 0302\r\n",
      "0000070 0504 0404 0404 0504 0506 0505 0505 0605\r\n",
      "0000080 0706 0807 0707 0906 0a09 090a 0c09 0c0c\r\n",
      "0000090 0c0c 0c0c 0c0c 0c0c 0c0c 0c0c 0301 0303\r\n"
     ]
    }
   ],
   "source": [
    "! curl -s http://localhost:8098/riak/book_photo/1111979723 | hexdump | head "
   ]
  },
  {
   "cell_type": "code",
   "execution_count": 47,
   "metadata": {
    "collapsed": false
   },
   "outputs": [
    {
     "data": {
      "text/plain": [
       "<riak.riak_object.RiakObject at 0x7feb523cc390>"
      ]
     },
     "execution_count": 47,
     "metadata": {},
     "output_type": "execute_result"
    }
   ],
   "source": [
    "photo.delete()"
   ]
  },
  {
   "cell_type": "code",
   "execution_count": null,
   "metadata": {
    "collapsed": true
   },
   "outputs": [],
   "source": []
  }
 ],
 "metadata": {
  "kernelspec": {
   "display_name": "Python 2",
   "language": "python",
   "name": "python2"
  },
  "language_info": {
   "codemirror_mode": {
    "name": "ipython",
    "version": 2
   },
   "file_extension": ".py",
   "mimetype": "text/x-python",
   "name": "python",
   "nbconvert_exporter": "python",
   "pygments_lexer": "ipython2",
   "version": "2.7.6"
  }
 },
 "nbformat": 4,
 "nbformat_minor": 0
}
