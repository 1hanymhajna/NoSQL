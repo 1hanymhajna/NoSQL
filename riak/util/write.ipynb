{
 "cells": [
  {
   "cell_type": "code",
   "execution_count": 1,
   "metadata": {
    "collapsed": false
   },
   "outputs": [
    {
     "name": "stderr",
     "output_type": "stream",
     "text": [
      "/usr/local/lib/python2.7/dist-packages/riak-2.2.0-py2.7.egg/riak/security.py:35: UserWarning: Found OpenSSL 1.0.1f 6 Jan 2014 version, but expected at least OpenSSL 1.0.1g.  Security may not support TLS 1.2.\n"
     ]
    }
   ],
   "source": [
    "import riak\n",
    "\n",
    "# connect to Riak\n",
    "client = riak.RiakClient()"
   ]
  },
  {
   "cell_type": "code",
   "execution_count": 9,
   "metadata": {
    "collapsed": false
   },
   "outputs": [
    {
     "data": {
      "text/plain": [
       "<riak.riak_object.RiakObject at 0x7f8c67c89ad0>"
      ]
     },
     "execution_count": 9,
     "metadata": {},
     "output_type": "execute_result"
    }
   ],
   "source": [
    "import riak\n",
    "import time\n",
    "import uuid\n",
    "\n",
    "client = riak.RiakClient()\n",
    "status_bucket = client.bucket('status')\n",
    "\n",
    "# We use ``uuid.uuid1().hex`` here to create a unique identifier for the status.\n",
    "post_uuid = uuid.uuid1().hex\n",
    "new_status = riak.RiakObject(client, status_bucket, post_uuid)\n",
    "\n",
    "# Add in the data you want to store.\n",
    "new_status.data = {\n",
    "    'message': 'First post!',\n",
    "    'created': time.time(),\n",
    "    'is_public': True\n",
    "}\n",
    "\n",
    "# Set the content type.\n",
    "new_status.content_type = 'application/json'\n",
    "\n",
    "# We want to do JSON-encoding on the value.\n",
    "new_status._encode_data = True\n",
    "\n",
    "# Again, make sure you save it.\n",
    "new_status.store()"
   ]
  },
  {
   "cell_type": "code",
   "execution_count": null,
   "metadata": {
    "collapsed": true
   },
   "outputs": [],
   "source": []
  }
 ],
 "metadata": {
  "kernelspec": {
   "display_name": "Python 2",
   "language": "python",
   "name": "python2"
  },
  "language_info": {
   "codemirror_mode": {
    "name": "ipython",
    "version": 2
   },
   "file_extension": ".py",
   "mimetype": "text/x-python",
   "name": "python",
   "nbconvert_exporter": "python",
   "pygments_lexer": "ipython2",
   "version": "2.7.6"
  }
 },
 "nbformat": 4,
 "nbformat_minor": 0
}
