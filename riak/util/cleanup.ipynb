{
 "cells": [
  {
   "cell_type": "code",
   "execution_count": 4,
   "metadata": {
    "collapsed": false
   },
   "outputs": [],
   "source": [
    "import riak\n",
    "\n",
    "riak_handle = riak.RiakClient(pb_port=8087, protocol='pbc')"
   ]
  },
  {
   "cell_type": "code",
   "execution_count": 5,
   "metadata": {
    "collapsed": false
   },
   "outputs": [],
   "source": [
    "for buckets in riak_handle.stream_buckets():\n",
    "    for bucket in buckets:\n",
    "        print('Bucket %s' % bucket)"
   ]
  },
  {
   "cell_type": "code",
   "execution_count": 6,
   "metadata": {
    "collapsed": false
   },
   "outputs": [],
   "source": [
    "#Clean ALL keys\n",
    "\n",
    "for buckets in riak_handle.stream_buckets():\n",
    "    for bucket in buckets:\n",
    "        for keys in bucket.stream_keys():\n",
    "            for key in keys:\n",
    "                print('Deleting key {0}/{1}').format(bucket.name, key)\n",
    "                bucket.delete(key)"
   ]
  },
  {
   "cell_type": "code",
   "execution_count": 7,
   "metadata": {
    "collapsed": true
   },
   "outputs": [],
   "source": [
    "riak_bucket = riak_handle.bucket('test')\n",
    "\n",
    "for keys in riak_bucket.stream_keys():\n",
    "    for key in keys:\n",
    "        print('Deleting %s' % key)\n",
    "        riak_bucket.delete(key)"
   ]
  },
  {
   "cell_type": "code",
   "execution_count": null,
   "metadata": {
    "collapsed": true
   },
   "outputs": [],
   "source": []
  }
 ],
 "metadata": {
  "kernelspec": {
   "display_name": "Python 2",
   "language": "python",
   "name": "python2"
  },
  "language_info": {
   "codemirror_mode": {
    "name": "ipython",
    "version": 2
   },
   "file_extension": ".py",
   "mimetype": "text/x-python",
   "name": "python",
   "nbconvert_exporter": "python",
   "pygments_lexer": "ipython2",
   "version": "2.7.6"
  }
 },
 "nbformat": 4,
 "nbformat_minor": 0
}
