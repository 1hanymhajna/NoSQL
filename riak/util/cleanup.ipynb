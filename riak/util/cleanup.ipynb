{
 "cells": [
  {
   "cell_type": "code",
   "execution_count": 1,
   "metadata": {
    "collapsed": false
   },
   "outputs": [
    {
     "name": "stderr",
     "output_type": "stream",
     "text": [
      "/usr/local/lib/python2.7/dist-packages/riak-2.2.0-py2.7.egg/riak/security.py:35: UserWarning: Found OpenSSL 1.0.1f 6 Jan 2014 version, but expected at least OpenSSL 1.0.1g.  Security may not support TLS 1.2.\n"
     ]
    }
   ],
   "source": [
    "import riak\n",
    "\n",
    "riak_handle = riak.RiakClient(pb_port=8087, protocol='pbc')"
   ]
  },
  {
   "cell_type": "code",
   "execution_count": 2,
   "metadata": {
    "collapsed": false
   },
   "outputs": [
    {
     "name": "stdout",
     "output_type": "stream",
     "text": [
      "Bucket <RiakBucket 'rooms'>\n",
      "Bucket <RiakBucket 'test_multi_index'>\n",
      "Bucket <RiakBucket 'training'>\n"
     ]
    }
   ],
   "source": [
    "for buckets in riak_handle.stream_buckets():\n",
    "    for bucket in buckets:\n",
    "        print('Bucket %s' % bucket)"
   ]
  },
  {
   "cell_type": "code",
   "execution_count": 3,
   "metadata": {
    "collapsed": false
   },
   "outputs": [
    {
     "name": "stdout",
     "output_type": "stream",
     "text": [
      "Deleting key rooms/202\n",
      "Deleting key rooms/103\n",
      "Deleting key rooms/303\n",
      "Deleting key rooms/304\n",
      "Deleting key rooms/101\n",
      "Deleting key rooms/403\n",
      "Deleting key rooms/401\n",
      "Deleting key rooms/102\n",
      "Deleting key rooms/203\n",
      "Deleting key rooms/204\n",
      "Deleting key rooms/104\n",
      "Deleting key rooms/302\n",
      "Deleting key rooms/201\n",
      "Deleting key rooms/402\n",
      "Deleting key rooms/404\n",
      "Deleting key rooms/301\n",
      "Deleting key test_multi_index/vishnu\n",
      "Deleting key test_multi_index/sree\n",
      "Deleting key training/foo\n",
      "Deleting key training/bar\n",
      "Deleting key training/bam\n",
      "Deleting key training/baz\n"
     ]
    }
   ],
   "source": [
    "#Clean ALL keys\n",
    "\n",
    "for buckets in riak_handle.stream_buckets():\n",
    "    for bucket in buckets:\n",
    "        for keys in bucket.stream_keys():\n",
    "            for key in keys:\n",
    "                print('Deleting key {0}/{1}').format(bucket.name, key)\n",
    "                bucket.delete(key)"
   ]
  },
  {
   "cell_type": "code",
   "execution_count": 8,
   "metadata": {
    "collapsed": true
   },
   "outputs": [],
   "source": [
    "riak_bucket = riak_handle.bucket('test')\n",
    "\n",
    "for keys in riak_bucket.stream_keys():\n",
    "    for key in keys:\n",
    "        print('Deleting %s' % key)\n",
    "        riak_bucket.delete(key)"
   ]
  },
  {
   "cell_type": "code",
   "execution_count": null,
   "metadata": {
    "collapsed": true
   },
   "outputs": [],
   "source": []
  }
 ],
 "metadata": {
  "kernelspec": {
   "display_name": "Python 2",
   "language": "python",
   "name": "python2"
  },
  "language_info": {
   "codemirror_mode": {
    "name": "ipython",
    "version": 2
   },
   "file_extension": ".py",
   "mimetype": "text/x-python",
   "name": "python",
   "nbconvert_exporter": "python",
   "pygments_lexer": "ipython2",
   "version": "2.7.6"
  }
 },
 "nbformat": 4,
 "nbformat_minor": 0
}
