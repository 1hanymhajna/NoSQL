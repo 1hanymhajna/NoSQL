{
 "cells": [
  {
   "cell_type": "code",
   "execution_count": 5,
   "metadata": {
    "collapsed": false
   },
   "outputs": [
    {
     "name": "stdout",
     "output_type": "stream",
     "text": [
      "{u'website': u'http://example.com/', u'gender': u'm', u'first_name': u'John', u'last_name': u'Doe', u'is_active': True}\n",
      "{\n",
      "    \"website\": \"http://example.com/\", \n",
      "    \"gender\": \"m\", \n",
      "    \"first_name\": \"John\", \n",
      "    \"last_name\": \"Doe\", \n",
      "    \"is_active\": true\n",
      "}\n"
     ]
    }
   ],
   "source": [
    "import riak\n",
    "import json\n",
    "\n",
    "data = riak.RiakClient().bucket('user').get('johndoe').data\n",
    "print data\n",
    "print json.dumps(data, indent=4)"
   ]
  },
  {
   "cell_type": "code",
   "execution_count": 2,
   "metadata": {
    "collapsed": false
   },
   "outputs": [
    {
     "name": "stdout",
     "output_type": "stream",
     "text": [
      "HTTP/1.1 200 OK\r",
      "\r\n",
      "X-Riak-Vclock: a85hYGBgzGDKBVI8ypz/fvJ2xM1nYOUUymBKZMxjZXAsKTzPlwUA\r",
      "\r\n",
      "Vary: Accept-Encoding\r",
      "\r\n",
      "Server: MochiWeb/1.1 WebMachine/1.10.8 (that head fake, tho)\r",
      "\r\n",
      "Link: </riak/user>; rel=\"up\"\r",
      "\r\n",
      "Last-Modified: Sat, 19 Sep 2015 05:53:05 GMT\r",
      "\r\n",
      "ETag: \"77F1SVY0QvtVJx0QIHJVFE\"\r",
      "\r\n",
      "Date: Sat, 19 Sep 2015 05:54:43 GMT\r",
      "\r\n",
      "Content-Type: application/json\r",
      "\r\n",
      "Content-Length: 110\r",
      "\r\n",
      "\r",
      "\r\n",
      "{\"website\": \"http://example.com/\", \"gender\": \"m\", \"first_name\": \"John\", \"last_name\": \"Doe\", \"is_active\": true}"
     ]
    }
   ],
   "source": [
    "! curl -i http://localhost:8098/riak/user/johndoe "
   ]
  },
  {
   "cell_type": "code",
   "execution_count": 3,
   "metadata": {
    "collapsed": false
   },
   "outputs": [
    {
     "name": "stdout",
     "output_type": "stream",
     "text": [
      "{\r\n",
      "    \"first_name\": \"John\",\r\n",
      "    \"gender\": \"m\",\r\n",
      "    \"is_active\": true,\r\n",
      "    \"last_name\": \"Doe\",\r\n",
      "    \"website\": \"http://example.com/\"\r\n",
      "}\r\n"
     ]
    }
   ],
   "source": [
    "! curl -s http://localhost:8098/riak/user/johndoe  | python -m json.tool"
   ]
  },
  {
   "cell_type": "code",
   "execution_count": null,
   "metadata": {
    "collapsed": true
   },
   "outputs": [],
   "source": []
  }
 ],
 "metadata": {
  "kernelspec": {
   "display_name": "Python 2",
   "language": "python",
   "name": "python2"
  },
  "language_info": {
   "codemirror_mode": {
    "name": "ipython",
    "version": 2
   },
   "file_extension": ".py",
   "mimetype": "text/x-python",
   "name": "python",
   "nbconvert_exporter": "python",
   "pygments_lexer": "ipython2",
   "version": "2.7.6"
  }
 },
 "nbformat": 4,
 "nbformat_minor": 0
}
