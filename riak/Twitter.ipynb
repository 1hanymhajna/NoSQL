{
 "cells": [
  {
   "cell_type": "code",
   "execution_count": 1,
   "metadata": {
    "collapsed": true
   },
   "outputs": [],
   "source": [
    "import riak"
   ]
  },
  {
   "cell_type": "code",
   "execution_count": 2,
   "metadata": {
    "collapsed": false
   },
   "outputs": [
    {
     "data": {
      "text/plain": [
       "True"
      ]
     },
     "execution_count": 2,
     "metadata": {},
     "output_type": "execute_result"
    }
   ],
   "source": [
    "# connect to database\n",
    "myClient = riak.RiakClient()\n",
    "myClient.ping()"
   ]
  },
  {
   "cell_type": "code",
   "execution_count": 3,
   "metadata": {
    "collapsed": false
   },
   "outputs": [
    {
     "name": "stdout",
     "output_type": "stream",
     "text": [
      "sets created\r\n",
      "\r\n",
      "WARNING: After activating sets, nodes in this cluster\r\n",
      "can no longer be downgraded to a version of Riak prior to 2.0\r\n"
     ]
    }
   ],
   "source": [
    "!echo learner | sudo -S -p \"\" riak-admin bucket-type create sets '{\"props\":{\"datatype\":\"set\"}}'"
   ]
  },
  {
   "cell_type": "code",
   "execution_count": 4,
   "metadata": {
    "collapsed": false
   },
   "outputs": [
    {
     "name": "stdout",
     "output_type": "stream",
     "text": [
      "sets has been activated\r\n",
      "\r\n",
      "WARNING: Nodes in this cluster can no longer be\r\n",
      "downgraded to a version of Riak prior to 2.0\r\n"
     ]
    }
   ],
   "source": [
    "!echo learner | sudo -S -p \"\" riak-admin bucket-type activate sets"
   ]
  },
  {
   "cell_type": "code",
   "execution_count": 5,
   "metadata": {
    "collapsed": false
   },
   "outputs": [],
   "source": [
    "BUCKET_TWEETS = 'tweets'\n",
    "BUCKET_USERS = 'users'\n",
    "BUCKET_HASHTAGS = 'hashtags'\n",
    "\n",
    "tweets = myClient.bucket(BUCKET_TWEETS)\n",
    "users = myClient.bucket(BUCKET_USERS)\n",
    "hashtags = myClient.bucket_type('sets').bucket(BUCKET_HASHTAGS)\n"
   ]
  },
  {
   "cell_type": "code",
   "execution_count": 6,
   "metadata": {
    "collapsed": true
   },
   "outputs": [],
   "source": [
    "def insert_hashtag(hashtag, tweet_id):  \n",
    "    hashtags_set = hashtags.get(hashtag.encode('utf8'))\n",
    "    hashtags_set.add(tweet_id.encode('utf8'))    \n",
    "    hashtags_set.store()\n"
   ]
  },
  {
   "cell_type": "code",
   "execution_count": 8,
   "metadata": {
    "collapsed": false
   },
   "outputs": [],
   "source": [
    "def insert_user(user_json, replace = True):\n",
    "    if replace or not users.get(user_json[\"id_str\"]).exists:\n",
    "        user = users.new(user_json[\"id_str\"], user_json)\n",
    "        user.store()\n",
    "    else:\n",
    "        user = users.get(user_json[\"id_str\"])\n",
    "    return user"
   ]
  },
  {
   "cell_type": "code",
   "execution_count": 9,
   "metadata": {
    "collapsed": false
   },
   "outputs": [],
   "source": [
    "def insert_tweet(tweet_json):    \n",
    "    tweet = tweets.new(tweet_json[\"id_str\"], tweet_json)\n",
    "    user = insert_user(tweet_json['user'])\n",
    "    \n",
    "    tweet.add_link(user, tag=\"TWITTED_BY\")\n",
    "    tweet.store()\n",
    "        \n",
    "    for user_mentioned in tweet_json['user_mentions']:\n",
    "        insert_user(user_mentioned, replace = False)         \n",
    "\n",
    "    if 'retweeted_status' in tweet_json:\n",
    "        insert_tweet(tweet_json['retweeted_status'])\n",
    "        \n",
    "    for hashtag in tweet_json['entities']:\n",
    "        insert_hashtag(hashtag, tweet_json[\"id_str\"])\n",
    "        \n",
    "#pp (tweet_json)"
   ]
  },
  {
   "cell_type": "code",
   "execution_count": 10,
   "metadata": {
    "collapsed": false
   },
   "outputs": [],
   "source": [
    "import json\n",
    "from pprintpp import pprint as pp\n",
    "\n",
    "tweets_data_path = '../data/tweets.json'\n",
    "\n",
    "tweets_file = open(tweets_data_path, \"r\")\n",
    "\n",
    "i = 1\n",
    "for line in tweets_file:\n",
    "    i = i + 1\n",
    "    if i == 4:\n",
    "        insert_tweet(json.loads(line))\n",
    "        break"
   ]
  },
  {
   "cell_type": "code",
   "execution_count": 11,
   "metadata": {
    "collapsed": false
   },
   "outputs": [
    {
     "name": "stdout",
     "output_type": "stream",
     "text": [
      "{\"favourites_count\": 1425, \"description\": \"We cover #BigData, #FinTech and #IoT - Looking at how data science and connected devices are changing technology.\", \"friends_count\": 2505, \"created_at\": \"Thu Jan 30 09:46:50 +0000 2014\", \"time_zone\": \"Amsterdam\", \"profile_image_url\": \"http://pbs.twimg.com/profile_images/634739150382436353/JIjlGeGO_normal.png\", \"name\": \"Dataconomy\", \"followers_count\": 8801, \"id_str\": \"2318606822\", \"statuses_count\": 11179, \"geo_enabled\": true, \"id\": 2318606822, \"screen_name\": \"DataconomyMedia\"}"
     ]
    }
   ],
   "source": [
    "!curl -s http://localhost:8098/riak/users/2318606822 "
   ]
  },
  {
   "cell_type": "code",
   "execution_count": 12,
   "metadata": {
    "collapsed": false
   },
   "outputs": [
    {
     "name": "stdout",
     "output_type": "stream",
     "text": [
      "{u'favourites_count': 1425, u'description': u'We cover #BigData, #FinTech and #IoT - Looking at how data science and connected devices are changing technology.', u'friends_count': 2505, u'created_at': u'Thu Jan 30 09:46:50 +0000 2014', u'time_zone': u'Amsterdam', u'profile_image_url': u'http://pbs.twimg.com/profile_images/634739150382436353/JIjlGeGO_normal.png', u'followers_count': 8801, u'screen_name': u'DataconomyMedia', u'id_str': u'2318606822', u'statuses_count': 11179, u'geo_enabled': True, u'id': 2318606822, u'name': u'Dataconomy'}\n"
     ]
    }
   ],
   "source": [
    "print users.get(\"2318606822\").data"
   ]
  },
  {
   "cell_type": "code",
   "execution_count": 13,
   "metadata": {
    "collapsed": false
   },
   "outputs": [
    {
     "name": "stdout",
     "output_type": "stream",
     "text": [
      "{\"type\":\"set\",\"value\":[\"658168624692228096\",\"658171535824416768\"],\"context\":\"g2wAAAABaAJtAAAADCMJ/vkYKKwZAAAnEWECag==\"}"
     ]
    }
   ],
   "source": [
    "!curl  http://localhost:8098/types/sets/buckets/hashtags/datatypes/NoSQL "
   ]
  },
  {
   "cell_type": "code",
   "execution_count": 14,
   "metadata": {
    "collapsed": false
   },
   "outputs": [
    {
     "name": "stdout",
     "output_type": "stream",
     "text": [
      "{\"type\":\"set\",\"value\":[\"658168624692228096\",\"658171535824416768\"],\"context\":\"g2wAAAABaAJtAAAADCMJ/vkYEMqbAAAnEWECag==\"}"
     ]
    }
   ],
   "source": [
    "!curl  http://localhost:8098/types/sets/buckets/hashtags/datatypes/SQL "
   ]
  },
  {
   "cell_type": "code",
   "execution_count": 15,
   "metadata": {
    "collapsed": false
   },
   "outputs": [
    {
     "name": "stdout",
     "output_type": "stream",
     "text": [
      "frozenset(['658168624692228096', '658171535824416768'])\n"
     ]
    }
   ],
   "source": [
    "print hashtags.get(\"SQL\")"
   ]
  },
  {
   "cell_type": "code",
   "execution_count": 16,
   "metadata": {
    "collapsed": false
   },
   "outputs": [
    {
     "name": "stdout",
     "output_type": "stream",
     "text": [
      "{\"lang\": \"en\", \"retweeted_status\": {\"lang\": \"en\", \"entities\": [\"SQL\", \"NoSQL\"], \"text\": \"Coming Full Circle: Why #SQL now powers the #NoSQL Craze, by Ryan Betts of @VoltDB https://t.co/sj11zLPgEX\", \"created_at\": \"Sun Oct 25 06:30:02 +0000 2015\", \"user_mentions\": [{\"screen_name\": \"VoltDB\", \"id\": 97716631, \"name\": \"VoltDB\", \"id_str\": \"97716631\"}], \"source\": \"<a href=\\\"http://bufferapp.com\\\" rel=\\\"nofollow\\\">Buffer</a>\", \"id_str\": \"658168624692228096\", \"retweet_count\": 1, \"id\": 658168624692228096, \"favorite_count\": 0, \"user\": {\"favourites_count\": 1425, \"description\": \"We cover #BigData, #FinTech and #IoT - Looking at how data science and connected devices are changing technology.\", \"friends_count\": 2505, \"created_at\": \"Thu Jan 30 09:46:50 +0000 2014\", \"time_zone\": \"Amsterdam\", \"profile_image_url\": \"http://pbs.twimg.com/profile_images/634739150382436353/JIjlGeGO_normal.png\", \"name\": \"Dataconomy\", \"followers_count\": 8801, \"id_str\": \"2318606822\", \"statuses_count\": 11179, \"geo_enabled\": true, \"id\": 2318606822, \"screen_name\": \"DataconomyMedia\"}}, \"entities\": [\"SQL\", \"NoSQL\"], \"text\": \"RT @DataconomyMedia: Coming Full Circle: Why #SQL now powers the #NoSQL Craze, by Ryan Betts of @VoltDB https://t.co/sj11zLPgEX\", \"created_at\": \"Sun Oct 25 06:41:37 +0000 2015\", \"user_mentions\": [{\"screen_name\": \"DataconomyMedia\", \"id\": 2318606822, \"name\": \"Dataconomy\", \"id_str\": \"2318606822\"}, {\"screen_name\": \"VoltDB\", \"id\": 97716631, \"name\": \"VoltDB\", \"id_str\": \"97716631\"}], \"source\": \"<a href=\\\"http://twitter.com\\\" rel=\\\"nofollow\\\">Twitter Web Client</a>\", \"id_str\": \"658171535824416768\", \"retweet_count\": 1, \"id\": 658171535824416768, \"favorite_count\": 0, \"user\": {\"favourites_count\": 496, \"description\": \"\", \"friends_count\": 2001, \"created_at\": \"Sat Aug 21 14:30:21 +0000 2010\", \"profile_image_url\": \"http://pbs.twimg.com/profile_images/1143255121/ds_1__normal.jpg\", \"name\": \"Magistr OM MAK\", \"followers_count\": 584, \"id_str\": \"181183773\", \"statuses_count\": 11403, \"geo_enabled\": false, \"id\": 181183773, \"screen_name\": \"MAGISTR_OM\"}}"
     ]
    }
   ],
   "source": [
    "!curl -s http://localhost:8098/riak/tweets/658171535824416768 "
   ]
  },
  {
   "cell_type": "code",
   "execution_count": 17,
   "metadata": {
    "collapsed": false
   },
   "outputs": [
    {
     "name": "stdout",
     "output_type": "stream",
     "text": [
      "{u'lang': u'en', u'retweeted_status': {u'lang': u'en', u'source': u'<a href=\"http://bufferapp.com\" rel=\"nofollow\">Buffer</a>', u'text': u'Coming Full Circle: Why #SQL now powers the #NoSQL Craze, by Ryan Betts of @VoltDB https://t.co/sj11zLPgEX', u'created_at': u'Sun Oct 25 06:30:02 +0000 2015', u'user_mentions': [{u'id_str': u'97716631', u'screen_name': u'VoltDB', u'name': u'VoltDB', u'id': 97716631}], u'entities': [u'SQL', u'NoSQL'], u'id_str': u'658168624692228096', u'retweet_count': 1, u'id': 658168624692228096, u'favorite_count': 0, u'user': {u'favourites_count': 1425, u'description': u'We cover #BigData, #FinTech and #IoT - Looking at how data science and connected devices are changing technology.', u'friends_count': 2505, u'created_at': u'Thu Jan 30 09:46:50 +0000 2014', u'time_zone': u'Amsterdam', u'profile_image_url': u'http://pbs.twimg.com/profile_images/634739150382436353/JIjlGeGO_normal.png', u'followers_count': 8801, u'screen_name': u'DataconomyMedia', u'id_str': u'2318606822', u'statuses_count': 11179, u'geo_enabled': True, u'id': 2318606822, u'name': u'Dataconomy'}}, u'source': u'<a href=\"http://twitter.com\" rel=\"nofollow\">Twitter Web Client</a>', u'text': u'RT @DataconomyMedia: Coming Full Circle: Why #SQL now powers the #NoSQL Craze, by Ryan Betts of @VoltDB https://t.co/sj11zLPgEX', u'created_at': u'Sun Oct 25 06:41:37 +0000 2015', u'user_mentions': [{u'id_str': u'2318606822', u'screen_name': u'DataconomyMedia', u'name': u'Dataconomy', u'id': 2318606822}, {u'id_str': u'97716631', u'screen_name': u'VoltDB', u'name': u'VoltDB', u'id': 97716631}], u'entities': [u'SQL', u'NoSQL'], u'id_str': u'658171535824416768', u'retweet_count': 1, u'id': 658171535824416768, u'favorite_count': 0, u'user': {u'favourites_count': 496, u'description': u'', u'friends_count': 2001, u'created_at': u'Sat Aug 21 14:30:21 +0000 2010', u'profile_image_url': u'http://pbs.twimg.com/profile_images/1143255121/ds_1__normal.jpg', u'followers_count': 584, u'screen_name': u'MAGISTR_OM', u'id_str': u'181183773', u'statuses_count': 11403, u'geo_enabled': False, u'id': 181183773, u'name': u'Magistr OM MAK'}}\n"
     ]
    }
   ],
   "source": [
    "print tweets.get(\"658171535824416768\").data"
   ]
  },
  {
   "cell_type": "code",
   "execution_count": 27,
   "metadata": {
    "collapsed": false
   },
   "outputs": [
    {
     "name": "stdout",
     "output_type": "stream",
     "text": [
      "DataconomyMedia-> Coming Full Circle: Why #SQL now powers the #NoSQL Craze, by Ryan Betts of @VoltDB https://t.co/sj11zLPgEX\n",
      "MAGISTR_OM-> RT @DataconomyMedia: Coming Full Circle: Why #SQL now powers the #NoSQL Craze, by Ryan Betts of @VoltDB https://t.co/sj11zLPgEX\n"
     ]
    }
   ],
   "source": [
    "for tweet_id in hashtags.get(\"SQL\"):\n",
    "    tweet = tweets.get(tweet_id)\n",
    "    user_link = tweet.links[0]\n",
    "    if user_link <> None:\n",
    "        tag = user_link[2]\n",
    "        bucket = user_link[0]\n",
    "        key = user_link[1]\n",
    "        if tag == \"TWITTED_BY\":\n",
    "            user = myClient.bucket(bucket).get(key)\n",
    "        \n",
    "    \n",
    "    print user.data[\"screen_name\"] + \"-> \" + tweet.data[\"text\"]"
   ]
  },
  {
   "cell_type": "code",
   "execution_count": null,
   "metadata": {
    "collapsed": true
   },
   "outputs": [],
   "source": []
  }
 ],
 "metadata": {
  "kernelspec": {
   "display_name": "Python 2",
   "language": "python",
   "name": "python2"
  },
  "language_info": {
   "codemirror_mode": {
    "name": "ipython",
    "version": 2
   },
   "file_extension": ".py",
   "mimetype": "text/x-python",
   "name": "python",
   "nbconvert_exporter": "python",
   "pygments_lexer": "ipython2",
   "version": "2.7.6"
  }
 },
 "nbformat": 4,
 "nbformat_minor": 0
}
