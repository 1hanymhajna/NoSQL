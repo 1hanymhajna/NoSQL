{
 "cells": [
  {
   "cell_type": "code",
   "execution_count": 13,
   "metadata": {
    "collapsed": false
   },
   "outputs": [
    {
     "name": "stdout",
     "output_type": "stream",
     "text": [
      "HTTP/1.1 204 No Content\r",
      "\r\n",
      "Vary: Accept-Encoding\r",
      "\r\n",
      "Server: MochiWeb/1.1 WebMachine/1.10.8 (that head fake, tho)\r",
      "\r\n",
      "Date: Sat, 03 Oct 2015 15:42:49 GMT\r",
      "\r\n",
      "Content-Type: text/plain\r",
      "\r\n",
      "Content-Length: 0\r",
      "\r\n",
      "\r",
      "\r\n"
     ]
    }
   ],
   "source": [
    "! curl -i -XPUT \"http://localhost:8098/riak/food/favorite\" \\\n",
    "-H \"Content-Type:text/plain\" \\\n",
    "-d \"pizza\"\n"
   ]
  },
  {
   "cell_type": "code",
   "execution_count": 16,
   "metadata": {
    "collapsed": false
   },
   "outputs": [
    {
     "name": "stdout",
     "output_type": "stream",
     "text": [
      "HTTP/1.1 200 OK\r",
      "\r\n",
      "X-Riak-Vclock: a85hYGBgzGDKBVI8ypz/fvK27VjKwL5QMYMpkSmPlaGyuOU8XxYA\r",
      "\r\n",
      "Vary: Accept-Encoding\r",
      "\r\n",
      "Server: MochiWeb/1.1 WebMachine/1.10.8 (that head fake, tho)\r",
      "\r\n",
      "Link: </riak/food>; rel=\"up\"\r",
      "\r\n",
      "Last-Modified: Sat, 03 Oct 2015 15:42:49 GMT\r",
      "\r\n",
      "ETag: \"knJp6LhcAVP0KiZw7Q6WR\"\r",
      "\r\n",
      "Date: Sat, 03 Oct 2015 15:43:34 GMT\r",
      "\r\n",
      "Content-Type: text/plain\r",
      "\r\n",
      "Content-Length: 5\r",
      "\r\n",
      "\r",
      "\r\n",
      "pizza"
     ]
    }
   ],
   "source": [
    "! curl -i -XGET \"http://localhost:8098/riak/food/favorite\" "
   ]
  },
  {
   "cell_type": "code",
   "execution_count": 18,
   "metadata": {
    "collapsed": false
   },
   "outputs": [
    {
     "name": "stdout",
     "output_type": "stream",
     "text": [
      "HTTP/1.1 201 Created\r",
      "\r\n",
      "Vary: Accept-Encoding\r",
      "\r\n",
      "Server: MochiWeb/1.1 WebMachine/1.10.8 (that head fake, tho)\r",
      "\r\n",
      "Location: /riak/food/MkSZUoK4a28gUIdzncgidFwdATJ\r",
      "\r\n",
      "Date: Sat, 03 Oct 2015 15:45:26 GMT\r",
      "\r\n",
      "Content-Type: text/plain\r",
      "\r\n",
      "Content-Length: 0\r",
      "\r\n",
      "\r",
      "\r\n"
     ]
    }
   ],
   "source": [
    "! curl -i -XPOST \"http://localhost:8098/riak/food\" \\\n",
    "-H \"Content-Type:text/plain\" \\\n",
    "-d \"Icecream\""
   ]
  },
  {
   "cell_type": "code",
   "execution_count": 20,
   "metadata": {
    "collapsed": false
   },
   "outputs": [
    {
     "name": "stdout",
     "output_type": "stream",
     "text": [
      "HTTP/1.1 201 Created\r",
      "\r\n",
      "X-Riak-Vclock: a85hYGBgzGDKBVI8ypz/fvJ2JOcysC9UzGBKZMxjZYguaTnPlwUA\r",
      "\r\n",
      "Vary: Accept-Encoding\r",
      "\r\n",
      "Server: MochiWeb/1.1 WebMachine/1.10.8 (that head fake, tho)\r",
      "\r\n",
      "Location: /riak/people/BdTp0MAzgdxLieuGHWhtMy1u7Ut\r",
      "\r\n",
      "Link: </riak/people>; rel=\"up\"\r",
      "\r\n",
      "Last-Modified: Sat, 03 Oct 2015 15:46:35 GMT\r",
      "\r\n",
      "ETag: \"2yqM5d84hGGCLpUapWjw47\"\r",
      "\r\n",
      "Date: Sat, 03 Oct 2015 15:46:35 GMT\r",
      "\r\n",
      "Content-Type: application/json\r",
      "\r\n",
      "Content-Length: 16\r",
      "\r\n",
      "\r",
      "\r\n",
      "{\"name\":\"billy\"}"
     ]
    }
   ],
   "source": [
    "! curl -i -XPOST \"http://localhost:8098/riak/people?returnbody=true\" \\\n",
    "-H \"Content-Type:application/json\" \\\n",
    "-d '{\"name\":\"billy\"}'"
   ]
  },
  {
   "cell_type": "code",
   "execution_count": 22,
   "metadata": {
    "collapsed": false
   },
   "outputs": [
    {
     "name": "stdout",
     "output_type": "stream",
     "text": [
      "HTTP/1.1 204 No Content\r",
      "\r\n",
      "Vary: Accept-Encoding\r",
      "\r\n",
      "Server: MochiWeb/1.1 WebMachine/1.10.8 (that head fake, tho)\r",
      "\r\n",
      "Date: Sat, 03 Oct 2015 15:47:50 GMT\r",
      "\r\n",
      "Content-Type: application/json\r",
      "\r\n",
      "Content-Length: 0\r",
      "\r\n",
      "\r",
      "\r\n"
     ]
    }
   ],
   "source": [
    "!curl -i -XDELETE \"http://localhost:8098/riak/people/BdTp0MAzgdxLieuGHWhtMy1u7Ut\"\n"
   ]
  },
  {
   "cell_type": "code",
   "execution_count": 23,
   "metadata": {
    "collapsed": false
   },
   "outputs": [
    {
     "name": "stdout",
     "output_type": "stream",
     "text": [
      "{\"buckets\":[\"food\",\"my_functions\",\"rooms\",\"bucket_name\",\"bucket_name3\"]}"
     ]
    }
   ],
   "source": [
    "!curl \"http://localhost:8098/types/default/buckets?buckets=true\"\n"
   ]
  },
  {
   "cell_type": "code",
   "execution_count": 24,
   "metadata": {
    "collapsed": false
   },
   "outputs": [
    {
     "name": "stdout",
     "output_type": "stream",
     "text": [
      "{\"keys\":[\"MkSZUoK4a28gUIdzncgidFwdATJ\",\"favorite\"]}"
     ]
    }
   ],
   "source": [
    "!curl \"http://localhost:8098/types/default/buckets/food/keys?keys=true\""
   ]
  },
  {
   "cell_type": "code",
   "execution_count": 25,
   "metadata": {
    "collapsed": false
   },
   "outputs": [
    {
     "name": "stdout",
     "output_type": "stream",
     "text": [
      "{\"keys\":[]}{\"keys\":[]}{\"keys\":[]}{\"keys\":[]}{\"keys\":[]}{\"keys\":[]}{\"keys\":[]}{\"keys\":[\"favorite\"]}{\"keys\":[]}{\"keys\":[]}{\"keys\":[]}{\"keys\":[]}{\"keys\":[]}{\"keys\":[]}{\"keys\":[]}{\"keys\":[]}{\"keys\":[]}{\"keys\":[]}{\"keys\":[]}{\"keys\":[]}{\"keys\":[\"MkSZUoK4a28gUIdzncgidFwdATJ\"]}{\"keys\":[]}{\"keys\":[]}"
     ]
    }
   ],
   "source": [
    "!curl \"http://localhost:8098/types/default/buckets/food/keys?keys=stream\""
   ]
  },
  {
   "cell_type": "code",
   "execution_count": 27,
   "metadata": {
    "collapsed": false
   },
   "outputs": [
    {
     "name": "stdout",
     "output_type": "stream",
     "text": [
      "HTTP/1.1 204 No Content\r",
      "\r\n",
      "Vary: Accept-Encoding\r",
      "\r\n",
      "Server: MochiWeb/1.1 WebMachine/1.10.8 (that head fake, tho)\r",
      "\r\n",
      "Date: Sat, 03 Oct 2015 15:52:40 GMT\r",
      "\r\n",
      "Content-Type: text/plain\r",
      "\r\n",
      "Content-Length: 0\r",
      "\r\n",
      "\r",
      "\r\n"
     ]
    }
   ],
   "source": [
    "! curl -i -XPUT \"http://localhost:8098/riak/food/favorite\" \\\n",
    "-H \"Content-Type:text/plain\" \\\n",
    "-d \"pizza\"\n"
   ]
  },
  {
   "cell_type": "code",
   "execution_count": 28,
   "metadata": {
    "collapsed": false
   },
   "outputs": [
    {
     "name": "stdout",
     "output_type": "stream",
     "text": [
      "HTTP/1.1 200 OK\r",
      "\r\n",
      "X-Riak-Vclock: a85hYGBgzGDKBVI8ypz/fvK27VjKwL5QMYMpkTmPleFEact5viwA\r",
      "\r\n",
      "Vary: Accept-Encoding\r",
      "\r\n",
      "Server: MochiWeb/1.1 WebMachine/1.10.8 (that head fake, tho)\r",
      "\r\n",
      "Link: </riak/food>; rel=\"up\"\r",
      "\r\n",
      "Last-Modified: Sat, 03 Oct 2015 15:52:40 GMT\r",
      "\r\n",
      "ETag: \"O82wOUrgUY7KBuBvqAnnj\"\r",
      "\r\n",
      "Date: Sat, 03 Oct 2015 15:53:09 GMT\r",
      "\r\n",
      "Content-Type: text/plain\r",
      "\r\n",
      "Content-Length: 5\r",
      "\r\n",
      "\r",
      "\r\n"
     ]
    }
   ],
   "source": [
    "! curl -I -XGET \"http://localhost:8098/riak/food/favorite\" "
   ]
  },
  {
   "cell_type": "code",
   "execution_count": 31,
   "metadata": {
    "collapsed": false
   },
   "outputs": [
    {
     "name": "stdout",
     "output_type": "stream",
     "text": [
      "HTTP/1.1 304 Not Modified\r",
      "\r\n",
      "Vary: Accept-Encoding\r",
      "\r\n",
      "Server: MochiWeb/1.1 WebMachine/1.10.8 (that head fake, tho)\r",
      "\r\n",
      "ETag: \"O82wOUrgUY7KBuBvqAnnj\"\r",
      "\r\n",
      "Date: Sat, 03 Oct 2015 15:54:42 GMT\r",
      "\r\n",
      "\r",
      "\r\n"
     ]
    }
   ],
   "source": [
    "! curl -i \"http://localhost:8098/riak/food/favorite\"  \\\n",
    "-H 'If-None-Match: \"O82wOUrgUY7KBuBvqAnnj\"'"
   ]
  },
  {
   "cell_type": "code",
   "execution_count": 32,
   "metadata": {
    "collapsed": false
   },
   "outputs": [
    {
     "name": "stdout",
     "output_type": "stream",
     "text": [
      "HTTP/1.1 200 OK\r",
      "\r\n",
      "X-Riak-Vclock: a85hYGBgzGDKBVI8ypz/fvK27VjKwL5QMYMpkTmPleFEact5viwA\r",
      "\r\n",
      "Vary: Accept-Encoding\r",
      "\r\n",
      "Server: MochiWeb/1.1 WebMachine/1.10.8 (that head fake, tho)\r",
      "\r\n",
      "Link: </riak/food>; rel=\"up\"\r",
      "\r\n",
      "Last-Modified: Sat, 03 Oct 2015 15:52:40 GMT\r",
      "\r\n",
      "ETag: \"O82wOUrgUY7KBuBvqAnnj\"\r",
      "\r\n",
      "Date: Sat, 03 Oct 2015 15:54:58 GMT\r",
      "\r\n",
      "Content-Type: text/plain\r",
      "\r\n",
      "Content-Length: 5\r",
      "\r\n",
      "\r",
      "\r\n",
      "pizza"
     ]
    }
   ],
   "source": [
    "! curl -i \"http://localhost:8098/riak/food/favorite\"  \\\n",
    "-H 'If-None-Match: \"O82wOUrgUY7KBuBvqAnnjXXX\"'"
   ]
  },
  {
   "cell_type": "code",
   "execution_count": 34,
   "metadata": {
    "collapsed": false
   },
   "outputs": [
    {
     "name": "stdout",
     "output_type": "stream",
     "text": [
      "HTTP/1.1 304 Not Modified\r",
      "\r\n",
      "Vary: Accept-Encoding\r",
      "\r\n",
      "Server: MochiWeb/1.1 WebMachine/1.10.8 (that head fake, tho)\r",
      "\r\n",
      "ETag: \"O82wOUrgUY7KBuBvqAnnj\"\r",
      "\r\n",
      "Date: Sat, 03 Oct 2015 15:55:38 GMT\r",
      "\r\n",
      "\r",
      "\r\n"
     ]
    }
   ],
   "source": [
    "! curl -i \"http://localhost:8098/riak/food/favorite\" \\\n",
    "-H 'If-Modified-Since: Sat, 03 Oct 2015 15:52:40 GMT'\n"
   ]
  },
  {
   "cell_type": "code",
   "execution_count": 35,
   "metadata": {
    "collapsed": false
   },
   "outputs": [
    {
     "name": "stdout",
     "output_type": "stream",
     "text": [
      "HTTP/1.1 204 No Content\r",
      "\r\n",
      "Vary: Accept-Encoding\r",
      "\r\n",
      "Server: MochiWeb/1.1 WebMachine/1.10.8 (that head fake, tho)\r",
      "\r\n",
      "Date: Sat, 03 Oct 2015 16:28:56 GMT\r",
      "\r\n",
      "Content-Type: application/json\r",
      "\r\n",
      "Content-Length: 0\r",
      "\r\n",
      "\r",
      "\r\n"
     ]
    }
   ],
   "source": [
    "!curl -i -XPUT \"http://localhost:8098/types/default/buckets/cart/props\" \\\n",
    "-H \"Content-Type: application/json\" \\\n",
    "-d '{\"props\":{\"n_val\":5}}'\n"
   ]
  },
  {
   "cell_type": "code",
   "execution_count": 42,
   "metadata": {
    "collapsed": false
   },
   "outputs": [
    {
     "name": "stdout",
     "output_type": "stream",
     "text": [
      "{\r\n",
      "  \"props\": {\r\n",
      "    \"allow_mult\": false,\r\n",
      "    \"basic_quorum\": false,\r\n",
      "    \"big_vclock\": 50,\r\n",
      "    \"chash_keyfun\": {\r\n",
      "      \"mod\": \"riak_core_util\",\r\n",
      "      \"fun\": \"chash_std_keyfun\"\r\n",
      "    },\r\n",
      "    \"dvv_enabled\": false,\r\n",
      "    \"dw\": \"quorum\",\r\n",
      "    \"last_write_wins\": false,\r\n",
      "    \"linkfun\": {\r\n",
      "      \"mod\": \"riak_kv_wm_link_walker\",\r\n",
      "      \"fun\": \"mapreduce_linkfun\"\r\n",
      "    },\r\n",
      "    \"n_val\": 5,\r\n",
      "    \"name\": \"cart\",\r\n",
      "    \"notfound_ok\": true,\r\n",
      "    \"old_vclock\": 86400,\r\n",
      "    \"postcommit\": [],\r\n",
      "    \"pr\": 0,\r\n",
      "    \"precommit\": [],\r\n",
      "    \"pw\": 0,\r\n",
      "    \"r\": \"quorum\",\r\n",
      "    \"rw\": \"quorum\",\r\n",
      "    \"small_vclock\": 50,\r\n",
      "    \"w\": \"quorum\",\r\n",
      "    \"write_once\": false,\r\n",
      "    \"young_vclock\": 20\r\n",
      "  }\r\n",
      "}\r\n"
     ]
    }
   ],
   "source": [
    "!curl -s \"http://localhost:8098/types/default/buckets/cart/props\" | jsonpp\n"
   ]
  },
  {
   "cell_type": "code",
   "execution_count": 43,
   "metadata": {
    "collapsed": false
   },
   "outputs": [
    {
     "name": "stdout",
     "output_type": "stream",
     "text": [
      "HTTP/1.1 204 No Content\r",
      "\r\n",
      "Vary: Accept-Encoding\r",
      "\r\n",
      "Server: MochiWeb/1.1 WebMachine/1.10.8 (that head fake, tho)\r",
      "\r\n",
      "Date: Sat, 03 Oct 2015 16:36:20 GMT\r",
      "\r\n",
      "Content-Type: application/json\r",
      "\r\n",
      "Content-Length: 0\r",
      "\r\n",
      "\r",
      "\r\n"
     ]
    }
   ],
   "source": [
    "!curl -i -XPUT \"http://localhost:8098/types/default/buckets/logs/props\" \\\n",
    "-H \"Content-Type: application/json\" \\\n",
    "-d '{\"props\":{\"w\":\"one\",\"r\":\"all\"}}'\n"
   ]
  },
  {
   "cell_type": "code",
   "execution_count": 45,
   "metadata": {
    "collapsed": false
   },
   "outputs": [
    {
     "name": "stdout",
     "output_type": "stream",
     "text": [
      "{\r\n",
      "  \"props\": {\r\n",
      "    \"allow_mult\": false,\r\n",
      "    \"basic_quorum\": false,\r\n",
      "    \"big_vclock\": 50,\r\n",
      "    \"chash_keyfun\": {\r\n",
      "      \"mod\": \"riak_core_util\",\r\n",
      "      \"fun\": \"chash_std_keyfun\"\r\n",
      "    },\r\n",
      "    \"dvv_enabled\": false,\r\n",
      "    \"dw\": \"quorum\",\r\n",
      "    \"last_write_wins\": false,\r\n",
      "    \"linkfun\": {\r\n",
      "      \"mod\": \"riak_kv_wm_link_walker\",\r\n",
      "      \"fun\": \"mapreduce_linkfun\"\r\n",
      "    },\r\n",
      "    \"n_val\": 3,\r\n",
      "    \"name\": \"logs\",\r\n",
      "    \"notfound_ok\": true,\r\n",
      "    \"old_vclock\": 86400,\r\n",
      "    \"postcommit\": [],\r\n",
      "    \"pr\": 0,\r\n",
      "    \"precommit\": [],\r\n",
      "    \"pw\": 0,\r\n",
      "    \"r\": \"all\",\r\n",
      "    \"rw\": \"quorum\",\r\n",
      "    \"small_vclock\": 50,\r\n",
      "    \"w\": \"one\",\r\n",
      "    \"write_once\": false,\r\n",
      "    \"young_vclock\": 20\r\n",
      "  }\r\n",
      "}\r\n"
     ]
    }
   ],
   "source": [
    "!curl -s \"http://localhost:8098/types/default/buckets/logs/props\" | jsonpp"
   ]
  },
  {
   "cell_type": "code",
   "execution_count": null,
   "metadata": {
    "collapsed": true
   },
   "outputs": [],
   "source": []
  }
 ],
 "metadata": {
  "kernelspec": {
   "display_name": "Python 2",
   "language": "python",
   "name": "python2"
  },
  "language_info": {
   "codemirror_mode": {
    "name": "ipython",
    "version": 2
   },
   "file_extension": ".py",
   "mimetype": "text/x-python",
   "name": "python",
   "nbconvert_exporter": "python",
   "pygments_lexer": "ipython2",
   "version": "2.7.6"
  }
 },
 "nbformat": 4,
 "nbformat_minor": 0
}
