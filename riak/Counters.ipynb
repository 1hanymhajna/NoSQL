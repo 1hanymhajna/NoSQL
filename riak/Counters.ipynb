{
 "cells": [
  {
   "cell_type": "code",
   "execution_count": 2,
   "metadata": {
    "collapsed": false
   },
   "outputs": [
    {
     "name": "stdout",
     "output_type": "stream",
     "text": [
      "HTTP/1.1 204 No Content\r",
      "\r\n",
      "Vary: Accept-Encoding\r",
      "\r\n",
      "Server: MochiWeb/1.1 WebMachine/1.10.8 (that head fake, tho)\r",
      "\r\n",
      "Date: Wed, 28 Oct 2015 04:59:37 GMT\r",
      "\r\n",
      "Content-Type: application/json\r",
      "\r\n",
      "Content-Length: 0\r",
      "\r\n",
      "\r",
      "\r\n"
     ]
    }
   ],
   "source": [
    "!curl -i -XPUT localhost:8098/buckets/BUCKET/props \\\n",
    "  -H \"Content-Type: application/json\" \\\n",
    "  -d \"{\\\"props\\\" : {\\\"allow_mult\\\": true}}\""
   ]
  },
  {
   "cell_type": "code",
   "execution_count": 8,
   "metadata": {
    "collapsed": false
   },
   "outputs": [
    {
     "name": "stdout",
     "output_type": "stream",
     "text": [
      "HTTP/1.1 204 No Content\r",
      "\r\n",
      "Server: MochiWeb/1.1 WebMachine/1.10.8 (that head fake, tho)\r",
      "\r\n",
      "Date: Wed, 28 Oct 2015 05:01:00 GMT\r",
      "\r\n",
      "Content-Type: text/plain\r",
      "\r\n",
      "Content-Length: 0\r",
      "\r\n",
      "\r",
      "\r\n"
     ]
    }
   ],
   "source": [
    "!curl -i -XPOST http://localhost:8098/buckets/BUCKET/counters/my_key -d \"1\""
   ]
  },
  {
   "cell_type": "code",
   "execution_count": 9,
   "metadata": {
    "collapsed": false
   },
   "outputs": [
    {
     "name": "stdout",
     "output_type": "stream",
     "text": [
      "3"
     ]
    }
   ],
   "source": [
    "!curl  http://localhost:8098/buckets/BUCKET/counters/my_key "
   ]
  },
  {
   "cell_type": "code",
   "execution_count": 10,
   "metadata": {
    "collapsed": false
   },
   "outputs": [
    {
     "name": "stdout",
     "output_type": "stream",
     "text": [
      "HTTP/1.1 204 No Content\r",
      "\r\n",
      "Server: MochiWeb/1.1 WebMachine/1.10.8 (that head fake, tho)\r",
      "\r\n",
      "Date: Wed, 28 Oct 2015 05:01:39 GMT\r",
      "\r\n",
      "Content-Type: text/plain\r",
      "\r\n",
      "Content-Length: 0\r",
      "\r\n",
      "\r",
      "\r\n"
     ]
    }
   ],
   "source": [
    "!curl -i -XPOST http://localhost:8098/buckets/BUCKET/counters/my_key -d \"100\""
   ]
  },
  {
   "cell_type": "code",
   "execution_count": 11,
   "metadata": {
    "collapsed": false
   },
   "outputs": [
    {
     "name": "stdout",
     "output_type": "stream",
     "text": [
      "103"
     ]
    }
   ],
   "source": [
    "!curl  http://localhost:8098/buckets/BUCKET/counters/my_key "
   ]
  },
  {
   "cell_type": "code",
   "execution_count": null,
   "metadata": {
    "collapsed": true
   },
   "outputs": [],
   "source": []
  }
 ],
 "metadata": {
  "kernelspec": {
   "display_name": "Python 2",
   "language": "python",
   "name": "python2"
  },
  "language_info": {
   "codemirror_mode": {
    "name": "ipython",
    "version": 2
   },
   "file_extension": ".py",
   "mimetype": "text/x-python",
   "name": "python",
   "nbconvert_exporter": "python",
   "pygments_lexer": "ipython2",
   "version": "2.7.6"
  }
 },
 "nbformat": 4,
 "nbformat_minor": 0
}
