{
 "cells": [
  {
   "cell_type": "code",
   "execution_count": 1,
   "metadata": {
    "collapsed": true
   },
   "outputs": [],
   "source": [
    "!curl -XPOST http://localhost:8098/types/sets/buckets/travel/datatypes/cities \\\n",
    "  -H \"Content-Type: application/json\" \\\n",
    "  -d '{\"add_all\":[\"Toronto\", \"Montreal\"]}'"
   ]
  },
  {
   "cell_type": "code",
   "execution_count": 2,
   "metadata": {
    "collapsed": true
   },
   "outputs": [],
   "source": [
    "!curl -XPOST http://localhost:8098/types/sets/buckets/travel/datatypes/cities \\\n",
    "  -H \"Content-Type: application/json\" \\\n",
    "  -d '{\"remove\": \"Montreal\",\"add_all\":[\"Hamilton\", \"Ottawa\"]}'"
   ]
  },
  {
   "cell_type": "code",
   "execution_count": 3,
   "metadata": {
    "collapsed": false
   },
   "outputs": [
    {
     "name": "stdout",
     "output_type": "stream",
     "text": [
      "{\"type\":\"set\",\"value\":[\"Hamilton\",\"Ottawa\",\"Toronto\"],\"context\":\"g2wAAAABaAJtAAAADCMJ/vl5GOOEAAAAAWEEag==\"}"
     ]
    }
   ],
   "source": [
    "!curl http://localhost:8098/types/sets/buckets/travel/datatypes/cities"
   ]
  },
  {
   "cell_type": "code",
   "execution_count": 4,
   "metadata": {
    "collapsed": false
   },
   "outputs": [
    {
     "name": "stdout",
     "output_type": "stream",
     "text": [
      "{\"type\":\"set\",\"value\":[\"Hamilton\",\"Ottawa\",\"Toronto\"]}"
     ]
    }
   ],
   "source": [
    "!curl http://localhost:8098/types/sets/buckets/travel/datatypes/cities?include_context=false"
   ]
  },
  {
   "cell_type": "code",
   "execution_count": 5,
   "metadata": {
    "collapsed": false
   },
   "outputs": [
    {
     "data": {
      "text/plain": [
       "True"
      ]
     },
     "execution_count": 5,
     "metadata": {},
     "output_type": "execute_result"
    }
   ],
   "source": [
    "import riak\n",
    "\n",
    "# connect to database\n",
    "client = riak.RiakClient()\n",
    "client.ping()"
   ]
  },
  {
   "cell_type": "code",
   "execution_count": 6,
   "metadata": {
    "collapsed": false
   },
   "outputs": [
    {
     "name": "stdout",
     "output_type": "stream",
     "text": [
      "frozenset(['Toronto', 'Hamilton', 'Ottawa'])\n"
     ]
    }
   ],
   "source": [
    "bucket = client.bucket_type('sets').bucket('travel')\n",
    "sets = bucket.get('cities')\n",
    "\n",
    "print sets"
   ]
  },
  {
   "cell_type": "code",
   "execution_count": 7,
   "metadata": {
    "collapsed": false
   },
   "outputs": [
    {
     "name": "stdout",
     "output_type": "stream",
     "text": [
      "frozenset([])\n"
     ]
    }
   ],
   "source": [
    "bucket = client.bucket_type('sets').bucket('travel_python')\n",
    "sets = bucket.get('cities')\n",
    "\n",
    "print sets"
   ]
  },
  {
   "cell_type": "code",
   "execution_count": 8,
   "metadata": {
    "collapsed": false
   },
   "outputs": [
    {
     "data": {
      "text/plain": [
       "<riak.datatypes.set.Set at 0x7f869fcefed0>"
      ]
     },
     "execution_count": 8,
     "metadata": {},
     "output_type": "execute_result"
    }
   ],
   "source": [
    "sets.add(\"Madrid\")\n",
    "\n",
    "sets.store()"
   ]
  },
  {
   "cell_type": "code",
   "execution_count": 10,
   "metadata": {
    "collapsed": false
   },
   "outputs": [
    {
     "ename": "AttributeError",
     "evalue": "'Set' object has no attribute 'data'",
     "output_type": "error",
     "traceback": [
      "\u001b[1;31m---------------------------------------------------------------------------\u001b[0m",
      "\u001b[1;31mAttributeError\u001b[0m                            Traceback (most recent call last)",
      "\u001b[1;32m<ipython-input-10-6ae6823a77d7>\u001b[0m in \u001b[0;36m<module>\u001b[1;34m()\u001b[0m\n\u001b[1;32m----> 1\u001b[1;33m \u001b[0msets\u001b[0m\u001b[1;33m.\u001b[0m\u001b[0mdata\u001b[0m\u001b[1;33m\u001b[0m\u001b[0m\n\u001b[0m",
      "\u001b[1;31mAttributeError\u001b[0m: 'Set' object has no attribute 'data'"
     ]
    }
   ],
   "source": []
  },
  {
   "cell_type": "code",
   "execution_count": 11,
   "metadata": {
    "collapsed": false
   },
   "outputs": [
    {
     "name": "stdout",
     "output_type": "stream",
     "text": [
      "frozenset(['Madrid'])\n"
     ]
    }
   ],
   "source": [
    "bucket = client.bucket_type('sets').bucket('travel_python')\n",
    "sets = bucket.get('cities')\n",
    "\n",
    "print sets"
   ]
  },
  {
   "cell_type": "code",
   "execution_count": null,
   "metadata": {
    "collapsed": true
   },
   "outputs": [],
   "source": []
  }
 ],
 "metadata": {
  "kernelspec": {
   "display_name": "Python 2",
   "language": "python",
   "name": "python2"
  },
  "language_info": {
   "codemirror_mode": {
    "name": "ipython",
    "version": 2
   },
   "file_extension": ".py",
   "mimetype": "text/x-python",
   "name": "python",
   "nbconvert_exporter": "python",
   "pygments_lexer": "ipython2",
   "version": "2.7.6"
  }
 },
 "nbformat": 4,
 "nbformat_minor": 0
}
