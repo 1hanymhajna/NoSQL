{
 "cells": [
  {
   "cell_type": "code",
   "execution_count": 1,
   "metadata": {
    "collapsed": false
   },
   "outputs": [
    {
     "name": "stdout",
     "output_type": "stream",
     "text": [
      "HTTP/1.1 404 Object Not Found\r",
      "\r\n",
      "Vary: Accept-Encoding\r",
      "\r\n",
      "Server: MochiWeb/1.1 WebMachine/1.10.8 (that head fake, tho)\r",
      "\r\n",
      "Date: Wed, 28 Oct 2015 05:09:38 GMT\r",
      "\r\n",
      "Content-Type: application/json\r",
      "\r\n",
      "Content-Length: 37\r",
      "\r\n",
      "\r",
      "\r\n",
      "{\"type\":\"counter\",\"error\":\"notfound\"}"
     ]
    }
   ],
   "source": [
    "!curl -i http://localhost:8098/types/counters/buckets/counters/datatypes/key"
   ]
  },
  {
   "cell_type": "code",
   "execution_count": 3,
   "metadata": {
    "collapsed": false
   },
   "outputs": [
    {
     "name": "stdout",
     "output_type": "stream",
     "text": [
      "HTTP/1.1 204 No Content\r",
      "\r\n",
      "Vary: Accept-Encoding\r",
      "\r\n",
      "Server: MochiWeb/1.1 WebMachine/1.10.8 (that head fake, tho)\r",
      "\r\n",
      "Date: Wed, 28 Oct 2015 05:10:34 GMT\r",
      "\r\n",
      "Content-Type: application/json\r",
      "\r\n",
      "Content-Length: 0\r",
      "\r\n",
      "\r",
      "\r\n"
     ]
    }
   ],
   "source": [
    "!curl -i -XPOST http://localhost:8098/types/counters/buckets/counters/datatypes/key \\\n",
    "  -H \"Content-Type: application/json\" \\\n",
    "  -d '{\"increment\": 0}'"
   ]
  },
  {
   "cell_type": "code",
   "execution_count": 4,
   "metadata": {
    "collapsed": false
   },
   "outputs": [
    {
     "name": "stdout",
     "output_type": "stream",
     "text": [
      "HTTP/1.1 200 OK\r",
      "\r\n",
      "Vary: Accept-Encoding\r",
      "\r\n",
      "Server: MochiWeb/1.1 WebMachine/1.10.8 (that head fake, tho)\r",
      "\r\n",
      "Date: Wed, 28 Oct 2015 05:10:43 GMT\r",
      "\r\n",
      "Content-Type: application/json\r",
      "\r\n",
      "Content-Length: 28\r",
      "\r\n",
      "\r",
      "\r\n",
      "{\"type\":\"counter\",\"value\":0}"
     ]
    }
   ],
   "source": [
    "!curl -i http://localhost:8098/types/counters/buckets/counters/datatypes/key"
   ]
  },
  {
   "cell_type": "code",
   "execution_count": 5,
   "metadata": {
    "collapsed": true
   },
   "outputs": [],
   "source": [
    "!curl -XPOST http://localhost:8098/types/counters/buckets/counters/datatypes/traffic_tickets \\\n",
    "  -H \"Content-Type: application/json\" \\\n",
    "  -d '{\"increment\": 0}'"
   ]
  },
  {
   "cell_type": "code",
   "execution_count": 6,
   "metadata": {
    "collapsed": true
   },
   "outputs": [],
   "source": [
    "!curl -XPOST http://localhost:8098/types/counters/buckets/counters/datatypes/traffic_tickets \\\n",
    "  -H \"Content-Type: application/json\" \\\n",
    "  -d '{\"increment\": 1}'"
   ]
  },
  {
   "cell_type": "code",
   "execution_count": 7,
   "metadata": {
    "collapsed": true
   },
   "outputs": [],
   "source": [
    "!curl -XPOST http://localhost:8098/types/counters/buckets/counters/datatypes/traffic_tickets \\\n",
    "  -H \"Content-Type: application/json\" \\\n",
    "  -d '{\"increment\": 5}'"
   ]
  },
  {
   "cell_type": "code",
   "execution_count": 8,
   "metadata": {
    "collapsed": false
   },
   "outputs": [
    {
     "name": "stdout",
     "output_type": "stream",
     "text": [
      "{\"type\":\"counter\",\"value\":6}"
     ]
    }
   ],
   "source": [
    "!curl http://localhost:8098/types/counters/buckets/counters/datatypes/traffic_tickets"
   ]
  },
  {
   "cell_type": "code",
   "execution_count": 9,
   "metadata": {
    "collapsed": true
   },
   "outputs": [],
   "source": [
    "!curl -XPOST http://localhost:8098/types/counters/buckets/counters/datatypes/traffic_tickets \\\n",
    "  -H \"Content-Type: application/json\" \\\n",
    "  -d '{\"decrement\": 3}'"
   ]
  },
  {
   "cell_type": "code",
   "execution_count": 10,
   "metadata": {
    "collapsed": false
   },
   "outputs": [
    {
     "name": "stdout",
     "output_type": "stream",
     "text": [
      "{\"type\":\"counter\",\"value\":3}"
     ]
    }
   ],
   "source": [
    "!curl http://localhost:8098/types/counters/buckets/counters/datatypes/traffic_tickets"
   ]
  },
  {
   "cell_type": "code",
   "execution_count": 12,
   "metadata": {
    "collapsed": false
   },
   "outputs": [
    {
     "data": {
      "text/plain": [
       "True"
      ]
     },
     "execution_count": 12,
     "metadata": {},
     "output_type": "execute_result"
    }
   ],
   "source": [
    "import riak\n",
    "\n",
    "# connect to database\n",
    "client = riak.RiakClient()\n",
    "client.ping()"
   ]
  },
  {
   "cell_type": "code",
   "execution_count": 36,
   "metadata": {
    "collapsed": false
   },
   "outputs": [],
   "source": [
    "bucket = client.bucket_type('counters').bucket('traffic_tickets_python')\n",
    "counter = bucket.get('traffic_tickets')\n"
   ]
  },
  {
   "cell_type": "code",
   "execution_count": 37,
   "metadata": {
    "collapsed": false
   },
   "outputs": [
    {
     "name": "stdout",
     "output_type": "stream",
     "text": [
      "{\"type\":\"counter\",\"error\":\"notfound\"}"
     ]
    }
   ],
   "source": [
    "!curl http://localhost:8098/types/counters/buckets/counters/datatypes/traffic_tickets_python"
   ]
  },
  {
   "cell_type": "code",
   "execution_count": 38,
   "metadata": {
    "collapsed": false
   },
   "outputs": [
    {
     "data": {
      "text/plain": [
       "<riak.datatypes.counter.Counter at 0x7fb179e2bf90>"
      ]
     },
     "execution_count": 38,
     "metadata": {},
     "output_type": "execute_result"
    }
   ],
   "source": [
    "counter.increment()\n",
    "\n",
    "# Updates are staged locally and have to be explicitly sent to Riak\n",
    "# using the store() method.\n",
    "counter.store()"
   ]
  },
  {
   "cell_type": "code",
   "execution_count": 40,
   "metadata": {
    "collapsed": false
   },
   "outputs": [
    {
     "name": "stdout",
     "output_type": "stream",
     "text": [
      "{\"type\":\"counter\",\"value\":20126}"
     ]
    }
   ],
   "source": [
    "!curl http://localhost:8098/types/counters/buckets/traffic_tickets_python/datatypes/traffic_tickets "
   ]
  },
  {
   "cell_type": "code",
   "execution_count": null,
   "metadata": {
    "collapsed": true
   },
   "outputs": [],
   "source": []
  }
 ],
 "metadata": {
  "kernelspec": {
   "display_name": "Python 2",
   "language": "python",
   "name": "python2"
  },
  "language_info": {
   "codemirror_mode": {
    "name": "ipython",
    "version": 2
   },
   "file_extension": ".py",
   "mimetype": "text/x-python",
   "name": "python",
   "nbconvert_exporter": "python",
   "pygments_lexer": "ipython2",
   "version": "2.7.6"
  }
 },
 "nbformat": 4,
 "nbformat_minor": 0
}
