{
 "cells": [
  {
   "cell_type": "code",
   "execution_count": 6,
   "metadata": {
    "collapsed": false
   },
   "outputs": [
    {
     "data": {
      "text/plain": [
       "True"
      ]
     },
     "execution_count": 6,
     "metadata": {},
     "output_type": "execute_result"
    }
   ],
   "source": [
    "import riak\n",
    "\n",
    "# connect to database\n",
    "client = riak.RiakClient()\n",
    "client.ping()"
   ]
  },
  {
   "cell_type": "code",
   "execution_count": 7,
   "metadata": {
    "collapsed": true
   },
   "outputs": [],
   "source": [
    "bucket = client.bucket_type('counters').bucket('counters')"
   ]
  },
  {
   "cell_type": "code",
   "execution_count": 8,
   "metadata": {
    "collapsed": false
   },
   "outputs": [],
   "source": [
    "# The client detects the bucket-type's Data Type and automatically\n",
    "# returns the right datatype for you, in this case a counter\n",
    "counter = bucket.new(\"1\")\n",
    "\n",
    "# This way is also acceptable:\n",
    "from riak.datatypes import Counter\n",
    "\n",
    "counter = Counter(bucket, \"1\")"
   ]
  },
  {
   "cell_type": "code",
   "execution_count": 10,
   "metadata": {
    "collapsed": true
   },
   "outputs": [],
   "source": [
    "bucket = client.bucket_type('counters').bucket('traffic_tickets')\n",
    "counter = bucket.new('traffic_tickets')"
   ]
  },
  {
   "cell_type": "code",
   "execution_count": 11,
   "metadata": {
    "collapsed": false
   },
   "outputs": [
    {
     "data": {
      "text/plain": [
       "<riak.datatypes.counter.Counter at 0x7f43c08a6c50>"
      ]
     },
     "execution_count": 11,
     "metadata": {},
     "output_type": "execute_result"
    }
   ],
   "source": [
    "counter.increment()\n",
    "\n",
    "# Updates are staged locally and have to be explicitly sent to Riak\n",
    "# using the store() method.\n",
    "counter.store()"
   ]
  },
  {
   "cell_type": "code",
   "execution_count": 12,
   "metadata": {
    "collapsed": true
   },
   "outputs": [],
   "source": [
    "counter.increment(5)"
   ]
  },
  {
   "cell_type": "code",
   "execution_count": 13,
   "metadata": {
    "collapsed": false
   },
   "outputs": [
    {
     "ename": "AttributeError",
     "evalue": "'Counter' object has no attribute 'dirty_value'",
     "output_type": "error",
     "traceback": [
      "\u001b[1;31m---------------------------------------------------------------------------\u001b[0m",
      "\u001b[1;31mAttributeError\u001b[0m                            Traceback (most recent call last)",
      "\u001b[1;32m<ipython-input-13-9247f01d8928>\u001b[0m in \u001b[0;36m<module>\u001b[1;34m()\u001b[0m\n\u001b[1;32m----> 1\u001b[1;33m \u001b[0mcounter\u001b[0m\u001b[1;33m.\u001b[0m\u001b[0mdirty_value\u001b[0m\u001b[1;33m\u001b[0m\u001b[0m\n\u001b[0m\u001b[0;32m      2\u001b[0m \u001b[1;33m\u001b[0m\u001b[0m\n\u001b[0;32m      3\u001b[0m \u001b[1;31m# The value fetched from Riak is always immutable, whereas the \"dirty\u001b[0m\u001b[1;33m\u001b[0m\u001b[1;33m\u001b[0m\u001b[0m\n\u001b[0;32m      4\u001b[0m \u001b[1;31m# value\" takes into account local modifications that have not been\u001b[0m\u001b[1;33m\u001b[0m\u001b[1;33m\u001b[0m\u001b[0m\n\u001b[0;32m      5\u001b[0m \u001b[1;31m# sent to the server. For example, whereas the call above would return\u001b[0m\u001b[1;33m\u001b[0m\u001b[1;33m\u001b[0m\u001b[0m\n",
      "\u001b[1;31mAttributeError\u001b[0m: 'Counter' object has no attribute 'dirty_value'"
     ]
    }
   ],
   "source": [
    "counter.dirty_value\n",
    "\n",
    "# The value fetched from Riak is always immutable, whereas the \"dirty\n",
    "# value\" takes into account local modifications that have not been\n",
    "# sent to the server. For example, whereas the call above would return\n",
    "# 6, the call below will return 0' since we started with an empty\n",
    "# counter:\n",
    "\n",
    "counter.value\n",
    "\n",
    "# To fetch the value stored on the server, use the call below. Note\n",
    "# that this will clear any changes to the counter that have not yet been\n",
    "# sent to Riak\n",
    "counter.reload()"
   ]
  },
  {
   "cell_type": "code",
   "execution_count": 15,
   "metadata": {
    "collapsed": false
   },
   "outputs": [],
   "source": [
    "# Note: The Python standard library `collections` module has an abstract\n",
    "# base class called Set, which the Riak Client version subclasses as\n",
    "# `riak.datatypes.Set`. These classes are not directly interchangeable.\n",
    "# In addition to the base methods, `riak.datatypes.Set` also\n",
    "# implements the `add` and `discard` methods from\n",
    "# `collections.MutableSet`, but does not implement the rest of its\n",
    "# API. Be careful when importing, or simply use the instances returned\n",
    "# by `RiakBucket.get()` and `RiakBucket.new()` instead of directly\n",
    "# importing the class.\n",
    "\n",
    "set = bucket.new(\"2\")\n",
    "\n",
    "# or\n",
    "\n",
    "from riak.datatypes import Set\n",
    "set = Set(bucket, \"2\")"
   ]
  },
  {
   "cell_type": "code",
   "execution_count": 23,
   "metadata": {
    "collapsed": false
   },
   "outputs": [
    {
     "data": {
      "text/plain": [
       "['__abstractmethods__',\n",
       " '__and__',\n",
       " '__class__',\n",
       " '__contains__',\n",
       " '__delattr__',\n",
       " '__dict__',\n",
       " '__doc__',\n",
       " '__eq__',\n",
       " '__format__',\n",
       " '__ge__',\n",
       " '__getattribute__',\n",
       " '__gt__',\n",
       " '__hash__',\n",
       " '__init__',\n",
       " '__iter__',\n",
       " '__le__',\n",
       " '__len__',\n",
       " '__lt__',\n",
       " '__metaclass__',\n",
       " '__module__',\n",
       " '__ne__',\n",
       " '__new__',\n",
       " '__or__',\n",
       " '__reduce__',\n",
       " '__reduce_ex__',\n",
       " '__repr__',\n",
       " '__setattr__',\n",
       " '__sizeof__',\n",
       " '__str__',\n",
       " '__sub__',\n",
       " '__subclasshook__',\n",
       " '__weakref__',\n",
       " '__xor__',\n",
       " '_abc_cache',\n",
       " '_abc_negative_cache',\n",
       " '_abc_negative_cache_version',\n",
       " '_abc_registry',\n",
       " '_adds',\n",
       " '_check_type',\n",
       " '_coerce_value',\n",
       " '_context',\n",
       " '_default_value',\n",
       " '_from_iterable',\n",
       " '_hash',\n",
       " '_post_init',\n",
       " '_raise_if_badtype',\n",
       " '_removes',\n",
       " '_require_context',\n",
       " '_set_value',\n",
       " '_type_error_msg',\n",
       " '_value',\n",
       " 'add',\n",
       " 'bucket',\n",
       " 'clear',\n",
       " 'context',\n",
       " 'delete',\n",
       " 'discard',\n",
       " 'isdisjoint',\n",
       " 'key',\n",
       " 'modified',\n",
       " 'reload',\n",
       " 'store',\n",
       " 'to_op',\n",
       " 'type_name',\n",
       " 'update',\n",
       " 'value']"
      ]
     },
     "execution_count": 23,
     "metadata": {},
     "output_type": "execute_result"
    }
   ],
   "source": [
    "travel = client.bucket_type('sets').bucket('travel')\n",
    "\n",
    "# The client detects the bucket type's Data Type and automatically\n",
    "# returns the right Data Type for you, in this case a Riak set.\n",
    "cities_set = travel.new('cities')\n",
    "\n",
    "cities_set.add('Toronto')\n",
    "cities_set.add('Montreal')\n",
    "cities_set.update()\n",
    "\n",
    "dir(cities_set)"
   ]
  },
  {
   "cell_type": "code",
   "execution_count": 17,
   "metadata": {
    "collapsed": false
   },
   "outputs": [
    {
     "data": {
      "text/plain": [
       "True"
      ]
     },
     "execution_count": 17,
     "metadata": {},
     "output_type": "execute_result"
    }
   ],
   "source": [
    "len(cities_set) == 0"
   ]
  },
  {
   "cell_type": "code",
   "execution_count": 18,
   "metadata": {
    "collapsed": true
   },
   "outputs": [],
   "source": [
    "cities_set.add('Toronto')\n",
    "cities_set.add('Montreal')"
   ]
  },
  {
   "cell_type": "code",
   "execution_count": 20,
   "metadata": {
    "collapsed": false
   },
   "outputs": [
    {
     "data": {
      "text/plain": [
       "<riak.datatypes.set.Set at 0x7f43c08414d0>"
      ]
     },
     "execution_count": 20,
     "metadata": {},
     "output_type": "execute_result"
    }
   ],
   "source": [
    "#cities_set.discard('Montreal')\n",
    "cities_set.add('Hamilton')\n",
    "cities_set.add('Ottawa')\n",
    "cities_set.store()"
   ]
  },
  {
   "cell_type": "code",
   "execution_count": null,
   "metadata": {
    "collapsed": true
   },
   "outputs": [],
   "source": []
  }
 ],
 "metadata": {
  "kernelspec": {
   "display_name": "Python 2",
   "language": "python",
   "name": "python2"
  },
  "language_info": {
   "codemirror_mode": {
    "name": "ipython",
    "version": 2
   },
   "file_extension": ".py",
   "mimetype": "text/x-python",
   "name": "python",
   "nbconvert_exporter": "python",
   "pygments_lexer": "ipython2",
   "version": "2.7.6"
  }
 },
 "nbformat": 4,
 "nbformat_minor": 0
}
