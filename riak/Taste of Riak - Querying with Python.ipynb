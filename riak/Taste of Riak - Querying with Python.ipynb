{
 "cells": [
  {
   "cell_type": "markdown",
   "metadata": {},
   "source": [
    "# Taste of Riak: Querying with Python"
   ]
  },
  {
   "cell_type": "markdown",
   "metadata": {},
   "source": [
    "## A Quick Note on Querying and Schemas"
   ]
  },
  {
   "cell_type": "markdown",
   "metadata": {},
   "source": [
    "Schemas? Yes we said that correctly, S-C-H-E-M-A-S. It's not a dirty word.\n",
    "Even with a Key/Value store, you will still have a logical database schema of how all the data relates to one another. \n",
    "\n",
    "This can be as simple as using the same key across multiple buckets for different types of data, to having fields in your data that are related by name. \n",
    "\n",
    "These querying methods will introduce you to some ways of laying out your data in Riak, along with how to query it back."
   ]
  },
  {
   "cell_type": "markdown",
   "metadata": {},
   "source": [
    "## Denormalization"
   ]
  },
  {
   "cell_type": "markdown",
   "metadata": {},
   "source": [
    "If you're coming from a relational database, the easiest way to get your application's feet wet with NoSQL is to denormalize your data into related chunks.\n",
    "\n",
    "For example with a customer database, you might have separate tables for Customers, Addresses, Preferences, etc. In Riak, you can denormalize all that associated data into a single object and store it into a Customer bucket. \n",
    "\n",
    "You can keep pulling in associated data until you hit one of the big denormalization walls:\n",
    "\n",
    "- Size Limits (objects greater than 1MB)\n",
    "- Shared/Referential Data (data that the object doesn't “own”)\n",
    "- Differences in Access Patterns (objects that get read/written once vs. often)\n",
    "\n",
    "At one of these points we will have to split the model."
   ]
  },
  {
   "cell_type": "markdown",
   "metadata": {},
   "source": [
    "## Same Keys - Different Buckets"
   ]
  },
  {
   "cell_type": "markdown",
   "metadata": {},
   "source": [
    "The simplest way to split up data would be to use the same identity key across different buckets. \n",
    "\n",
    "A good example of this would be a Customer object, an Order object, and an OrderSummaries object that keeps rolled up info about orders such as Total, etc. Let's put some data into Riak so we can play with it.\n"
   ]
  },
  {
   "cell_type": "code",
   "execution_count": 2,
   "metadata": {
    "collapsed": false
   },
   "outputs": [],
   "source": [
    "import riak"
   ]
  },
  {
   "cell_type": "code",
   "execution_count": 3,
   "metadata": {
    "collapsed": true
   },
   "outputs": [],
   "source": [
    "# Creating Data\n",
    "\n",
    "customer = {\n",
    "    'customer_id': 1,\n",
    "    'name': \"John Smith\",\n",
    "    'address': \"123 Main Street\",\n",
    "    'city': \"Columbus\",\n",
    "    'state': \"Ohio\",\n",
    "    'zip': \"43210\",\n",
    "    'phone': \"+1-614-555-5555\",\n",
    "    'created_date': \"2013-10-01 14:30:26\"\n",
    "}"
   ]
  },
  {
   "cell_type": "code",
   "execution_count": 4,
   "metadata": {
    "collapsed": true
   },
   "outputs": [],
   "source": [
    "orders = [\n",
    "    {\n",
    "        'order_id': 1,\n",
    "        'customer_id': 1,\n",
    "        'salesperson_id': 9000,\n",
    "        'items': [\n",
    "            {\n",
    "                'item_id': \"TCV37GIT4NJ\",\n",
    "                'title': \"USB 3.0 Coffee Warmer\",\n",
    "                'price': 15.99\n",
    "            },\n",
    "            {\n",
    "                'item_id': \"PEG10BBF2PP\",\n",
    "                'title': \"eTablet Pro, 24GB, Grey\",\n",
    "                'price': 399.99\n",
    "            }\n",
    "        ],\n",
    "        'total': 415.98,\n",
    "        'order_date': \"2013-10-01 14:42:26\"\n",
    "    },\n",
    "    {\n",
    "        'order_id': 2,\n",
    "        'customer_id': 1,\n",
    "        'salesperson_id': 9001,\n",
    "        'items': [\n",
    "            {\n",
    "                'item_id': \"OAX19XWN0QP\",\n",
    "                'title': \"GoSlo Digital Camera\",\n",
    "                'price': 359.99\n",
    "            }\n",
    "        ],\n",
    "        'total': 359.99,\n",
    "        'order_date': \"2013-10-15 16:43:16\"\n",
    "    },\n",
    "    {\n",
    "        'order_id': 3,\n",
    "        'customer_id': 1,\n",
    "        'salesperson_id': 9000,\n",
    "        'items': [\n",
    "            {\n",
    "                'item_id': \"WYK12EPU5EZ\",\n",
    "                'title': \"Call of Battle: Goats - Gamesphere 4\",\n",
    "                'price': 69.99\n",
    "            },\n",
    "            {\n",
    "                'item_id': \"TJB84HAA8OA\",\n",
    "                'title': \"Bricko Building Blocks\",\n",
    "                'price': 4.99\n",
    "            }\n",
    "        ],\n",
    "        'total': 74.98,\n",
    "        'order_date': \"2013-11-03 17:45:28\"\n",
    "    }]\n",
    "\n"
   ]
  },
  {
   "cell_type": "code",
   "execution_count": 5,
   "metadata": {
    "collapsed": true
   },
   "outputs": [],
   "source": [
    "order_summary = {\n",
    "    'customer_id': 1,\n",
    "    'summaries': [\n",
    "        {\n",
    "            'order_id': 1,\n",
    "            'total': 415.98,\n",
    "            'order_date': \"2013-10-01 14:42:26\"\n",
    "        },\n",
    "        {\n",
    "            'order_id': 2,\n",
    "            'total': 359.99,\n",
    "            'order_date': \"2013-10-15 16:43:16\"\n",
    "        },\n",
    "        {\n",
    "            'order_id': 3,\n",
    "            'total': 74.98,\n",
    "            'order_date': \"2013-11-03 17:45:28\"\n",
    "        }\n",
    "    ]\n",
    "}"
   ]
  },
  {
   "cell_type": "code",
   "execution_count": 6,
   "metadata": {
    "collapsed": false
   },
   "outputs": [
    {
     "data": {
      "text/plain": [
       "<riak.riak_object.RiakObject at 0x7f6616b5f450>"
      ]
     },
     "execution_count": 6,
     "metadata": {},
     "output_type": "execute_result"
    }
   ],
   "source": [
    "# Starting Client\n",
    "client = riak.RiakClient()\n",
    "\n",
    "# Creating Buckets\n",
    "customer_bucket = client.bucket('Customers')\n",
    "order_bucket = client.bucket('Orders')\n",
    "order_summary_bucket = client.bucket('OrderSummaries')\n",
    "\n",
    "\n",
    "# Storing Data\n",
    "cr = customer_bucket.new(str(customer['customer_id']),\n",
    "                         data=customer)\n",
    "cr.store()\n",
    "\n",
    "for order in orders:\n",
    "    order_riak = order_bucket.new(str(order['order_id']),\n",
    "                                  data=order)\n",
    "    order_riak.store()\n",
    "\n",
    "os = order_summary_bucket.new(str(order_summary['customer_id']),\n",
    "                              data=order_summary)\n",
    "os.store()"
   ]
  },
  {
   "cell_type": "markdown",
   "metadata": {},
   "source": [
    "While individual Customer and Order objects don't change much (or shouldn't change), the Order Summaries object will likely change often. \n",
    "\n",
    "It will do double duty by acting as an index for all customer orders, and also holding some relevant data such as the order total, etc. \n",
    "\n",
    "If we showed this information in our application often, it's only one extra request to get all the info."
   ]
  },
  {
   "cell_type": "code",
   "execution_count": 7,
   "metadata": {
    "collapsed": false
   },
   "outputs": [
    {
     "name": "stdout",
     "output_type": "stream",
     "text": [
      "{\n",
      "    \"city\": \"Columbus\", \n",
      "    \"name\": \"John Smith\", \n",
      "    \"zip\": \"43210\", \n",
      "    \"created_date\": \"2013-10-01 14:30:26\", \n",
      "    \"order_summary\": {\n",
      "        \"customer_id\": 1, \n",
      "        \"summaries\": [\n",
      "            {\n",
      "                \"order_id\": 1, \n",
      "                \"order_date\": \"2013-10-01 14:42:26\", \n",
      "                \"total\": 415.98\n",
      "            }, \n",
      "            {\n",
      "                \"order_id\": 2, \n",
      "                \"order_date\": \"2013-10-15 16:43:16\", \n",
      "                \"total\": 359.99\n",
      "            }, \n",
      "            {\n",
      "                \"order_id\": 3, \n",
      "                \"order_date\": \"2013-11-03 17:45:28\", \n",
      "                \"total\": 74.98\n",
      "            }\n",
      "        ]\n",
      "    }, \n",
      "    \"phone\": \"+1-614-555-5555\", \n",
      "    \"state\": \"Ohio\", \n",
      "    \"address\": \"123 Main Street\", \n",
      "    \"customer_id\": 1\n",
      "}\n"
     ]
    }
   ],
   "source": [
    "import json\n",
    "\n",
    "customer = customer_bucket.get('1').data\n",
    "customer['order_summary'] = order_summary_bucket.get('1').data\n",
    "customer\n",
    "\n",
    "print json.dumps(customer, indent=4)"
   ]
  },
  {
   "cell_type": "markdown",
   "metadata": {},
   "source": [
    "While this pattern is very easy and extremely fast with respect to queries and complexity, it's up to the application to know about these intrinsic relationships."
   ]
  },
  {
   "cell_type": "markdown",
   "metadata": {},
   "source": [
    "## Secondary Indexes"
   ]
  },
  {
   "cell_type": "markdown",
   "metadata": {},
   "source": [
    "If you're coming from a SQL world, Secondary Indexes (2i) are a lot like SQL indexes. \n",
    "\n",
    "They are a way to quickly lookup objects based on a secondary key, without scanning through the whole dataset. This makes it very easy to find groups of related data by values, or even ranges of values. \n",
    "\n",
    "To properly show this off, we will now add some more data to our application, and add some secondary index entries at the same time."
   ]
  },
  {
   "cell_type": "code",
   "execution_count": 8,
   "metadata": {
    "collapsed": false
   },
   "outputs": [],
   "source": [
    "for i in range(1, 4):\n",
    "    order = order_bucket.get(str(i))\n",
    "    # Initialize our secondary indices\n",
    "    order.add_index('salesperson_id_int', order.data['salesperson_id'])\n",
    "    order.add_index('order_date_bin', order.data['order_date'])\n",
    "    order.store()"
   ]
  },
  {
   "cell_type": "markdown",
   "metadata": {},
   "source": [
    "As you may have noticed, ordinary Key/Value data is opaque to 2i, so we have to add entries to the indexes at the application level. \n",
    "\n",
    "Now let's find all of Jane Appleseed's processed orders, we'll lookup the orders by searching the saleperson_id_int index for Jane's id of 9000."
   ]
  },
  {
   "cell_type": "code",
   "execution_count": 8,
   "metadata": {
    "collapsed": false
   },
   "outputs": [
    {
     "data": {
      "text/plain": [
       "['1', '3']"
      ]
     },
     "execution_count": 8,
     "metadata": {},
     "output_type": "execute_result"
    }
   ],
   "source": [
    "janes_orders = order_bucket.get_index(\"salesperson_id_int\", 9000)\n",
    "janes_orders.results"
   ]
  },
  {
   "cell_type": "markdown",
   "metadata": {
    "collapsed": false
   },
   "source": [
    "Jane processed orders 1 and 3. We used an “integer” index to reference Jane's id, next let's use a “binary” index. Now, let's say that the VP of Sales wants to know how many orders came in during October 2013. \n",
    "\n",
    "In this case, we can exploit 2i's range queries. Let's search the order_date_bin index for entries between 2013-10-01 and 2013-10-31."
   ]
  },
  {
   "cell_type": "code",
   "execution_count": 9,
   "metadata": {
    "collapsed": false
   },
   "outputs": [
    {
     "data": {
      "text/plain": [
       "['2', '1']"
      ]
     },
     "execution_count": 9,
     "metadata": {},
     "output_type": "execute_result"
    }
   ],
   "source": [
    "october_orders = order_bucket.get_index(\"order_date_bin\",\n",
    "                                        \"2013-10-01\", \"2013-10-31\")\n",
    "october_orders.results"
   ]
  },
  {
   "cell_type": "markdown",
   "metadata": {
    "collapsed": true
   },
   "source": [
    "Boom, easy-peasy. We used 2i's range feature to search for a range of values, and demonstrated binary indexes.\n",
    "\n",
    "So to recap:\n",
    "\n",
    "- You can use Secondary Indexes to quickly lookup an object based on a secondary id other than the object's key.\n",
    "- Indexes can have either Integer or Binary(String) keys\n",
    "- You can search for specific values, or a range of values\n",
    "- Riak will return a list of keys that match the index query"
   ]
  },
  {
   "cell_type": "code",
   "execution_count": null,
   "metadata": {
    "collapsed": true
   },
   "outputs": [],
   "source": []
  }
 ],
 "metadata": {
  "kernelspec": {
   "display_name": "Python 2",
   "language": "python",
   "name": "python2"
  },
  "language_info": {
   "codemirror_mode": {
    "name": "ipython",
    "version": 2
   },
   "file_extension": ".py",
   "mimetype": "text/x-python",
   "name": "python",
   "nbconvert_exporter": "python",
   "pygments_lexer": "ipython2",
   "version": "2.7.6"
  }
 },
 "nbformat": 4,
 "nbformat_minor": 0
}
