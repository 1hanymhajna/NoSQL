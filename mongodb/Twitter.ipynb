{
 "cells": [
  {
   "cell_type": "code",
   "execution_count": 2,
   "metadata": {
    "collapsed": true
   },
   "outputs": [],
   "source": [
    "import pymongo \n",
    "from pymongo import MongoClient"
   ]
  },
  {
   "cell_type": "code",
   "execution_count": 3,
   "metadata": {
    "collapsed": true
   },
   "outputs": [],
   "source": [
    "# connect to database\n",
    "connection = MongoClient('localhost', 27017)"
   ]
  },
  {
   "cell_type": "code",
   "execution_count": 23,
   "metadata": {
    "collapsed": false
   },
   "outputs": [],
   "source": [
    "import json\n",
    "\n",
    "from pprintpp import pprint as pp"
   ]
  },
  {
   "cell_type": "code",
   "execution_count": 46,
   "metadata": {
    "collapsed": false
   },
   "outputs": [],
   "source": [
    "def insert_tweet(tweet_json):\n",
    "    tweets.replace_one({\"_id\" : tweet_json[\"id\"]}, tweet_json, upsert=True)\n",
    "    \n",
    "    user_json = tweet_json['user']\n",
    "    users.replace_one({\"_id\" : user_json[\"id\"]}, user_json, upsert=True)    \n",
    "    \n",
    "    for user_mencioned in tweet_json['user_mentions']:\n",
    "        user_mencioned[\"_id\"] = user_mencioned[\"id\"]\n",
    "        del(user_mencioned[\"id\"])\n",
    "        try:\n",
    "            users.insert_one(user_mencioned)\n",
    "        except:\n",
    "            continue\n",
    "        \n",
    "    if 'retweeted_status' in tweet_json:\n",
    "        insert_tweet(tweet_json['retweeted_status'])"
   ]
  },
  {
   "cell_type": "code",
   "execution_count": 47,
   "metadata": {
    "collapsed": false
   },
   "outputs": [],
   "source": [
    "import json\n",
    "\n",
    "connection.drop_database('twitter')\n",
    "db = connection.twitter\n",
    "\n",
    "tweets = db.tweets\n",
    "users = db.users\n",
    "\n",
    "tweets_data_path = '../data/tweets.json'\n",
    "\n",
    "tweets_file = open(tweets_data_path, \"r\")\n",
    "for line in tweets_file:\n",
    "    tweet_json = json.loads(line)\n",
    "    insert_tweet(tweet_json)\n"
   ]
  },
  {
   "cell_type": "code",
   "execution_count": null,
   "metadata": {
    "collapsed": true
   },
   "outputs": [],
   "source": []
  }
 ],
 "metadata": {
  "kernelspec": {
   "display_name": "Python 2",
   "language": "python",
   "name": "python2"
  },
  "language_info": {
   "codemirror_mode": {
    "name": "ipython",
    "version": 2
   },
   "file_extension": ".py",
   "mimetype": "text/x-python",
   "name": "python",
   "nbconvert_exporter": "python",
   "pygments_lexer": "ipython2",
   "version": "2.7.6"
  }
 },
 "nbformat": 4,
 "nbformat_minor": 0
}
