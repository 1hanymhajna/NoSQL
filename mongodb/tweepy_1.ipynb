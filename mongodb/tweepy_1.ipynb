{
 "cells": [
  {
   "cell_type": "code",
   "execution_count": 3,
   "metadata": {
    "collapsed": false
   },
   "outputs": [],
   "source": [
    "import tweepy\n",
    "\n",
    "consumer_key = 'hRNtRgjzGq3wq3mt3fbuUkQ2c'\n",
    "consumer_secret = 'yBbXnvNRpm92wvblpG9xhUMFF7w9sgxLfQT8k15Fs3k1RN4pnQ'\n",
    "access_token = '12391902-qHO3gUBIvKuv7DjajXBmdm2SyZH8vgmR3jcpLVnnM'\n",
    "access_token_secret = '9ViwfNW5FhOLhahaf4qimDLXfYuqDtGzJ1MmAQM0gN3LK'\n",
    "\n",
    "auth = tweepy.OAuthHandler(consumer_key, consumer_secret)\n",
    "auth.set_access_token(access_token, access_token_secret)\n",
    "\n",
    "api = tweepy.API(auth)\n",
    "\n"
   ]
  },
  {
   "cell_type": "code",
   "execution_count": 8,
   "metadata": {
    "collapsed": false
   },
   "outputs": [
    {
     "name": "stdout",
     "output_type": "stream",
     "text": [
      "About to kick off another exciting session with @Verizon in Ballroom B at #TDPartners15 - Looking forward to it! http://t.co/4A3E8VUTnw\n",
      "RT @escupotwits: Dos tenedores y un bocadillo. \n",
      "Vota a Ciudadanos, lo van a cambiar todo, pero todo, todo. http://t.co/25nhiNvbZh\n",
      "Puente Drumragh, Irlanda del Norte http://t.co/3HKYAkgtOQ\n",
      "An IVF: What We're Doing Right And Wrong, And Near Term Challenges: 3) IVF meets big data. Maybe I mi... http://t.co/Q7tXRUZU93 #BigData\n",
      "7 #TEDTalks that just might save your relationship: http://t.co/SSMZAzdSiT\n",
      "RT @Tulnfancia: Para sabores los de los chicles Boomer, hasta de Natillas. http://t.co/LOW5qdOdNn\n",
      "How to Develop Applications for the IoT http://t.co/U6GgZ6ewiy\n",
      "6 acciones para ser realmente productivo. http://t.co/wQwoXUqgjd\n",
      "Data-Analysis-and-Machine-Learning-Projects | #MachineLearning #Analytics #RT http://t.co/cAlHJrYkiV http://t.co/qlySrTa0Sm\n",
      "Moulin Rouge, Paris, France. http://t.co/5hZ6NZVaqW\n",
      "Deep Learning for Text Understanding from Scratch #KDN http://t.co/I1Opk7f2yV\n",
      "Valle de Jiuzhaugou, China http://t.co/O1ytmiyKsi\n",
      "How #Tesla's #AutoPilot learns http://t.co/0RuY2EyM4O #MachineLearning #HandsFree #Driving #DataModeling http://t.co/tkgO16KdYd\n",
      "RT @escupotwits: ¿Qué tiene mejor calidad la ropa del Primark o los auriculares que regala Renfe?\n",
      "RT @Es_Lujo: http://t.co/mz35yIKZqz\n",
      "#Solitaire , #Voting And The #MonteCarlo #Method - Forbes http://t.co/1YovOhZWwo\n",
      "Monte Averau, Dolomitas - Italia. http://t.co/KlmquPchaE\n",
      "Lidera proyectos relevantes de Inteligencia de Negocio y Estrategia, con expertos de gran reputación: http://t.co/0riLvi97ds\n",
      "Mundo Emprendedor is out! http://t.co/SAvT5z2Oo0 Stories via @raykolorenzo @leanhumanity @aglezz01\n",
      "Sex ed for adults in 7 #TEDTalks: http://t.co/UuT6XYMyKd http://t.co/pvm4wv55D1\n"
     ]
    },
    {
     "name": "stderr",
     "output_type": "stream",
     "text": [
      "/usr/local/lib/python2.7/dist-packages/requests/packages/urllib3/util/ssl_.py:100: InsecurePlatformWarning: A true SSLContext object is not available. This prevents urllib3 from configuring SSL appropriately and may cause certain SSL connections to fail. For more information, see https://urllib3.readthedocs.org/en/latest/security.html#insecureplatformwarning.\n",
      "  InsecurePlatformWarning\n"
     ]
    }
   ],
   "source": [
    "public_tweets = api.home_timeline()\n",
    "for tweet in public_tweets:\n",
    "    print tweet.text\n"
   ]
  },
  {
   "cell_type": "code",
   "execution_count": null,
   "metadata": {
    "collapsed": true
   },
   "outputs": [],
   "source": []
  },
  {
   "cell_type": "code",
   "execution_count": null,
   "metadata": {
    "collapsed": true
   },
   "outputs": [],
   "source": []
  }
 ],
 "metadata": {
  "kernelspec": {
   "display_name": "Python 2",
   "language": "python",
   "name": "python2"
  },
  "language_info": {
   "codemirror_mode": {
    "name": "ipython",
    "version": 2
   },
   "file_extension": ".py",
   "mimetype": "text/x-python",
   "name": "python",
   "nbconvert_exporter": "python",
   "pygments_lexer": "ipython2",
   "version": "2.7.6"
  }
 },
 "nbformat": 4,
 "nbformat_minor": 0
}
