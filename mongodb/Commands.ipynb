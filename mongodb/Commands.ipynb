{
 "cells": [
  {
   "cell_type": "code",
   "execution_count": 45,
   "metadata": {
    "collapsed": false
   },
   "outputs": [
    {
     "name": "stdout",
     "output_type": "stream",
     "text": [
      "PyMongo version:  3.0.3\n",
      "MongoDB version:  3.0.7\n"
     ]
    }
   ],
   "source": [
    "import pymongo \n",
    "from pymongo import MongoClient\n",
    "from pprintpp import pprint as pp\n",
    "\n",
    "# connect to database\n",
    "client = MongoClient('localhost', 27017)\n",
    "db = client.commands\n",
    "\n",
    "print \"PyMongo version: \", pymongo.version\n",
    "print \"MongoDB version: \", db.eval(\"db.version()\")"
   ]
  },
  {
   "cell_type": "markdown",
   "metadata": {},
   "source": [
    "# Bulk Operations"
   ]
  },
  {
   "cell_type": "code",
   "execution_count": 34,
   "metadata": {
    "collapsed": true
   },
   "outputs": [],
   "source": [
    "db.items.drop()"
   ]
  },
  {
   "cell_type": "code",
   "execution_count": 35,
   "metadata": {
    "collapsed": false
   },
   "outputs": [
    {
     "data": {
      "text/plain": [
       "{u'nInserted': 3.0,\n",
       " u'nMatched': 0.0,\n",
       " u'nModified': 0.0,\n",
       " u'nRemoved': 0.0,\n",
       " u'nUpserted': 0.0,\n",
       " u'upserted': [],\n",
       " u'writeConcernErrors': [],\n",
       " u'writeErrors': []}"
      ]
     },
     "execution_count": 35,
     "metadata": {},
     "output_type": "execute_result"
    }
   ],
   "source": [
    "command = \"\"\"\n",
    "var bulk = db.items.initializeUnorderedBulkOp();\n",
    "bulk.insert( { _id: 1, item: \"abc123\", status: \"A\", soldQty: 5000 } );\n",
    "bulk.insert( { _id: 2, item: \"abc456\", status: \"A\", soldQty: 150 } );\n",
    "bulk.insert( { _id: 3, item: \"abc789\", status: \"P\", soldQty: 0 } );\n",
    "ret = bulk.execute( { w: \"majority\", wtimeout: 5000 } );\n",
    "\n",
    "return ret.getRawResponse()\n",
    "\"\"\"\n",
    "\n",
    "db.eval(command)"
   ]
  },
  {
   "cell_type": "markdown",
   "metadata": {},
   "source": [
    "# Database Commands\n",
    "\n",
    "https://docs.mongodb.org/manual/reference/command/"
   ]
  },
  {
   "cell_type": "markdown",
   "metadata": {},
   "source": [
    "## isMaster"
   ]
  },
  {
   "cell_type": "code",
   "execution_count": 47,
   "metadata": {
    "collapsed": false
   },
   "outputs": [
    {
     "name": "stdout",
     "output_type": "stream",
     "text": [
      "{\n",
      "    u'ismaster': True,\n",
      "    u'localTime': datetime.datetime(2015, 10, 25, 10, 42, 9, 98000),\n",
      "    u'maxBsonObjectSize': 16777216,\n",
      "    u'maxMessageSizeBytes': 48000000,\n",
      "    u'maxWireVersion': 3,\n",
      "    u'maxWriteBatchSize': 1000,\n",
      "    u'minWireVersion': 0,\n",
      "    u'ok': 1.0,\n",
      "}\n"
     ]
    }
   ],
   "source": [
    "command = \"\"\"\n",
    "return db.isMaster()\n",
    "\"\"\"\n",
    "\n",
    "pp(db.eval(command))"
   ]
  },
  {
   "cell_type": "markdown",
   "metadata": {},
   "source": [
    "## serverStatus"
   ]
  },
  {
   "cell_type": "code",
   "execution_count": 66,
   "metadata": {
    "collapsed": false
   },
   "outputs": [
    {
     "data": {
      "text/plain": [
       "{u'asserts': {u'msg': 0,\n",
       "  u'regular': 0,\n",
       "  u'rollovers': 0,\n",
       "  u'user': 7,\n",
       "  u'warning': 0},\n",
       " u'backgroundFlushing': {u'average_ms': 13.018796992481203,\n",
       "  u'flushes': 266,\n",
       "  u'last_finished': datetime.datetime(2015, 10, 25, 10, 54, 20, 356000),\n",
       "  u'last_ms': 11,\n",
       "  u'total_ms': 3463},\n",
       " u'connections': {u'available': 51186, u'current': 14, u'totalCreated': 410L},\n",
       " u'cursors': {u'clientCursors_size': 0,\n",
       "  u'note': u'deprecated, use server status metrics',\n",
       "  u'pinned': 0,\n",
       "  u'timedOut': 0,\n",
       "  u'totalNoTimeout': 0,\n",
       "  u'totalOpen': 0},\n",
       " u'dur': {u'commits': 25,\n",
       "  u'commitsInWriteLock': 0,\n",
       "  u'compression': 0.0,\n",
       "  u'earlyCommits': 0,\n",
       "  u'journaledMB': 0.0,\n",
       "  u'timeMs': {u'commits': 3,\n",
       "   u'commitsInWriteLock': 0,\n",
       "   u'dt': 0,\n",
       "   u'prepLogBuffer': 0,\n",
       "   u'remapPrivateView': 0,\n",
       "   u'writeToDataFiles': 0,\n",
       "   u'writeToJournal': 0},\n",
       "  u'writeToDataFilesMB': 0.0},\n",
       " u'extra_info': {u'heap_usage_bytes': 64419520,\n",
       "  u'note': u'fields vary by platform',\n",
       "  u'page_faults': 80},\n",
       " u'globalLock': {u'activeClients': {u'readers': 0,\n",
       "   u'total': 22,\n",
       "   u'writers': 0},\n",
       "  u'currentQueue': {u'readers': 0, u'total': 0, u'writers': 0},\n",
       "  u'totalTime': 15992740000L},\n",
       " u'host': u'NoSQL',\n",
       " u'localTime': datetime.datetime(2015, 10, 25, 10, 54, 34, 74000),\n",
       " u'locks': {u'Collection': {u'acquireCount': {u'R': 61665L, u'W': 24020L},\n",
       "   u'acquireWaitCount': {u'R': 1L},\n",
       "   u'timeAcquiringMicros': {u'R': 28L}},\n",
       "  u'Database': {u'acquireCount': {u'R': 43L,\n",
       "    u'W': 62L,\n",
       "    u'r': 59096L,\n",
       "    u'w': 24004L}},\n",
       "  u'Global': {u'acquireCount': {u'W': 68L, u'r': 142412L, u'w': 24066L},\n",
       "   u'acquireWaitCount': {u'r': 2L},\n",
       "   u'timeAcquiringMicros': {u'r': 75324L}},\n",
       "  u'MMAPV1Journal': {u'acquireCount': {u'R': 153145L,\n",
       "    u'W': 16L,\n",
       "    u'r': 59064L,\n",
       "    u'w': 49766L},\n",
       "   u'acquireWaitCount': {u'R': 46L, u'w': 30L},\n",
       "   u'timeAcquiringMicros': {u'R': 3510493L, u'w': 43618L}},\n",
       "  u'Metadata': {u'acquireCount': {u'W': 149L}}},\n",
       " u'mem': {u'bits': 64,\n",
       "  u'mapped': 304,\n",
       "  u'mappedWithJournal': 608,\n",
       "  u'resident': 189,\n",
       "  u'supported': True,\n",
       "  u'virtual': 843},\n",
       " u'metrics': {u'commands': {u'<UNKNOWN>': 2L,\n",
       "   u'_getUserCacheGeneration': {u'failed': 0L, u'total': 0L},\n",
       "   u'_isSelf': {u'failed': 0L, u'total': 0L},\n",
       "   u'_mergeAuthzCollections': {u'failed': 0L, u'total': 0L},\n",
       "   u'_migrateClone': {u'failed': 0L, u'total': 0L},\n",
       "   u'_recvChunkAbort': {u'failed': 0L, u'total': 0L},\n",
       "   u'_recvChunkCommit': {u'failed': 0L, u'total': 0L},\n",
       "   u'_recvChunkStart': {u'failed': 0L, u'total': 0L},\n",
       "   u'_recvChunkStatus': {u'failed': 0L, u'total': 0L},\n",
       "   u'_transferMods': {u'failed': 0L, u'total': 0L},\n",
       "   u'aggregate': {u'failed': 0L, u'total': 0L},\n",
       "   u'appendOplogNote': {u'failed': 0L, u'total': 0L},\n",
       "   u'applyOps': {u'failed': 0L, u'total': 0L},\n",
       "   u'authSchemaUpgrade': {u'failed': 0L, u'total': 0L},\n",
       "   u'authenticate': {u'failed': 0L, u'total': 0L},\n",
       "   u'availableQueryOptions': {u'failed': 0L, u'total': 0L},\n",
       "   u'buildInfo': {u'failed': 0L, u'total': 84L},\n",
       "   u'checkShardingIndex': {u'failed': 0L, u'total': 0L},\n",
       "   u'cleanupOrphaned': {u'failed': 0L, u'total': 0L},\n",
       "   u'clone': {u'failed': 0L, u'total': 0L},\n",
       "   u'cloneCollection': {u'failed': 0L, u'total': 0L},\n",
       "   u'cloneCollectionAsCapped': {u'failed': 0L, u'total': 0L},\n",
       "   u'collMod': {u'failed': 0L, u'total': 0L},\n",
       "   u'collStats': {u'failed': 0L, u'total': 0L},\n",
       "   u'compact': {u'failed': 0L, u'total': 0L},\n",
       "   u'connPoolStats': {u'failed': 0L, u'total': 0L},\n",
       "   u'connPoolSync': {u'failed': 0L, u'total': 0L},\n",
       "   u'connectionStatus': {u'failed': 0L, u'total': 0L},\n",
       "   u'convertToCapped': {u'failed': 0L, u'total': 0L},\n",
       "   u'copydb': {u'failed': 0L, u'total': 0L},\n",
       "   u'copydbgetnonce': {u'failed': 0L, u'total': 0L},\n",
       "   u'copydbsaslstart': {u'failed': 0L, u'total': 0L},\n",
       "   u'count': {u'failed': 2L, u'total': 39L},\n",
       "   u'create': {u'failed': 0L, u'total': 2L},\n",
       "   u'createIndexes': {u'failed': 0L, u'total': 0L},\n",
       "   u'createRole': {u'failed': 0L, u'total': 0L},\n",
       "   u'createUser': {u'failed': 0L, u'total': 0L},\n",
       "   u'currentOpCtx': {u'failed': 0L, u'total': 0L},\n",
       "   u'cursorInfo': {u'failed': 0L, u'total': 0L},\n",
       "   u'dataSize': {u'failed': 0L, u'total': 0L},\n",
       "   u'dbHash': {u'failed': 0L, u'total': 0L},\n",
       "   u'dbStats': {u'failed': 0L, u'total': 0L},\n",
       "   u'delete': {u'failed': 0L, u'total': 4L},\n",
       "   u'diagLogging': {u'failed': 0L, u'total': 0L},\n",
       "   u'distinct': {u'failed': 0L, u'total': 0L},\n",
       "   u'driverOIDTest': {u'failed': 0L, u'total': 0L},\n",
       "   u'drop': {u'failed': 4L, u'total': 16L},\n",
       "   u'dropAllRolesFromDatabase': {u'failed': 0L, u'total': 0L},\n",
       "   u'dropAllUsersFromDatabase': {u'failed': 0L, u'total': 0L},\n",
       "   u'dropDatabase': {u'failed': 0L, u'total': 8L},\n",
       "   u'dropIndexes': {u'failed': 0L, u'total': 0L},\n",
       "   u'dropRole': {u'failed': 0L, u'total': 0L},\n",
       "   u'dropUser': {u'failed': 0L, u'total': 0L},\n",
       "   u'eval': {u'failed': 7L, u'total': 55L},\n",
       "   u'explain': {u'failed': 0L, u'total': 0L},\n",
       "   u'features': {u'failed': 0L, u'total': 0L},\n",
       "   u'filemd5': {u'failed': 0L, u'total': 0L},\n",
       "   u'find': {u'failed': 0L, u'total': 0L},\n",
       "   u'findAndModify': {u'failed': 0L, u'total': 0L},\n",
       "   u'forceerror': {u'failed': 0L, u'total': 0L},\n",
       "   u'fsync': {u'failed': 0L, u'total': 0L},\n",
       "   u'geoNear': {u'failed': 0L, u'total': 0L},\n",
       "   u'geoSearch': {u'failed': 0L, u'total': 0L},\n",
       "   u'getCmdLineOpts': {u'failed': 0L, u'total': 0L},\n",
       "   u'getLastError': {u'failed': 0L, u'total': 0L},\n",
       "   u'getLog': {u'failed': 0L, u'total': 2L},\n",
       "   u'getParameter': {u'failed': 0L, u'total': 0L},\n",
       "   u'getPrevError': {u'failed': 0L, u'total': 0L},\n",
       "   u'getShardMap': {u'failed': 0L, u'total': 0L},\n",
       "   u'getShardVersion': {u'failed': 0L, u'total': 0L},\n",
       "   u'getnonce': {u'failed': 0L, u'total': 0L},\n",
       "   u'grantPrivilegesToRole': {u'failed': 0L, u'total': 0L},\n",
       "   u'grantRolesToRole': {u'failed': 0L, u'total': 0L},\n",
       "   u'grantRolesToUser': {u'failed': 0L, u'total': 0L},\n",
       "   u'group': {u'failed': 0L, u'total': 0L},\n",
       "   u'handshake': {u'failed': 0L, u'total': 0L},\n",
       "   u'hostInfo': {u'failed': 0L, u'total': 0L},\n",
       "   u'insert': {u'failed': 0L, u'total': 5529L},\n",
       "   u'invalidateUserCache': {u'failed': 0L, u'total': 0L},\n",
       "   u'isMaster': {u'failed': 0L, u'total': 5212L},\n",
       "   u'listCollections': {u'failed': 0L, u'total': 42L},\n",
       "   u'listCommands': {u'failed': 0L, u'total': 0L},\n",
       "   u'listDatabases': {u'failed': 0L, u'total': 19L},\n",
       "   u'listIndexes': {u'failed': 0L, u'total': 0L},\n",
       "   u'logRotate': {u'failed': 0L, u'total': 0L},\n",
       "   u'logout': {u'failed': 0L, u'total': 0L},\n",
       "   u'mapReduce': {u'failed': 0L, u'total': 0L},\n",
       "   u'mapreduce': {u'shardedfinish': {u'failed': 0L, u'total': 0L}},\n",
       "   u'medianKey': {u'failed': 0L, u'total': 0L},\n",
       "   u'mergeChunks': {u'failed': 0L, u'total': 0L},\n",
       "   u'moveChunk': {u'failed': 0L, u'total': 0L},\n",
       "   u'parallelCollectionScan': {u'failed': 0L, u'total': 0L},\n",
       "   u'ping': {u'failed': 0L, u'total': 0L},\n",
       "   u'planCacheClear': {u'failed': 0L, u'total': 0L},\n",
       "   u'planCacheClearFilters': {u'failed': 0L, u'total': 0L},\n",
       "   u'planCacheListFilters': {u'failed': 0L, u'total': 0L},\n",
       "   u'planCacheListPlans': {u'failed': 0L, u'total': 0L},\n",
       "   u'planCacheListQueryShapes': {u'failed': 0L, u'total': 0L},\n",
       "   u'planCacheSetFilter': {u'failed': 0L, u'total': 0L},\n",
       "   u'profile': {u'failed': 0L, u'total': 0L},\n",
       "   u'reIndex': {u'failed': 0L, u'total': 0L},\n",
       "   u'renameCollection': {u'failed': 0L, u'total': 0L},\n",
       "   u'repairCursor': {u'failed': 0L, u'total': 0L},\n",
       "   u'repairDatabase': {u'failed': 0L, u'total': 0L},\n",
       "   u'replSetElect': {u'failed': 0L, u'total': 0L},\n",
       "   u'replSetFreeze': {u'failed': 0L, u'total': 0L},\n",
       "   u'replSetFresh': {u'failed': 0L, u'total': 0L},\n",
       "   u'replSetGetConfig': {u'failed': 0L, u'total': 0L},\n",
       "   u'replSetGetRBID': {u'failed': 0L, u'total': 0L},\n",
       "   u'replSetGetStatus': {u'failed': 25L, u'total': 25L},\n",
       "   u'replSetHeartbeat': {u'failed': 0L, u'total': 0L},\n",
       "   u'replSetInitiate': {u'failed': 0L, u'total': 0L},\n",
       "   u'replSetMaintenance': {u'failed': 0L, u'total': 0L},\n",
       "   u'replSetReconfig': {u'failed': 0L, u'total': 0L},\n",
       "   u'replSetStepDown': {u'failed': 0L, u'total': 0L},\n",
       "   u'replSetSyncFrom': {u'failed': 0L, u'total': 0L},\n",
       "   u'replSetUpdatePosition': {u'failed': 0L, u'total': 0L},\n",
       "   u'resetError': {u'failed': 0L, u'total': 0L},\n",
       "   u'resync': {u'failed': 0L, u'total': 0L},\n",
       "   u'revokePrivilegesFromRole': {u'failed': 0L, u'total': 0L},\n",
       "   u'revokeRolesFromRole': {u'failed': 0L, u'total': 0L},\n",
       "   u'revokeRolesFromUser': {u'failed': 0L, u'total': 0L},\n",
       "   u'rolesInfo': {u'failed': 0L, u'total': 0L},\n",
       "   u'saslContinue': {u'failed': 0L, u'total': 0L},\n",
       "   u'saslStart': {u'failed': 0L, u'total': 0L},\n",
       "   u'serverStatus': {u'failed': 0L, u'total': 10L},\n",
       "   u'setParameter': {u'failed': 0L, u'total': 0L},\n",
       "   u'setShardVersion': {u'failed': 0L, u'total': 0L},\n",
       "   u'shardConnPoolStats': {u'failed': 0L, u'total': 0L},\n",
       "   u'shardingState': {u'failed': 0L, u'total': 0L},\n",
       "   u'shutdown': {u'failed': 0L, u'total': 0L},\n",
       "   u'splitChunk': {u'failed': 0L, u'total': 0L},\n",
       "   u'splitVector': {u'failed': 0L, u'total': 0L},\n",
       "   u'top': {u'failed': 0L, u'total': 0L},\n",
       "   u'touch': {u'failed': 0L, u'total': 0L},\n",
       "   u'unsetSharding': {u'failed': 0L, u'total': 0L},\n",
       "   u'update': {u'failed': 0L, u'total': 18442L},\n",
       "   u'updateRole': {u'failed': 0L, u'total': 0L},\n",
       "   u'updateUser': {u'failed': 0L, u'total': 0L},\n",
       "   u'usersInfo': {u'failed': 0L, u'total': 0L},\n",
       "   u'validate': {u'failed': 0L, u'total': 0L},\n",
       "   u'whatsmyuri': {u'failed': 0L, u'total': 4L},\n",
       "   u'writebacklisten': {u'failed': 0L, u'total': 0L}},\n",
       "  u'cursor': {u'open': {u'noTimeout': 0L, u'pinned': 0L, u'total': 0L},\n",
       "   u'timedOut': 0L},\n",
       "  u'document': {u'deleted': 3L,\n",
       "   u'inserted': 2552L,\n",
       "   u'returned': 315L,\n",
       "   u'updated': 18442L},\n",
       "  u'getLastError': {u'wtime': {u'num': 0, u'totalMillis': 0},\n",
       "   u'wtimeouts': 0L},\n",
       "  u'operation': {u'fastmod': 0L,\n",
       "   u'idhack': 5L,\n",
       "   u'scanAndOrder': 0L,\n",
       "   u'writeConflicts': 0L},\n",
       "  u'queryExecutor': {u'scanned': 8211L, u'scannedObjects': 8663L},\n",
       "  u'record': {u'moves': 486L},\n",
       "  u'repl': {u'apply': {u'batches': {u'num': 0, u'totalMillis': 0}, u'ops': 0L},\n",
       "   u'buffer': {u'count': 0L, u'maxSizeBytes': 268435456, u'sizeBytes': 0L},\n",
       "   u'network': {u'bytes': 0L,\n",
       "    u'getmores': {u'num': 0, u'totalMillis': 0},\n",
       "    u'ops': 0L,\n",
       "    u'readersCreated': 0L},\n",
       "   u'preload': {u'docs': {u'num': 0, u'totalMillis': 0},\n",
       "    u'indexes': {u'num': 0, u'totalMillis': 0}}},\n",
       "  u'storage': {u'freelist': {u'search': {u'bucketExhausted': 0L,\n",
       "     u'requests': 18199L,\n",
       "     u'scanned': 0L}}},\n",
       "  u'ttl': {u'deletedDocuments': 0L, u'passes': 266L}},\n",
       " u'network': {u'bytesIn': 21586458L,\n",
       "  u'bytesOut': 3966827L,\n",
       "  u'numRequests': 29405L},\n",
       " u'ok': 1.0,\n",
       " u'opcounters': {u'command': 5518,\n",
       "  u'delete': 4,\n",
       "  u'getmore': 0,\n",
       "  u'insert': 7158,\n",
       "  u'query': 90,\n",
       "  u'update': 18442},\n",
       " u'opcountersRepl': {u'command': 0,\n",
       "  u'delete': 0,\n",
       "  u'getmore': 0,\n",
       "  u'insert': 0,\n",
       "  u'query': 0,\n",
       "  u'update': 0},\n",
       " u'pid': 861L,\n",
       " u'process': u'mongod',\n",
       " u'storageEngine': {u'name': u'mmapv1'},\n",
       " u'uptime': 15993.0,\n",
       " u'uptimeEstimate': 14991.0,\n",
       " u'uptimeMillis': 15992741L,\n",
       " u'version': u'3.0.7',\n",
       " u'writeBacksQueued': False}"
      ]
     },
     "execution_count": 66,
     "metadata": {},
     "output_type": "execute_result"
    }
   ],
   "source": [
    "db.command({ \"serverStatus\": 1 })"
   ]
  },
  {
   "cell_type": "code",
   "execution_count": 48,
   "metadata": {
    "collapsed": false
   },
   "outputs": [
    {
     "name": "stdout",
     "output_type": "stream",
     "text": [
      "{\n",
      "    u'asserts': {\n",
      "        u'msg': 0,\n",
      "        u'regular': 0,\n",
      "        u'rollovers': 0,\n",
      "        u'user': 4,\n",
      "        u'warning': 0,\n",
      "    },\n",
      "    u'backgroundFlushing': {\n",
      "        u'average_ms': 13.08695652173913,\n",
      "        u'flushes': 253,\n",
      "        u'last_finished': datetime.datetime(2015, 10, 25, 10, 41, 20, 349000),\n",
      "        u'last_ms': 16,\n",
      "        u'total_ms': 3311,\n",
      "    },\n",
      "    u'connections': {\n",
      "        u'available': 51186,\n",
      "        u'current': 14,\n",
      "        u'totalCreated': 380L,\n",
      "    },\n",
      "    u'cursors': {\n",
      "        u'clientCursors_size': 0,\n",
      "        u'note': u'deprecated, use server status metrics',\n",
      "        u'pinned': 0,\n",
      "        u'timedOut': 0,\n",
      "        u'totalNoTimeout': 0,\n",
      "        u'totalOpen': 0,\n",
      "    },\n",
      "    u'dur': {\n",
      "        u'commits': 29,\n",
      "        u'commitsInWriteLock': 0,\n",
      "        u'compression': 0.0,\n",
      "        u'earlyCommits': 0,\n",
      "        u'journaledMB': 0.0,\n",
      "        u'timeMs': {\n",
      "            u'commits': 2,\n",
      "            u'commitsInWriteLock': 0,\n",
      "            u'dt': 3010,\n",
      "            u'prepLogBuffer': 0,\n",
      "            u'remapPrivateView': 0,\n",
      "            u'writeToDataFiles': 0,\n",
      "            u'writeToJournal': 0,\n",
      "        },\n",
      "        u'writeToDataFilesMB': 0.0,\n",
      "    },\n",
      "    u'extra_info': {\n",
      "        u'heap_usage_bytes': 64737048,\n",
      "        u'note': u'fields vary by platform',\n",
      "        u'page_faults': 79,\n",
      "    },\n",
      "    u'globalLock': {\n",
      "        u'activeClients': {u'readers': 0, u'total': 22, u'writers': 1},\n",
      "        u'currentQueue': {u'readers': 0, u'total': 0, u'writers': 0},\n",
      "        u'totalTime': 15258824000L,\n",
      "    },\n",
      "    u'host': u'NoSQL',\n",
      "    u'localTime': datetime.datetime(2015, 10, 25, 10, 42, 20, 158000),\n",
      "    u'locks': {\n",
      "        u'Collection': {\n",
      "            u'acquireCount': {u'R': 56498L, u'W': 24016L},\n",
      "            u'acquireWaitCount': {u'R': 1L},\n",
      "            u'timeAcquiringMicros': {u'R': 28L},\n",
      "        },\n",
      "        u'Database': {\n",
      "            u'acquireCount': {\n",
      "                u'R': 41L,\n",
      "                u'W': 61L,\n",
      "                u'r': 54151L,\n",
      "                u'w': 24001L,\n",
      "            },\n",
      "        },\n",
      "        u'Global': {\n",
      "            u'acquireCount': {u'W': 58L, u'r': 132504L, u'w': 24062L},\n",
      "            u'acquireWaitCount': {u'r': 2L},\n",
      "            u'timeAcquiringMicros': {u'r': 75324L},\n",
      "        },\n",
      "        u'MMAPV1Journal': {\n",
      "            u'acquireCount': {\n",
      "                u'R': 146135L,\n",
      "                u'W': 16L,\n",
      "                u'r': 54125L,\n",
      "                u'w': 49752L,\n",
      "            },\n",
      "            u'acquireWaitCount': {u'R': 39L, u'w': 28L},\n",
      "            u'timeAcquiringMicros': {u'R': 3331104L, u'w': 43260L},\n",
      "        },\n",
      "        u'Metadata': {u'acquireCount': {u'W': 147L}},\n",
      "    },\n",
      "    u'mem': {\n",
      "        u'bits': 64,\n",
      "        u'mapped': 304,\n",
      "        u'mappedWithJournal': 608,\n",
      "        u'resident': 191,\n",
      "        u'supported': True,\n",
      "        u'virtual': 1390,\n",
      "    },\n",
      "    u'metrics': {\n",
      "        u'commands': {\n",
      "            u'<UNKNOWN>': 2L,\n",
      "            u'buildInfo': {u'failed': 0L, u'total': 78L},\n",
      "            u'count': {u'failed': 2L, u'total': 37L},\n",
      "            u'create': {u'failed': 0L, u'total': 2L},\n",
      "            u'delete': {u'failed': 0L, u'total': 4L},\n",
      "            u'drop': {u'failed': 4L, u'total': 16L},\n",
      "            u'dropDatabase': {u'failed': 0L, u'total': 8L},\n",
      "            u'eval': {u'failed': 4L, u'total': 45L},\n",
      "            u'getLog': {u'failed': 0L, u'total': 2L},\n",
      "            u'insert': {u'failed': 0L, u'total': 5526L},\n",
      "            u'isMaster': {u'failed': 0L, u'total': 4692L},\n",
      "            u'listCollections': {u'failed': 0L, u'total': 40L},\n",
      "            u'listDatabases': {u'failed': 0L, u'total': 17L},\n",
      "            u'replSetGetStatus': {u'failed': 23L, u'total': 23L},\n",
      "            u'serverStatus': {u'failed': 0L, u'total': 9L},\n",
      "            u'update': {u'failed': 0L, u'total': 18442L},\n",
      "            u'whatsmyuri': {u'failed': 0L, u'total': 4L},\n",
      "        },\n",
      "        u'cursor': {u'open': {u'noTimeout': 0L, u'pinned': 0L, u'total': 0L}, u'timedOut': 0L},\n",
      "        u'document': {\n",
      "            u'deleted': 3L,\n",
      "            u'inserted': 2549L,\n",
      "            u'returned': 312L,\n",
      "            u'updated': 18442L,\n",
      "        },\n",
      "        u'getLastError': {u'wtime': {u'num': 0, u'totalMillis': 0}, u'wtimeouts': 0L},\n",
      "        u'operation': {\n",
      "            u'fastmod': 0L,\n",
      "            u'idhack': 5L,\n",
      "            u'scanAndOrder': 0L,\n",
      "            u'writeConflicts': 0L,\n",
      "        },\n",
      "        u'queryExecutor': {u'scanned': 8211L, u'scannedObjects': 8660L},\n",
      "        u'record': {u'moves': 486L},\n",
      "        u'repl': {\n",
      "            u'apply': {u'batches': {u'num': 0, u'totalMillis': 0}, u'ops': 0L},\n",
      "            u'buffer': {\n",
      "                u'count': 0L,\n",
      "                u'maxSizeBytes': 268435456,\n",
      "                u'sizeBytes': 0L,\n",
      "            },\n",
      "            u'network': {\n",
      "                u'bytes': 0L,\n",
      "                u'getmores': {u'num': 0, u'totalMillis': 0},\n",
      "                u'ops': 0L,\n",
      "                u'readersCreated': 0L,\n",
      "            },\n",
      "            u'preload': {\n",
      "                u'docs': {u'num': 0, u'totalMillis': 0},\n",
      "                u'indexes': {u'num': 0, u'totalMillis': 0},\n",
      "            },\n",
      "        },\n",
      "        u'storage': {\n",
      "            u'freelist': {\n",
      "                u'search': {\n",
      "                    u'bucketExhausted': 0L,\n",
      "                    u'requests': 18191L,\n",
      "                    u'scanned': 0L,\n",
      "                },\n",
      "            },\n",
      "        },\n",
      "        u'ttl': {u'deletedDocuments': 0L, u'passes': 253L},\n",
      "    },\n",
      "    u'network': {\n",
      "        u'bytesIn': 21554039L,\n",
      "        u'bytesOut': 3853340L,\n",
      "        u'numRequests': 28861L,\n",
      "    },\n",
      "    u'ok': 1.0,\n",
      "    u'opcounters': {\n",
      "        u'command': 4973,\n",
      "        u'delete': 4,\n",
      "        u'getmore': 0,\n",
      "        u'insert': 7155,\n",
      "        u'query': 80,\n",
      "        u'update': 18442,\n",
      "    },\n",
      "    u'opcountersRepl': {\n",
      "        u'command': 0,\n",
      "        u'delete': 0,\n",
      "        u'getmore': 0,\n",
      "        u'insert': 0,\n",
      "        u'query': 0,\n",
      "        u'update': 0,\n",
      "    },\n",
      "    u'pid': 861L,\n",
      "    u'process': u'mongod',\n",
      "    u'storageEngine': {u'name': u'mmapv1'},\n",
      "    u'uptime': 15259.0,\n",
      "    u'uptimeEstimate': 14305.0,\n",
      "    u'uptimeMillis': 15258825L,\n",
      "    u'version': u'3.0.7',\n",
      "    u'writeBacksQueued': False,\n",
      "}\n"
     ]
    }
   ],
   "source": [
    "command = \"\"\"\n",
    "return db.serverStatus()\n",
    "\"\"\"\n",
    "\n",
    "pp(db.eval(command))"
   ]
  },
  {
   "cell_type": "markdown",
   "metadata": {},
   "source": [
    "## currentOp and killOp"
   ]
  },
  {
   "cell_type": "code",
   "execution_count": 58,
   "metadata": {
    "collapsed": false
   },
   "outputs": [
    {
     "name": "stdout",
     "output_type": "stream",
     "text": [
      "{\n",
      "    u'inprog': [\n",
      "        {\n",
      "            u'active': True,\n",
      "            u'client': u'127.0.0.1:57630',\n",
      "            u'connectionId': 380,\n",
      "            u'desc': u'conn380',\n",
      "            u'lockStats': {\n",
      "                u'Collection': {u'acquireCount': {u'R': 1L}},\n",
      "                u'Database': {u'acquireCount': {u'r': 1L}},\n",
      "                u'Global': {u'acquireCount': {u'W': 1L, u'r': 3L}},\n",
      "                u'MMAPV1Journal': {u'acquireCount': {u'w': 1L}},\n",
      "            },\n",
      "            u'locks': {u'Global': u'W', u'MMAPV1Journal': u'w'},\n",
      "            u'microsecs_running': 41445L,\n",
      "            u'ns': u'commands',\n",
      "            u'numYields': 0,\n",
      "            u'op': u'query',\n",
      "            u'opid': 81078,\n",
      "            u'query': {\n",
      "                u'$eval': Code('\\nreturn db.currentOp()\\n', {}),\n",
      "                u'args': [],\n",
      "            },\n",
      "            u'secs_running': 0,\n",
      "            u'threadId': u'0x3bc2d80',\n",
      "            u'waitingForLock': False,\n",
      "        },\n",
      "    ],\n",
      "}\n"
     ]
    }
   ],
   "source": [
    "command = \"\"\"\n",
    "return db.currentOp()\n",
    "\"\"\"\n",
    "\n",
    "ret_json = db.eval(command)\n",
    "pp(ret_json)"
   ]
  },
  {
   "cell_type": "code",
   "execution_count": 60,
   "metadata": {
    "collapsed": false
   },
   "outputs": [
    {
     "name": "stdout",
     "output_type": "stream",
     "text": [
      "81078\n"
     ]
    }
   ],
   "source": [
    "opid = ret_json['inprog'][0]['opid']\n",
    "print opid"
   ]
  },
  {
   "cell_type": "code",
   "execution_count": 65,
   "metadata": {
    "collapsed": false
   },
   "outputs": [],
   "source": [
    "command = \"\"\"\n",
    "function(opid) {\n",
    "  db.killOp(opid)\n",
    "  db.test_command.insert({\"opid\" : opid})\n",
    "}\n",
    "\"\"\"\n",
    "\n",
    "db.eval(command, opid)"
   ]
  },
  {
   "cell_type": "markdown",
   "metadata": {},
   "source": [
    "## Collections's Stats"
   ]
  },
  {
   "cell_type": "code",
   "execution_count": 70,
   "metadata": {
    "collapsed": false
   },
   "outputs": [
    {
     "data": {
      "text/plain": [
       "{u'avgObjSize': 112,\n",
       " u'capped': False,\n",
       " u'count': 3,\n",
       " u'indexSizes': {u'_id_': 8176},\n",
       " u'lastExtentSize': 8192.0,\n",
       " u'nindexes': 1,\n",
       " u'ns': u'commands.items',\n",
       " u'numExtents': 1,\n",
       " u'ok': 1.0,\n",
       " u'paddingFactor': 1.0,\n",
       " u'paddingFactorNote': u'paddingFactor is unused and unmaintained in 3.0. It remains hard coded to 1.0 for compatibility only.',\n",
       " u'size': 336,\n",
       " u'storageSize': 8192,\n",
       " u'totalIndexSize': 8176,\n",
       " u'userFlags': 1}"
      ]
     },
     "execution_count": 70,
     "metadata": {},
     "output_type": "execute_result"
    }
   ],
   "source": [
    "command = \"\"\"\n",
    "return db.items.stats()\n",
    "\"\"\"\n",
    "\n",
    "db.eval(command)"
   ]
  },
  {
   "cell_type": "markdown",
   "metadata": {},
   "source": [
    "## listDatabases"
   ]
  },
  {
   "cell_type": "code",
   "execution_count": 73,
   "metadata": {
    "collapsed": false
   },
   "outputs": [
    {
     "name": "stdout",
     "output_type": "stream",
     "text": [
      "{\n",
      "    u'databases': [\n",
      "        {u'empty': False, u'name': u'school', u'sizeOnDisk': 33554432.0},\n",
      "        {u'empty': False, u'name': u'local', u'sizeOnDisk': 83886080.0},\n",
      "        {u'empty': False, u'name': u'twitter', u'sizeOnDisk': 33554432.0},\n",
      "        {u'empty': False, u'name': u'test', u'sizeOnDisk': 33554432.0},\n",
      "        {u'empty': False, u'name': u'pcat2', u'sizeOnDisk': 33554432.0},\n",
      "        {u'empty': False, u'name': u'commands', u'sizeOnDisk': 33554432.0},\n",
      "        {u'empty': False, u'name': u'reddit', u'sizeOnDisk': 33554432.0},\n",
      "        {u'empty': False, u'name': u'pcat', u'sizeOnDisk': 33554432.0},\n",
      "    ],\n",
      "    u'ok': 1.0,\n",
      "    u'totalSize': 318767104.0,\n",
      "}\n"
     ]
    }
   ],
   "source": [
    "pp(client.admin.command({\"listDatabases\" : 1}))"
   ]
  },
  {
   "cell_type": "markdown",
   "metadata": {},
   "source": [
    "## Review of Commands"
   ]
  },
  {
   "cell_type": "markdown",
   "metadata": {},
   "source": [
    "|Server|Db|Collection|index|\n",
    "|-|-|-|-|\n",
    "|isMaster|repairDabase|create (implicit)|ensureIndex|\n",
    "|serverStatus|dropDabase|drop|dropIndex|\n",
    "|logout|dbStats|collStats||\n",
    "|getLastError|copydb|renameCollection||\n",
    "||clone|count (user)||\n",
    "|||aggregate (user)||\n",
    "|||mapReduce (user)||\n",
    "|||findAndModify (user)||\n",
    "|||geo* (user)||"
   ]
  },
  {
   "cell_type": "code",
   "execution_count": null,
   "metadata": {
    "collapsed": true
   },
   "outputs": [],
   "source": []
  }
 ],
 "metadata": {
  "kernelspec": {
   "display_name": "Python 2",
   "language": "python",
   "name": "python2"
  },
  "language_info": {
   "codemirror_mode": {
    "name": "ipython",
    "version": 2
   },
   "file_extension": ".py",
   "mimetype": "text/x-python",
   "name": "python",
   "nbconvert_exporter": "python",
   "pygments_lexer": "ipython2",
   "version": "2.7.6"
  }
 },
 "nbformat": 4,
 "nbformat_minor": 0
}
