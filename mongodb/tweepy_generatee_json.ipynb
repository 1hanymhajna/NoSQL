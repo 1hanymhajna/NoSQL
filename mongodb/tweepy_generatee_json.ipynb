{
 "cells": [
  {
   "cell_type": "code",
   "execution_count": 3,
   "metadata": {
    "collapsed": true
   },
   "outputs": [],
   "source": [
    "consumer_key = 'hRNtRgjzGq3wq3mt3fbuUkQ2c'\n",
    "consumer_secret = 'yBbXnvNRpm92wvblpG9xhUMFF7w9sgxLfQT8k15Fs3k1RN4pnQ'\n",
    "access_token_key = '12391902-qHO3gUBIvKuv7DjajXBmdm2SyZH8vgmR3jcpLVnnM'\n",
    "access_token_secret = '9ViwfNW5FhOLhahaf4qimDLXfYuqDtGzJ1MmAQM0gN3LK'"
   ]
  },
  {
   "cell_type": "code",
   "execution_count": 4,
   "metadata": {
    "collapsed": false
   },
   "outputs": [],
   "source": [
    "import tweepy\n",
    "\n",
    "auth = tweepy.OAuthHandler(consumer_key, consumer_secret)\n",
    "auth.set_access_token(access_token_key, access_token_secret)\n",
    "\n",
    "api = tweepy.API(auth)"
   ]
  },
  {
   "cell_type": "code",
   "execution_count": 5,
   "metadata": {
    "collapsed": false
   },
   "outputs": [
    {
     "name": "stderr",
     "output_type": "stream",
     "text": [
      "/usr/local/lib/python2.7/dist-packages/requests/packages/urllib3/util/ssl_.py:100: InsecurePlatformWarning: A true SSLContext object is not available. This prevents urllib3 from configuring SSL appropriately and may cause certain SSL connections to fail. For more information, see https://urllib3.readthedocs.org/en/latest/security.html#insecureplatformwarning.\n",
      "  InsecurePlatformWarning\n"
     ]
    }
   ],
   "source": [
    "# Get the User object for twitter...\n",
    "user = api.get_user('twitter')"
   ]
  },
  {
   "cell_type": "code",
   "execution_count": 6,
   "metadata": {
    "collapsed": false
   },
   "outputs": [
    {
     "name": "stdout",
     "output_type": "stream",
     "text": [
      "twitter\n",
      "47625602\n",
      "libby\n",
      "omidkordestani\n",
      "TwitterMoments\n",
      "IStandWithAhmed\n",
      "TwitterATL\n",
      "TwitterStage\n",
      "womenux\n",
      "university\n",
      "TwitterWomen\n",
      "TwitterUK\n",
      "TwitterTurkey\n",
      "TwitterSpain\n",
      "TwitterShopping\n",
      "TwitterSG\n",
      "TwitterSeattle\n",
      "TwitterSA\n",
      "TwitterRussia\n",
      "TwitterOpen\n",
      "TwitterNL\n",
      "TwitterNigeria\n"
     ]
    },
    {
     "name": "stderr",
     "output_type": "stream",
     "text": [
      "/usr/local/lib/python2.7/dist-packages/requests/packages/urllib3/util/ssl_.py:100: InsecurePlatformWarning: A true SSLContext object is not available. This prevents urllib3 from configuring SSL appropriately and may cause certain SSL connections to fail. For more information, see https://urllib3.readthedocs.org/en/latest/security.html#insecureplatformwarning.\n",
      "  InsecurePlatformWarning\n"
     ]
    }
   ],
   "source": [
    "print user.screen_name\n",
    "print user.followers_count\n",
    "for friend in user.friends():\n",
    "   print friend.screen_name"
   ]
  },
  {
   "cell_type": "code",
   "execution_count": 13,
   "metadata": {
    "collapsed": true
   },
   "outputs": [],
   "source": [
    "lookup ='MongoDB'"
   ]
  },
  {
   "cell_type": "code",
   "execution_count": 14,
   "metadata": {
    "collapsed": false
   },
   "outputs": [
    {
     "name": "stderr",
     "output_type": "stream",
     "text": [
      "/usr/local/lib/python2.7/dist-packages/requests/packages/urllib3/util/ssl_.py:100: InsecurePlatformWarning: A true SSLContext object is not available. This prevents urllib3 from configuring SSL appropriately and may cause certain SSL connections to fail. For more information, see https://urllib3.readthedocs.org/en/latest/security.html#insecureplatformwarning.\n",
      "  InsecurePlatformWarning\n"
     ]
    },
    {
     "ename": "RateLimitError",
     "evalue": "[{u'message': u'Rate limit exceeded', u'code': 88}]",
     "output_type": "error",
     "traceback": [
      "\u001b[1;31m---------------------------------------------------------------------------\u001b[0m",
      "\u001b[1;31mRateLimitError\u001b[0m                            Traceback (most recent call last)",
      "\u001b[1;32m<ipython-input-14-3a613323d7ad>\u001b[0m in \u001b[0;36m<module>\u001b[1;34m()\u001b[0m\n\u001b[0;32m      1\u001b[0m \u001b[0mmax_tweets\u001b[0m \u001b[1;33m=\u001b[0m \u001b[1;36m100\u001b[0m\u001b[1;33m\u001b[0m\u001b[0m\n\u001b[1;32m----> 2\u001b[1;33m \u001b[0msearch_results\u001b[0m \u001b[1;33m=\u001b[0m \u001b[0mapi\u001b[0m\u001b[1;33m.\u001b[0m\u001b[0msearch\u001b[0m\u001b[1;33m(\u001b[0m\u001b[0mq\u001b[0m\u001b[1;33m=\u001b[0m\u001b[1;34m\"lookup\"\u001b[0m\u001b[1;33m,\u001b[0m \u001b[0mcount\u001b[0m\u001b[1;33m=\u001b[0m\u001b[0mmax_tweets\u001b[0m\u001b[1;33m)\u001b[0m\u001b[1;33m\u001b[0m\u001b[0m\n\u001b[0m\u001b[0;32m      3\u001b[0m \u001b[1;33m\u001b[0m\u001b[0m\n\u001b[0;32m      4\u001b[0m \u001b[1;32mprint\u001b[0m \u001b[0mlen\u001b[0m\u001b[1;33m(\u001b[0m\u001b[0msearch_results\u001b[0m\u001b[1;33m)\u001b[0m\u001b[1;33m\u001b[0m\u001b[0m\n",
      "\u001b[1;32m/usr/local/lib/python2.7/dist-packages/tweepy/binder.pyc\u001b[0m in \u001b[0;36m_call\u001b[1;34m(*args, **kwargs)\u001b[0m\n\u001b[0;32m    241\u001b[0m             \u001b[1;32mreturn\u001b[0m \u001b[0mmethod\u001b[0m\u001b[1;33m\u001b[0m\u001b[0m\n\u001b[0;32m    242\u001b[0m         \u001b[1;32melse\u001b[0m\u001b[1;33m:\u001b[0m\u001b[1;33m\u001b[0m\u001b[0m\n\u001b[1;32m--> 243\u001b[1;33m             \u001b[1;32mreturn\u001b[0m \u001b[0mmethod\u001b[0m\u001b[1;33m.\u001b[0m\u001b[0mexecute\u001b[0m\u001b[1;33m(\u001b[0m\u001b[1;33m)\u001b[0m\u001b[1;33m\u001b[0m\u001b[0m\n\u001b[0m\u001b[0;32m    244\u001b[0m \u001b[1;33m\u001b[0m\u001b[0m\n\u001b[0;32m    245\u001b[0m     \u001b[1;31m# Set pagination mode\u001b[0m\u001b[1;33m\u001b[0m\u001b[1;33m\u001b[0m\u001b[0m\n",
      "\u001b[1;32m/usr/local/lib/python2.7/dist-packages/tweepy/binder.pyc\u001b[0m in \u001b[0;36mexecute\u001b[1;34m(self)\u001b[0m\n\u001b[0;32m    223\u001b[0m \u001b[1;33m\u001b[0m\u001b[0m\n\u001b[0;32m    224\u001b[0m                 \u001b[1;32mif\u001b[0m \u001b[0mis_rate_limit_error_message\u001b[0m\u001b[1;33m(\u001b[0m\u001b[0merror_msg\u001b[0m\u001b[1;33m)\u001b[0m\u001b[1;33m:\u001b[0m\u001b[1;33m\u001b[0m\u001b[0m\n\u001b[1;32m--> 225\u001b[1;33m                     \u001b[1;32mraise\u001b[0m \u001b[0mRateLimitError\u001b[0m\u001b[1;33m(\u001b[0m\u001b[0merror_msg\u001b[0m\u001b[1;33m,\u001b[0m \u001b[0mresp\u001b[0m\u001b[1;33m)\u001b[0m\u001b[1;33m\u001b[0m\u001b[0m\n\u001b[0m\u001b[0;32m    226\u001b[0m                 \u001b[1;32melse\u001b[0m\u001b[1;33m:\u001b[0m\u001b[1;33m\u001b[0m\u001b[0m\n\u001b[0;32m    227\u001b[0m                     \u001b[1;32mraise\u001b[0m \u001b[0mTweepError\u001b[0m\u001b[1;33m(\u001b[0m\u001b[0merror_msg\u001b[0m\u001b[1;33m,\u001b[0m \u001b[0mresp\u001b[0m\u001b[1;33m)\u001b[0m\u001b[1;33m\u001b[0m\u001b[0m\n",
      "\u001b[1;31mRateLimitError\u001b[0m: [{u'message': u'Rate limit exceeded', u'code': 88}]"
     ]
    }
   ],
   "source": [
    "max_tweets = 100\n",
    "search_results = api.search(q=\"lookup\", count=max_tweets)\n",
    "\n",
    "print len(search_results)\n"
   ]
  },
  {
   "cell_type": "code",
   "execution_count": 11,
   "metadata": {
    "collapsed": false
   },
   "outputs": [
    {
     "name": "stdout",
     "output_type": "stream",
     "text": [
      "{\"errors\":[{\"message\":\"Rate limit exceeded\",\"code\":88}]}\n",
      "0\n"
     ]
    },
    {
     "name": "stderr",
     "output_type": "stream",
     "text": [
      "/usr/local/lib/python2.7/dist-packages/requests/packages/urllib3/util/ssl_.py:100: InsecurePlatformWarning: A true SSLContext object is not available. This prevents urllib3 from configuring SSL appropriately and may cause certain SSL connections to fail. For more information, see https://urllib3.readthedocs.org/en/latest/security.html#insecureplatformwarning.\n",
      "  InsecurePlatformWarning\n"
     ]
    }
   ],
   "source": [
    "c = tweepy.Cursor(api.search, q= lookup).items()\n",
    "    \n",
    "search_results = []\n",
    "while True:\n",
    "    try:\n",
    "        tweet = c.next()\n",
    "        # Insert into db\n",
    "        search_results.append(tweet)\n",
    "    except tweepy.TweepError as e:\n",
    "        print e\n",
    "        break\n",
    "\n",
    "print len(search_results)"
   ]
  },
  {
   "cell_type": "code",
   "execution_count": 12,
   "metadata": {
    "collapsed": false
   },
   "outputs": [
    {
     "ename": "IndexError",
     "evalue": "list index out of range",
     "output_type": "error",
     "traceback": [
      "\u001b[1;31m---------------------------------------------------------------------------\u001b[0m",
      "\u001b[1;31mIndexError\u001b[0m                                Traceback (most recent call last)",
      "\u001b[1;32m<ipython-input-12-dc36ef7dac31>\u001b[0m in \u001b[0;36m<module>\u001b[1;34m()\u001b[0m\n\u001b[0;32m      1\u001b[0m \u001b[1;32mimport\u001b[0m \u001b[0mpprintpp\u001b[0m\u001b[1;33m\u001b[0m\u001b[0m\n\u001b[0;32m      2\u001b[0m \u001b[1;33m\u001b[0m\u001b[0m\n\u001b[1;32m----> 3\u001b[1;33m \u001b[0mtweet\u001b[0m \u001b[1;33m=\u001b[0m \u001b[0msearch_results\u001b[0m\u001b[1;33m[\u001b[0m\u001b[1;36m0\u001b[0m\u001b[1;33m]\u001b[0m\u001b[1;33m\u001b[0m\u001b[0m\n\u001b[0m\u001b[0;32m      4\u001b[0m \u001b[0mpprintpp\u001b[0m\u001b[1;33m.\u001b[0m\u001b[0mpprint\u001b[0m\u001b[1;33m(\u001b[0m\u001b[0mtweet\u001b[0m\u001b[1;33m.\u001b[0m\u001b[0m_json\u001b[0m\u001b[1;33m)\u001b[0m\u001b[1;33m\u001b[0m\u001b[0m\n",
      "\u001b[1;31mIndexError\u001b[0m: list index out of range"
     ]
    }
   ],
   "source": [
    "import pprintpp\n",
    "\n",
    "tweet = search_results[0]\n",
    "pprintpp.pprint(tweet._json)"
   ]
  },
  {
   "cell_type": "code",
   "execution_count": 7,
   "metadata": {
    "collapsed": true
   },
   "outputs": [],
   "source": [
    "def parse_user(usr):\n",
    "    user = {}  \n",
    "    user[\"created_at\"] = usr['created_at']\n",
    "    user[\"description\"] = usr['description']\n",
    "    user[\"favourites_count\"] = usr['favourites_count']\n",
    "    user[\"followers_count\"] = usr['followers_count']\n",
    "    user[\"friends_count\"] = usr['friends_count']\n",
    "    user[\"geo_enabled\"] = usr['geo_enabled']\n",
    "    user[\"_id\"] = usr['id']\n",
    "    user[\"id_str\"] =usr['id_str']\n",
    "    user[\"name\"] = usr['name']\n",
    "    user[\"screen_name\"] = usr['screen_name']\n",
    "    user[\"statuses_count\"] = usr['statuses_count']\n",
    "    user[\"time_zone\"] = usr['time_zone']\n",
    "    return user\n",
    "    \n",
    "def parse_tweet(t):\n",
    "    tweet = {}\n",
    "    tweet['created_at'] = t['created_at']\n",
    "    #for ht in tweet.entities.hashtags:\n",
    "    #    print ht.text\n",
    "\n",
    "    tweet['entities'] = []\n",
    "    for k in t['entities']['hashtags']:\n",
    "        tweet['entities'].append(k['text'])\n",
    "\n",
    "    tweet['favorite_count'] =  t['favorite_count']\n",
    "\n",
    "    if t['geo'] <> None:\n",
    "        tweet['geo'] = t['geo']\n",
    "\n",
    "    tweet['_id'] = t['id']\n",
    "    tweet['id_str'] = t['id_str']  \n",
    "\n",
    "    tweet['lang'] = t['lang']\n",
    "    tweet['retweet_count'] = t['retweet_count']\n",
    "    tweet['source'] = t['source']\n",
    "    tweet['text'] = t['text']\n",
    "    tweet['user'] = parse_user(t['user'])\n",
    "\n",
    "    if 'retweeted_status' in t.keys():\n",
    "        rs = t['retweeted_status']\n",
    "\n",
    "        retweeted_status = {}\n",
    "        retweeted_status['created_at'] = rs['created_at']\n",
    "\n",
    "        if rs['geo'] <> None:\n",
    "            retweeted_status['geo'] = rs['geo']\n",
    "\n",
    "        retweeted_status['id'] = rs['id']\n",
    "        retweeted_status['id_str'] = rs['id_str']  \n",
    "\n",
    "        retweeted_status['user'] = parse_user(rs['user'])\n",
    "        tweet['retweeted_status'] = retweeted_status\n",
    "        \n",
    "    return tweet"
   ]
  },
  {
   "cell_type": "code",
   "execution_count": 8,
   "metadata": {
    "collapsed": false
   },
   "outputs": [
    {
     "name": "stdout",
     "output_type": "stream",
     "text": [
      "{\n",
      "    '_id': 656178456212975616,\n",
      "    'created_at': u'Mon Oct 19 18:41:49 +0000 2015',\n",
      "    'entities': [u'BigData', u'Cloud', u'Mobility'],\n",
      "    'favorite_count': 0,\n",
      "    'id_str': u'656178456212975616',\n",
      "    'lang': u'en',\n",
      "    'retweet_count': 4,\n",
      "    'retweeted_status': {\n",
      "        'created_at': u'Mon Oct 19 12:45:11 +0000 2015',\n",
      "        'id': 656088703899684865,\n",
      "        'id_str': u'656088703899684865',\n",
      "        'user': {\n",
      "            '_id': 124577257,\n",
      "            'created_at': u'Fri Mar 19 21:39:30 +0000 2010',\n",
      "            'description': u'Curieux & #Web addict, passionné par le #digitalmarketing. Etudiant #MBAMCI 2016. #Socialmedia #Marketing #Startup #Ecommerce #GrowthHacking #BigData #Mobile',\n",
      "            'favourites_count': 772,\n",
      "            'followers_count': 302,\n",
      "            'friends_count': 319,\n",
      "            'geo_enabled': False,\n",
      "            'id_str': u'124577257',\n",
      "            'name': u'Quentin Lallemand',\n",
      "            'screen_name': u'Q_Lallemand',\n",
      "            'statuses_count': 572,\n",
      "            'time_zone': u'Amsterdam',\n",
      "        },\n",
      "    },\n",
      "    'source': u'<a href=\"http://twitter.com\" rel=\"nofollow\">Twitter Web Client</a>',\n",
      "    'text': u'RT @Q_Lallemand: Businesses adopting #BigData, #Cloud &amp; #Mobility Grow 53% Faster Than Peers @forbes http://t.co/9CxuODcPWX http://t.co/K4Y…',\n",
      "    'user': {\n",
      "        '_id': 2327198580,\n",
      "        'created_at': u'Tue Feb 04 14:23:34 +0000 2014',\n",
      "        'description': u'Etudiant #EDCofficiel - Master Management Entrepreneurial Etudiant #MBAMCI - MBA spécialisé Marketing & Commerce sur internet\\n#Running',\n",
      "        'favourites_count': 1276,\n",
      "        'followers_count': 154,\n",
      "        'friends_count': 191,\n",
      "        'geo_enabled': False,\n",
      "        'id_str': u'2327198580',\n",
      "        'name': u'Pierre Feret',\n",
      "        'screen_name': u'Piferet',\n",
      "        'statuses_count': 97,\n",
      "        'time_zone': None,\n",
      "    },\n",
      "}\n"
     ]
    }
   ],
   "source": [
    "tweets = []\n",
    "\n",
    "for tweet in search_results:\n",
    "    tweets.append(parse_tweet(tweet._json))\n",
    "\n",
    "pprintpp.pprint(tweets[0])"
   ]
  },
  {
   "cell_type": "code",
   "execution_count": 9,
   "metadata": {
    "collapsed": true
   },
   "outputs": [],
   "source": [
    "import json\n",
    "    \n",
    "with open('./data/tweets.json',\"w\") as file:\n",
    "    for t in tweets:\n",
    "        r = json.dumps(t)\n",
    "        file.write(r)\n",
    "        file.write(\"\\n\")\n"
   ]
  },
  {
   "cell_type": "code",
   "execution_count": 10,
   "metadata": {
    "collapsed": false
   },
   "outputs": [
    {
     "name": "stdout",
     "output_type": "stream",
     "text": [
      "100\n"
     ]
    }
   ],
   "source": [
    "print len(tweets)"
   ]
  },
  {
   "cell_type": "code",
   "execution_count": null,
   "metadata": {
    "collapsed": true
   },
   "outputs": [],
   "source": []
  }
 ],
 "metadata": {
  "kernelspec": {
   "display_name": "Python 2",
   "language": "python",
   "name": "python2"
  },
  "language_info": {
   "codemirror_mode": {
    "name": "ipython",
    "version": 2
   },
   "file_extension": ".py",
   "mimetype": "text/x-python",
   "name": "python",
   "nbconvert_exporter": "python",
   "pygments_lexer": "ipython2",
   "version": "2.7.6"
  }
 },
 "nbformat": 4,
 "nbformat_minor": 0
}
