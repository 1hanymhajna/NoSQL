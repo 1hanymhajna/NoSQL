{
 "cells": [
  {
   "cell_type": "code",
   "execution_count": 6,
   "metadata": {
    "collapsed": true
   },
   "outputs": [],
   "source": [
    "consumer_key = 'hRNtRgjzGq3wq3mt3fbuUkQ2c'\n",
    "consumer_secret = 'yBbXnvNRpm92wvblpG9xhUMFF7w9sgxLfQT8k15Fs3k1RN4pnQ'\n",
    "access_token_key = '12391902-qHO3gUBIvKuv7DjajXBmdm2SyZH8vgmR3jcpLVnnM'\n",
    "access_token_secret = '9ViwfNW5FhOLhahaf4qimDLXfYuqDtGzJ1MmAQM0gN3LK'"
   ]
  },
  {
   "cell_type": "code",
   "execution_count": 7,
   "metadata": {
    "collapsed": false
   },
   "outputs": [],
   "source": [
    "import tweepy\n",
    "\n",
    "auth = tweepy.OAuthHandler(consumer_key, consumer_secret)\n",
    "auth.set_access_token(access_token_key, access_token_secret)\n",
    "\n",
    "api = tweepy.API(auth)"
   ]
  },
  {
   "cell_type": "code",
   "execution_count": 8,
   "metadata": {
    "collapsed": false
   },
   "outputs": [
    {
     "name": "stderr",
     "output_type": "stream",
     "text": [
      "/usr/local/lib/python2.7/dist-packages/requests/packages/urllib3/util/ssl_.py:100: InsecurePlatformWarning: A true SSLContext object is not available. This prevents urllib3 from configuring SSL appropriately and may cause certain SSL connections to fail. For more information, see https://urllib3.readthedocs.org/en/latest/security.html#insecureplatformwarning.\n",
      "  InsecurePlatformWarning\n"
     ]
    }
   ],
   "source": [
    "# Get the User object for twitter...\n",
    "user = api.get_user('twitter')"
   ]
  },
  {
   "cell_type": "code",
   "execution_count": 9,
   "metadata": {
    "collapsed": false
   },
   "outputs": [
    {
     "name": "stdout",
     "output_type": "stream",
     "text": [
      "twitter\n",
      "47626288\n",
      "libby\n",
      "omidkordestani\n",
      "TwitterMoments\n",
      "IStandWithAhmed\n",
      "TwitterATL\n",
      "TwitterStage\n",
      "womenux\n",
      "university\n",
      "TwitterWomen\n",
      "TwitterUK\n",
      "TwitterTurkey\n",
      "TwitterSpain\n",
      "TwitterShopping\n",
      "TwitterSG\n",
      "TwitterSeattle\n",
      "TwitterSA\n",
      "TwitterRussia\n",
      "TwitterOpen\n",
      "TwitterNL\n",
      "TwitterNigeria\n"
     ]
    },
    {
     "name": "stderr",
     "output_type": "stream",
     "text": [
      "/usr/local/lib/python2.7/dist-packages/requests/packages/urllib3/util/ssl_.py:100: InsecurePlatformWarning: A true SSLContext object is not available. This prevents urllib3 from configuring SSL appropriately and may cause certain SSL connections to fail. For more information, see https://urllib3.readthedocs.org/en/latest/security.html#insecureplatformwarning.\n",
      "  InsecurePlatformWarning\n"
     ]
    }
   ],
   "source": [
    "print user.screen_name\n",
    "print user.followers_count\n",
    "for friend in user.friends():\n",
    "   print friend.screen_name"
   ]
  },
  {
   "cell_type": "code",
   "execution_count": 10,
   "metadata": {
    "collapsed": true
   },
   "outputs": [],
   "source": [
    "lookup ='NoSQL'"
   ]
  },
  {
   "cell_type": "code",
   "execution_count": 11,
   "metadata": {
    "collapsed": false
   },
   "outputs": [
    {
     "name": "stdout",
     "output_type": "stream",
     "text": [
      "100\n"
     ]
    },
    {
     "name": "stderr",
     "output_type": "stream",
     "text": [
      "/usr/local/lib/python2.7/dist-packages/requests/packages/urllib3/util/ssl_.py:100: InsecurePlatformWarning: A true SSLContext object is not available. This prevents urllib3 from configuring SSL appropriately and may cause certain SSL connections to fail. For more information, see https://urllib3.readthedocs.org/en/latest/security.html#insecureplatformwarning.\n",
      "  InsecurePlatformWarning\n"
     ]
    }
   ],
   "source": [
    "max_tweets = 100\n",
    "search_results = api.search(q=\"lookup\", count=max_tweets)\n",
    "\n",
    "print len(search_results)\n"
   ]
  },
  {
   "cell_type": "code",
   "execution_count": 12,
   "metadata": {
    "collapsed": false
   },
   "outputs": [
    {
     "name": "stderr",
     "output_type": "stream",
     "text": [
      "/usr/local/lib/python2.7/dist-packages/requests/packages/urllib3/util/ssl_.py:100: InsecurePlatformWarning: A true SSLContext object is not available. This prevents urllib3 from configuring SSL appropriately and may cause certain SSL connections to fail. For more information, see https://urllib3.readthedocs.org/en/latest/security.html#insecureplatformwarning.\n",
      "  InsecurePlatformWarning\n",
      "/usr/local/lib/python2.7/dist-packages/requests/packages/urllib3/util/ssl_.py:100: InsecurePlatformWarning: A true SSLContext object is not available. This prevents urllib3 from configuring SSL appropriately and may cause certain SSL connections to fail. For more information, see https://urllib3.readthedocs.org/en/latest/security.html#insecureplatformwarning.\n",
      "  InsecurePlatformWarning\n",
      "/usr/local/lib/python2.7/dist-packages/requests/packages/urllib3/util/ssl_.py:100: InsecurePlatformWarning: A true SSLContext object is not available. This prevents urllib3 from configuring SSL appropriately and may cause certain SSL connections to fail. For more information, see https://urllib3.readthedocs.org/en/latest/security.html#insecureplatformwarning.\n",
      "  InsecurePlatformWarning\n",
      "/usr/local/lib/python2.7/dist-packages/requests/packages/urllib3/util/ssl_.py:100: InsecurePlatformWarning: A true SSLContext object is not available. This prevents urllib3 from configuring SSL appropriately and may cause certain SSL connections to fail. For more information, see https://urllib3.readthedocs.org/en/latest/security.html#insecureplatformwarning.\n",
      "  InsecurePlatformWarning\n"
     ]
    },
    {
     "name": "stdout",
     "output_type": "stream",
     "text": [
      "{\"errors\":[{\"message\":\"Rate limit exceeded\",\"code\":88}]}\n",
      "2648\n"
     ]
    }
   ],
   "source": [
    "c = tweepy.Cursor(api.search, q= lookup).items()\n",
    "    \n",
    "search_results = []\n",
    "while True:\n",
    "    try:\n",
    "        tweet = c.next()\n",
    "        # Insert into db\n",
    "        search_results.append(tweet)\n",
    "    except tweepy.TweepError as e:\n",
    "        print e\n",
    "        break\n",
    "\n",
    "print len(search_results)"
   ]
  },
  {
   "cell_type": "code",
   "execution_count": 13,
   "metadata": {
    "collapsed": false
   },
   "outputs": [
    {
     "name": "stdout",
     "output_type": "stream",
     "text": [
      "{\n",
      "    u'contributors': None,\n",
      "    u'coordinates': None,\n",
      "    u'created_at': u'Mon Oct 19 19:22:52 +0000 2015',\n",
      "    u'entities': {\n",
      "        u'hashtags': [\n",
      "            {u'indices': [56, 73], u'text': u'InternetOfThings'},\n",
      "            {u'indices': [110, 116], u'text': u'nosql'},\n",
      "            {u'indices': [117, 121], u'text': u'IoT'},\n",
      "            {u'indices': [122, 130], u'text': u'BigData'},\n",
      "        ],\n",
      "        u'symbols': [],\n",
      "        u'urls': [\n",
      "            {\n",
      "                u'display_url': u'zest.sedona.fr/4/',\n",
      "                u'expanded_url': u'http://zest.sedona.fr/4/',\n",
      "                u'indices': [131, 144],\n",
      "                u'url': u'http://t.co/ImSJUbj1mr',\n",
      "            },\n",
      "        ],\n",
      "        u'user_mentions': [\n",
      "            {\n",
      "                u'id': 2295150541,\n",
      "                u'id_str': u'2295150541',\n",
      "                u'indices': [3, 11],\n",
      "                u'name': u'Vincent Gonnot',\n",
      "                u'screen_name': u'vgonnot',\n",
      "            },\n",
      "            {\n",
      "                u'id': 237401623,\n",
      "                u'id_str': u'237401623',\n",
      "                u'indices': [27, 37],\n",
      "                u'name': u'Couchbase',\n",
      "                u'screen_name': u'couchbase',\n",
      "            },\n",
      "            {\n",
      "                u'id': 602643038,\n",
      "                u'id_str': u'602643038',\n",
      "                u'indices': [44, 51],\n",
      "                u'name': u'SIGFOX',\n",
      "                u'screen_name': u'sigfox',\n",
      "            },\n",
      "        ],\n",
      "    },\n",
      "    u'favorite_count': 0,\n",
      "    u'favorited': False,\n",
      "    u'geo': None,\n",
      "    u'id': 656188786792124416,\n",
      "    u'id_str': u'656188786792124416',\n",
      "    u'in_reply_to_screen_name': None,\n",
      "    u'in_reply_to_status_id': None,\n",
      "    u'in_reply_to_status_id_str': None,\n",
      "    u'in_reply_to_user_id': None,\n",
      "    u'in_reply_to_user_id_str': None,\n",
      "    u'is_quote_status': False,\n",
      "    u'lang': u'fr',\n",
      "    u'metadata': {u'iso_language_code': u'fr', u'result_type': u'recent'},\n",
      "    u'place': None,\n",
      "    u'possibly_sensitive': False,\n",
      "    u'retweet_count': 2,\n",
      "    u'retweeted': False,\n",
      "    u'retweeted_status': {\n",
      "        u'contributors': None,\n",
      "        u'coordinates': None,\n",
      "        u'created_at': u'Mon Oct 19 16:52:57 +0000 2015',\n",
      "        u'entities': {\n",
      "            u'hashtags': [\n",
      "                {u'indices': [43, 60], u'text': u'InternetOfThings'},\n",
      "                {u'indices': [97, 103], u'text': u'nosql'},\n",
      "                {u'indices': [104, 108], u'text': u'IoT'},\n",
      "                {u'indices': [109, 117], u'text': u'BigData'},\n",
      "            ],\n",
      "            u'symbols': [],\n",
      "            u'urls': [\n",
      "                {\n",
      "                    u'display_url': u'zest.sedona.fr/4/',\n",
      "                    u'expanded_url': u'http://zest.sedona.fr/4/',\n",
      "                    u'indices': [118, 140],\n",
      "                    u'url': u'http://t.co/ImSJUbj1mr',\n",
      "                },\n",
      "            ],\n",
      "            u'user_mentions': [\n",
      "                {\n",
      "                    u'id': 237401623,\n",
      "                    u'id_str': u'237401623',\n",
      "                    u'indices': [14, 24],\n",
      "                    u'name': u'Couchbase',\n",
      "                    u'screen_name': u'couchbase',\n",
      "                },\n",
      "                {\n",
      "                    u'id': 602643038,\n",
      "                    u'id_str': u'602643038',\n",
      "                    u'indices': [31, 38],\n",
      "                    u'name': u'SIGFOX',\n",
      "                    u'screen_name': u'sigfox',\n",
      "                },\n",
      "            ],\n",
      "        },\n",
      "        u'favorite_count': 1,\n",
      "        u'favorited': False,\n",
      "        u'geo': None,\n",
      "        u'id': 656151058536878080,\n",
      "        u'id_str': u'656151058536878080',\n",
      "        u'in_reply_to_screen_name': None,\n",
      "        u'in_reply_to_status_id': None,\n",
      "        u'in_reply_to_status_id_str': None,\n",
      "        u'in_reply_to_user_id': None,\n",
      "        u'in_reply_to_user_id_str': None,\n",
      "        u'is_quote_status': False,\n",
      "        u'lang': u'fr',\n",
      "        u'metadata': {u'iso_language_code': u'fr', u'result_type': u'recent'},\n",
      "        u'place': None,\n",
      "        u'possibly_sensitive': False,\n",
      "        u'retweet_count': 2,\n",
      "        u'retweeted': False,\n",
      "        u'source': u'<a href=\"http://twitter.com\" rel=\"nofollow\">Twitter Web Client</a>',\n",
      "        u'text': u'Venez écouter @couchbase &amp; @SIGFOX sur #InternetOfThings avec Sedona à Paris le 05 Novembre! #nosql #IoT #BigData http://t.co/ImSJUbj1mr',\n",
      "        u'truncated': False,\n",
      "        u'user': {\n",
      "            u'contributors_enabled': False,\n",
      "            u'created_at': u'Thu Jan 16 23:12:26 +0000 2014',\n",
      "            u'default_profile': False,\n",
      "            u'default_profile_image': False,\n",
      "            u'description': u'South Europe Director @Couchbase #Digital #UX #Digitalmarketing #Mobile #IoT #web #opensource #offline #online #Nosql #Bigdata #Database',\n",
      "            u'entities': {u'description': {u'urls': []}},\n",
      "            u'favourites_count': 505,\n",
      "            u'follow_request_sent': False,\n",
      "            u'followers_count': 177,\n",
      "            u'following': False,\n",
      "            u'friends_count': 95,\n",
      "            u'geo_enabled': False,\n",
      "            u'has_extended_profile': False,\n",
      "            u'id': 2295150541,\n",
      "            u'id_str': u'2295150541',\n",
      "            u'is_translation_enabled': False,\n",
      "            u'is_translator': False,\n",
      "            u'lang': u'fr',\n",
      "            u'listed_count': 141,\n",
      "            u'location': u'Paris, France',\n",
      "            u'name': u'Vincent Gonnot',\n",
      "            u'notifications': False,\n",
      "            u'profile_background_color': u'000000',\n",
      "            u'profile_background_image_url': u'http://abs.twimg.com/images/themes/theme1/bg.png',\n",
      "            u'profile_background_image_url_https': u'https://abs.twimg.com/images/themes/theme1/bg.png',\n",
      "            u'profile_background_tile': False,\n",
      "            u'profile_banner_url': u'https://pbs.twimg.com/profile_banners/2295150541/1445091432',\n",
      "            u'profile_image_url': u'http://pbs.twimg.com/profile_images/568094421661388800/-4JM0ZSD_normal.jpeg',\n",
      "            u'profile_image_url_https': u'https://pbs.twimg.com/profile_images/568094421661388800/-4JM0ZSD_normal.jpeg',\n",
      "            u'profile_link_color': u'3B94D9',\n",
      "            u'profile_sidebar_border_color': u'000000',\n",
      "            u'profile_sidebar_fill_color': u'000000',\n",
      "            u'profile_text_color': u'000000',\n",
      "            u'profile_use_background_image': False,\n",
      "            u'protected': False,\n",
      "            u'screen_name': u'vgonnot',\n",
      "            u'statuses_count': 2087,\n",
      "            u'time_zone': None,\n",
      "            u'url': None,\n",
      "            u'utc_offset': None,\n",
      "            u'verified': False,\n",
      "        },\n",
      "    },\n",
      "    u'source': u'<a href=\"https://mobile.twitter.com\" rel=\"nofollow\">Mobile Web (M5)</a>',\n",
      "    u'text': u'RT @vgonnot: Venez écouter @couchbase &amp; @SIGFOX sur #InternetOfThings avec Sedona à Paris le 05 Novembre! #nosql #IoT #BigData http://t.co/…',\n",
      "    u'truncated': False,\n",
      "    u'user': {\n",
      "        u'contributors_enabled': False,\n",
      "        u'created_at': u'Wed Jan 14 07:09:13 +0000 2009',\n",
      "        u'default_profile': False,\n",
      "        u'default_profile_image': False,\n",
      "        u'description': u'',\n",
      "        u'entities': {\n",
      "            u'description': {u'urls': []},\n",
      "            u'url': {\n",
      "                u'urls': [\n",
      "                    {\n",
      "                        u'display_url': u'reactionsmobilite.blogspot.com',\n",
      "                        u'expanded_url': u'http://reactionsmobilite.blogspot.com',\n",
      "                        u'indices': [0, 22],\n",
      "                        u'url': u'http://t.co/LEPVYKEfEH',\n",
      "                    },\n",
      "                ],\n",
      "            },\n",
      "        },\n",
      "        u'favourites_count': 12,\n",
      "        u'follow_request_sent': False,\n",
      "        u'followers_count': 163,\n",
      "        u'following': False,\n",
      "        u'friends_count': 284,\n",
      "        u'geo_enabled': False,\n",
      "        u'has_extended_profile': False,\n",
      "        u'id': 18969734,\n",
      "        u'id_str': u'18969734',\n",
      "        u'is_translation_enabled': False,\n",
      "        u'is_translator': False,\n",
      "        u'lang': u'en',\n",
      "        u'listed_count': 21,\n",
      "        u'location': u'',\n",
      "        u'name': u'Poulachon Rémy',\n",
      "        u'notifications': False,\n",
      "        u'profile_background_color': u'C6E2EE',\n",
      "        u'profile_background_image_url': u'http://pbs.twimg.com/profile_background_images/204960358/MobilePhones.jpg',\n",
      "        u'profile_background_image_url_https': u'https://pbs.twimg.com/profile_background_images/204960358/MobilePhones.jpg',\n",
      "        u'profile_background_tile': True,\n",
      "        u'profile_image_url': u'http://pbs.twimg.com/profile_images/142618010/portraitREP4_normal.jpg',\n",
      "        u'profile_image_url_https': u'https://pbs.twimg.com/profile_images/142618010/portraitREP4_normal.jpg',\n",
      "        u'profile_link_color': u'1F98C7',\n",
      "        u'profile_sidebar_border_color': u'C6E2EE',\n",
      "        u'profile_sidebar_fill_color': u'DAECF4',\n",
      "        u'profile_text_color': u'663B12',\n",
      "        u'profile_use_background_image': False,\n",
      "        u'protected': False,\n",
      "        u'screen_name': u'Poulachon',\n",
      "        u'statuses_count': 1938,\n",
      "        u'time_zone': u'Paris',\n",
      "        u'url': u'http://t.co/LEPVYKEfEH',\n",
      "        u'utc_offset': 7200,\n",
      "        u'verified': False,\n",
      "    },\n",
      "}\n"
     ]
    }
   ],
   "source": [
    "import pprintpp\n",
    "\n",
    "tweet = search_results[0]\n",
    "pprintpp.pprint(tweet._json)"
   ]
  },
  {
   "cell_type": "code",
   "execution_count": 16,
   "metadata": {
    "collapsed": true
   },
   "outputs": [],
   "source": [
    "def parse_user(usr):\n",
    "    user = {}  \n",
    "    user[\"created_at\"] = usr['created_at']\n",
    "    user[\"description\"] = usr['description']\n",
    "    user[\"favourites_count\"] = usr['favourites_count']\n",
    "    user[\"followers_count\"] = usr['followers_count']\n",
    "    user[\"friends_count\"] = usr['friends_count']\n",
    "    user[\"geo_enabled\"] = usr['geo_enabled']\n",
    "    user[\"_id\"] = usr['id']\n",
    "    user[\"id_str\"] =usr['id_str']\n",
    "    user[\"name\"] = usr['name']\n",
    "    user[\"screen_name\"] = usr['screen_name']\n",
    "    user[\"statuses_count\"] = usr['statuses_count']\n",
    "    user[\"time_zone\"] = usr['time_zone']\n",
    "    return user\n",
    "    \n",
    "def parse_tweet(t):\n",
    "    tweet = {}\n",
    "    tweet['created_at'] = t['created_at']\n",
    "    #for ht in tweet.entities.hashtags:\n",
    "    #    print ht.text\n",
    "\n",
    "    tweet['entities'] = []\n",
    "    for k in t['entities']['hashtags']:\n",
    "        tweet['entities'].append(k['text'])\n",
    "\n",
    "    tweet['favorite_count'] =  t['favorite_count']\n",
    "\n",
    "    if t['geo'] <> None:\n",
    "        tweet['geo'] = t['geo']\n",
    "\n",
    "    tweet['_id'] = t['id']\n",
    "    tweet['id_str'] = t['id_str']  \n",
    "\n",
    "    tweet['lang'] = t['lang']\n",
    "    tweet['retweet_count'] = t['retweet_count']\n",
    "    tweet['source'] = t['source']\n",
    "    tweet['text'] = t['text']\n",
    "    tweet['user'] = parse_user(t['user'])\n",
    "\n",
    "    if 'retweeted_status' in t.keys():\n",
    "        rs = t['retweeted_status']\n",
    "\n",
    "        retweeted_status = {}\n",
    "        retweeted_status['created_at'] = rs['created_at']\n",
    "\n",
    "        if rs['geo'] <> None:\n",
    "            retweeted_status['geo'] = rs['geo']\n",
    "\n",
    "        retweeted_status['id'] = rs['id']\n",
    "        retweeted_status['id_str'] = rs['id_str']  \n",
    "\n",
    "        retweeted_status['user'] = parse_user(rs['user'])\n",
    "        tweet['retweeted_status'] = retweeted_status\n",
    "        \n",
    "    return tweet"
   ]
  },
  {
   "cell_type": "code",
   "execution_count": 17,
   "metadata": {
    "collapsed": false
   },
   "outputs": [
    {
     "name": "stdout",
     "output_type": "stream",
     "text": [
      "{\n",
      "    '_id': 656188786792124416,\n",
      "    'created_at': u'Mon Oct 19 19:22:52 +0000 2015',\n",
      "    'entities': [u'InternetOfThings', u'nosql', u'IoT', u'BigData'],\n",
      "    'favorite_count': 0,\n",
      "    'id_str': u'656188786792124416',\n",
      "    'lang': u'fr',\n",
      "    'retweet_count': 2,\n",
      "    'retweeted_status': {\n",
      "        'created_at': u'Mon Oct 19 16:52:57 +0000 2015',\n",
      "        'id': 656151058536878080,\n",
      "        'id_str': u'656151058536878080',\n",
      "        'user': {\n",
      "            '_id': 2295150541,\n",
      "            'created_at': u'Thu Jan 16 23:12:26 +0000 2014',\n",
      "            'description': u'South Europe Director @Couchbase #Digital #UX #Digitalmarketing #Mobile #IoT #web #opensource #offline #online #Nosql #Bigdata #Database',\n",
      "            'favourites_count': 505,\n",
      "            'followers_count': 177,\n",
      "            'friends_count': 95,\n",
      "            'geo_enabled': False,\n",
      "            'id_str': u'2295150541',\n",
      "            'name': u'Vincent Gonnot',\n",
      "            'screen_name': u'vgonnot',\n",
      "            'statuses_count': 2087,\n",
      "            'time_zone': None,\n",
      "        },\n",
      "    },\n",
      "    'source': u'<a href=\"https://mobile.twitter.com\" rel=\"nofollow\">Mobile Web (M5)</a>',\n",
      "    'text': u'RT @vgonnot: Venez écouter @couchbase &amp; @SIGFOX sur #InternetOfThings avec Sedona à Paris le 05 Novembre! #nosql #IoT #BigData http://t.co/…',\n",
      "    'user': {\n",
      "        '_id': 18969734,\n",
      "        'created_at': u'Wed Jan 14 07:09:13 +0000 2009',\n",
      "        'description': u'',\n",
      "        'favourites_count': 12,\n",
      "        'followers_count': 163,\n",
      "        'friends_count': 284,\n",
      "        'geo_enabled': False,\n",
      "        'id_str': u'18969734',\n",
      "        'name': u'Poulachon Rémy',\n",
      "        'screen_name': u'Poulachon',\n",
      "        'statuses_count': 1938,\n",
      "        'time_zone': u'Paris',\n",
      "    },\n",
      "}\n"
     ]
    }
   ],
   "source": [
    "tweets = []\n",
    "\n",
    "for tweet in search_results:\n",
    "    tweets.append(parse_tweet(tweet._json))\n",
    "\n",
    "pprintpp.pprint(tweets[0])"
   ]
  },
  {
   "cell_type": "code",
   "execution_count": 18,
   "metadata": {
    "collapsed": false
   },
   "outputs": [],
   "source": [
    "import json\n",
    "    \n",
    "with open('./data/tweets.json',\"w\") as file:\n",
    "    for t in tweets:\n",
    "        r = json.dumps(t)\n",
    "        file.write(r)\n",
    "        file.write(\"\\n\")\n"
   ]
  },
  {
   "cell_type": "code",
   "execution_count": 19,
   "metadata": {
    "collapsed": false
   },
   "outputs": [
    {
     "name": "stdout",
     "output_type": "stream",
     "text": [
      "2648\n"
     ]
    }
   ],
   "source": [
    "print len(tweets)"
   ]
  },
  {
   "cell_type": "code",
   "execution_count": null,
   "metadata": {
    "collapsed": true
   },
   "outputs": [],
   "source": []
  }
 ],
 "metadata": {
  "kernelspec": {
   "display_name": "Python 2",
   "language": "python",
   "name": "python2"
  },
  "language_info": {
   "codemirror_mode": {
    "name": "ipython",
    "version": 2
   },
   "file_extension": ".py",
   "mimetype": "text/x-python",
   "name": "python",
   "nbconvert_exporter": "python",
   "pygments_lexer": "ipython2",
   "version": "2.7.6"
  }
 },
 "nbformat": 4,
 "nbformat_minor": 0
}
