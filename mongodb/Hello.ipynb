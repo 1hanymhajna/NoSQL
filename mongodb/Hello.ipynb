{
 "cells": [
  {
   "cell_type": "code",
   "execution_count": 226,
   "metadata": {
    "collapsed": false
   },
   "outputs": [],
   "source": [
    "import pymongo \n",
    "from datetime import datetime\n",
    "from pymongo import MongoClient\n",
    "from bson.objectid import ObjectId\n",
    "from pprint import pprint as pp"
   ]
  },
  {
   "cell_type": "code",
   "execution_count": 227,
   "metadata": {
    "collapsed": true
   },
   "outputs": [],
   "source": [
    "# connect to database\n",
    "connection = MongoClient('localhost', 27017)\n",
    "\n",
    "db = connection.sample\n"
   ]
  },
  {
   "cell_type": "code",
   "execution_count": 228,
   "metadata": {
    "collapsed": false
   },
   "outputs": [],
   "source": [
    "# handle to names collection\n",
    "towns = db.towns\n",
    "towns.drop()"
   ]
  },
  {
   "cell_type": "code",
   "execution_count": 229,
   "metadata": {
    "collapsed": false
   },
   "outputs": [],
   "source": [
    "town = {\n",
    "\"name\": \"New York\",\n",
    "\"population\": 22200000,\n",
    "\"last_census\": datetime(2007, 7, 31),\n",
    "\"famous_for\": [ \"statue of liberty\", \"food\" ],\n",
    "\"mayor\" : {\n",
    "    \"name\" : \"Michael Bloomberg\",\n",
    "    \"party\" : \"I\"\n",
    "    }\n",
    "}"
   ]
  },
  {
   "cell_type": "code",
   "execution_count": 230,
   "metadata": {
    "collapsed": false
   },
   "outputs": [
    {
     "data": {
      "text/plain": [
       "<pymongo.results.InsertOneResult at 0x7f57576e82d0>"
      ]
     },
     "execution_count": 230,
     "metadata": {},
     "output_type": "execute_result"
    }
   ],
   "source": [
    "towns.insert_one(town)"
   ]
  },
  {
   "cell_type": "code",
   "execution_count": 231,
   "metadata": {
    "collapsed": false
   },
   "outputs": [
    {
     "name": "stdout",
     "output_type": "stream",
     "text": [
      "{u'name': u'New York', u'mayor': {u'party': u'I', u'name': u'Michael Bloomberg'}, u'last_census': datetime.datetime(2007, 7, 31, 0, 0), u'_id': ObjectId('5620b0c9801d3209ce58f022'), u'famous_for': [u'statue of liberty', u'food'], u'population': 22200000}\n"
     ]
    }
   ],
   "source": [
    "for town in towns.find():\n",
    "    print town"
   ]
  },
  {
   "cell_type": "code",
   "execution_count": 232,
   "metadata": {
    "collapsed": false
   },
   "outputs": [],
   "source": [
    "def insertCity(name, population, last_census, famous_for, mayor_info):\n",
    "    town = {\n",
    "        \"name\": name,\n",
    "        \"population\": population,\n",
    "        \"last_census\": datetime.strptime(last_census, '%Y-%d-%m'),\n",
    "        \"famous_for\": famous_for,\n",
    "        \"mayor\" : mayor_info\n",
    "        }\n",
    "    return str(towns.insert_one(town).inserted_id)"
   ]
  },
  {
   "cell_type": "code",
   "execution_count": 233,
   "metadata": {
    "collapsed": false
   },
   "outputs": [
    {
     "data": {
      "text/plain": [
       "'5620b0cc801d3209ce58f023'"
      ]
     },
     "execution_count": 233,
     "metadata": {},
     "output_type": "execute_result"
    }
   ],
   "source": [
    "insertCity(\"Punxsutawney\", 6200, '2008-31-01',\n",
    "            [\"phil the groundhog\"], { \"name\" : \"Jim Wehrle\" }\n",
    ")"
   ]
  },
  {
   "cell_type": "code",
   "execution_count": 234,
   "metadata": {
    "collapsed": false
   },
   "outputs": [],
   "source": [
    "town_id = insertCity(\"Portland\", 582000, '2007-20-09',\n",
    "[\"beer\", \"food\"], { \"name\" : \"Sam Adams\", \"party\" : \"D\" }\n",
    ")"
   ]
  },
  {
   "cell_type": "code",
   "execution_count": 235,
   "metadata": {
    "collapsed": false
   },
   "outputs": [
    {
     "name": "stdout",
     "output_type": "stream",
     "text": [
      "{u'_id': ObjectId('5620b0cd801d3209ce58f024'),\n",
      " u'famous_for': [u'beer', u'food'],\n",
      " u'last_census': datetime.datetime(2007, 9, 20, 0, 0),\n",
      " u'mayor': {u'name': u'Sam Adams', u'party': u'D'},\n",
      " u'name': u'Portland',\n",
      " u'population': 582000}\n"
     ]
    }
   ],
   "source": [
    "for town in db.towns.find({ \"_id\" : ObjectId(town_id) }):\n",
    "    pp(town)"
   ]
  },
  {
   "cell_type": "code",
   "execution_count": 238,
   "metadata": {
    "collapsed": false
   },
   "outputs": [
    {
     "name": "stdout",
     "output_type": "stream",
     "text": [
      "{u'name': u'Portland'}\n"
     ]
    }
   ],
   "source": [
    "for town in db.towns.find( {\"_id\" : ObjectId(town_id) }, { \"name\" : 1, \"_id\" : 0 }):\n",
    "    pp(town)"
   ]
  },
  {
   "cell_type": "code",
   "execution_count": 239,
   "metadata": {
    "collapsed": false
   },
   "outputs": [
    {
     "name": "stdout",
     "output_type": "stream",
     "text": [
      "{u'_id': ObjectId('5620b0cd801d3209ce58f024'),\n",
      " u'famous_for': [u'beer', u'food'],\n",
      " u'last_census': datetime.datetime(2007, 9, 20, 0, 0),\n",
      " u'mayor': {u'name': u'Sam Adams', u'party': u'D'},\n",
      " u'population': 582000}\n"
     ]
    }
   ],
   "source": [
    "for town in db.towns.find( {\"_id\" : ObjectId(town_id) }, { \"name\" : 0 }):\n",
    "    pp(town)"
   ]
  },
  {
   "cell_type": "code",
   "execution_count": null,
   "metadata": {
    "collapsed": true
   },
   "outputs": [],
   "source": []
  }
 ],
 "metadata": {
  "kernelspec": {
   "display_name": "Python 2",
   "language": "python",
   "name": "python2"
  },
  "language_info": {
   "codemirror_mode": {
    "name": "ipython",
    "version": 2
   },
   "file_extension": ".py",
   "mimetype": "text/x-python",
   "name": "python",
   "nbconvert_exporter": "python",
   "pygments_lexer": "ipython2",
   "version": "2.7.6"
  }
 },
 "nbformat": 4,
 "nbformat_minor": 0
}
