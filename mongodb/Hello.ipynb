{
 "cells": [
  {
   "cell_type": "code",
   "execution_count": 4,
   "metadata": {
    "collapsed": false
   },
   "outputs": [],
   "source": [
    "import pymongo \n",
    "from datetime import datetime\n",
    "from pymongo import MongoClient\n",
    "from bson.objectid import ObjectId\n",
    "from pprint import pprint as pp"
   ]
  },
  {
   "cell_type": "code",
   "execution_count": 5,
   "metadata": {
    "collapsed": true
   },
   "outputs": [],
   "source": [
    "# connect to database\n",
    "connection = MongoClient('localhost', 27017)\n",
    "\n",
    "db = connection.sample\n"
   ]
  },
  {
   "cell_type": "code",
   "execution_count": 6,
   "metadata": {
    "collapsed": false
   },
   "outputs": [],
   "source": [
    "# handle to names collection\n",
    "towns = db.towns\n",
    "towns.drop()"
   ]
  },
  {
   "cell_type": "code",
   "execution_count": 7,
   "metadata": {
    "collapsed": false
   },
   "outputs": [],
   "source": [
    "town = {\n",
    "\"name\": \"New York\",\n",
    "\"population\": 22200000,\n",
    "\"last_census\": datetime(2007, 7, 31),\n",
    "\"famous_for\": [ \"statue of liberty\", \"food\" ],\n",
    "\"mayor\" : {\n",
    "    \"name\" : \"Michael Bloomberg\",\n",
    "    \"party\" : \"I\"\n",
    "    }\n",
    "}"
   ]
  },
  {
   "cell_type": "code",
   "execution_count": 8,
   "metadata": {
    "collapsed": false
   },
   "outputs": [
    {
     "data": {
      "text/plain": [
       "<pymongo.results.InsertOneResult at 0x7fb6294b27d0>"
      ]
     },
     "execution_count": 8,
     "metadata": {},
     "output_type": "execute_result"
    }
   ],
   "source": [
    "towns.insert_one(town)"
   ]
  },
  {
   "cell_type": "code",
   "execution_count": 9,
   "metadata": {
    "collapsed": false
   },
   "outputs": [
    {
     "name": "stdout",
     "output_type": "stream",
     "text": [
      "{u'_id': ObjectId('5620fe10801d3208c0d3ce50'),\n",
      " u'famous_for': [u'statue of liberty', u'food'],\n",
      " u'last_census': datetime.datetime(2007, 7, 31, 0, 0),\n",
      " u'mayor': {u'name': u'Michael Bloomberg', u'party': u'I'},\n",
      " u'name': u'New York',\n",
      " u'population': 22200000}\n"
     ]
    }
   ],
   "source": [
    "for town in towns.find():\n",
    "    pp(town)"
   ]
  },
  {
   "cell_type": "code",
   "execution_count": 10,
   "metadata": {
    "collapsed": false
   },
   "outputs": [],
   "source": [
    "def insertCity(name, population, last_census, famous_for, mayor_info):\n",
    "    town = {\n",
    "        \"name\": name,\n",
    "        \"population\": population,\n",
    "        \"last_census\": datetime.strptime(last_census, '%Y-%d-%m'),\n",
    "        \"famous_for\": famous_for,\n",
    "        \"mayor\" : mayor_info\n",
    "        }\n",
    "    return str(towns.insert_one(town).inserted_id)"
   ]
  },
  {
   "cell_type": "code",
   "execution_count": 11,
   "metadata": {
    "collapsed": false
   },
   "outputs": [
    {
     "data": {
      "text/plain": [
       "'5620fe12801d3208c0d3ce51'"
      ]
     },
     "execution_count": 11,
     "metadata": {},
     "output_type": "execute_result"
    }
   ],
   "source": [
    "insertCity(\"Punxsutawney\", 6200, '2008-31-01',\n",
    "            [\"phil the groundhog\"], { \"name\" : \"Jim Wehrle\" }\n",
    ")"
   ]
  },
  {
   "cell_type": "code",
   "execution_count": 12,
   "metadata": {
    "collapsed": false
   },
   "outputs": [],
   "source": [
    "town_id = insertCity(\"Portland\", 582000, '2007-20-09',\n",
    "[\"beer\", \"food\"], { \"name\" : \"Sam Adams\", \"party\" : \"D\" }\n",
    ")"
   ]
  },
  {
   "cell_type": "code",
   "execution_count": 13,
   "metadata": {
    "collapsed": false
   },
   "outputs": [
    {
     "name": "stdout",
     "output_type": "stream",
     "text": [
      "{u'_id': ObjectId('5620fe12801d3208c0d3ce52'),\n",
      " u'famous_for': [u'beer', u'food'],\n",
      " u'last_census': datetime.datetime(2007, 9, 20, 0, 0),\n",
      " u'mayor': {u'name': u'Sam Adams', u'party': u'D'},\n",
      " u'name': u'Portland',\n",
      " u'population': 582000}\n"
     ]
    }
   ],
   "source": [
    "for town in db.towns.find({ \"_id\" : ObjectId(town_id) }):\n",
    "    pp(town)"
   ]
  },
  {
   "cell_type": "code",
   "execution_count": 14,
   "metadata": {
    "collapsed": false
   },
   "outputs": [
    {
     "name": "stdout",
     "output_type": "stream",
     "text": [
      "{u'name': u'Portland'}\n"
     ]
    }
   ],
   "source": [
    "for town in db.towns.find( {\"_id\" : ObjectId(town_id) }, { \"name\" : 1, \"_id\" : 0 }):\n",
    "    pp(town)"
   ]
  },
  {
   "cell_type": "code",
   "execution_count": 15,
   "metadata": {
    "collapsed": false
   },
   "outputs": [
    {
     "name": "stdout",
     "output_type": "stream",
     "text": [
      "{u'_id': ObjectId('5620fe12801d3208c0d3ce52'),\n",
      " u'famous_for': [u'beer', u'food'],\n",
      " u'last_census': datetime.datetime(2007, 9, 20, 0, 0),\n",
      " u'mayor': {u'name': u'Sam Adams', u'party': u'D'},\n",
      " u'population': 582000}\n"
     ]
    }
   ],
   "source": [
    "for town in db.towns.find( {\"_id\" : ObjectId(town_id) }, { \"name\" : 0 }):\n",
    "    pp(town)"
   ]
  },
  {
   "cell_type": "code",
   "execution_count": 40,
   "metadata": {
    "collapsed": false
   },
   "outputs": [
    {
     "name": "stdout",
     "output_type": "stream",
     "text": [
      "{u'last_census': datetime.datetime(2007, 7, 31, 0, 0),\n",
      " u'name': u'New York',\n",
      " u'population': 22200000}\n",
      "{u'last_census': datetime.datetime(2008, 1, 31, 0, 0),\n",
      " u'name': u'Punxsutawney',\n",
      " u'population': 6200}\n",
      "{u'last_census': datetime.datetime(2007, 9, 20, 0, 0),\n",
      " u'name': u'Portland',\n",
      " u'population': 582000}\n"
     ]
    }
   ],
   "source": [
    "for town in db.towns.find({},\n",
    "{ \"name\" : 1, \"population\" : 1, \"last_census\" : 1, \"_id\" : 0}):\n",
    "    pp(town)"
   ]
  },
  {
   "cell_type": "code",
   "execution_count": 32,
   "metadata": {
    "collapsed": false
   },
   "outputs": [
    {
     "data": {
      "text/plain": [
       "{u'name': u'Punxsutawney', u'population': 6200}"
      ]
     },
     "execution_count": 32,
     "metadata": {},
     "output_type": "execute_result"
    }
   ],
   "source": [
    "import re\n",
    "\n",
    "db.towns.find_one(\n",
    "{ \"name\" : re.compile(\"^P\") ,\"population\" : { \"$lt\" : 10000 }},\n",
    "{ \"name\" : 1, \"population\" : 1 , \"_id\" : 0}\n",
    ")"
   ]
  },
  {
   "cell_type": "code",
   "execution_count": 29,
   "metadata": {
    "collapsed": false
   },
   "outputs": [
    {
     "data": {
      "text/plain": [
       "{u'_id': ObjectId('5620fe12801d3208c0d3ce51'),\n",
       " u'famous_for': [u'phil the groundhog'],\n",
       " u'last_census': datetime.datetime(2008, 1, 31, 0, 0),\n",
       " u'mayor': {u'name': u'Jim Wehrle'},\n",
       " u'name': u'Punxsutawney',\n",
       " u'population': 6200}"
      ]
     },
     "execution_count": 29,
     "metadata": {},
     "output_type": "execute_result"
    }
   ],
   "source": [
    "regx = re.compile(\"^P\", re.IGNORECASE)\n",
    "db.towns.find_one({\"name\": regx})"
   ]
  },
  {
   "cell_type": "code",
   "execution_count": 38,
   "metadata": {
    "collapsed": false
   },
   "outputs": [
    {
     "name": "stdout",
     "output_type": "stream",
     "text": [
      "{u'_id': ObjectId('5620fe12801d3208c0d3ce52'), u'name': u'Portland'}\n"
     ]
    }
   ],
   "source": [
    "population_range = {}\n",
    "population_range['$lt'] = 1000000\n",
    "population_range['$gt'] = 10000\n",
    "\n",
    "for t in db.towns.find(\n",
    "{ \"name\" : re.compile(\"^P\"), \"population\" : population_range },\n",
    "{ \"name\": 1 }\n",
    "): pp(t)"
   ]
  },
  {
   "cell_type": "code",
   "execution_count": 45,
   "metadata": {
    "collapsed": false
   },
   "outputs": [
    {
     "name": "stdout",
     "output_type": "stream",
     "text": [
      "{u'last_census': datetime.datetime(2007, 7, 31, 0, 0), u'name': u'New York'}\n",
      "{u'last_census': datetime.datetime(2007, 9, 20, 0, 0), u'name': u'Portland'}\n"
     ]
    }
   ],
   "source": [
    "for t in db.towns.find(\n",
    "{ \"last_census\" : { \"$lte\" : datetime.strptime('2008-01-01', '%Y-%d-%m') } },\n",
    "{ \"_id\" : 0, \"name\": 1 , \"last_census\" : 1}\n",
    "): pp(t)"
   ]
  },
  {
   "cell_type": "code",
   "execution_count": null,
   "metadata": {
    "collapsed": true
   },
   "outputs": [],
   "source": []
  }
 ],
 "metadata": {
  "kernelspec": {
   "display_name": "Python 2",
   "language": "python",
   "name": "python2"
  },
  "language_info": {
   "codemirror_mode": {
    "name": "ipython",
    "version": 2
   },
   "file_extension": ".py",
   "mimetype": "text/x-python",
   "name": "python",
   "nbconvert_exporter": "python",
   "pygments_lexer": "ipython2",
   "version": "2.7.6"
  }
 },
 "nbformat": 4,
 "nbformat_minor": 0
}
