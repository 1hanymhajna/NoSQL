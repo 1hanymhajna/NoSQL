{
 "cells": [
  {
   "cell_type": "code",
   "execution_count": 2,
   "metadata": {
    "collapsed": true
   },
   "outputs": [],
   "source": [
    "from pymongo import MongoClient\n",
    "connection = MongoClient()"
   ]
  },
  {
   "cell_type": "code",
   "execution_count": 8,
   "metadata": {
    "collapsed": false
   },
   "outputs": [
    {
     "name": "stdout",
     "output_type": "stream",
     "text": [
      "{'interests': ['running', 'cycling', 'photography'], 'company': 'MongoDB', '_id': ObjectId('562c87d3801d320c3943ea37'), 'name': 'Andrew Erlichson'}\n",
      "{'interests': ['running', 'cycling', 'photography'], 'company': 'MongoDB', 'name': 'Andrew Erlichson'}\n"
     ]
    }
   ],
   "source": [
    "# get a handle to the school database\n",
    "db=connection.school\n",
    "people = db.people\n",
    "\n",
    "doc = {\"name\":\"Andrew Erlichson\", \"company\":\"MongoDB\",\n",
    "              \"interests\":['running', 'cycling', 'photography']}\n",
    "\n",
    "try:\n",
    "        people.insert_one(doc)   # first insert\n",
    "        print doc\n",
    "        del(doc['_id'])\n",
    "        print doc\n",
    "        people.insert_one(doc)   # second insert\n",
    "\n",
    "except Exception as e:\n",
    "        print \"Unexpected error:\", type(e), e"
   ]
  },
  {
   "cell_type": "code",
   "execution_count": 9,
   "metadata": {
    "collapsed": false
   },
   "outputs": [
    {
     "name": "stdout",
     "output_type": "stream",
     "text": [
      "Unexpected error: <class 'pymongo.errors.BulkWriteError'> batch op errors occurred\n"
     ]
    }
   ],
   "source": [
    "def insert_many():\n",
    "\n",
    "    # get a handle to the school database\n",
    "    db=connection.test\n",
    "    things = db.things\n",
    "\n",
    "    # empty the collection\n",
    "    things.drop()\n",
    "\n",
    "    # insert some docs\n",
    "\n",
    "    docs = [{'_id':1,'a':1}, \n",
    "            {'_id':2,'b':2},            \n",
    "            {'_id':3,'b':3},            \n",
    "            {'_id':3,'b':4},            \n",
    "            {'_id':4,'b':5}]\n",
    "\n",
    "    try:\n",
    "        things.insert_many(docs)\n",
    "\n",
    "    except Exception as e:\n",
    "        print \"Unexpected error:\", type(e), e\n",
    "\n",
    "insert_many()"
   ]
  },
  {
   "cell_type": "code",
   "execution_count": 7,
   "metadata": {
    "collapsed": false
   },
   "outputs": [
    {
     "name": "stdout",
     "output_type": "stream",
     "text": [
      "updating record using set\n",
      "before:  {u'student_id': 1, u'_id': ObjectId('50906d7fa3c412bb040eb57d'), u'type': u'homework', u'score': 21.33260810416115}\n",
      "after:  {u'student_id': 1, u'_id': ObjectId('50906d7fa3c412bb040eb57d'), u'type': u'homework', u'score': 21.33260810416115, u'examiner': u'Jones'}\n"
     ]
    }
   ],
   "source": [
    "import sys \n",
    "\n",
    "print \"updating record using set\"\n",
    "# get a handle to the school database\n",
    "db=connection.school\n",
    "scores = db.scores\n",
    "\n",
    "\n",
    "try:\n",
    "    # get the doc\n",
    "    score = scores.find_one({'student_id':1, 'type':'homework'})\n",
    "    print \"before: \", score\n",
    "\n",
    "    # update using set\n",
    "    scores.update_one({'student_id':1, 'type':'homework'},\n",
    "                  {\"$set\" : {\"examiner\" : \"Jones\" }})\n",
    "\n",
    "    score = scores.find_one({'student_id':1, 'type':'homework'})\n",
    "    print \"after: \", score\n",
    "\n",
    "except:\n",
    "    print \"Unexpected error:\", sys.exc_info()[0]\n",
    "    raise"
   ]
  },
  {
   "cell_type": "code",
   "execution_count": null,
   "metadata": {
    "collapsed": true
   },
   "outputs": [],
   "source": []
  }
 ],
 "metadata": {
  "kernelspec": {
   "display_name": "Python 2",
   "language": "python",
   "name": "python2"
  },
  "language_info": {
   "codemirror_mode": {
    "name": "ipython",
    "version": 2
   },
   "file_extension": ".py",
   "mimetype": "text/x-python",
   "name": "python",
   "nbconvert_exporter": "python",
   "pygments_lexer": "ipython2",
   "version": "2.7.6"
  }
 },
 "nbformat": 4,
 "nbformat_minor": 0
}
