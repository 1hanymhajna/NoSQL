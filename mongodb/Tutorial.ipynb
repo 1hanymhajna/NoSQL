{
 "cells": [
  {
   "cell_type": "markdown",
   "metadata": {},
   "source": [
    "# Making a Connection with MongoClient"
   ]
  },
  {
   "cell_type": "code",
   "execution_count": 4,
   "metadata": {
    "collapsed": true
   },
   "outputs": [],
   "source": [
    "from pymongo import MongoClient"
   ]
  },
  {
   "cell_type": "code",
   "execution_count": 5,
   "metadata": {
    "collapsed": true
   },
   "outputs": [],
   "source": [
    "client = MongoClient()"
   ]
  },
  {
   "cell_type": "markdown",
   "metadata": {},
   "source": [
    "# Getting a Database"
   ]
  },
  {
   "cell_type": "code",
   "execution_count": 6,
   "metadata": {
    "collapsed": true
   },
   "outputs": [],
   "source": [
    "db = client.test_database"
   ]
  },
  {
   "cell_type": "markdown",
   "metadata": {},
   "source": [
    "# Getting a Collection"
   ]
  },
  {
   "cell_type": "code",
   "execution_count": 7,
   "metadata": {
    "collapsed": true
   },
   "outputs": [],
   "source": [
    "posts = db.posts"
   ]
  },
  {
   "cell_type": "markdown",
   "metadata": {},
   "source": [
    "# Documents"
   ]
  },
  {
   "cell_type": "code",
   "execution_count": 8,
   "metadata": {
    "collapsed": true
   },
   "outputs": [],
   "source": [
    "import datetime\n",
    "post = {\"author\": \"Mike\",\n",
    "    \"text\": \"My first blog post!\",\n",
    "    \"tags\": [\"mongodb\", \"python\", \"pymongo\"],\n",
    "    \"date\": datetime.datetime.utcnow()}"
   ]
  },
  {
   "cell_type": "markdown",
   "metadata": {},
   "source": [
    "## Inserting a Document"
   ]
  },
  {
   "cell_type": "code",
   "execution_count": 9,
   "metadata": {
    "collapsed": false
   },
   "outputs": [
    {
     "data": {
      "text/plain": [
       "ObjectId('56208905801d320a17310d4e')"
      ]
     },
     "execution_count": 9,
     "metadata": {},
     "output_type": "execute_result"
    }
   ],
   "source": [
    "post_id = posts.insert_one(post).inserted_id\n",
    "post_id"
   ]
  },
  {
   "cell_type": "markdown",
   "metadata": {
    "collapsed": true
   },
   "source": [
    "When a document is inserted a special key, \"_id\", is automatically added if the document doesn’t already contain an \"_id\" key. The value of \"_id\" must be unique across the collection. insert_one() returns an instance of InsertOneResult. "
   ]
  },
  {
   "cell_type": "markdown",
   "metadata": {},
   "source": [
    "After inserting the first document, the posts collection has actually been created on the server. We can verify this by listing all of the collections in our database:"
   ]
  },
  {
   "cell_type": "code",
   "execution_count": 10,
   "metadata": {
    "collapsed": false
   },
   "outputs": [
    {
     "data": {
      "text/plain": [
       "[u'posts']"
      ]
     },
     "execution_count": 10,
     "metadata": {},
     "output_type": "execute_result"
    }
   ],
   "source": [
    "db.collection_names(include_system_collections=False)"
   ]
  },
  {
   "cell_type": "markdown",
   "metadata": {},
   "source": [
    "## Getting a Single Document With find_one()"
   ]
  },
  {
   "cell_type": "markdown",
   "metadata": {},
   "source": [
    "The most basic type of query that can be performed in MongoDB is find_one(). This method returns a single document matching a query (or None if there are no matches).\n",
    "\n",
    "It is useful when you know there is only one matching document, or are only interested in the first match. Here we use find_one() to get the first document from the posts collection:"
   ]
  },
  {
   "cell_type": "code",
   "execution_count": 14,
   "metadata": {
    "collapsed": false
   },
   "outputs": [
    {
     "data": {
      "text/plain": [
       "{u'_id': ObjectId('56208905801d320a17310d4e'),\n",
       " u'author': u'Mike',\n",
       " u'date': datetime.datetime(2015, 10, 16, 5, 20, 1, 587000),\n",
       " u'tags': [u'mongodb', u'python', u'pymongo'],\n",
       " u'text': u'My first blog post!'}"
      ]
     },
     "execution_count": 14,
     "metadata": {},
     "output_type": "execute_result"
    }
   ],
   "source": [
    "posts.find_one()"
   ]
  },
  {
   "cell_type": "markdown",
   "metadata": {},
   "source": [
    "The returned document contains an \"_id\", which was automatically added on insert."
   ]
  },
  {
   "cell_type": "markdown",
   "metadata": {},
   "source": [
    "find_one() also supports querying on specific elements that the resulting document must match. \n",
    "To limit our results to a document with author “Mike” we do:"
   ]
  },
  {
   "cell_type": "code",
   "execution_count": 15,
   "metadata": {
    "collapsed": false
   },
   "outputs": [
    {
     "data": {
      "text/plain": [
       "{u'_id': ObjectId('56208905801d320a17310d4e'),\n",
       " u'author': u'Mike',\n",
       " u'date': datetime.datetime(2015, 10, 16, 5, 20, 1, 587000),\n",
       " u'tags': [u'mongodb', u'python', u'pymongo'],\n",
       " u'text': u'My first blog post!'}"
      ]
     },
     "execution_count": 15,
     "metadata": {},
     "output_type": "execute_result"
    }
   ],
   "source": [
    "posts.find_one({\"author\": \"Mike\"})"
   ]
  },
  {
   "cell_type": "markdown",
   "metadata": {},
   "source": [
    "## Querying By ObjectId"
   ]
  },
  {
   "cell_type": "code",
   "execution_count": 16,
   "metadata": {
    "collapsed": false
   },
   "outputs": [
    {
     "data": {
      "text/plain": [
       "ObjectId('56208905801d320a17310d4e')"
      ]
     },
     "execution_count": 16,
     "metadata": {},
     "output_type": "execute_result"
    }
   ],
   "source": [
    "post_id"
   ]
  },
  {
   "cell_type": "code",
   "execution_count": 17,
   "metadata": {
    "collapsed": false
   },
   "outputs": [
    {
     "data": {
      "text/plain": [
       "{u'_id': ObjectId('56208905801d320a17310d4e'),\n",
       " u'author': u'Mike',\n",
       " u'date': datetime.datetime(2015, 10, 16, 5, 20, 1, 587000),\n",
       " u'tags': [u'mongodb', u'python', u'pymongo'],\n",
       " u'text': u'My first blog post!'}"
      ]
     },
     "execution_count": 17,
     "metadata": {},
     "output_type": "execute_result"
    }
   ],
   "source": [
    "posts.find_one({\"_id\": post_id})"
   ]
  },
  {
   "cell_type": "markdown",
   "metadata": {},
   "source": [
    "Note that an ObjectId is not the same as its string representation"
   ]
  },
  {
   "cell_type": "code",
   "execution_count": 22,
   "metadata": {
    "collapsed": false
   },
   "outputs": [],
   "source": [
    "post_id_as_str = str(post_id)\n",
    "posts.find_one({\"_id\": post_id_as_str}) # No result\n"
   ]
  },
  {
   "cell_type": "code",
   "execution_count": 23,
   "metadata": {
    "collapsed": false
   },
   "outputs": [
    {
     "data": {
      "text/plain": [
       "{u'_id': ObjectId('56208905801d320a17310d4e'),\n",
       " u'author': u'Mike',\n",
       " u'date': datetime.datetime(2015, 10, 16, 5, 20, 1, 587000),\n",
       " u'tags': [u'mongodb', u'python', u'pymongo'],\n",
       " u'text': u'My first blog post!'}"
      ]
     },
     "execution_count": 23,
     "metadata": {},
     "output_type": "execute_result"
    }
   ],
   "source": [
    "from bson.objectid import ObjectId\n",
    "posts.find_one({'_id': ObjectId(post_id_as_str)})"
   ]
  },
  {
   "cell_type": "markdown",
   "metadata": {},
   "source": [
    "## Bulk Inserts"
   ]
  },
  {
   "cell_type": "code",
   "execution_count": 25,
   "metadata": {
    "collapsed": true
   },
   "outputs": [],
   "source": [
    "new_posts = [{\"author\": \"Mike\",\n",
    "              \"text\": \"Another post!\",\n",
    "               \"tags\": [\"bulk\", \"insert\"],\n",
    "               \"date\": datetime.datetime(2009, 11, 12, 11, 14)},\n",
    "              {\"author\": \"Eliot\",\n",
    "               \"title\": \"MongoDB is fun\",\n",
    "               \"text\": \"and pretty easy too!\",\n",
    "               \"date\": datetime.datetime(2009, 11, 10, 10, 45)}]"
   ]
  },
  {
   "cell_type": "code",
   "execution_count": 26,
   "metadata": {
    "collapsed": true
   },
   "outputs": [],
   "source": [
    "result = posts.insert_many(new_posts)\n",
    "result.inserted_ids"
   ]
  },
  {
   "cell_type": "markdown",
   "metadata": {},
   "source": [
    "Querying for More Than One Document"
   ]
  },
  {
   "cell_type": "code",
   "execution_count": 33,
   "metadata": {
    "collapsed": false
   },
   "outputs": [
    {
     "name": "stdout",
     "output_type": "stream",
     "text": [
      "{u'date': datetime.datetime(2015, 10, 16, 5, 20, 1, 587000), u'text': u'My first blog post!', u'_id': ObjectId('56208905801d320a17310d4e'), u'author': u'Mike', u'tags': [u'mongodb', u'python', u'pymongo']}\n",
      "{u'date': datetime.datetime(2009, 11, 12, 11, 14), u'text': u'Another post!', u'_id': ObjectId('56208b19801d320a17310d4f'), u'author': u'Mike', u'tags': [u'bulk', u'insert']}\n",
      "{u'date': datetime.datetime(2009, 11, 10, 10, 45), u'text': u'and pretty easy too!', u'_id': ObjectId('56208b19801d320a17310d50'), u'author': u'Eliot', u'title': u'MongoDB is fun'}\n"
     ]
    }
   ],
   "source": [
    "for post in posts.find():\n",
    "    print(post)"
   ]
  },
  {
   "cell_type": "markdown",
   "metadata": {},
   "source": [
    "Just like we did with find_one(), we can pass a document to find() to limit the returned results. Here, we get only those documents whose author is “Mike”:"
   ]
  },
  {
   "cell_type": "code",
   "execution_count": 34,
   "metadata": {
    "collapsed": false
   },
   "outputs": [
    {
     "name": "stdout",
     "output_type": "stream",
     "text": [
      "{u'date': datetime.datetime(2015, 10, 16, 5, 20, 1, 587000), u'text': u'My first blog post!', u'_id': ObjectId('56208905801d320a17310d4e'), u'author': u'Mike', u'tags': [u'mongodb', u'python', u'pymongo']}\n",
      "{u'date': datetime.datetime(2009, 11, 12, 11, 14), u'text': u'Another post!', u'_id': ObjectId('56208b19801d320a17310d4f'), u'author': u'Mike', u'tags': [u'bulk', u'insert']}\n"
     ]
    }
   ],
   "source": [
    "for post in posts.find({\"author\": \"Mike\"}):\n",
    "    print(post)"
   ]
  },
  {
   "cell_type": "markdown",
   "metadata": {},
   "source": [
    "## Counting"
   ]
  },
  {
   "cell_type": "code",
   "execution_count": 35,
   "metadata": {
    "collapsed": false
   },
   "outputs": [
    {
     "data": {
      "text/plain": [
       "3"
      ]
     },
     "execution_count": 35,
     "metadata": {},
     "output_type": "execute_result"
    }
   ],
   "source": [
    "posts.count()"
   ]
  },
  {
   "cell_type": "markdown",
   "metadata": {},
   "source": [
    "or just of those documents that match a specific query:"
   ]
  },
  {
   "cell_type": "code",
   "execution_count": 36,
   "metadata": {
    "collapsed": false
   },
   "outputs": [
    {
     "data": {
      "text/plain": [
       "2"
      ]
     },
     "execution_count": 36,
     "metadata": {},
     "output_type": "execute_result"
    }
   ],
   "source": [
    "posts.find({\"author\": \"Mike\"}).count()"
   ]
  },
  {
   "cell_type": "markdown",
   "metadata": {},
   "source": [
    "## Range Queries"
   ]
  },
  {
   "cell_type": "code",
   "execution_count": 37,
   "metadata": {
    "collapsed": true
   },
   "outputs": [],
   "source": [
    "d = datetime.datetime(2009, 11, 12, 12)"
   ]
  },
  {
   "cell_type": "code",
   "execution_count": 38,
   "metadata": {
    "collapsed": false
   },
   "outputs": [
    {
     "name": "stdout",
     "output_type": "stream",
     "text": [
      "{u'date': datetime.datetime(2009, 11, 10, 10, 45), u'text': u'and pretty easy too!', u'_id': ObjectId('56208b19801d320a17310d50'), u'author': u'Eliot', u'title': u'MongoDB is fun'}\n",
      "{u'date': datetime.datetime(2009, 11, 12, 11, 14), u'text': u'Another post!', u'_id': ObjectId('56208b19801d320a17310d4f'), u'author': u'Mike', u'tags': [u'bulk', u'insert']}\n"
     ]
    }
   ],
   "source": [
    "for post in posts.find({\"date\": {\"$lt\": d}}).sort(\"author\"):\n",
    "    print(post)"
   ]
  },
  {
   "cell_type": "markdown",
   "metadata": {},
   "source": [
    "Here we use the special \"$lt\" operator to do a range query, and also call sort() to sort the results by author."
   ]
  },
  {
   "cell_type": "markdown",
   "metadata": {},
   "source": [
    "## Indexing"
   ]
  },
  {
   "cell_type": "markdown",
   "metadata": {},
   "source": [
    "To make the above query fast we can add a compound index on \"date\" and \"author\". To start, lets use the explain() method to get some information about how the query is being performed without the index:"
   ]
  },
  {
   "cell_type": "code",
   "execution_count": 46,
   "metadata": {
    "collapsed": false
   },
   "outputs": [
    {
     "data": {
      "text/plain": [
       "{u'executionStats': {u'allPlansExecution': [],\n",
       "  u'executionStages': {u'advanced': 2,\n",
       "   u'executionTimeMillisEstimate': 0,\n",
       "   u'inputStage': {u'advanced': 2,\n",
       "    u'direction': u'forward',\n",
       "    u'docsExamined': 3,\n",
       "    u'executionTimeMillisEstimate': 0,\n",
       "    u'filter': {u'date': {u'$lt': datetime.datetime(2009, 11, 12, 12, 0)}},\n",
       "    u'invalidates': 0,\n",
       "    u'isEOF': 1,\n",
       "    u'nReturned': 2,\n",
       "    u'needFetch': 0,\n",
       "    u'needTime': 2,\n",
       "    u'restoreState': 0,\n",
       "    u'saveState': 0,\n",
       "    u'stage': u'COLLSCAN',\n",
       "    u'works': 5},\n",
       "   u'invalidates': 0,\n",
       "   u'isEOF': 1,\n",
       "   u'memLimit': 33554432,\n",
       "   u'memUsage': 241,\n",
       "   u'nReturned': 2,\n",
       "   u'needFetch': 0,\n",
       "   u'needTime': 5,\n",
       "   u'restoreState': 0,\n",
       "   u'saveState': 0,\n",
       "   u'sortPattern': {u'author': 1},\n",
       "   u'stage': u'SORT',\n",
       "   u'works': 9},\n",
       "  u'executionSuccess': True,\n",
       "  u'executionTimeMillis': 0,\n",
       "  u'nReturned': 2,\n",
       "  u'totalDocsExamined': 3,\n",
       "  u'totalKeysExamined': 0},\n",
       " u'queryPlanner': {u'indexFilterSet': False,\n",
       "  u'namespace': u'test_database.posts',\n",
       "  u'parsedQuery': {u'date': {u'$lt': datetime.datetime(2009, 11, 12, 12, 0)}},\n",
       "  u'plannerVersion': 1,\n",
       "  u'rejectedPlans': [],\n",
       "  u'winningPlan': {u'inputStage': {u'direction': u'forward',\n",
       "    u'filter': {u'date': {u'$lt': datetime.datetime(2009, 11, 12, 12, 0)}},\n",
       "    u'stage': u'COLLSCAN'},\n",
       "   u'sortPattern': {u'author': 1},\n",
       "   u'stage': u'SORT'}},\n",
       " u'serverInfo': {u'gitVersion': u'1ef45a23a4c5e3480ac919b28afcba3c615488f2',\n",
       "  u'host': u'NoSQL',\n",
       "  u'port': 27017,\n",
       "  u'version': u'3.0.6'}}"
      ]
     },
     "execution_count": 46,
     "metadata": {},
     "output_type": "execute_result"
    }
   ],
   "source": [
    "posts.find({\"date\": {\"$lt\": d}}).sort(\"author\").explain()"
   ]
  },
  {
   "cell_type": "markdown",
   "metadata": {},
   "source": [
    "We can see that the query is using the BasicCursor and scanning over all 3 documents in the collection. Now let’s add a compound index and look at the same information:"
   ]
  },
  {
   "cell_type": "code",
   "execution_count": 47,
   "metadata": {
    "collapsed": false
   },
   "outputs": [
    {
     "data": {
      "text/plain": [
       "u'date_-1_author_1'"
      ]
     },
     "execution_count": 47,
     "metadata": {},
     "output_type": "execute_result"
    }
   ],
   "source": [
    "from pymongo import ASCENDING, DESCENDING\n",
    "posts.create_index([(\"date\", DESCENDING), (\"author\", ASCENDING)])"
   ]
  },
  {
   "cell_type": "code",
   "execution_count": 48,
   "metadata": {
    "collapsed": false
   },
   "outputs": [
    {
     "data": {
      "text/plain": [
       "{u'executionStats': {u'allPlansExecution': [],\n",
       "  u'executionStages': {u'advanced': 2,\n",
       "   u'executionTimeMillisEstimate': 0,\n",
       "   u'inputStage': {u'advanced': 2,\n",
       "    u'executionTimeMillisEstimate': 0,\n",
       "    u'inputStage': {u'advanced': 2,\n",
       "     u'alreadyHasObj': 0,\n",
       "     u'docsExamined': 2,\n",
       "     u'executionTimeMillisEstimate': 0,\n",
       "     u'inputStage': {u'advanced': 2,\n",
       "      u'direction': u'forward',\n",
       "      u'dupsDropped': 0,\n",
       "      u'dupsTested': 0,\n",
       "      u'executionTimeMillisEstimate': 0,\n",
       "      u'indexBounds': {u'author': [u'[MinKey, MaxKey]'],\n",
       "       u'date': [u'(new Date(1258027200000), true)']},\n",
       "      u'indexName': u'date_-1_author_1',\n",
       "      u'invalidates': 0,\n",
       "      u'isEOF': 1,\n",
       "      u'isMultiKey': False,\n",
       "      u'keyPattern': {u'author': 1, u'date': -1},\n",
       "      u'keysExamined': 2,\n",
       "      u'matchTested': 0,\n",
       "      u'nReturned': 2,\n",
       "      u'needFetch': 0,\n",
       "      u'needTime': 0,\n",
       "      u'restoreState': 0,\n",
       "      u'saveState': 0,\n",
       "      u'seenInvalidated': 0,\n",
       "      u'stage': u'IXSCAN',\n",
       "      u'works': 2},\n",
       "     u'invalidates': 0,\n",
       "     u'isEOF': 1,\n",
       "     u'nReturned': 2,\n",
       "     u'needFetch': 0,\n",
       "     u'needTime': 0,\n",
       "     u'restoreState': 0,\n",
       "     u'saveState': 0,\n",
       "     u'stage': u'FETCH',\n",
       "     u'works': 3},\n",
       "    u'invalidates': 0,\n",
       "    u'isEOF': 1,\n",
       "    u'nReturned': 2,\n",
       "    u'needFetch': 0,\n",
       "    u'needTime': 0,\n",
       "    u'restoreState': 0,\n",
       "    u'saveState': 0,\n",
       "    u'stage': u'KEEP_MUTATIONS',\n",
       "    u'works': 3},\n",
       "   u'invalidates': 0,\n",
       "   u'isEOF': 1,\n",
       "   u'memLimit': 33554432,\n",
       "   u'memUsage': 241,\n",
       "   u'nReturned': 2,\n",
       "   u'needFetch': 0,\n",
       "   u'needTime': 3,\n",
       "   u'restoreState': 0,\n",
       "   u'saveState': 0,\n",
       "   u'sortPattern': {u'author': 1},\n",
       "   u'stage': u'SORT',\n",
       "   u'works': 7},\n",
       "  u'executionSuccess': True,\n",
       "  u'executionTimeMillis': 17,\n",
       "  u'nReturned': 2,\n",
       "  u'totalDocsExamined': 2,\n",
       "  u'totalKeysExamined': 2},\n",
       " u'queryPlanner': {u'indexFilterSet': False,\n",
       "  u'namespace': u'test_database.posts',\n",
       "  u'parsedQuery': {u'date': {u'$lt': datetime.datetime(2009, 11, 12, 12, 0)}},\n",
       "  u'plannerVersion': 1,\n",
       "  u'rejectedPlans': [],\n",
       "  u'winningPlan': {u'inputStage': {u'inputStage': {u'inputStage': {u'direction': u'forward',\n",
       "      u'indexBounds': {u'author': [u'[MinKey, MaxKey]'],\n",
       "       u'date': [u'(new Date(1258027200000), true)']},\n",
       "      u'indexName': u'date_-1_author_1',\n",
       "      u'isMultiKey': False,\n",
       "      u'keyPattern': {u'author': 1, u'date': -1},\n",
       "      u'stage': u'IXSCAN'},\n",
       "     u'stage': u'FETCH'},\n",
       "    u'stage': u'KEEP_MUTATIONS'},\n",
       "   u'sortPattern': {u'author': 1},\n",
       "   u'stage': u'SORT'}},\n",
       " u'serverInfo': {u'gitVersion': u'1ef45a23a4c5e3480ac919b28afcba3c615488f2',\n",
       "  u'host': u'NoSQL',\n",
       "  u'port': 27017,\n",
       "  u'version': u'3.0.6'}}"
      ]
     },
     "execution_count": 48,
     "metadata": {},
     "output_type": "execute_result"
    }
   ],
   "source": [
    "posts.find({\"date\": {\"$lt\": d}}).sort(\"author\").explain()"
   ]
  },
  {
   "cell_type": "code",
   "execution_count": null,
   "metadata": {
    "collapsed": true
   },
   "outputs": [],
   "source": []
  }
 ],
 "metadata": {
  "kernelspec": {
   "display_name": "Python 2",
   "language": "python",
   "name": "python2"
  },
  "language_info": {
   "codemirror_mode": {
    "name": "ipython",
    "version": 2
   },
   "file_extension": ".py",
   "mimetype": "text/x-python",
   "name": "python",
   "nbconvert_exporter": "python",
   "pygments_lexer": "ipython2",
   "version": "2.7.6"
  }
 },
 "nbformat": 4,
 "nbformat_minor": 0
}
