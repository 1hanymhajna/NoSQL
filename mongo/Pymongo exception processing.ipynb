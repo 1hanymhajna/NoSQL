{
 "cells": [
  {
   "cell_type": "code",
   "execution_count": 1,
   "metadata": {
    "collapsed": true
   },
   "outputs": [],
   "source": [
    "import sys\n",
    "import pymongo"
   ]
  },
  {
   "cell_type": "code",
   "execution_count": 2,
   "metadata": {
    "collapsed": true
   },
   "outputs": [],
   "source": [
    "connection = pymongo.MongoClient(\"mongodb://localhost\")\n",
    "\n",
    "db = connection.test\n",
    "users = db.users"
   ]
  },
  {
   "cell_type": "code",
   "execution_count": 7,
   "metadata": {
    "collapsed": false
   },
   "outputs": [
    {
     "name": "stdout",
     "output_type": "stream",
     "text": [
      "{'lastname': 'Erlichson', 'firstname': 'Andrew'}\n",
      "about to insert the document\n"
     ]
    }
   ],
   "source": [
    "doc = {'firstname':'Andrew', \n",
    "        'lastname':'Erlichson'}\n",
    "print doc\n",
    "print \"about to insert the document\"\n"
   ]
  },
  {
   "cell_type": "code",
   "execution_count": 4,
   "metadata": {
    "collapsed": false
   },
   "outputs": [
    {
     "name": "stdout",
     "output_type": "stream",
     "text": [
      "{'lastname': 'Erlichson', '_id': ObjectId('561f2230801d320a93f13973'), 'firstname': 'Andrew'}\n"
     ]
    }
   ],
   "source": [
    "\n",
    "try:\n",
    "    users.insert_one(doc)\n",
    "except Exception as e:\n",
    "    print \"insert failed:\", e\n",
    "\n",
    "print doc\n"
   ]
  },
  {
   "cell_type": "code",
   "execution_count": 5,
   "metadata": {
    "collapsed": false
   },
   "outputs": [
    {
     "name": "stdout",
     "output_type": "stream",
     "text": [
      "inserting again\n",
      "second insert failed: E11000 duplicate key error index: test.users.$_id_ dup key: { : ObjectId('561f2230801d320a93f13973') }\n",
      "{'lastname': 'Erlichson', '_id': ObjectId('561f2230801d320a93f13973'), 'firstname': 'Andrew'}\n"
     ]
    }
   ],
   "source": [
    "print \"inserting again\"\n",
    "\n",
    "try:\n",
    "    users.insert_one(doc)\n",
    "except Exception as e:\n",
    "    print \"second insert failed:\", e\n",
    "\n",
    "print doc"
   ]
  },
  {
   "cell_type": "code",
   "execution_count": null,
   "metadata": {
    "collapsed": true
   },
   "outputs": [],
   "source": []
  }
 ],
 "metadata": {
  "kernelspec": {
   "display_name": "Python 2",
   "language": "python",
   "name": "python2"
  },
  "language_info": {
   "codemirror_mode": {
    "name": "ipython",
    "version": 2
   },
   "file_extension": ".py",
   "mimetype": "text/x-python",
   "name": "python",
   "nbconvert_exporter": "python",
   "pygments_lexer": "ipython2",
   "version": "2.7.6"
  }
 },
 "nbformat": 4,
 "nbformat_minor": 0
}
